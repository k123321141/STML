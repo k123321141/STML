{
 "cells": [
  {
   "cell_type": "code",
   "execution_count": 9,
   "metadata": {},
   "outputs": [
    {
     "name": "stderr",
     "output_type": "stream",
     "text": [
      "100%|██████████| 4362805/4362805 [33:49<00:00, 2150.17it/s] \n"
     ]
    },
    {
     "name": "stdout",
     "output_type": "stream",
     "text": [
      "it :  279219520\n",
      "tensorboard done\n"
     ]
    }
   ],
   "source": [
    "# demo.py\n",
    "\n",
    "import torch\n",
    "from tqdm import tqdm\n",
    "from tensorboardX import SummaryWriter\n",
    "from os.path import join\n",
    "import os\n",
    "import shutil\n",
    "\n",
    "def conver_log_to_tensorbloadX(log_path, summay_path):\n",
    "    with open(log_path,'r') as f:\n",
    "        ls = f.readlines()\n",
    "    writer = SummaryWriter(summay_path)\n",
    "    with tqdm(total=len(ls)) as pbar:\n",
    "        for l in ls:\n",
    "            it, loss, val_loss, acc, val_acc, train_pred, train_label, val_pred, val_label = l.strip().split('<split>')\n",
    "            dump_tensorboard(writer, int(it), float(loss), float(val_loss), float(acc), float(val_acc),\\\n",
    "                             train_pred, train_label, val_pred, val_label)\n",
    "            pbar.update(1)\n",
    "        print 'it : ',it\n",
    "    writer.close()\n",
    "        \n",
    "def dump_tensorboard(writer, n_iter, loss, val_loss, acc, val_acc, train_pred, train_label, val_pred, val_label):\n",
    "\n",
    "    writer.add_scalar('data/loss', loss, n_iter)\n",
    "    writer.add_scalar('data/acc', acc, n_iter)\n",
    "    writer.add_scalars('data/loss_group', {'loss': loss,\n",
    "                                         'val_loss': val_loss}, n_iter)\n",
    "    writer.add_scalars('data/acc_group', {'acc': acc,\n",
    "                                         'val_acc': val_acc}, n_iter)\n",
    "\n",
    "    \n",
    "    if n_iter % 100 == 0:\n",
    "        text = 'pred text : %s \\n\\n label text : %s \\n' % ( train_pred, train_label)\n",
    "        writer.add_text('Training Text', text.decode('utf8'), n_iter)\n",
    "        \n",
    "        text = 'pred text : %s \\n\\n label text : %s \\n' % ( val_pred, val_label)\n",
    "        writer.add_text('Validation Text', text.decode('utf8'), n_iter)\n",
    "log_path = './log.txt'\n",
    "summay_path = './runs/rnn'\n",
    "if os.path.isdir(summay_path):\n",
    "    shutil.rmtree(summay_path)\n",
    "conver_log_to_tensorbloadX(log_path, summay_path)\n",
    "print 'tensorboard done'\n",
    "\n"
   ]
  },
  {
   "cell_type": "code",
   "execution_count": null,
   "metadata": {},
   "outputs": [],
   "source": []
  }
 ],
 "metadata": {
  "kernelspec": {
   "display_name": "Python 2.7.14 (conda)",
   "language": "python",
   "name": "python-conda"
  },
  "language_info": {
   "codemirror_mode": {
    "name": "ipython",
    "version": 2
   },
   "file_extension": ".py",
   "mimetype": "text/x-python",
   "name": "python",
   "nbconvert_exporter": "python",
   "pygments_lexer": "ipython2",
   "version": "2.7.14"
  }
 },
 "nbformat": 4,
 "nbformat_minor": 2
}
