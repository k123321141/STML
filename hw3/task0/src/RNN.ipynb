{
 "cells": [
  {
   "cell_type": "code",
   "execution_count": 1,
   "metadata": {},
   "outputs": [
    {
     "name": "stderr",
     "output_type": "stream",
     "text": [
      "100%|██████████| 667085/667085 [00:01<00:00, 423762.58it/s]\n",
      "100%|██████████| 18338/18338 [00:02<00:00, 7469.68it/s]\n"
     ]
    },
    {
     "name": "stdout",
     "output_type": "stream",
     "text": [
      "vocabulary size : 92027, max len : 243, mean : 8, std : 3\n",
      "lyrics number : 18338\n",
      "21 667056\n"
     ]
    }
   ],
   "source": [
    "import numpy as np\n",
    "from tqdm import tqdm\n",
    "from constants import MAX_SEQ_LEN\n",
    "\n",
    "with open('../hw_train.csv', 'rb') as f:\n",
    "    ls = f.readlines()[1:]\n",
    "# count vocabulary and max sequence length\n",
    "lyrics_map = {}\n",
    "bos_token = 's'.decode('utf8')\n",
    "eos_token = 'e'.decode('utf8')\n",
    "oov_token = 'o'.decode('utf8')\n",
    "\n",
    "\n",
    "none_lyrics_words = [u'編詞', u'作曲', u'作詞', u'編曲', u'監製']\n",
    "vocab = [bos_token, eos_token, oov_token]\n",
    "lens = []\n",
    "c = 0 \n",
    "with tqdm(total=len(ls)) as pbar:\n",
    "    for l in ls:\n",
    "        l = l.decode('utf8')\n",
    "        no, l = l.strip().split(',')\n",
    "        no = int(no)\n",
    "        if no not in lyrics_map:\n",
    "            lyrics_map[no] = []\n",
    "        lyrics_map[no].append(l)\n",
    "        pbar.update(1)\n",
    "# split into Q,K pair\n",
    "with tqdm(total=len(lyrics_map)) as pbar:\n",
    "    for k,v in lyrics_map.items():\n",
    "        line_num = len(v)\n",
    "        line_list = []\n",
    "        for line in v:\n",
    "            exist_none_layrics_word = False\n",
    "            for nw in none_lyrics_words:\n",
    "                if nw in line:\n",
    "                    exist_none_layrics_word = True\n",
    "                    break\n",
    "            if exist_none_layrics_word:\n",
    "                continue\n",
    "            word_list = [bos_token, ]\n",
    "            for w in line.strip().split(' '):\n",
    "                word_list.append(w)\n",
    "                vocab.append(w)\n",
    "#                 \n",
    "                vocab.append(oov_token) # to increase oov_token frequence\n",
    "                vocab.append(bos_token) # to increase oov_token frequence\n",
    "                vocab.append(eos_token) # to increase oov_token frequence\n",
    "            word_list.append(eos_token)\n",
    "            lens.append(len(word_list))\n",
    "            line_list.append(word_list)\n",
    "        lyrics_map[k] = line_list\n",
    "        pbar.update(1)\n",
    "            \n",
    "print 'vocabulary size : %d, max len : %.0f, mean : %.0f, std : %.0f' % (len(set(vocab)), np.max(lens), np.mean(lens), np.std(lens))\n",
    "print 'lyrics number : %d' % len(lyrics_map)\n",
    "# print np.max(lens), np.mean(lens), np.std(lens)\n",
    "p = np.array(lens) > 50\n",
    "print np.sum(p), len(lens)\n"
   ]
  },
  {
   "cell_type": "code",
   "execution_count": 2,
   "metadata": {
    "scrolled": true
   },
   "outputs": [
    {
     "name": "stderr",
     "output_type": "stream",
     "text": [
      "Using TensorFlow backend.\n"
     ]
    },
    {
     "name": "stdout",
     "output_type": "stream",
     "text": [
      "2 4 3\n",
      "Found 92027 unique tokens.\n"
     ]
    }
   ],
   "source": [
    "import numpy as np\n",
    "import keras\n",
    "import pickle\n",
    "from constants import VOCAB_DIM\n",
    "from keras.preprocessing.sequence import pad_sequences\n",
    "\n",
    "texts = vocab\n",
    "\n",
    "tokenizer = keras.preprocessing.text.Tokenizer(num_words=VOCAB_DIM, filters='!\"#$%&()*+,-./:;<=>?@[\\]^_`{|}~ ',\n",
    "                                   lower=False, split=' ', char_level=False, oov_token=oov_token)\n",
    "tokenizer.fit_on_texts(texts)\n",
    "word_index = tokenizer.word_index\n",
    "# tokenizer.num_words = VOCAB_DIM\n",
    "print word_index[bos_token] , word_index[oov_token] , word_index[eos_token]\n",
    "assert word_index[bos_token] < VOCAB_DIM and word_index[oov_token] < VOCAB_DIM and word_index[eos_token] < VOCAB_DIM \n",
    "print('Found %s unique tokens.' % len(word_index))\n",
    "\n",
    "with open('tokenizer','wb') as f:\n",
    "    pickle.dump(tokenizer, f)\n"
   ]
  },
  {
   "cell_type": "code",
   "execution_count": 3,
   "metadata": {},
   "outputs": [
    {
     "name": "stdout",
     "output_type": "stream",
     "text": [
      "[u's \\u521a \\u8d70\\u8fdb \\u793e\\u4f1a \\u4eba \\u5f97\\u7f6a \\u4e00\\u5806 e o o o o o o o o o o o o o o o o o o o o o o o o o o o o o o o o o o o o o o o o o o', u's \\u53d1\\u578b \\u91cc \\u7684 \\u53e6\\u7c7b \\u8d2b\\u7a77 \\u5374 \\u6709 \\u54c1\\u5473 e o o o o o o o o o o o o o o o o o o o o o o o o o o o o o o o o o o o o o o o o', u's \\u8c01 \\u4e5f \\u5b66 \\u4e0d\\u4f1a e o o o o o o o o o o o o o o o o o o o o o o o o o o o o o o o o o o o o o o o o o o o o', u's \\u4e0d \\u559c\\u6b22 \\u7eb9\\u8eab \\u9f99\\u51e4 \\u7cfb\\u5217 e o o o o o o o o o o o o o o o o o o o o o o o o o o o o o o o o o o o o o o o o o o o']\n",
      "(4, 50) (4, 50)\n"
     ]
    }
   ],
   "source": [
    "from constants import MAX_SEQ_LEN\n",
    "from keras.preprocessing.sequence import pad_sequences\n",
    "from constants import MAX_SEQ_LEN\n",
    "\n",
    "idx = np.random.permutation(len(lyrics_map))\n",
    "val_num = len(lyrics_map)//10\n",
    "train_idx, val_idx = idx[val_num:], idx[:val_num]\n",
    "train_u_map = {k:lyrics_map[k] for k in lyrics_map.keys()[val_num:]}\n",
    "val_u_map = {k:lyrics_map[k] for k in lyrics_map.keys()[:val_num]}\n",
    "def batch_boostrap_generator(batch_size, lyrics_map, max_seq_len, tokenizer):\n",
    "    G = boostrap_generator(lyrics_map, max_seq_len, tokenizer)\n",
    "    while True:\n",
    "        Q, K = [], []\n",
    "        for i in range(batch_size):\n",
    "            q, k = next(G)\n",
    "            Q.append(q)\n",
    "            K.append(k)\n",
    "        yield np.vstack(Q), np.vstack(K)\n",
    "\n",
    "# pad will be treat as oov\n",
    "def boostrap_generator(lyrics_map, max_seq_len, tokenizer):\n",
    "    while True:\n",
    "        keys = lyrics_map.keys()\n",
    "        for idx in np.random.permutation(len(lyrics_map)):\n",
    "            no = keys[idx]\n",
    "            line_list = lyrics_map[no]\n",
    "            for i in range(len(line_list)-1):\n",
    "                K, Q = line_list[i], line_list[i+1]\n",
    "                Q = tokenizer.texts_to_sequences([Q,])\n",
    "                Q = pad_sequences(Q, maxlen=MAX_SEQ_LEN, dtype=np.int32, padding='post', truncating='post', value=0)\n",
    "                K = tokenizer.texts_to_sequences([K,])\n",
    "                K = pad_sequences(K, maxlen=MAX_SEQ_LEN, dtype=np.int32, padding='pre', truncating='pre', value=0)\n",
    "                yield Q, K\n",
    "    \n",
    "bat = 4\n",
    "G = batch_boostrap_generator(bat, train_u_map, MAX_SEQ_LEN, tokenizer)\n",
    "q, k = next(G)\n",
    "print tokenizer.sequences_to_texts(q)\n",
    "print q.shape, k.shape\n"
   ]
  },
  {
   "cell_type": "code",
   "execution_count": 4,
   "metadata": {},
   "outputs": [
    {
     "name": "stdout",
     "output_type": "stream",
     "text": [
      "(4, 50)\n",
      "[u's \\u4e3a \\u4e00\\u4e2a \\u7231 \\u7684 \\u4eba \\u53bb \\u6d41\\u8840 e o o o o o o o o o o o o o o o o o o o o o o o o o o o o o o o o o o o o o o o o o']\n"
     ]
    }
   ],
   "source": [
    "q, k = next(G)\n",
    "print q.shape\n",
    "print tokenizer.sequences_to_texts(q[0:1,:])"
   ]
  },
  {
   "cell_type": "markdown",
   "metadata": {},
   "source": [
    "### RNN"
   ]
  },
  {
   "cell_type": "code",
   "execution_count": 5,
   "metadata": {},
   "outputs": [
    {
     "name": "stdout",
     "output_type": "stream",
     "text": [
      "torch.Size([4, 50, 30001])\n",
      "8106545\n"
     ]
    }
   ],
   "source": [
    "import torch\n",
    "from Seq2seq import Seq2seq\n",
    "from constants import D_MODEL, MAX_SEQ_LEN\n",
    "\n",
    "bat = 7\n",
    "lay_num = 2\n",
    "model = Seq2seq(D_MODEL, lay_num)\n",
    "model.cuda()\n",
    "# print(o.size())\n",
    "q, k = next(G)\n",
    "q = torch.LongTensor(q).cuda()\n",
    "k = torch.LongTensor(k).cuda()\n",
    "\n",
    "o = model(q, k)\n",
    "print(o.size())\n",
    "def count_parameters(model):\n",
    "    return sum(p.numel() for p in model.parameters() if p.requires_grad)\n",
    "print(count_parameters(model))\n",
    "\n"
   ]
  },
  {
   "cell_type": "code",
   "execution_count": null,
   "metadata": {},
   "outputs": [
    {
     "name": "stderr",
     "output_type": "stream",
     "text": [
      "\r",
      "  0%|          | 0/6400000000 [00:00<?, ?it/s]"
     ]
    },
    {
     "name": "stdout",
     "output_type": "stream",
     "text": [
      "start training.\n"
     ]
    },
    {
     "name": "stderr",
     "output_type": "stream",
     "text": [
      "  0%|          | 6592/6400000000 [00:08<1807:03:03, 983.80it/s, acc : 0.885, val_acc : 0.888, loss : 0.885, val_loss : 0.888] "
     ]
    },
    {
     "name": "stdout",
     "output_type": "stream",
     "text": [
      "train pred : 我 我 的 e e e                                            \n",
      "train label : 拍 在 我 的 脸颊 e                                           \n",
      "validation pred : 我 我 的 e                                              \n",
      "validation label : 来 煽风来 点火 e                                             \n"
     ]
    },
    {
     "name": "stderr",
     "output_type": "stream",
     "text": [
      "  0%|          | 12992/6400000000 [00:16<1764:52:18, 1007.31it/s, acc : 0.887, val_acc : 0.890, loss : 0.887, val_loss : 0.890]"
     ]
    },
    {
     "name": "stdout",
     "output_type": "stream",
     "text": [
      "train pred : 我 我 的 的 e e e                                           \n",
      "train label : 没有 你 我 不 太 习惯 e                                          \n",
      "validation pred : 我 我 的 e e e e e                                          \n",
      "validation label : 总 在 了解 之后 才 被 填满 e                                         \n"
     ]
    },
    {
     "name": "stderr",
     "output_type": "stream",
     "text": [
      "  0%|          | 19392/6400000000 [00:23<1681:44:31, 1057.10it/s, acc : 0.888, val_acc : 0.887, loss : 0.888, val_loss : 0.887]"
     ]
    },
    {
     "name": "stdout",
     "output_type": "stream",
     "text": [
      "train pred : 我 我 的 e e                                             \n",
      "train label : 只是 不再 那么 坚定 e                                            \n",
      "validation pred : 我 我 e e e                                             \n",
      "validation label : 值得 一路 的 风尘 e                                            \n"
     ]
    },
    {
     "name": "stderr",
     "output_type": "stream",
     "text": [
      "  0%|          | 25856/6400000000 [00:34<2562:48:43, 693.68it/s, acc : 0.885, val_acc : 0.886, loss : 0.885, val_loss : 0.886] "
     ]
    },
    {
     "name": "stdout",
     "output_type": "stream",
     "text": [
      "train pred : 我 我 e e e                                             \n",
      "train label : 应该 继续 猜测 吗 e                                            \n",
      "validation pred : 我 我 的 e e e e e                                          \n",
      "validation label : 我 是 追逐 着 你 的 眼眸 e                                         \n"
     ]
    },
    {
     "name": "stderr",
     "output_type": "stream",
     "text": [
      "  0%|          | 32256/6400000000 [00:40<1837:27:25, 967.52it/s, acc : 0.890, val_acc : 0.887, loss : 0.890, val_loss : 0.887] "
     ]
    },
    {
     "name": "stdout",
     "output_type": "stream",
     "text": [
      "train pred : 我 我 的 e e e e e e                                         \n",
      "train label : 即使 再 小 的 帆 也 能 远航 e                                        \n",
      "validation pred : 我 我 的 e e e e e                                          \n",
      "validation label : 哭 着 说 爱 让 人 紧张 e                                         \n"
     ]
    },
    {
     "name": "stderr",
     "output_type": "stream",
     "text": [
      "  0%|          | 38656/6400000000 [00:49<2071:09:56, 858.34it/s, acc : 0.888, val_acc : 0.884, loss : 0.888, val_loss : 0.884] "
     ]
    },
    {
     "name": "stdout",
     "output_type": "stream",
     "text": [
      "train pred : 我 的 的 的 e e e e e                                         \n",
      "train label : 请 让 我 再 瞧瞧 你 的 双眼 e                                        \n",
      "validation pred : 我 的 的 e e e e e e e                                        \n",
      "validation label : 你好 啊 再见 别 再 讽刺 我 的 糊涂 e                                       \n"
     ]
    },
    {
     "name": "stderr",
     "output_type": "stream",
     "text": [
      "  0%|          | 45056/6400000000 [00:56<1890:57:50, 940.14it/s, acc : 0.891, val_acc : 0.889, loss : 0.891, val_loss : 0.889] "
     ]
    },
    {
     "name": "stdout",
     "output_type": "stream",
     "text": [
      "train pred : 我 我 的 e e e e                                           \n",
      "train label : 有时候 我 是 难搞 的 儿童 e                                          \n",
      "validation pred : 我 我 e e e e e e                                          \n",
      "validation label : 身边 有 几个 不算 酒肉 的 朋友 e                                         \n"
     ]
    },
    {
     "name": "stderr",
     "output_type": "stream",
     "text": [
      "  0%|          | 51456/6400000000 [01:03<1674:12:30, 1061.85it/s, acc : 0.890, val_acc : 0.891, loss : 0.890, val_loss : 0.891]"
     ]
    },
    {
     "name": "stdout",
     "output_type": "stream",
     "text": [
      "train pred : 我 我 e e e e e e e e e e e e e                                   \n",
      "train label : 心 都 快 冻僵 了 应该 让 它 轻轻 跳 一 跳  也好 e                                  \n",
      "validation pred : 我 我 的 e                                              \n",
      "validation label : 你 习惯 闭上眼睛 e                                             \n"
     ]
    },
    {
     "name": "stderr",
     "output_type": "stream",
     "text": [
      "  0%|          | 57856/6400000000 [01:09<1652:12:56, 1075.99it/s, acc : 0.889, val_acc : 0.889, loss : 0.889, val_loss : 0.889]"
     ]
    },
    {
     "name": "stdout",
     "output_type": "stream",
     "text": [
      "train pred : 我 的 e                                               \n",
      "train label : 三三两两  e                                              \n",
      "validation pred : 我 的 的 e e e e e e e                                        \n",
      "validation label : 我 藏 在 灵魂 里 的 阁楼 那 头 e                                       \n"
     ]
    },
    {
     "name": "stderr",
     "output_type": "stream",
     "text": [
      "  0%|          | 64256/6400000000 [01:15<1653:32:06, 1075.13it/s, acc : 0.887, val_acc : 0.886, loss : 0.887, val_loss : 0.886]"
     ]
    },
    {
     "name": "stdout",
     "output_type": "stream",
     "text": [
      "train pred : 我 你 的 e e e e                                           \n",
      "train label : 两个 人 真好 两个 人 真好 e                                          \n",
      "validation pred : 我 我 的 e e e e e                                          \n",
      "validation label : 像 又 出现 在 我 的 脑海 e                                         \n"
     ]
    },
    {
     "name": "stderr",
     "output_type": "stream",
     "text": [
      "  0%|          | 70656/6400000000 [01:22<1669:09:52, 1065.06it/s, acc : 0.889, val_acc : 0.888, loss : 0.889, val_loss : 0.888]"
     ]
    },
    {
     "name": "stdout",
     "output_type": "stream",
     "text": [
      "train pred : 我 你 e e e e e e                                          \n",
      "train label : 搜寻 搜寻 搜寻 不到 你 的 信号 e                                         \n",
      "validation pred : 我                                                 \n",
      "validation label : 再 后来 e                                              \n"
     ]
    },
    {
     "name": "stderr",
     "output_type": "stream",
     "text": [
      "  0%|          | 77056/6400000000 [01:28<1660:44:04, 1070.46it/s, acc : 0.888, val_acc : 0.887, loss : 0.888, val_loss : 0.887]"
     ]
    },
    {
     "name": "stdout",
     "output_type": "stream",
     "text": [
      "train pred : 我 我 你 e e e e e                                          \n",
      "train label : 这样 才 好 曾 少 你 的 e                                         \n",
      "validation pred : 我 你 的                                               \n",
      "validation label : 留给 创造 e                                              \n"
     ]
    },
    {
     "name": "stderr",
     "output_type": "stream",
     "text": [
      "  0%|          | 83456/6400000000 [01:34<1649:01:57, 1078.06it/s, acc : 0.890, val_acc : 0.892, loss : 0.890, val_loss : 0.892]"
     ]
    },
    {
     "name": "stdout",
     "output_type": "stream",
     "text": [
      "train pred : 我 我 的 e e e e e e                                         \n",
      "train label : 每天 除了  还 能 挣 三四  e                                        \n",
      "validation pred : 我                                                 \n",
      "validation label : 真的 e                                               \n"
     ]
    },
    {
     "name": "stderr",
     "output_type": "stream",
     "text": [
      "  0%|          | 89856/6400000000 [01:40<1885:03:05, 943.08it/s, acc : 0.892, val_acc : 0.889, loss : 0.892, val_loss : 0.889] "
     ]
    },
    {
     "name": "stdout",
     "output_type": "stream",
     "text": [
      "train pred : 我 的 的 的                                              \n",
      "train label : 离开 我 了 e                                             \n",
      "validation pred : 我 的 e e                                              \n",
      "validation label : 时光 不经意 流逝 e                                             \n"
     ]
    },
    {
     "name": "stderr",
     "output_type": "stream",
     "text": [
      "  0%|          | 96256/6400000000 [01:46<1653:27:06, 1075.18it/s, acc : 0.890, val_acc : 0.888, loss : 0.890, val_loss : 0.888]"
     ]
    },
    {
     "name": "stdout",
     "output_type": "stream",
     "text": [
      "train pred : 我 你 的 e e e e e e e                                        \n",
      "train label : 沙宝亮 灿烂 无边无际 苏有朋 共 饮 天 和 地 e                                       \n",
      "validation pred :    e e e e                                           \n",
      "validation label : 脆弱 的 独白 骄傲 得 血淋淋 e                                          \n"
     ]
    },
    {
     "name": "stderr",
     "output_type": "stream",
     "text": [
      "  0%|          | 102656/6400000000 [01:53<1899:31:00, 935.90it/s, acc : 0.893, val_acc : 0.891, loss : 0.893, val_loss : 0.891] "
     ]
    },
    {
     "name": "stdout",
     "output_type": "stream",
     "text": [
      "train pred :   e  e e e e e e                                        \n",
      "train label : 最 艰辛 的  拉  的 人 了 e                                       \n",
      "validation pred : 我 我 的 e                                              \n",
      "validation label : 那 又 如何 e                                             \n"
     ]
    },
    {
     "name": "stderr",
     "output_type": "stream",
     "text": [
      "  0%|          | 109056/6400000000 [02:00<1872:29:39, 949.40it/s, acc : 0.892, val_acc : 0.885, loss : 0.892, val_loss : 0.885] "
     ]
    },
    {
     "name": "stdout",
     "output_type": "stream",
     "text": [
      "train pred : 我 的 e e                                              \n",
      "train label : 天上 有 太阳 e                                             \n",
      "validation pred : 我 你  e e e e e                                          \n",
      "validation label : 说 生命 就 绚烂 在 对爱 虔诚 e                                         \n"
     ]
    },
    {
     "name": "stderr",
     "output_type": "stream",
     "text": [
      "  0%|          | 115456/6400000000 [02:06<1659:33:16, 1071.22it/s, acc : 0.890, val_acc : 0.892, loss : 0.890, val_loss : 0.892]"
     ]
    },
    {
     "name": "stdout",
     "output_type": "stream",
     "text": [
      "train pred : 我 的 你 的 e e e e e                                         \n",
      "train label : 我 和 上帝 在 说话 还 没有 睡意 e                                        \n",
      "validation pred : 我 你 e e e                                             \n",
      "validation label : 不 思议 如此 闪亮 e                                            \n"
     ]
    },
    {
     "name": "stderr",
     "output_type": "stream",
     "text": [
      "  0%|          | 121856/6400000000 [02:12<1656:22:05, 1073.28it/s, acc : 0.888, val_acc : 0.887, loss : 0.888, val_loss : 0.887]"
     ]
    },
    {
     "name": "stdout",
     "output_type": "stream",
     "text": [
      "train pred : 我 的 e e e e e e e                                         \n",
      "train label : 厌 旧 爱 新 竟 也 没有 内疚 e                                        \n",
      "validation pred :    e e e e e                                          \n",
      "validation label : 唯 秦腔 则 如 秦 人 一样 e                                         \n"
     ]
    },
    {
     "name": "stderr",
     "output_type": "stream",
     "text": [
      "  0%|          | 128256/6400000000 [02:19<1656:21:40, 1073.28it/s, acc : 0.889, val_acc : 0.891, loss : 0.889, val_loss : 0.891]"
     ]
    },
    {
     "name": "stdout",
     "output_type": "stream",
     "text": [
      "train pred : 我 我 的 的 e e e e e e e                                       \n",
      "train label : 就 当 恋爱 是 个 习惯  掉 你 吸引 e                                      \n",
      "validation pred : 我 的 的 e e e e e e e                                        \n",
      "validation label : 我 又 没有 看见 祂 们 是 什么 东西 e                                       \n"
     ]
    },
    {
     "name": "stderr",
     "output_type": "stream",
     "text": [
      "  0%|          | 134656/6400000000 [02:25<1647:01:04, 1079.37it/s, acc : 0.893, val_acc : 0.890, loss : 0.893, val_loss : 0.890]"
     ]
    },
    {
     "name": "stdout",
     "output_type": "stream",
     "text": [
      "train pred : 我 的 你 e e e e                                           \n",
      "train label : 我 喜欢  千万 别说 抱歉 e                                          \n",
      "validation pred : 我 的 的 e 的 e e                                           \n",
      "validation label : 可是 你 知道 我 的 迷惘 e                                          \n"
     ]
    },
    {
     "name": "stderr",
     "output_type": "stream",
     "text": [
      "  0%|          | 141056/6400000000 [02:31<1652:25:38, 1075.83it/s, acc : 0.893, val_acc : 0.891, loss : 0.893, val_loss : 0.891]"
     ]
    },
    {
     "name": "stdout",
     "output_type": "stream",
     "text": [
      "train pred : 我 的 的 e e e                                            \n",
      "train label : 带上 最 丰富 的 自己 e                                           \n",
      "validation pred : 我 我 的 的 e e e e                                          \n",
      "validation label : 只是 它 刚好 落在 了 这 一边 e                                         \n"
     ]
    },
    {
     "name": "stderr",
     "output_type": "stream",
     "text": [
      "  0%|          | 147456/6400000000 [02:37<1651:02:36, 1076.74it/s, acc : 0.889, val_acc : 0.890, loss : 0.889, val_loss : 0.890]"
     ]
    },
    {
     "name": "stdout",
     "output_type": "stream",
     "text": [
      "train pred : 我 我 我 e e e e                                           \n",
      "train label : 愁 在 理论 像 哲学 精彩 e                                          \n",
      "validation pred : 我 我 的 的 e                                             \n",
      "validation label : 被 人生 温柔 对待 e                                            \n"
     ]
    },
    {
     "name": "stderr",
     "output_type": "stream",
     "text": [
      "  0%|          | 153856/6400000000 [02:43<1653:36:01, 1075.07it/s, acc : 0.889, val_acc : 0.891, loss : 0.889, val_loss : 0.891]"
     ]
    },
    {
     "name": "stdout",
     "output_type": "stream",
     "text": [
      "train pred : 我 的 我 e e e                                            \n",
      "train label : 她 的 舞步 很 轻盈 e                                           \n",
      "validation pred : 我 你 的 你 e e e                                           \n",
      "validation label : 这 一生 都 只 为 你 e                                          \n"
     ]
    },
    {
     "name": "stderr",
     "output_type": "stream",
     "text": [
      "  0%|          | 160256/6400000000 [02:49<1659:55:56, 1070.97it/s, acc : 0.886, val_acc : 0.888, loss : 0.886, val_loss : 0.888]"
     ]
    },
    {
     "name": "stdout",
     "output_type": "stream",
     "text": [
      "train pred : 我 你 的 的 你 的 e e 的 e e                                       \n",
      "train label : 怀疑 我 手 怀疑 我 握 原来 我 想 触动 e                                      \n",
      "validation pred : 我 的 e e                                              \n",
      "validation label : 夜莺 林间 痛哭 e                                             \n"
     ]
    },
    {
     "name": "stderr",
     "output_type": "stream",
     "text": [
      "  0%|          | 166656/6400000000 [02:55<1655:55:36, 1073.56it/s, acc : 0.889, val_acc : 0.889, loss : 0.889, val_loss : 0.889]"
     ]
    },
    {
     "name": "stdout",
     "output_type": "stream",
     "text": [
      "train pred : 我 e e                                               \n",
      "train label : 猎物 出现 e                                              \n",
      "validation pred : 我 的                                                \n",
      "validation label : 京 e                                               \n"
     ]
    },
    {
     "name": "stderr",
     "output_type": "stream",
     "text": [
      "  0%|          | 173056/6400000000 [03:01<1660:14:40, 1070.76it/s, acc : 0.891, val_acc : 0.892, loss : 0.891, val_loss : 0.892]"
     ]
    },
    {
     "name": "stdout",
     "output_type": "stream",
     "text": [
      "train pred : 我 e e e e e e                                           \n",
      "train label : 记忆 筛选  情感  依赖 e                                          \n",
      "validation pred :    e e e e e e                                         \n",
      "validation label : 空中 的 喜庆 锣鼓 就 已 稳稳 前来 e                                        \n"
     ]
    },
    {
     "name": "stderr",
     "output_type": "stream",
     "text": [
      "  0%|          | 179456/6400000000 [03:08<2002:56:48, 887.56it/s, acc : 0.890, val_acc : 0.890, loss : 0.890, val_loss : 0.890] "
     ]
    },
    {
     "name": "stdout",
     "output_type": "stream",
     "text": [
      "train pred : 我 的 e e e                                             \n",
      "train label : 阳光 洒满 岁月 心田 e                                            \n",
      "validation pred : 我 的 我 e e e e e e e                                        \n",
      "validation label : 你 要 找到 最 适合 自己 性格 的 职业 e                                       \n"
     ]
    },
    {
     "name": "stderr",
     "output_type": "stream",
     "text": [
      "  0%|          | 185856/6400000000 [03:14<1650:27:16, 1077.11it/s, acc : 0.891, val_acc : 0.892, loss : 0.891, val_loss : 0.892]"
     ]
    },
    {
     "name": "stdout",
     "output_type": "stream",
     "text": [
      "train pred : 我 的 e e e e e                                           \n",
      "train label : 才 能够 算到 过 了 天堂 e                                          \n",
      "validation pred : 我 的 的 我 e e e e                                          \n",
      "validation label : 你 却 用 离开 烫 下 句点 e                                         \n"
     ]
    },
    {
     "name": "stderr",
     "output_type": "stream",
     "text": [
      "  0%|          | 192256/6400000000 [03:21<1658:59:36, 1071.57it/s, acc : 0.890, val_acc : 0.885, loss : 0.890, val_loss : 0.885]"
     ]
    },
    {
     "name": "stdout",
     "output_type": "stream",
     "text": [
      "train pred : 我 的 的 我 e e                                            \n",
      "train label : 你 付出 不 求 回报 e                                           \n",
      "validation pred : 我 的 的 e e e e e                                          \n",
      "validation label : 就算 寂寞 分手 也 不要 做 朋友 e                                         \n"
     ]
    },
    {
     "name": "stderr",
     "output_type": "stream",
     "text": [
      "  0%|          | 198656/6400000000 [03:27<1651:02:50, 1076.72it/s, acc : 0.890, val_acc : 0.890, loss : 0.890, val_loss : 0.890]"
     ]
    },
    {
     "name": "stdout",
     "output_type": "stream",
     "text": [
      "train pred : 我 你 的 我 e e e e                                          \n",
      "train label : 想 你 万遍 之后 不如 咱 山沟 e                                         \n",
      "validation pred : 我 的 我 的 的 e  e e e e e e e                                    \n",
      "validation label : 你 和 当时 你 提 的 对象 没有  我们 的 错 吧 e                                   \n"
     ]
    },
    {
     "name": "stderr",
     "output_type": "stream",
     "text": [
      "  0%|          | 205056/6400000000 [03:33<1658:15:17, 1072.04it/s, acc : 0.889, val_acc : 0.891, loss : 0.889, val_loss : 0.891]"
     ]
    },
    {
     "name": "stdout",
     "output_type": "stream",
     "text": [
      "train pred : 我 的  e e e                                            \n",
      "train label : 我 才 淡薄  边 e                                           \n",
      "validation pred : 我 的 你 e e e                                            \n",
      "validation label : 过 一日 好像 过 一年 e                                           \n"
     ]
    },
    {
     "name": "stderr",
     "output_type": "stream",
     "text": [
      "  0%|          | 211456/6400000000 [03:39<1654:25:53, 1074.52it/s, acc : 0.896, val_acc : 0.891, loss : 0.896, val_loss : 0.891]"
     ]
    },
    {
     "name": "stdout",
     "output_type": "stream",
     "text": [
      "train pred : 我 的 你 的 你 e e e e                                         \n",
      "train label : 江南 梅雨 还 在 细说 春晓 分外 艳 e                                        \n",
      "validation pred : 我 e                                                \n",
      "validation label : 有情人 e                                               \n"
     ]
    },
    {
     "name": "stderr",
     "output_type": "stream",
     "text": [
      "  0%|          | 217856/6400000000 [03:45<1649:42:49, 1077.59it/s, acc : 0.888, val_acc : 0.888, loss : 0.888, val_loss : 0.888]"
     ]
    },
    {
     "name": "stdout",
     "output_type": "stream",
     "text": [
      "train pred : 我 你 e 的 我 e                                            \n",
      "train label : 又 遇见 你 的 影子 e                                           \n",
      "validation pred : 我 你 的                                               \n",
      "validation label : 霓虹灯 乱纷纷 e                                              \n"
     ]
    },
    {
     "name": "stderr",
     "output_type": "stream",
     "text": [
      "  0%|          | 224256/6400000000 [03:51<1653:01:06, 1075.44it/s, acc : 0.890, val_acc : 0.889, loss : 0.890, val_loss : 0.889]"
     ]
    },
    {
     "name": "stdout",
     "output_type": "stream",
     "text": [
      "train pred : 我 的 的 e e e e e e                                         \n",
      "train label : 酒干 倘 卖 唔 酒干 倘 卖 唔 e                                        \n",
      "validation pred : 我 你 你 e e                                             \n",
      "validation label : 无怨无悔 有 几 人 e                                            \n"
     ]
    },
    {
     "name": "stderr",
     "output_type": "stream",
     "text": [
      "  0%|          | 230656/6400000000 [03:58<1650:59:02, 1076.76it/s, acc : 0.888, val_acc : 0.893, loss : 0.888, val_loss : 0.893]"
     ]
    },
    {
     "name": "stdout",
     "output_type": "stream",
     "text": [
      "train pred : 我 的 你 你 你 的 e e                                          \n",
      "train label : 我 依然 愿意 为 你 来 歌唱 e                                         \n",
      "validation pred : 我 的  e                                              \n",
      "validation label :  快速 吞吐 e                                             \n"
     ]
    },
    {
     "name": "stderr",
     "output_type": "stream",
     "text": [
      "  0%|          | 237056/6400000000 [04:04<1651:01:01, 1076.74it/s, acc : 0.890, val_acc : 0.890, loss : 0.890, val_loss : 0.890]"
     ]
    },
    {
     "name": "stdout",
     "output_type": "stream",
     "text": [
      "train pred : 我 的 的 e                                              \n",
      "train label : 刻下 永远 一起 e                                             \n",
      "validation pred : 我 你 e                                               \n",
      "validation label : 嗯 嗯 e                                              \n"
     ]
    },
    {
     "name": "stderr",
     "output_type": "stream",
     "text": [
      "  0%|          | 243456/6400000000 [04:10<1651:02:25, 1076.72it/s, acc : 0.894, val_acc : 0.889, loss : 0.894, val_loss : 0.889]"
     ]
    },
    {
     "name": "stdout",
     "output_type": "stream",
     "text": [
      "train pred : 我 的 我 的 e e e e                                          \n",
      "train label : 你 是 我 今生 唯一 的 赌注 e                                         \n",
      "validation pred : 我 的 e e                                              \n",
      "validation label : 伤心 有时 在所难免 e                                             \n"
     ]
    },
    {
     "name": "stderr",
     "output_type": "stream",
     "text": [
      "  0%|          | 249856/6400000000 [04:16<1678:29:58, 1059.11it/s, acc : 0.890, val_acc : 0.892, loss : 0.890, val_loss : 0.892]"
     ]
    },
    {
     "name": "stdout",
     "output_type": "stream",
     "text": [
      "train pred : 我 的 的  e e e 我 e e e                                       \n",
      "train label : 而 一生 的 行为 都 受 着 情欲 的 支配 e                                      \n",
      "validation pred : 我 的 的 我 的 e                                            \n",
      "validation label : 你 最好 鼓起勇气 才能 活下去 e                                           \n"
     ]
    },
    {
     "name": "stderr",
     "output_type": "stream",
     "text": [
      "  0%|          | 256256/6400000000 [04:22<1650:27:21, 1077.10it/s, acc : 0.890, val_acc : 0.888, loss : 0.890, val_loss : 0.888]"
     ]
    },
    {
     "name": "stdout",
     "output_type": "stream",
     "text": [
      "train pred : 我 e                                                \n",
      "train label : 他们 e                                               \n",
      "validation pred : 我 你 e e e                                             \n",
      "validation label : 无论 长夜 再 深 e                                            \n"
     ]
    },
    {
     "name": "stderr",
     "output_type": "stream",
     "text": [
      "  0%|          | 262656/6400000000 [04:28<1656:32:03, 1073.15it/s, acc : 0.894, val_acc : 0.886, loss : 0.894, val_loss : 0.886]"
     ]
    },
    {
     "name": "stdout",
     "output_type": "stream",
     "text": [
      "train pred : 我 的 我 的 的 e e                                           \n",
      "train label : 不管 那 时间 空间 只是 种概念 e                                          \n",
      "validation pred : 我 你 你 e 的 e e                                           \n",
      "validation label : 只 想 听 你 的 电话 e                                          \n"
     ]
    },
    {
     "name": "stderr",
     "output_type": "stream",
     "text": [
      "  0%|          | 269056/6400000000 [04:34<1646:58:12, 1079.38it/s, acc : 0.891, val_acc : 0.896, loss : 0.891, val_loss : 0.896]"
     ]
    },
    {
     "name": "stdout",
     "output_type": "stream",
     "text": [
      "train pred :                                                  \n",
      "train label : 美麗 美麗 e                                              \n",
      "validation pred : 我 的 你 e e                                             \n",
      "validation label : 我 是 那么 忘我 e                                            \n"
     ]
    },
    {
     "name": "stderr",
     "output_type": "stream",
     "text": [
      "  0%|          | 275456/6400000000 [04:40<1658:46:10, 1071.70it/s, acc : 0.893, val_acc : 0.887, loss : 0.893, val_loss : 0.887]"
     ]
    },
    {
     "name": "stdout",
     "output_type": "stream",
     "text": [
      "train pred : 我 的  e e 的 e e                                          \n",
      "train label : 贴身 的 锁骨 教 我 丧失 知觉 e                                         \n",
      "validation pred : 我 的 的 e 的                                             \n",
      "validation label : 你 越来越 烦 我 e                                            \n"
     ]
    },
    {
     "name": "stderr",
     "output_type": "stream",
     "text": [
      "  0%|          | 281856/6400000000 [04:46<1652:10:38, 1075.97it/s, acc : 0.892, val_acc : 0.890, loss : 0.892, val_loss : 0.890]"
     ]
    },
    {
     "name": "stdout",
     "output_type": "stream",
     "text": [
      "train pred : 我 的 你 e                                              \n",
      "train label : 我 只能  e                                             \n",
      "validation pred : 我 的 e e e e e e e                                         \n",
      "validation label : 合 旅途 之后 是 旅途 一生 几十亿 万步 e                                        \n"
     ]
    },
    {
     "name": "stderr",
     "output_type": "stream",
     "text": [
      "  0%|          | 288256/6400000000 [04:52<1662:03:24, 1069.58it/s, acc : 0.893, val_acc : 0.891, loss : 0.893, val_loss : 0.891]"
     ]
    },
    {
     "name": "stdout",
     "output_type": "stream",
     "text": [
      "train pred : 我 的 的 的 我 的 e e                                          \n",
      "train label : 不如 坏人 就 由 我 担当 承受 e                                         \n",
      "validation pred : 我 你 的 我 的 e e e                                          \n",
      "validation label : 谢谢 你 让 我 明白 失去 你 e                                         \n"
     ]
    },
    {
     "name": "stderr",
     "output_type": "stream",
     "text": [
      "  0%|          | 294656/6400000000 [04:58<1655:14:23, 1073.98it/s, acc : 0.889, val_acc : 0.889, loss : 0.889, val_loss : 0.889]"
     ]
    },
    {
     "name": "stdout",
     "output_type": "stream",
     "text": [
      "train pred : 我 的 是 e e e e e e                                         \n",
      "train label : 冥冥中 都 早 注定 你 富 或 贫 e                                        \n",
      "validation pred : 我 的 的 e 你 e e e e e                                        \n",
      "validation label : 嘿 否定 先生 没 人 代替 你 去 痛苦 e                                       \n"
     ]
    },
    {
     "name": "stderr",
     "output_type": "stream",
     "text": [
      "  0%|          | 301056/6400000000 [05:04<1648:24:20, 1078.43it/s, acc : 0.891, val_acc : 0.889, loss : 0.891, val_loss : 0.889]"
     ]
    },
    {
     "name": "stdout",
     "output_type": "stream",
     "text": [
      "train pred : 我 的 e e e e                                            \n",
      "train label : 拉拉 拉拉 拉拉 拉拉 拉拉 e                                           \n",
      "validation pred : 我 你 的 你 的 e e e e e                                        \n",
      "validation label : 在 静静 夜晚 长 靠 于 窗边 星光 暗淡 e                                       \n"
     ]
    },
    {
     "name": "stderr",
     "output_type": "stream",
     "text": [
      "  0%|          | 307456/6400000000 [05:10<1935:52:48, 918.29it/s, acc : 0.893, val_acc : 0.896, loss : 0.893, val_loss : 0.896] "
     ]
    },
    {
     "name": "stdout",
     "output_type": "stream",
     "text": [
      "train pred : 我 你 的 e e e                                            \n",
      "train label : 终于 一颗 承受 不了 坠落 e                                           \n",
      "validation pred : 我 的 e e e                                             \n",
      "validation label : 多少 情人 各 纷飞 e                                            \n"
     ]
    },
    {
     "name": "stderr",
     "output_type": "stream",
     "text": [
      "  0%|          | 313856/6400000000 [05:17<1737:01:58, 1023.41it/s, acc : 0.890, val_acc : 0.889, loss : 0.890, val_loss : 0.889]"
     ]
    },
    {
     "name": "stdout",
     "output_type": "stream",
     "text": [
      "train pred : 我 的 你 爱 e                                             \n",
      "train label : 我 并 不 寂寞 e                                            \n",
      "validation pred : 我 e e e                                              \n",
      "validation label : 嗯 嗯 嗯 e                                             \n"
     ]
    },
    {
     "name": "stderr",
     "output_type": "stream",
     "text": [
      "  0%|          | 320256/6400000000 [05:24<1847:44:31, 962.09it/s, acc : 0.894, val_acc : 0.892, loss : 0.894, val_loss : 0.892] "
     ]
    },
    {
     "name": "stdout",
     "output_type": "stream",
     "text": [
      "train pred :   的 e  e                                            \n",
      "train label : 寄到 你 未来 的 国度 e                                           \n",
      "validation pred : 我 的 的 的 心 e 的 e e e e                                       \n",
      "validation label : 我 重温 你 的 那些 我 重温 你 的 那些 e                                      \n"
     ]
    },
    {
     "name": "stderr",
     "output_type": "stream",
     "text": [
      "  0%|          | 326656/6400000000 [05:31<1756:39:26, 1011.97it/s, acc : 0.893, val_acc : 0.891, loss : 0.893, val_loss : 0.891]"
     ]
    },
    {
     "name": "stdout",
     "output_type": "stream",
     "text": [
      "train pred : 我 的 你 的 心 e                                            \n",
      "train label : 再也 没有 你 的 消息 e                                           \n",
      "validation pred : 我 你 我 e                                              \n",
      "validation label : 饮泣 的 眼睛 e                                             \n"
     ]
    },
    {
     "name": "stderr",
     "output_type": "stream",
     "text": [
      "  0%|          | 333056/6400000000 [05:37<1656:49:48, 1072.94it/s, acc : 0.886, val_acc : 0.890, loss : 0.886, val_loss : 0.890]"
     ]
    },
    {
     "name": "stdout",
     "output_type": "stream",
     "text": [
      "train pred : 我 的 你 我 e e e                                           \n",
      "train label : 少年郎 睡 到 日头 照 屁股 e                                          \n",
      "validation pred : 我 的 你 的 的  e e e e e                                       \n",
      "validation label : 他 有 一头 干净 的 头发 身旁 隐隐约约 有个 她 e                                      \n"
     ]
    },
    {
     "name": "stderr",
     "output_type": "stream",
     "text": [
      "  0%|          | 339456/6400000000 [05:43<1908:02:09, 931.68it/s, acc : 0.892, val_acc : 0.892, loss : 0.892, val_loss : 0.892] "
     ]
    },
    {
     "name": "stdout",
     "output_type": "stream",
     "text": [
      "train pred : 我 的 e e e e                                            \n",
      "train label : 夜星 安抚 着 孤独 背影 e                                           \n",
      "validation pred : 我 是 的 e                                              \n",
      "validation label : 不 如常 怀念 e                                             \n"
     ]
    },
    {
     "name": "stderr",
     "output_type": "stream",
     "text": [
      "  0%|          | 345856/6400000000 [05:49<1671:37:06, 1063.45it/s, acc : 0.888, val_acc : 0.888, loss : 0.888, val_loss : 0.888]"
     ]
    },
    {
     "name": "stdout",
     "output_type": "stream",
     "text": [
      "train pred : 我 你 的 你 的                                             \n",
      "train label : 所以 我 求求 你 e                                            \n",
      "validation pred : 我 的 e e e                                             \n",
      "validation label : 老婆 有些 烦 了 e                                            \n"
     ]
    },
    {
     "name": "stderr",
     "output_type": "stream",
     "text": [
      "  0%|          | 352256/6400000000 [05:56<1739:30:50, 1021.94it/s, acc : 0.885, val_acc : 0.892, loss : 0.885, val_loss : 0.892]"
     ]
    },
    {
     "name": "stdout",
     "output_type": "stream",
     "text": [
      "train pred : 我 的 我 的                                              \n",
      "train label : 你 是 唯一 e                                             \n",
      "validation pred : 我 的 我 e e e e e                                          \n",
      "validation label : 加快 了 步伐 带 着 梦想 出发 e                                         \n"
     ]
    },
    {
     "name": "stderr",
     "output_type": "stream",
     "text": [
      "  0%|          | 358656/6400000000 [06:02<1836:29:43, 967.97it/s, acc : 0.892, val_acc : 0.891, loss : 0.892, val_loss : 0.891] "
     ]
    },
    {
     "name": "stdout",
     "output_type": "stream",
     "text": [
      "train pred : 我 的 的                                               \n",
      "train label : 莉 我爱你 e                                              \n",
      "validation pred : 我 的 e e                                              \n",
      "validation label : 键盘 王文颖 郑安伟 e                                             \n"
     ]
    },
    {
     "name": "stderr",
     "output_type": "stream",
     "text": [
      "  0%|          | 365056/6400000000 [06:09<1712:10:13, 1038.26it/s, acc : 0.887, val_acc : 0.889, loss : 0.887, val_loss : 0.889]"
     ]
    },
    {
     "name": "stdout",
     "output_type": "stream",
     "text": [
      "train pred : 我 我 你 e e  e e                                          \n",
      "train label : 习惯 像 永不 愈合 的 固执 伤痕 e                                         \n",
      "validation pred : 我 我 e e e e e e e                                         \n",
      "validation label : 就是 舍不得 过 那 你 又 能 如何 e                                        \n"
     ]
    },
    {
     "name": "stderr",
     "output_type": "stream",
     "text": [
      "  0%|          | 371456/6400000000 [06:16<1799:08:40, 988.07it/s, acc : 0.889, val_acc : 0.891, loss : 0.889, val_loss : 0.891] "
     ]
    },
    {
     "name": "stdout",
     "output_type": "stream",
     "text": [
      "train pred : 我 的 的 e e e e e                                          \n",
      "train label : 我们 已经 浪费 了 十年 的 时间 e                                         \n",
      "validation pred :     e e e e e  e e                                      \n",
      "validation label : 犹如 最初 的 留声机 进化  到 如今 的  唱机 e                                     \n"
     ]
    },
    {
     "name": "stderr",
     "output_type": "stream",
     "text": [
      "  0%|          | 377856/6400000000 [06:22<1720:12:34, 1033.40it/s, acc : 0.893, val_acc : 0.892, loss : 0.893, val_loss : 0.892]"
     ]
    },
    {
     "name": "stdout",
     "output_type": "stream",
     "text": [
      "train pred : 我 我 的 e                                              \n",
      "train label : 那 最美 花朵 e                                             \n",
      "validation pred : 我 你 的 的 e 我 e e                                          \n",
      "validation label : 来 交换 你 偶尔 给 的 关心 e                                         \n"
     ]
    },
    {
     "name": "stderr",
     "output_type": "stream",
     "text": [
      "  0%|          | 384256/6400000000 [06:28<2191:47:55, 811.06it/s, acc : 0.889, val_acc : 0.892, loss : 0.889, val_loss : 0.892] "
     ]
    },
    {
     "name": "stdout",
     "output_type": "stream",
     "text": [
      "train pred : 我 的 的 的 e  e                                           \n",
      "train label : 深深 系 住 我心 的 深处 e                                          \n",
      "validation pred : 我 的 你 你 e                                             \n",
      "validation label : 声音 有 了 脉搏 e                                            \n"
     ]
    },
    {
     "name": "stderr",
     "output_type": "stream",
     "text": [
      "  0%|          | 390656/6400000000 [06:36<1988:38:27, 893.91it/s, acc : 0.895, val_acc : 0.891, loss : 0.895, val_loss : 0.891] "
     ]
    },
    {
     "name": "stdout",
     "output_type": "stream",
     "text": [
      "train pred : 我 的 我 心 e e e e e e                                        \n",
      "train label : 你 住 的 地带 天气 是否 也 已经 变坏 e                                       \n",
      "validation pred : 我 e e e                                              \n",
      "validation label :   风景 e                                             \n"
     ]
    },
    {
     "name": "stderr",
     "output_type": "stream",
     "text": [
      "  0%|          | 397056/6400000000 [06:43<1652:45:29, 1075.58it/s, acc : 0.893, val_acc : 0.893, loss : 0.893, val_loss : 0.893]"
     ]
    },
    {
     "name": "stdout",
     "output_type": "stream",
     "text": [
      "train pred : 我 是 的 e e e e e e                                         \n",
      "train label : 只 需 真心 都 能 爱 得 起 e                                        \n",
      "validation pred : 我 的 的 我 e e e                                           \n",
      "validation label : 你 走进 那 座 茫茫 城市 e                                          \n"
     ]
    },
    {
     "name": "stderr",
     "output_type": "stream",
     "text": [
      "  0%|          | 403456/6400000000 [06:49<1656:40:05, 1073.04it/s, acc : 0.892, val_acc : 0.894, loss : 0.892, val_loss : 0.894]"
     ]
    },
    {
     "name": "stdout",
     "output_type": "stream",
     "text": [
      "train pred : 我 的 的 e                                              \n",
      "train label : 坦承 自己 脆弱 e                                             \n",
      "validation pred : 我 的                                                \n",
      "validation label : 春夏秋冬 e                                               \n"
     ]
    },
    {
     "name": "stderr",
     "output_type": "stream",
     "text": [
      "  0%|          | 409856/6400000000 [06:55<1660:44:52, 1070.40it/s, acc : 0.893, val_acc : 0.893, loss : 0.893, val_loss : 0.893]"
     ]
    },
    {
     "name": "stdout",
     "output_type": "stream",
     "text": [
      "train pred :  的 的 e 你 e e                                           \n",
      "train label : 我 几乎 快要 被 治愈 好 e                                          \n",
      "validation pred :  的 在 你 的 e                                            \n",
      "validation label : 谁 还 在 轻轻 歌唱 e                                           \n"
     ]
    },
    {
     "name": "stderr",
     "output_type": "stream",
     "text": [
      "  0%|          | 416256/6400000000 [07:01<1650:11:59, 1077.24it/s, acc : 0.888, val_acc : 0.887, loss : 0.888, val_loss : 0.887]"
     ]
    },
    {
     "name": "stdout",
     "output_type": "stream",
     "text": [
      "train pred : 我 的 e 的 e                                             \n",
      "train label : 甚至 输出 我 血液 e                                            \n",
      "validation pred : 我 的 e e e e                                            \n",
      "validation label : 何必 在意 那 一点点 温存 e                                           \n"
     ]
    },
    {
     "name": "stderr",
     "output_type": "stream",
     "text": [
      "  0%|          | 422656/6400000000 [07:07<1654:30:00, 1074.44it/s, acc : 0.893, val_acc : 0.891, loss : 0.893, val_loss : 0.891]"
     ]
    },
    {
     "name": "stdout",
     "output_type": "stream",
     "text": [
      "train pred : 我 我 的 我 e e e e e                                         \n",
      "train label : 因为 你 爱 不断 跳进 我 的 心海 e                                        \n",
      "validation pred : 我 你 e e e e e                                           \n",
      "validation label : 我会 一直 这样 陪 你 勇敢 e                                          \n"
     ]
    },
    {
     "name": "stderr",
     "output_type": "stream",
     "text": [
      "  0%|          | 429056/6400000000 [07:13<1652:13:21, 1075.92it/s, acc : 0.892, val_acc : 0.890, loss : 0.892, val_loss : 0.890]"
     ]
    },
    {
     "name": "stdout",
     "output_type": "stream",
     "text": [
      "train pred : 我  e 的 e                                             \n",
      "train label : 在 刀锋 上 舞蹈 e                                            \n",
      "validation pred :    e  e                                            \n",
      "validation label : 我们 走向 世纪之交 的 舞台 e                                           \n"
     ]
    },
    {
     "name": "stderr",
     "output_type": "stream",
     "text": [
      "  0%|          | 435456/6400000000 [07:19<1681:16:11, 1057.33it/s, acc : 0.893, val_acc : 0.888, loss : 0.893, val_loss : 0.888]"
     ]
    },
    {
     "name": "stdout",
     "output_type": "stream",
     "text": [
      "train pred : 我 的  e  e                                            \n",
      "train label : 享受 你们 温暖 的 气氛 e                                           \n",
      "validation pred : 我  的 我 的 的  e                                          \n",
      "validation label : 即使 你 对 我 爱情 已 死 e                                         \n"
     ]
    },
    {
     "name": "stderr",
     "output_type": "stream",
     "text": [
      "  0%|          | 441856/6400000000 [07:25<1657:33:40, 1072.45it/s, acc : 0.891, val_acc : 0.893, loss : 0.891, val_loss : 0.893]"
     ]
    },
    {
     "name": "stdout",
     "output_type": "stream",
     "text": [
      "train pred : 我 的 e 的 心 e                                            \n",
      "train label : 台北 不是 我 的 家 e                                           \n",
      "validation pred : 我 的 你                                               \n",
      "validation label : 我 没有 e                                              \n"
     ]
    },
    {
     "name": "stderr",
     "output_type": "stream",
     "text": [
      "  0%|          | 448256/6400000000 [07:31<1710:03:39, 1039.53it/s, acc : 0.890, val_acc : 0.892, loss : 0.890, val_loss : 0.892]"
     ]
    },
    {
     "name": "stdout",
     "output_type": "stream",
     "text": [
      "train pred : 我 的 你 你 e e e                                           \n",
      "train label : 他 说 爱 上 了 我 e                                          \n",
      "validation pred :     e  e                                           \n",
      "validation label : 早起 有 浓汤 雾水 是 清凉 e                                          \n"
     ]
    },
    {
     "name": "stderr",
     "output_type": "stream",
     "text": [
      "  0%|          | 454656/6400000000 [07:38<1672:23:02, 1062.94it/s, acc : 0.892, val_acc : 0.889, loss : 0.892, val_loss : 0.889]"
     ]
    },
    {
     "name": "stdout",
     "output_type": "stream",
     "text": [
      "train pred : 我 的 你 e e e e                                           \n",
      "train label : 奇葩 和 宝宝 全都 变 富有 e                                          \n",
      "validation pred : 我 的 你 你 的 e 心 e e                                         \n",
      "validation label : 我 为 对 我 好 的 虔诚 祝福 e                                        \n"
     ]
    },
    {
     "name": "stderr",
     "output_type": "stream",
     "text": [
      "  0%|          | 461056/6400000000 [07:44<1653:21:34, 1075.17it/s, acc : 0.894, val_acc : 0.891, loss : 0.894, val_loss : 0.891]"
     ]
    },
    {
     "name": "stdout",
     "output_type": "stream",
     "text": [
      "train pred : 我 是 e e e                                             \n",
      "train label : 就 好象 两角 菱 e                                            \n",
      "validation pred : 我 的 e                                               \n",
      "validation label : 懂得 体会 e                                              \n"
     ]
    },
    {
     "name": "stderr",
     "output_type": "stream",
     "text": [
      "  0%|          | 467456/6400000000 [07:50<1653:39:35, 1074.98it/s, acc : 0.893, val_acc : 0.893, loss : 0.893, val_loss : 0.893]"
     ]
    },
    {
     "name": "stdout",
     "output_type": "stream",
     "text": [
      "train pred : 我 的 你 e e e e                                           \n",
      "train label : 大家 爱 起来 大家 爱 起来 e                                          \n",
      "validation pred : 我 e e e                                              \n",
      "validation label :   歩 e                                             \n"
     ]
    },
    {
     "name": "stderr",
     "output_type": "stream",
     "text": [
      "  0%|          | 473856/6400000000 [07:56<1661:26:22, 1069.94it/s, acc : 0.894, val_acc : 0.891, loss : 0.894, val_loss : 0.891]"
     ]
    },
    {
     "name": "stdout",
     "output_type": "stream",
     "text": [
      "train pred : 我 你 我 的 的 e 的                                           \n",
      "train label : 看到 了 梅兰 就 想到 你 e                                          \n",
      "validation pred : 我 e 我 的 e e e                                           \n",
      "validation label : 不知 是 露 哪 一截 好 e                                          \n"
     ]
    },
    {
     "name": "stderr",
     "output_type": "stream",
     "text": [
      "  0%|          | 480256/6400000000 [08:02<1654:11:28, 1074.63it/s, acc : 0.890, val_acc : 0.896, loss : 0.890, val_loss : 0.896]"
     ]
    },
    {
     "name": "stdout",
     "output_type": "stream",
     "text": [
      "train pred : 我 的 人 e 我  e e                                          \n",
      "train label : 我们 的 爱情 到 这 刚刚 好 e                                         \n",
      "validation pred : 我 的 人 e                                              \n",
      "validation label : 寂寞 的 长巷 e                                             \n"
     ]
    },
    {
     "name": "stderr",
     "output_type": "stream",
     "text": [
      "  0%|          | 486656/6400000000 [08:08<1653:54:42, 1074.81it/s, acc : 0.896, val_acc : 0.888, loss : 0.896, val_loss : 0.888]"
     ]
    },
    {
     "name": "stdout",
     "output_type": "stream",
     "text": [
      "train pred : 我 的 e                                               \n",
      "train label : 春天 时 e                                              \n",
      "validation pred : 我 的 我 爱 我 的 你 e e e                                        \n",
      "validation label : 你 不要 再 想起 我 请 别 送 我 e                                       \n"
     ]
    },
    {
     "name": "stderr",
     "output_type": "stream",
     "text": [
      "  0%|          | 493056/6400000000 [08:14<1646:25:33, 1079.70it/s, acc : 0.893, val_acc : 0.896, loss : 0.893, val_loss : 0.896]"
     ]
    },
    {
     "name": "stdout",
     "output_type": "stream",
     "text": [
      "train pred : 我 的 的                                               \n",
      "train label : 再也 找不出 e                                              \n",
      "validation pred : 我 的 你 的  e 的 e e e                                        \n",
      "validation label : 我 在 幸福 的 门外 却 一直 都 进不来 e                                       \n"
     ]
    },
    {
     "name": "stderr",
     "output_type": "stream",
     "text": [
      "  0%|          | 499456/6400000000 [08:20<1648:41:15, 1078.21it/s, acc : 0.893, val_acc : 0.891, loss : 0.893, val_loss : 0.891]"
     ]
    },
    {
     "name": "stdout",
     "output_type": "stream",
     "text": [
      "train pred :    e                                              \n",
      "train label :  有 招 e                                             \n",
      "validation pred :                                                  \n",
      "validation label : 为何 要 e                                              \n"
     ]
    },
    {
     "name": "stderr",
     "output_type": "stream",
     "text": [
      "  0%|          | 505856/6400000000 [08:26<1651:08:20, 1076.61it/s, acc : 0.894, val_acc : 0.891, loss : 0.894, val_loss : 0.891]"
     ]
    },
    {
     "name": "stdout",
     "output_type": "stream",
     "text": [
      "train pred : 我 你 e  e                                             \n",
      "train label : 那些 缠绵 的 往事 e                                            \n",
      "validation pred : 我 我  e e e e e                                          \n",
      "validation label : 因为 这 难免 伤 了 和 气 e                                         \n"
     ]
    },
    {
     "name": "stderr",
     "output_type": "stream",
     "text": [
      "  0%|          | 512256/6400000000 [08:32<1650:52:05, 1076.79it/s, acc : 0.893, val_acc : 0.886, loss : 0.893, val_loss : 0.886]"
     ]
    },
    {
     "name": "stdout",
     "output_type": "stream",
     "text": [
      "train pred : 我 我 的 我 的 我 e e e e e e                                      \n",
      "train label : 追 你 爱 你 恨 你 气 你 你 不理 哟 e                                     \n",
      "validation pred : 我  的 的 e 你 e e                                          \n",
      "validation label : 那个 女孩 说明 年 想 去 希腊 e                                         \n"
     ]
    },
    {
     "name": "stderr",
     "output_type": "stream",
     "text": [
      "  0%|          | 518656/6400000000 [08:38<1654:39:04, 1074.33it/s, acc : 0.895, val_acc : 0.891, loss : 0.895, val_loss : 0.891]"
     ]
    },
    {
     "name": "stdout",
     "output_type": "stream",
     "text": [
      "train pred : 我  你 e e                                             \n",
      "train label : 无论 有 多么 多 e                                            \n",
      "validation pred : 我    e 你 你  e e  e e                                     \n",
      "validation label : 忽然 间 有些 孤独 想 找 个 有 品位 的 姑娘 追 e                                    \n"
     ]
    },
    {
     "name": "stderr",
     "output_type": "stream",
     "text": [
      "  0%|          | 525056/6400000000 [08:44<1648:39:21, 1078.23it/s, acc : 0.894, val_acc : 0.893, loss : 0.894, val_loss : 0.893]"
     ]
    },
    {
     "name": "stdout",
     "output_type": "stream",
     "text": [
      "train pred : 我 我 的 你 的 e                                            \n",
      "train label : 让 我 随 你 去 e                                           \n",
      "validation pred :    e 我 e e                                           \n",
      "validation label : 就是 这 调调 让 你 无可救药 e                                          \n"
     ]
    },
    {
     "name": "stderr",
     "output_type": "stream",
     "text": [
      "  0%|          | 531456/6400000000 [08:50<1652:33:36, 1075.68it/s, acc : 0.889, val_acc : 0.889, loss : 0.889, val_loss : 0.889]"
     ]
    },
    {
     "name": "stdout",
     "output_type": "stream",
     "text": [
      "train pred : 我 的 的 人 e                                             \n",
      "train label : 九妹九妹 透红 的 花蕾 e                                            \n",
      "validation pred : 我 e e e e                                             \n",
      "validation label : 跳进 美梦 寻获 美好 e                                            \n"
     ]
    },
    {
     "name": "stderr",
     "output_type": "stream",
     "text": [
      "  0%|          | 537856/6400000000 [08:56<1648:51:15, 1078.10it/s, acc : 0.895, val_acc : 0.897, loss : 0.895, val_loss : 0.897]"
     ]
    },
    {
     "name": "stdout",
     "output_type": "stream",
     "text": [
      "train pred : 我 的 你 你 e e                                            \n",
      "train label : 多 想 回到 那 一天 e                                           \n",
      "validation pred : 我 我 e e                                              \n",
      "validation label : 今生 不负 爱恋 e                                             \n"
     ]
    },
    {
     "name": "stderr",
     "output_type": "stream",
     "text": [
      "  0%|          | 544256/6400000000 [09:03<1645:19:08, 1080.41it/s, acc : 0.894, val_acc : 0.893, loss : 0.894, val_loss : 0.893]"
     ]
    },
    {
     "name": "stdout",
     "output_type": "stream",
     "text": [
      "train pred : 我 知道 你 e 的 人 e                                           \n",
      "train label : 不 小心 跌进 爱 的 圈 e                                          \n",
      "validation pred : 我    e                                             \n",
      "validation label :  的 能 唱 e                                            \n"
     ]
    },
    {
     "name": "stderr",
     "output_type": "stream",
     "text": [
      "  0%|          | 550656/6400000000 [09:09<1652:34:19, 1075.67it/s, acc : 0.888, val_acc : 0.894, loss : 0.888, val_loss : 0.894]"
     ]
    },
    {
     "name": "stdout",
     "output_type": "stream",
     "text": [
      "train pred : 我 我 的  你 你 的 e                                          \n",
      "train label : 可是 他 不能 说 给 别人 知道 e                                         \n",
      "validation pred : 我 知道 e e e                                             \n",
      "validation label : 不 奢求 多 铭心刻骨 e                                            \n"
     ]
    },
    {
     "name": "stderr",
     "output_type": "stream",
     "text": [
      "  0%|          | 557056/6400000000 [09:15<1773:08:24, 1002.53it/s, acc : 0.895, val_acc : 0.891, loss : 0.895, val_loss : 0.891]"
     ]
    },
    {
     "name": "stdout",
     "output_type": "stream",
     "text": [
      "train pred :   e 的 e e                                            \n",
      "train label : 才 够 我 好好 展览 e                                           \n",
      "validation pred : 我 我 我 的 心 e 的 e 你 e                                        \n",
      "validation label : 别 看轻 我 的 拳头 我 一定 把 你 e                                       \n"
     ]
    },
    {
     "name": "stderr",
     "output_type": "stream",
     "text": [
      "  0%|          | 563456/6400000000 [09:21<1652:24:37, 1075.77it/s, acc : 0.890, val_acc : 0.889, loss : 0.890, val_loss : 0.889]"
     ]
    },
    {
     "name": "stdout",
     "output_type": "stream",
     "text": [
      "train pred : 我 是 知道 在 e                                             \n",
      "train label : 却 不 一定 持久 e                                            \n",
      "validation pred : 我 我 的  e e                                            \n",
      "validation label : 属于 我们 的 并不一定 抱 e                                           \n"
     ]
    },
    {
     "name": "stderr",
     "output_type": "stream",
     "text": [
      "  0%|          | 569856/6400000000 [09:27<1652:29:28, 1075.72it/s, acc : 0.891, val_acc : 0.895, loss : 0.891, val_loss : 0.895]"
     ]
    },
    {
     "name": "stdout",
     "output_type": "stream",
     "text": [
      "train pred : 我         e e e e e                                    \n",
      "train label : 朋友  能 掏心 的 有 几 人 兄弟姐妹 男女老少 不必 太 认真 e                                   \n",
      "validation pred : 我 的 人 的 e e                                            \n",
      "validation label : 年轻 的 我 不再 回头 e                                           \n"
     ]
    },
    {
     "name": "stderr",
     "output_type": "stream",
     "text": [
      "  0%|          | 576256/6400000000 [09:33<1663:58:50, 1068.29it/s, acc : 0.892, val_acc : 0.887, loss : 0.892, val_loss : 0.887]"
     ]
    },
    {
     "name": "stdout",
     "output_type": "stream",
     "text": [
      "train pred : 啦 的 人 e                                              \n",
      "train label : 最后 一个 夏天 e                                             \n",
      "validation pred : 我 你 的 心 e e 人 e                                          \n",
      "validation label : 有 你 的 日子 分外 的 轻松 e                                         \n"
     ]
    },
    {
     "name": "stderr",
     "output_type": "stream",
     "text": [
      "  0%|          | 582656/6400000000 [09:39<1652:19:20, 1075.83it/s, acc : 0.891, val_acc : 0.892, loss : 0.891, val_loss : 0.892]"
     ]
    },
    {
     "name": "stdout",
     "output_type": "stream",
     "text": [
      "train pred : 我 的 的 的 e e e e e e e e e 我 e e 我 e                                \n",
      "train label : 佛 总是 曰 不可 说 大家 又 何必 强 出头 谁 来 当 大哥 谁 是  e                               \n",
      "validation pred : 我 的 你 的 e e                                            \n",
      "validation label : 我 恨 我 太 认真 e                                           \n"
     ]
    },
    {
     "name": "stderr",
     "output_type": "stream",
     "text": [
      "  0%|          | 589056/6400000000 [09:45<1650:50:29, 1076.79it/s, acc : 0.896, val_acc : 0.891, loss : 0.896, val_loss : 0.891]"
     ]
    },
    {
     "name": "stdout",
     "output_type": "stream",
     "text": [
      "train pred : 我 的 的 e 人 e                                            \n",
      "train label : 调整 好 飞翔 的 姿势 e                                           \n",
      "validation pred : 我 e e 的 e                                             \n",
      "validation label : 飘于 远方 我 路上 e                                            \n"
     ]
    },
    {
     "name": "stderr",
     "output_type": "stream",
     "text": [
      "  0%|          | 595456/6400000000 [09:51<1658:28:00, 1071.84it/s, acc : 0.897, val_acc : 0.891, loss : 0.897, val_loss : 0.891]"
     ]
    },
    {
     "name": "stdout",
     "output_type": "stream",
     "text": [
      "train pred : 我 的 的 的                                              \n",
      "train label : 胜负 我 有把握 e                                             \n",
      "validation pred : 我 的 的 心 e                                             \n",
      "validation label : 你 所有 的 爱 e                                            \n"
     ]
    },
    {
     "name": "stderr",
     "output_type": "stream",
     "text": [
      "  0%|          | 601856/6400000000 [09:59<2242:14:46, 792.78it/s, acc : 0.893, val_acc : 0.892, loss : 0.893, val_loss : 0.892] "
     ]
    },
    {
     "name": "stdout",
     "output_type": "stream",
     "text": [
      "train pred : 我 的 的 的 知道 e  e e e e e e                                     \n",
      "train label : 你 我 再也 不 拖 不 欠 但 我 又 为何 发现 e                                    \n",
      "validation pred :     e e e                                           \n",
      "validation label : 城门 外 没 贴 你 名字 e                                          \n"
     ]
    },
    {
     "name": "stderr",
     "output_type": "stream",
     "text": [
      "  0%|          | 608256/6400000000 [10:06<2381:00:35, 746.58it/s, acc : 0.893, val_acc : 0.887, loss : 0.893, val_loss : 0.887] "
     ]
    },
    {
     "name": "stdout",
     "output_type": "stream",
     "text": [
      "train pred : 我 e  e                                              \n",
      "train label : 慢慢 的 慢慢 的 e                                            \n",
      "validation pred : 我 你 的 你 e                                             \n",
      "validation label : 只要 心中 有 信仰 e                                            \n"
     ]
    },
    {
     "name": "stderr",
     "output_type": "stream",
     "text": [
      "  0%|          | 614656/6400000000 [10:14<2474:01:09, 718.51it/s, acc : 0.892, val_acc : 0.892, loss : 0.892, val_loss : 0.892] "
     ]
    },
    {
     "name": "stdout",
     "output_type": "stream",
     "text": [
      "train pred : 我 的                                                \n",
      "train label : 红灯 行 e                                              \n",
      "validation pred : 我 e                                                \n",
      "validation label : 啊 e                                               \n"
     ]
    },
    {
     "name": "stderr",
     "output_type": "stream",
     "text": [
      "  0%|          | 621056/6400000000 [10:21<1896:21:27, 937.38it/s, acc : 0.891, val_acc : 0.893, loss : 0.891, val_loss : 0.893] "
     ]
    },
    {
     "name": "stdout",
     "output_type": "stream",
     "text": [
      "train pred : 我 是 e e e e                                            \n",
      "train label : 一直 燃烧 到 海 那边 e                                           \n",
      "validation pred :    e e                                             \n",
      "validation label : 但 我心 永未 投降 e                                            \n"
     ]
    },
    {
     "name": "stderr",
     "output_type": "stream",
     "text": [
      "  0%|          | 627456/6400000000 [10:28<1874:36:17, 948.26it/s, acc : 0.889, val_acc : 0.893, loss : 0.889, val_loss : 0.893] "
     ]
    },
    {
     "name": "stdout",
     "output_type": "stream",
     "text": [
      "train pred : 我 的 的 你                                              \n",
      "train label : 我 曾经 不止一次 e                                             \n",
      "validation pred : 我 你 你 e 人 e e                                           \n",
      "validation label : 请 将 眼角 的 泪 拭去 e                                          \n"
     ]
    },
    {
     "name": "stderr",
     "output_type": "stream",
     "text": [
      "  0%|          | 633856/6400000000 [10:36<1825:27:02, 973.79it/s, acc : 0.892, val_acc : 0.891, loss : 0.892, val_loss : 0.891] "
     ]
    },
    {
     "name": "stdout",
     "output_type": "stream",
     "text": [
      "train pred : 我 的 e                                               \n",
      "train label : 放弃 思考 e                                              \n",
      "validation pred :   e                                               \n",
      "validation label : 需要  e                                              \n"
     ]
    },
    {
     "name": "stderr",
     "output_type": "stream",
     "text": [
      "  0%|          | 640256/6400000000 [10:42<1799:04:20, 988.06it/s, acc : 0.893, val_acc : 0.895, loss : 0.893, val_loss : 0.895] "
     ]
    },
    {
     "name": "stdout",
     "output_type": "stream",
     "text": [
      "train pred : 我 我 的 的 e e e                                           \n",
      "train label : 年 我 深情 地 呼唤 你 e                                          \n",
      "validation pred : 我 的 人 e                                              \n",
      "validation label : 谈心 的 朋友 e                                             \n"
     ]
    },
    {
     "name": "stderr",
     "output_type": "stream",
     "text": [
      "  0%|          | 646656/6400000000 [10:49<1683:16:06, 1056.04it/s, acc : 0.891, val_acc : 0.893, loss : 0.891, val_loss : 0.893]"
     ]
    },
    {
     "name": "stdout",
     "output_type": "stream",
     "text": [
      "train pred : 我 我 的 e 你 e e e                                          \n",
      "train label : 让 我 说 给 你 听 吧 e                                         \n",
      "validation pred :    e  e                                            \n",
      "validation label : 阳光 有 阳光 的 重量 e                                           \n"
     ]
    },
    {
     "name": "stderr",
     "output_type": "stream",
     "text": [
      "  0%|          | 653056/6400000000 [10:56<1726:19:06, 1029.70it/s, acc : 0.890, val_acc : 0.891, loss : 0.890, val_loss : 0.891]"
     ]
    },
    {
     "name": "stdout",
     "output_type": "stream",
     "text": [
      "train pred : 我 我 的 人 e e                                            \n",
      "train label : 让 无声 的 阵风 吹落 e                                           \n",
      "validation pred : 我 的 我 的  e e                                           \n",
      "validation label : 似乎 整个 世界 要 天翻地覆 了 e                                          \n"
     ]
    },
    {
     "name": "stderr",
     "output_type": "stream",
     "text": [
      "  0%|          | 659456/6400000000 [11:02<1780:46:01, 998.22it/s, acc : 0.892, val_acc : 0.894, loss : 0.892, val_loss : 0.894] "
     ]
    },
    {
     "name": "stdout",
     "output_type": "stream",
     "text": [
      "train pred : 我 我 的  的  e e e e e  e e                                    \n",
      "train label : 当 我们 在 皎洁 的 月光 下 倾听 大海 深沉 的 呼吸 时 e                                   \n",
      "validation pred : 我 是 的 e 你 e                                            \n",
      "validation label : 就 这样 抛 在 一边 e                                           \n"
     ]
    },
    {
     "name": "stderr",
     "output_type": "stream",
     "text": [
      "  0%|          | 665856/6400000000 [11:09<1765:04:48, 1007.09it/s, acc : 0.892, val_acc : 0.891, loss : 0.892, val_loss : 0.891]"
     ]
    },
    {
     "name": "stdout",
     "output_type": "stream",
     "text": [
      "train pred :   e e e e                                            \n",
      "train label : 混音 工程 杨大纬 录音 工作室 e                                           \n",
      "validation pred : 我 是 的 的 我 e e e e e                                        \n",
      "validation label : 可 活着 绝不 是 向 命运 低头 并 祈求 e                                       \n"
     ]
    },
    {
     "name": "stderr",
     "output_type": "stream",
     "text": [
      "  0%|          | 672256/6400000000 [11:16<1773:46:36, 1002.15it/s, acc : 0.895, val_acc : 0.895, loss : 0.895, val_loss : 0.895]"
     ]
    },
    {
     "name": "stdout",
     "output_type": "stream",
     "text": [
      "train pred :   的 e e                                             \n",
      "train label : 一堆 净土 掩 风流 e                                            \n",
      "validation pred : 我 e 你 e e e                                            \n",
      "validation label : 拥抱 就是 最美 的 诺言 e                                           \n"
     ]
    },
    {
     "name": "stderr",
     "output_type": "stream",
     "text": [
      "  0%|          | 678656/6400000000 [11:23<1892:13:29, 939.42it/s, acc : 0.897, val_acc : 0.892, loss : 0.897, val_loss : 0.892] "
     ]
    },
    {
     "name": "stdout",
     "output_type": "stream",
     "text": [
      "train pred : 我 你 e                                               \n",
      "train label : 因为 寂寞 e                                              \n",
      "validation pred :   e  e  e e e                                         \n",
      "validation label : 这  的  才  冷清 下来 e                                        \n"
     ]
    },
    {
     "name": "stderr",
     "output_type": "stream",
     "text": [
      "  0%|          | 685056/6400000000 [11:29<1816:20:48, 978.66it/s, acc : 0.894, val_acc : 0.892, loss : 0.894, val_loss : 0.892] "
     ]
    },
    {
     "name": "stdout",
     "output_type": "stream",
     "text": [
      "train pred : 我 你 的 e e                                             \n",
      "train label : 点点 豆豆 豆豆 点点 e                                            \n",
      "validation pred : 我 的 e e e e e                                           \n",
      "validation label : 慢慢 慢慢 地 浸入 到 心 e                                          \n"
     ]
    },
    {
     "name": "stderr",
     "output_type": "stream",
     "text": [
      "  0%|          | 691456/6400000000 [11:36<1876:22:05, 947.35it/s, acc : 0.894, val_acc : 0.893, loss : 0.894, val_loss : 0.893] "
     ]
    },
    {
     "name": "stdout",
     "output_type": "stream",
     "text": [
      "train pred : 我 的 的 的 的 e e e                                          \n",
      "train label : 风吹 过 脸上 我 颤抖 那么 强烈 e                                         \n",
      "validation pred : 我 的 e e                                              \n",
      "validation label : 嗯 嗯 嗯 e                                             \n"
     ]
    },
    {
     "name": "stderr",
     "output_type": "stream",
     "text": [
      "  0%|          | 697856/6400000000 [11:43<1744:31:23, 1018.95it/s, acc : 0.891, val_acc : 0.895, loss : 0.891, val_loss : 0.895]"
     ]
    },
    {
     "name": "stdout",
     "output_type": "stream",
     "text": [
      "train pred : 我 的 你 你 e e e                                           \n",
      "train label : 我 就是 那个  会 在家 e                                          \n",
      "validation pred : 我 是 我 的 的 我 的 e                                          \n",
      "validation label : 都 是 你 咬 了 我 耳朵 e                                         \n"
     ]
    },
    {
     "name": "stderr",
     "output_type": "stream",
     "text": [
      "  0%|          | 704256/6400000000 [11:50<1770:12:43, 1004.16it/s, acc : 0.893, val_acc : 0.892, loss : 0.893, val_loss : 0.892]"
     ]
    },
    {
     "name": "stdout",
     "output_type": "stream",
     "text": [
      "train pred : 我 的 的 心 e 我 的 e                                          \n",
      "train label : 曾经 你 的 眼神 看起来 那么 单纯 e                                         \n",
      "validation pred : 我 的  多 e 我 e e e                                         \n",
      "validation label : 清晰 得 太 暧昧 像 积满 了 雪花 e                                        \n"
     ]
    },
    {
     "name": "stderr",
     "output_type": "stream",
     "text": [
      "  0%|          | 710656/6400000000 [11:56<1808:39:23, 982.82it/s, acc : 0.895, val_acc : 0.890, loss : 0.895, val_loss : 0.890] "
     ]
    },
    {
     "name": "stdout",
     "output_type": "stream",
     "text": [
      "train pred : 我 的 我 e                                              \n",
      "train label : 你 一年 三百六十五天 e                                             \n",
      "validation pred : 我 的 人 e                                              \n",
      "validation label : 苍天 的 圣灵 e                                             \n"
     ]
    },
    {
     "name": "stderr",
     "output_type": "stream",
     "text": [
      "  0%|          | 717056/6400000000 [12:03<1745:57:28, 1018.11it/s, acc : 0.898, val_acc : 0.886, loss : 0.898, val_loss : 0.886]"
     ]
    },
    {
     "name": "stdout",
     "output_type": "stream",
     "text": [
      "train pred : 我 是 e 你 的 e 我                                           \n",
      "train label : 原来 亦 有 你 愿来 和 e                                          \n",
      "validation pred : 我 的 你 你 e e 你 e e e e e e                                     \n",
      "validation label : 好 想 拿 起 电话 给 你 拨 哪怕 只是 说 说 e                                    \n"
     ]
    },
    {
     "name": "stderr",
     "output_type": "stream",
     "text": [
      "  0%|          | 723456/6400000000 [12:10<2089:42:16, 850.64it/s, acc : 0.893, val_acc : 0.892, loss : 0.893, val_loss : 0.892] "
     ]
    },
    {
     "name": "stdout",
     "output_type": "stream",
     "text": [
      "train pred : 我 的                                                \n",
      "train label : 黄榕生 e                                               \n",
      "validation pred : 我 你 的 的  e e e 你 人 e                                       \n",
      "validation label : 只是 哪怕 周围 再 多 人 感觉 还是 一个 人 e                                      \n"
     ]
    },
    {
     "name": "stderr",
     "output_type": "stream",
     "text": [
      "  0%|          | 729856/6400000000 [12:17<1955:27:32, 909.03it/s, acc : 0.891, val_acc : 0.890, loss : 0.891, val_loss : 0.890] "
     ]
    },
    {
     "name": "stdout",
     "output_type": "stream",
     "text": [
      "train pred : 我 我 的 你 你 心 e e e e e                                       \n",
      "train label : 当 我们 要 分手 的 时候 该 说 些 什麽 e                                      \n",
      "validation pred : 我 的 的 你 e                                             \n",
      "validation label : 天下 相亲 与 相爱 e                                            \n"
     ]
    },
    {
     "name": "stderr",
     "output_type": "stream",
     "text": [
      "  0%|          | 736256/6400000000 [12:24<1819:30:28, 976.95it/s, acc : 0.893, val_acc : 0.896, loss : 0.893, val_loss : 0.896] "
     ]
    },
    {
     "name": "stdout",
     "output_type": "stream",
     "text": [
      "train pred : 我 的 的 的 e e                                            \n",
      "train label : 过去  炮弹 心中 爆炸 e                                           \n",
      "validation pred : 我 的 的 e e e e e e                                         \n",
      "validation label : 脑海 里 乱 了 像 有 太多太多 事情 e                                        \n"
     ]
    },
    {
     "name": "stderr",
     "output_type": "stream",
     "text": [
      "  0%|          | 742656/6400000000 [12:30<1671:06:20, 1063.71it/s, acc : 0.892, val_acc : 0.896, loss : 0.892, val_loss : 0.896]"
     ]
    },
    {
     "name": "stdout",
     "output_type": "stream",
     "text": [
      "train pred : 我 的 你 你 的 我 e e e   e e e                                    \n",
      "train label : 好 想 在 耳边 对 奶 小声 讲 不 只是  醉人 啊 e                                   \n",
      "validation pred :     e e e e e                                         \n",
      "validation label : 处处 有 丝竹   了 笙歌 永昼 e                                        \n"
     ]
    },
    {
     "name": "stderr",
     "output_type": "stream",
     "text": [
      "  0%|          | 749056/6400000000 [12:36<1646:26:41, 1079.64it/s, acc : 0.891, val_acc : 0.890, loss : 0.891, val_loss : 0.890]"
     ]
    },
    {
     "name": "stdout",
     "output_type": "stream",
     "text": [
      "train pred : 我 的 的 e 人                                             \n",
      "train label : 不久 后天 闷闷 的 e                                            \n",
      "validation pred : 我 你 你 的 心 e 的 e                                          \n",
      "validation label : 听 着 我 的 疑惑 你 言不由衷 e                                         \n"
     ]
    },
    {
     "name": "stderr",
     "output_type": "stream",
     "text": [
      "  0%|          | 755456/6400000000 [12:42<1666:38:24, 1066.56it/s, acc : 0.894, val_acc : 0.889, loss : 0.894, val_loss : 0.889]"
     ]
    },
    {
     "name": "stdout",
     "output_type": "stream",
     "text": [
      "train pred : 我 人 的 的 人 e                                            \n",
      "train label : 每个 人 不同 的 初恋 e                                           \n",
      "validation pred : 我 是 是 爱 e                                             \n",
      "validation label : 回想起来 都 很 重要 e                                            \n"
     ]
    },
    {
     "name": "stderr",
     "output_type": "stream",
     "text": [
      "  0%|          | 761856/6400000000 [12:48<1660:11:39, 1070.70it/s, acc : 0.891, val_acc : 0.890, loss : 0.891, val_loss : 0.890]"
     ]
    },
    {
     "name": "stdout",
     "output_type": "stream",
     "text": [
      "train pred : 我 的 你 你 的 的 e e e e e e e                                     \n",
      "train label : 我 失去 了 阅读 名著 本 应 得到 的 有益 的 东西 e                                    \n",
      "validation pred : 我 你 的 的 e e e e e  e                                       \n",
      "validation label : 在 汗水 耗尽 时 一 回头 有 敞开 的 家门 e                                      \n"
     ]
    },
    {
     "name": "stderr",
     "output_type": "stream",
     "text": [
      "  0%|          | 768256/6400000000 [12:54<1654:37:28, 1074.30it/s, acc : 0.895, val_acc : 0.891, loss : 0.895, val_loss : 0.891]"
     ]
    },
    {
     "name": "stdout",
     "output_type": "stream",
     "text": [
      "train pred : 我 的 我 e 会 e                                            \n",
      "train label : 唱 到 声音 也 沙哑 e                                           \n",
      "validation pred : 我 的 我 e e                                             \n",
      "validation label : 耗尽 了 毕生 气力 e                                            \n"
     ]
    },
    {
     "name": "stderr",
     "output_type": "stream",
     "text": [
      "  0%|          | 774656/6400000000 [13:01<1648:59:20, 1077.97it/s, acc : 0.893, val_acc : 0.895, loss : 0.893, val_loss : 0.895]"
     ]
    },
    {
     "name": "stdout",
     "output_type": "stream",
     "text": [
      "train pred : 我 我 的 是 我 e                                            \n",
      "train label : 每个 你 都 是 温柔 e                                           \n",
      "validation pred : 我 的 想 你 知道 e e                                           \n",
      "validation label : 我 真的 真的 不 愿 舍弃 e                                          \n"
     ]
    },
    {
     "name": "stderr",
     "output_type": "stream",
     "text": [
      "  0%|          | 781056/6400000000 [13:07<1648:08:46, 1078.52it/s, acc : 0.892, val_acc : 0.893, loss : 0.892, val_loss : 0.893]"
     ]
    },
    {
     "name": "stdout",
     "output_type": "stream",
     "text": [
      "train pred : 我 是 你 的 爱 e 你 e e                                         \n",
      "train label : 才 看见 你 的 眼泪 和 後 悔 e                                        \n",
      "validation pred : 我 的 的 e e e                                            \n",
      "validation label : 走过 西厢 扑鼻 一阵 香 e                                           \n"
     ]
    },
    {
     "name": "stderr",
     "output_type": "stream",
     "text": [
      "  0%|          | 787456/6400000000 [13:13<1648:17:12, 1078.43it/s, acc : 0.887, val_acc : 0.891, loss : 0.887, val_loss : 0.891]"
     ]
    },
    {
     "name": "stdout",
     "output_type": "stream",
     "text": [
      "train pred : 我 你 你 的 的                                             \n",
      "train label : 在 世间 上 终老 e                                            \n",
      "validation pred :  的 e e                                              \n",
      "validation label : 纯朴 高雅  e                                             \n"
     ]
    },
    {
     "name": "stderr",
     "output_type": "stream",
     "text": [
      "  0%|          | 793856/6400000000 [13:19<1662:35:47, 1069.15it/s, acc : 0.892, val_acc : 0.896, loss : 0.892, val_loss : 0.896]"
     ]
    },
    {
     "name": "stdout",
     "output_type": "stream",
     "text": [
      "train pred : 我 我 我 e e e                                            \n",
      "train label : 就算 虚荣 也好 贪心 也好 e                                           \n",
      "validation pred : 我  人 的  的 e e                                          \n",
      "validation label : 没 一个 人 像 你 一样 啊 e                                         \n"
     ]
    },
    {
     "name": "stderr",
     "output_type": "stream",
     "text": [
      "  0%|          | 800256/6400000000 [13:25<1653:09:04, 1075.25it/s, acc : 0.892, val_acc : 0.893, loss : 0.892, val_loss : 0.893]"
     ]
    },
    {
     "name": "stdout",
     "output_type": "stream",
     "text": [
      "train pred : 我  e                                               \n",
      "train label :  图书馆 e                                              \n",
      "validation pred : 我 是 的 是 e                                             \n",
      "validation label : 就算 塌下来 又 怎样 e                                            \n"
     ]
    },
    {
     "name": "stderr",
     "output_type": "stream",
     "text": [
      "  0%|          | 806656/6400000000 [13:31<1652:22:25, 1075.76it/s, acc : 0.895, val_acc : 0.889, loss : 0.895, val_loss : 0.889]"
     ]
    },
    {
     "name": "stdout",
     "output_type": "stream",
     "text": [
      "train pred : 我 的  的                                              \n",
      "train label : 流浪 这 街中 e                                             \n",
      "validation pred : 我 我 是 你 e e                                            \n",
      "validation label : 当 乌云 离开 了 海边 e                                           \n"
     ]
    },
    {
     "name": "stderr",
     "output_type": "stream",
     "text": [
      "  0%|          | 813056/6400000000 [13:37<1653:53:30, 1074.77it/s, acc : 0.891, val_acc : 0.889, loss : 0.891, val_loss : 0.889]"
     ]
    },
    {
     "name": "stdout",
     "output_type": "stream",
     "text": [
      "train pred : 我 的 我 的  e 你 e  e 会 你 e e                                    \n",
      "train label : 到处 是 无聊 的 喧哗 和  可 谁 会 当众 干掉 自己 e                                   \n",
      "validation pred :                                                  \n",
      "validation label : 黎瑞恩 e                                               \n"
     ]
    },
    {
     "name": "stderr",
     "output_type": "stream",
     "text": [
      "  0%|          | 819456/6400000000 [13:43<1710:23:00, 1039.27it/s, acc : 0.892, val_acc : 0.895, loss : 0.892, val_loss : 0.895]"
     ]
    },
    {
     "name": "stdout",
     "output_type": "stream",
     "text": [
      "train pred :    e e e 的  e                                         \n",
      "train label : 多年 望眼欲穿 过 红尘 滚滚 我 没 看透 e                                        \n",
      "validation pred : 我 的 我 e 你 e e e                                          \n",
      "validation label : 回忆 是 冰封 在 眼睛 的 雨 e                                         \n"
     ]
    },
    {
     "name": "stderr",
     "output_type": "stream",
     "text": [
      "  0%|          | 825856/6400000000 [13:49<1653:41:43, 1074.89it/s, acc : 0.895, val_acc : 0.895, loss : 0.895, val_loss : 0.895]"
     ]
    },
    {
     "name": "stdout",
     "output_type": "stream",
     "text": [
      "train pred : 我 的 人 e 的 e e                                           \n",
      "train label : 曾经 的 苦难 我们 留在 心中 e                                          \n",
      "validation pred : 我 的  是  e 是 知道 我 的 e e e e  e e 懂 我 e e e                            \n",
      "validation label : 漂亮 的 小姑娘 些 嘞 都 不 在 我  喽 嘞 漂亮 的 小姑娘 就 不 在 我 身边 了 e                           \n"
     ]
    },
    {
     "name": "stderr",
     "output_type": "stream",
     "text": [
      "  0%|          | 832256/6400000000 [13:55<1678:26:04, 1059.05it/s, acc : 0.895, val_acc : 0.892, loss : 0.895, val_loss : 0.892]"
     ]
    },
    {
     "name": "stdout",
     "output_type": "stream",
     "text": [
      "train pred :  的 心 e e e                                            \n",
      "train label : 我 的 下巴 微微 仰起 e                                           \n",
      "validation pred :  的  e e                                             \n",
      "validation label : 冷 得 令人 自卑 e                                            \n"
     ]
    },
    {
     "name": "stderr",
     "output_type": "stream",
     "text": [
      "  0%|          | 838656/6400000000 [14:01<1650:46:06, 1076.80it/s, acc : 0.889, val_acc : 0.895, loss : 0.889, val_loss : 0.895]"
     ]
    },
    {
     "name": "stdout",
     "output_type": "stream",
     "text": [
      "train pred : 我 我 的 的  e                                            \n",
      "train label : 向 咱 所定 的 旨意 e                                           \n",
      "validation pred : 我 我 e e e e e e e e                                        \n",
      "validation label : 于是 梦醒 了 搁浅 了 沉默 了 挥手 了 e                                       \n"
     ]
    },
    {
     "name": "stderr",
     "output_type": "stream",
     "text": [
      "  0%|          | 845056/6400000000 [14:07<1655:44:38, 1073.56it/s, acc : 0.893, val_acc : 0.891, loss : 0.893, val_loss : 0.891]"
     ]
    },
    {
     "name": "stdout",
     "output_type": "stream",
     "text": [
      "train pred : 我 的 我 在 我 e e e e                                         \n",
      "train label : 你 是不是 还 在 做 那时 的 游戏 e                                        \n",
      "validation pred : 我 我 的 爱 e e e e                                          \n",
      "validation label : 当 身边 的 微风 轻轻 吹 起 e                                         \n"
     ]
    },
    {
     "name": "stderr",
     "output_type": "stream",
     "text": [
      "  0%|          | 851456/6400000000 [14:13<1653:04:21, 1075.30it/s, acc : 0.895, val_acc : 0.890, loss : 0.895, val_loss : 0.890]"
     ]
    },
    {
     "name": "stdout",
     "output_type": "stream",
     "text": [
      "train pred : 我 的 是 e e e e                                           \n",
      "train label : 终须 都 归还 无谓 多 贪 e                                          \n",
      "validation pred : 我 我 的 e 的 在 e e                                          \n",
      "validation label : 只是 已经 付出 我 还 能 怎么样 e                                         \n"
     ]
    },
    {
     "name": "stderr",
     "output_type": "stream",
     "text": [
      "  0%|          | 857856/6400000000 [14:19<1657:13:07, 1072.60it/s, acc : 0.892, val_acc : 0.890, loss : 0.892, val_loss : 0.890]"
     ]
    },
    {
     "name": "stdout",
     "output_type": "stream",
     "text": [
      "train pred : 我 的 的 会 e e e                                           \n",
      "train label : 风 你 就 来 去 无影 e                                          \n",
      "validation pred : 我 的 你 e 爱 你 e                                           \n",
      "validation label : 我 一颗 心 已经 属于 你 e                                          \n"
     ]
    },
    {
     "name": "stderr",
     "output_type": "stream",
     "text": [
      "  0%|          | 864256/6400000000 [14:25<1693:40:30, 1049.52it/s, acc : 0.891, val_acc : 0.891, loss : 0.891, val_loss : 0.891]"
     ]
    },
    {
     "name": "stdout",
     "output_type": "stream",
     "text": [
      "train pred : 我 的 e                                               \n",
      "train label : 时空 变换 e                                              \n",
      "validation pred : 我 你 是 你 e e e e e e e                                       \n",
      "validation label : 说 怎么 爱 怎么 散 却 不能 放 不能 忘情 e                                      \n"
     ]
    },
    {
     "name": "stderr",
     "output_type": "stream",
     "text": [
      "  0%|          | 870656/6400000000 [14:31<1681:28:02, 1057.13it/s, acc : 0.892, val_acc : 0.895, loss : 0.892, val_loss : 0.895]"
     ]
    },
    {
     "name": "stdout",
     "output_type": "stream",
     "text": [
      "train pred : 我 你 的 是 我 是 e e e                                         \n",
      "train label : 假如 过往 只能 让 人 故意 逃避 现在 e                                        \n",
      "validation pred : 我    的                                             \n",
      "validation label :  當中 只有 我 e                                            \n"
     ]
    },
    {
     "name": "stderr",
     "output_type": "stream",
     "text": [
      "  0%|          | 871424/6400000000 [14:32<1722:02:30, 1032.23it/s, acc : 0.893, val_acc : 0.893, loss : 0.893, val_loss : 0.893]"
     ]
    }
   ],
   "source": [
    "import torch.nn as nn\n",
    "from collections import deque\n",
    "from tqdm import tqdm as tqdm\n",
    "\n",
    "import time\n",
    "def dump_log(model, n_iter, loss, val_loss, acc, val_acc, train_pred, train_label, val_pred, val_label, log_file_stream, tmp_model_path):\n",
    "    log_text = '%.7d<split>%.5f<split>%.5f<split>%.5f<split>%.5f<split>%s<split>%s<split>%s<split>%s\\n' % (n_iter, loss, val_loss, acc, val_acc, train_pred, train_label, val_pred, val_label)\n",
    "    log_file_stream.write(log_text.encode('utf8'))\n",
    "    if n_iter % 10 == 0 :\n",
    "        log_file_stream.flush()\n",
    "        torch.save(model, tmp_model_path)\n",
    "def normal_acc(pred, label):\n",
    "    pred = torch.argmax(pred, dim=-1)\n",
    "    mask = torch.ones_like(label, dtype=torch.uint8)\n",
    "#     \n",
    "    acc = pred == label\n",
    "    acc = torch.sum(acc).item() / float(torch.sum(mask).item())\n",
    "    \n",
    "    return acc\n",
    "def seq2text(output):\n",
    "    assert len(output.shape) == 2\n",
    "    output = output.cpu().numpy()\n",
    "    seq = tokenizer.sequences_to_texts(output)\n",
    "    s = seq[0]\n",
    "    s = s.replace(oov_token,u'')\n",
    "    return s\n",
    "    \n",
    "def rev_mask(m):\n",
    "    out = torch.ones_like(m, dtype=torch.uint8, requires_grad=False)\n",
    "    out.masked_fill_(m, 0)\n",
    "    return out\n",
    "        \n",
    "acc_q = deque(maxlen=100)\n",
    "loss_q = deque(maxlen=10)\n",
    "\n",
    "\n",
    "val_acc_q = deque(maxlen=100)\n",
    "val_loss_q = deque(maxlen=10)\n",
    "\n",
    "t = time.time()\n",
    "best_loss = float('inf')\n",
    "\n",
    "epochs = 100\n",
    "batch_size = 64\n",
    "G = batch_boostrap_generator(batch_size, train_u_map, MAX_SEQ_LEN, tokenizer)\n",
    "val_G = batch_boostrap_generator(batch_size, val_u_map, MAX_SEQ_LEN, tokenizer)\n",
    "criterion = nn.CrossEntropyLoss()\n",
    "optimizer = torch.optim.Adam(model.parameters(),lr=0.0001)\n",
    "print 'start training.'\n",
    "with open('log.txt', 'w') as f:\n",
    "    with open('best.txt', 'w') as best_log:\n",
    "        iters = 100000000\n",
    "        with tqdm(total=iters*batch_size) as pbar:\n",
    "            for it in range(iters):\n",
    "                optimizer.zero_grad()\n",
    "                model.train()\n",
    "                q, k = next(G)\n",
    "                q = torch.LongTensor(q).cuda()\n",
    "                k = torch.LongTensor(k).cuda()\n",
    "                q.requires_grad_(False)\n",
    "                k.requires_grad_(False)\n",
    "                \n",
    "                \n",
    "                output = model(q, k)\n",
    "                y = q[:,1:]\n",
    "                loss = criterion(output[:,:-1,:,].permute(0,2,1), y) \n",
    "                label = y\n",
    "\n",
    "                pred = output[:,:-1,:,]\n",
    "                acc = normal_acc(pred, label)\n",
    "                acc_q.append(acc)\n",
    "                train_pred = seq2text(torch.argmax(output[0:1,:,:], dim=-1))\n",
    "                train_label= seq2text(y[0:1,:])\n",
    "                loss.backward()\n",
    "                loss_q.append(loss.item())\n",
    "                \n",
    "                optimizer.step()\n",
    "                with torch.no_grad():\n",
    "                    model.eval()\n",
    "                    q, k = next(val_G)\n",
    "                    a = q\n",
    "                    b = k\n",
    "                    q = torch.LongTensor(q).cuda()\n",
    "                    k = torch.LongTensor(k).cuda()\n",
    "                    \n",
    "                    q.requires_grad_(False)\n",
    "                    k.requires_grad_(False)\n",
    "                    assert q.is_cuda and k.is_cuda\n",
    "                    output = model(q, k)\n",
    "                    y = q[:,1:]\n",
    "                    val_loss = criterion(output[:,:-1,:,].permute(0,2,1), y) \n",
    "                    label = y\n",
    "\n",
    "                    pred = output[:,:-1,:,]\n",
    "                    val_acc = normal_acc(pred, label)\n",
    "                    val_acc_q.append(val_acc)\n",
    "                    val_pred = seq2text(torch.argmax(output[0:1,:,:], dim=-1))\n",
    "                    val_label= seq2text(y[0:1,:])\n",
    "                    val_loss_q.append(val_loss.item())\n",
    "\n",
    "\n",
    "                \n",
    "                acc = np.mean(acc_q)\n",
    "                val_acc = np.mean(val_acc_q)\n",
    "                loss = np.mean(acc_q)\n",
    "                val_loss = np.mean(val_acc_q)\n",
    "                \n",
    "                pbar.set_postfix_str('acc : %.3f, val_acc : %.3f, loss : %.3f, val_loss : %.3f' % (acc, val_acc, loss.item(), val_loss.item()), refresh=False)\n",
    "                pbar.update(batch_size)\n",
    "                dump_log(model, (it+1)*batch_size, loss, val_loss, acc, val_acc, train_pred, train_label, val_pred, val_label, f,'./tmp.pt')\n",
    "                if val_loss.item() < best_loss and it > 100:\n",
    "                    torch.save(model, './best.pt')\n",
    "                    best_loss = val_loss\n",
    "                    best_log.write('%d\\t%.5f\\n' % ((it+1)*batch_size, best_loss))\n",
    "                    best_log.flush()\n",
    "                if it % 100 == 0 and it >= 100: \n",
    "                    print 'train pred : %s\\ntrain label : %s' % (train_pred, train_label)\n",
    "                    print 'validation pred : %s\\nvalidation label : %s' % (val_pred, val_label)\n",
    "\n",
    "# Train model\n",
    "print(\"Optimization Finished!\")\n",
    "# print(\"Total time elapsed: {:.4f}s\".format(time.time() - t_total))"
   ]
  },
  {
   "cell_type": "code",
   "execution_count": null,
   "metadata": {},
   "outputs": [],
   "source": [
    "v = seq2text(k[0:1,:])\n",
    "print v\n",
    "print k[0:1,:]"
   ]
  },
  {
   "cell_type": "markdown",
   "metadata": {},
   "source": [
    "print q"
   ]
  }
 ],
 "metadata": {
  "kernelspec": {
   "display_name": "Python 2.7.14 (conda)",
   "language": "python",
   "name": "python-conda"
  },
  "language_info": {
   "codemirror_mode": {
    "name": "ipython",
    "version": 2
   },
   "file_extension": ".py",
   "mimetype": "text/x-python",
   "name": "python",
   "nbconvert_exporter": "python",
   "pygments_lexer": "ipython2",
   "version": "2.7.14"
  }
 },
 "nbformat": 4,
 "nbformat_minor": 2
}
