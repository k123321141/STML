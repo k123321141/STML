{
 "cells": [
  {
   "cell_type": "code",
   "execution_count": 7,
   "metadata": {},
   "outputs": [
    {
     "name": "stdout",
     "output_type": "stream",
     "text": [
      "done\n",
      "463 11.424622968991569 6.829110925685301\n"
     ]
    }
   ],
   "source": [
    "with open('./hw3_1/all/train.csv','r') as f:\n",
    "    ls = f.readlines()\n",
    "buf = []\n",
    "with open('./data/r3-r4.txt','w') as f:\n",
    "    for l in ls:\n",
    "        l = l.strip().decode('utf8')\n",
    "        l = l.replace('SOS','').replace('EOS','')\n",
    "        x,y = l.split(',')\n",
    "        x = x.strip()\n",
    "        y = y.strip()\n",
    "#         s = x + '\\t' + y + '\\n'\n",
    "        s = y + '\\t' + x + '\\n'\n",
    "        l1 = len(x.split(' '))\n",
    "        l2 = len(y.split(' '))\n",
    "        buf.append(l1)\n",
    "        buf.append(l2)\n",
    "        \n",
    "        \n",
    "        f.write(s.encode('utf8'))\n",
    "print 'done'\n",
    "import numpy as np\n",
    "print np.max(buf), np.mean(buf), np.std(buf)\n"
   ]
  },
  {
   "cell_type": "code",
   "execution_count": 5,
   "metadata": {},
   "outputs": [
    {
     "name": "stdout",
     "output_type": "stream",
     "text": [
      "[463 359 340 319 315 289 267 260 249 243 242 242 241 239 220 219 216 187\n",
      " 183 161 152 147 139 137 122 119 115  97  96  93  91  80  80  79  79  76\n",
      "  74  73  73  71  70  69  69  68  66  65  61  61  60  59  59  59  59  59\n",
      "  59  59  59  59  59  59  59  59  59  58  58  57  56  56  56  56  56  56\n",
      "  56  56  56  56  56  56  56  56  55  55  55  55  55  55  55  55  55  55\n",
      "  55  55  55  55  55  55  55  55  55  55  55  55  55  55  55  55  55  54\n",
      "  54  54  54  54  54  54  54  54  54  54  54  54  54  54  54  54  54  54\n",
      "  54  54  54  54  54  54  54  54  54  53  53  53  53  53  53  53  53  53\n",
      "  53  53  53  53  53  53  53  53  53  53  53  53  53  53  53  53  53  53\n",
      "  53  53  53  53  53  53  53  53  53  53  53  53  53  53  52  52  52  52\n",
      "  52  52  52  52  52  52  52  52  52  52  52  52  52  52  51  51  51  51\n",
      "  51  51  51  51  51  51  51  51  51  51  51  51  51  51  51  51  51  50\n",
      "  50  50  50  50  50  50  50  50  50  50  50  50  50  50  50  50  50  50\n",
      "  50  50  50  50  50  50  50  50  50  50  50  50  50  50  50  50  50  50\n",
      "  50  50  50  50  50  50  50  50  50  50  50  50  50  50  50  50  50  50\n",
      "  50  50  49  49  49  49  49  49  49  49  49  49  49  49  49  49  49  49\n",
      "  49  49  49  49  49  49  49  49  49  49  49  48  48  48  48  48  48  48\n",
      "  48  48  48  48  48  48  48  48  48  48  48  48  48  48  48  48  48  48\n",
      "  48  48  48  48  48  48  48  48  48  48  48  48  48  48  48  48  48  48\n",
      "  48  48  48  48  47  47  47  47  47  47  47  47  47  47  47  47  47  47\n",
      "  47  47  47  47  47  47  47  47  47  47  47  47  47  47  47  47  47  47\n",
      "  47  47  47  47  47  47  47  47  47  47  47  47  47  47  47  47  47  47\n",
      "  47  47  47  47]\n"
     ]
    }
   ],
   "source": [
    "a = np.flip(np.sort(buf), axis=0)\n",
    "print a[:400]"
   ]
  },
  {
   "cell_type": "code",
   "execution_count": null,
   "metadata": {},
   "outputs": [],
   "source": []
  }
 ],
 "metadata": {
  "kernelspec": {
   "display_name": "Python 2.7.14 (conda)",
   "language": "python",
   "name": "python-conda"
  },
  "language_info": {
   "codemirror_mode": {
    "name": "ipython",
    "version": 2
   },
   "file_extension": ".py",
   "mimetype": "text/x-python",
   "name": "python",
   "nbconvert_exporter": "python",
   "pygments_lexer": "ipython2",
   "version": "2.7.14"
  }
 },
 "nbformat": 4,
 "nbformat_minor": 2
}
