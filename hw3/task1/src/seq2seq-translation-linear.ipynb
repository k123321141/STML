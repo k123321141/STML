{
 "cells": [
  {
   "cell_type": "markdown",
   "metadata": {},
   "source": [
    "![](https://i.imgur.com/eBRPvWB.png)\n",
    "\n",
    "# Practical PyTorch: Translation with a Sequence to Sequence Network and Attention\n",
    "\n",
    "In this project we will be teaching a neural network to translate from French to English.\n",
    "\n",
    "```\n",
    "[KEY: > input, = target, < output]\n",
    "\n",
    "> il est en train de peindre un tableau .\n",
    "= he is painting a picture .\n",
    "< he is painting a picture .\n",
    "\n",
    "> pourquoi ne pas essayer ce vin delicieux ?\n",
    "= why not try that delicious wine ?\n",
    "< why not try that delicious wine ?\n",
    "\n",
    "> elle n est pas poete mais romanciere .\n",
    "= she is not a poet but a novelist .\n",
    "< she not not a poet but a novelist .\n",
    "\n",
    "> vous etes trop maigre .\n",
    "= you re too skinny .\n",
    "< you re all alone .\n",
    "```\n",
    "\n",
    "... to varying degrees of success.\n",
    "\n",
    "This is made possible by the simple but powerful idea of the [sequence to sequence network](http://arxiv.org/abs/1409.3215), in which two recurrent neural networks work together to transform one sequence to another. An encoder network condenses an input sequence into a single vector, and a decoder network unfolds that vector into a new sequence.\n",
    "\n",
    "To improve upon this model we'll use an [attention mechanism](https://arxiv.org/abs/1409.0473), which lets the decoder learn to focus over a specific range of the input sequence."
   ]
  },
  {
   "cell_type": "markdown",
   "metadata": {},
   "source": [
    "# The Sequence to Sequence model\n",
    "\n",
    "A [Sequence to Sequence network](http://arxiv.org/abs/1409.3215), or seq2seq network, or [Encoder Decoder network](https://arxiv.org/pdf/1406.1078v3.pdf), is a model consisting of two separate RNNs called the **encoder** and **decoder**. The encoder reads an input sequence one item at a time, and outputs a vector at each step. The final output of the encoder is kept as the **context** vector. The decoder uses this context vector to produce a sequence of outputs one step at a time.\n",
    "\n",
    "![](https://i.imgur.com/tVtHhNp.png)\n",
    "\n",
    "When using a single RNN, there is a one-to-one relationship between inputs and outputs. We would quickly run into problems with different sequence orders and lengths that are common during translation. Consider the simple sentence \"Je ne suis pas le chat noir\" &rarr; \"I am not the black cat\". Many of the words have a pretty direct translation, like \"chat\" &rarr; \"cat\". However the differing grammars cause words to be in different orders, e.g. \"chat noir\" and \"black cat\". There is also the \"ne ... pas\" &rarr; \"not\" construction that makes the two sentences have different lengths.\n",
    "\n",
    "With the seq2seq model, by encoding many inputs into one vector, and decoding from one vector into many outputs, we are freed from the constraints of sequence order and length. The encoded sequence is represented by a single vector, a single point in some N dimensional space of sequences. In an ideal case, this point can be considered the \"meaning\" of the sequence.\n",
    "\n",
    "This idea can be extended beyond sequences. Image captioning tasks take an [image as input, and output a description](https://arxiv.org/abs/1411.4555) of the image (img2seq). Some image generation tasks take a [description as input and output a generated image](https://arxiv.org/abs/1511.02793) (seq2img). These models can be referred to more generally as \"encoder decoder\" networks."
   ]
  },
  {
   "cell_type": "markdown",
   "metadata": {},
   "source": [
    "## The Attention Mechanism\n",
    "\n",
    "The fixed-length vector carries the burden of encoding the the entire \"meaning\" of the input sequence, no matter how long that may be. With all the variance in language, this is a very hard problem. Imagine two nearly identical sentences, twenty words long, with only one word different. Both the encoders and decoders must be nuanced enough to represent that change as a very slightly different point in space.\n",
    "\n",
    "The **attention mechanism** [introduced by Bahdanau et al.](https://arxiv.org/abs/1409.0473) addresses this by giving the decoder a way to \"pay attention\" to parts of the input, rather than relying on a single vector. For every step the decoder can select a different part of the input sentence to consider.\n",
    "\n",
    "![](https://i.imgur.com/5y6SCvU.png)\n",
    "\n",
    "Attention is calculated with another feedforward layer in the decoder. This layer will use the current input and hidden state to create a new vector, which is the same size as the input sequence (in practice, a fixed maximum length). This vector is processed through softmax to create *attention weights*, which are multiplied by the encoders' outputs to create a new context vector, which is then used to predict the next output.\n",
    "\n",
    "![](https://i.imgur.com/K1qMPxs.png)"
   ]
  },
  {
   "cell_type": "markdown",
   "metadata": {},
   "source": [
    "# Requirements\n",
    "\n",
    "You will need [PyTorch](http://pytorch.org/) to build and train the models, and [matplotlib](https://matplotlib.org/) for plotting training and visualizing attention outputs later."
   ]
  },
  {
   "cell_type": "code",
   "execution_count": 1,
   "metadata": {},
   "outputs": [],
   "source": [
    "import unicodedata\n",
    "import string\n",
    "import re\n",
    "import random\n",
    "import time\n",
    "import math\n",
    "\n",
    "import torch\n",
    "import torch.nn as nn\n",
    "from torch.autograd import Variable\n",
    "from torch import optim\n",
    "import torch.nn.functional as F"
   ]
  },
  {
   "cell_type": "markdown",
   "metadata": {},
   "source": [
    "Here we will also define a constant to decide whether to use the GPU (with CUDA specifically) or the CPU. **If you don't have a GPU, set this to `False`**. Later when we create tensors, this variable will be used to decide whether we keep them on CPU or move them to GPU."
   ]
  },
  {
   "cell_type": "code",
   "execution_count": 2,
   "metadata": {},
   "outputs": [],
   "source": [
    "USE_CUDA = True"
   ]
  },
  {
   "cell_type": "markdown",
   "metadata": {},
   "source": [
    "# Loading data files\n",
    "\n",
    "The data for this project is a set of many thousands of English to French translation pairs.\n",
    "\n",
    "[This question on Open Data Stack Exchange](http://opendata.stackexchange.com/questions/3888/dataset-of-sentences-translated-into-many-languages) pointed me to the open translation site http://tatoeba.org/ which has downloads available at http://tatoeba.org/eng/downloads - and better yet, someone did the extra work of splitting language pairs into individual text files here: http://www.manythings.org/anki/\n",
    "\n",
    "The English to French pairs are too big to include in the repo, so download `fra-eng.zip`, extract the text file in there, and rename it to `data/eng-fra.txt` before continuing (for some reason the zipfile is named backwards). The file is a tab separated list of translation pairs:\n",
    "\n",
    "```\n",
    "I am cold.    J'ai froid.\n",
    "```"
   ]
  },
  {
   "cell_type": "markdown",
   "metadata": {},
   "source": [
    "Similar to the character encoding used in the character-level RNN tutorials, we will be representing each word in a language as a one-hot vector, or giant vector of zeros except for a single one (at the index of the word). Compared to the dozens of characters that might exist in a language, there are many many more words, so the encoding vector is much larger. We will however cheat a bit and trim the data to only use a few thousand words per language."
   ]
  },
  {
   "cell_type": "markdown",
   "metadata": {},
   "source": [
    "### Indexing words\n",
    "\n",
    "We'll need a unique index per word to use as the inputs and targets of the networks later. To keep track of all this we will use a helper class called `Lang` which has word &rarr; index (`word2index`) and index &rarr; word (`index2word`) dictionaries, as well as a count of each word `word2count` to use to later replace rare words."
   ]
  },
  {
   "cell_type": "code",
   "execution_count": 3,
   "metadata": {},
   "outputs": [],
   "source": [
    "import numpy as np\n",
    "\n",
    "SOS_token = 0\n",
    "EOS_token = 1\n",
    "UNK_token = 2\n",
    "MAX_VOCAB_DIM = 50000\n",
    "class Lang:\n",
    "    def __init__(self, name):\n",
    "        self.name = name\n",
    "        self.word2index = {}\n",
    "        self.word2count = {}\n",
    "        self.default_vocab = {0: \"<SOS>\", 1: \"<EOS>\", 2:'<UNK>'}\n",
    "        self.index2word = self.default_vocab.copy()\n",
    "        self.n_words = 3 # Count SOS and EOS\n",
    "    def index_words(self, sentence):\n",
    "        for word in sentence.split(' '):\n",
    "            self.index_word(word)\n",
    "\n",
    "    def index_word(self, word):\n",
    "        if word not in self.word2index:\n",
    "            self.word2index[word] = self.n_words\n",
    "            self.word2count[word] = 1\n",
    "            self.index2word[self.n_words] = word\n",
    "            self.n_words += 1\n",
    "        else:\n",
    "            self.word2count[word] += 1\n",
    "    def trim_vocab(self, max_vocab_dim):\n",
    "        start_idx = len(self.default_vocab)\n",
    "        kv = np.array([(k,v) for k,v in self.word2count.items() if k not in self.default_vocab])\n",
    "        sorted_count_idx = np.flip(np.argsort(np.array(kv[:,1], dtype=np.int32)), axis=0)\n",
    "        self.index2word = self.default_vocab.copy()\n",
    "        i = start_idx\n",
    "        \n",
    "        for word in np.array(kv[:,0])[sorted_count_idx[:max_vocab_dim-len(self.default_vocab)]]:\n",
    "            self.index2word[i] = word\n",
    "            self.word2index[word] = i\n",
    "            i += 1\n",
    "        self.n_words = len(self.index2word)\n",
    "        self.word2count = {k:v for k,v in self.word2count.items() if k in self.word2index}\n",
    "            \n",
    "                \n",
    "            \n"
   ]
  },
  {
   "cell_type": "markdown",
   "metadata": {},
   "source": [
    "### Reading and decoding files\n",
    "\n",
    "The files are all in Unicode, to simplify we will turn Unicode characters to ASCII, make everything lowercase, and trim most punctuation."
   ]
  },
  {
   "cell_type": "code",
   "execution_count": 4,
   "metadata": {},
   "outputs": [],
   "source": [
    "# Turn a Unicode string to plain ASCII, thanks to http://stackoverflow.com/a/518232/2809427\n",
    "# def unicode_to_ascii(s):\n",
    "#     return ''.join(\n",
    "#         c for c in unicodedata.normalize('NFD', s)\n",
    "#         if unicodedata.category(c) != 'Mn'\n",
    "#     )\n",
    "\n",
    "# Lowercase, trim, and remove non-letter characters\n",
    "def normalize_string(s):\n",
    "#     s = unicode_to_ascii(s.lower().strip())\n",
    "    s = s.strip()\n",
    "#     print s,'start'\n",
    "    s = re.sub(u\"([.!?])\", u\" \\1\", s)\n",
    "#     s = re.sub(r\"[^a-zA-Z.!?]+\", r\" \", s)\n",
    "    s = re.sub(u\"[^\\u4e00-\\u9fffa-zA-Z.!?0-9]+\", r\" \", s)\n",
    "#     print s,'end'\n",
    "    return s"
   ]
  },
  {
   "cell_type": "markdown",
   "metadata": {},
   "source": [
    "To read the data file we will split the file into lines, and then split lines into pairs. The files are all English &rarr; Other Language, so if we want to translate from Other Language &rarr; English I added the `reverse` flag to reverse the pairs."
   ]
  },
  {
   "cell_type": "code",
   "execution_count": 5,
   "metadata": {},
   "outputs": [],
   "source": [
    "def read_langs(lang1, lang2, reverse=False):\n",
    "    print(\"Reading lines...\")\n",
    "\n",
    "    # Read the file and split into lines\n",
    "    lines = open('../data/%s-%s.txt' % (lang1, lang2)).read().strip().split('\\n')\n",
    "    \n",
    "    # Split every line into pairs and normalize\n",
    "    pairs = [[normalize_string(s.decode('utf8')) for s in l.split('\\t')] for l in lines]\n",
    "    \n",
    "    # Reverse pairs, make Lang instances\n",
    "    if reverse:\n",
    "        pairs = [list(reversed(p)) for p in pairs]\n",
    "        input_lang = Lang(lang2)\n",
    "        output_lang = Lang(lang1)\n",
    "    else:\n",
    "        input_lang = Lang(lang1)\n",
    "        output_lang = Lang(lang2)\n",
    "        \n",
    "    return input_lang, output_lang, pairs"
   ]
  },
  {
   "cell_type": "markdown",
   "metadata": {},
   "source": [
    "### Filtering sentences\n",
    "\n",
    "Since there are a *lot* of example sentences and we want to train something quickly, we'll trim the data set to only relatively short and simple sentences. Here the maximum length is 10 words (that includes punctuation) and we're filtering to sentences that translate to the form \"I am\" or \"He is\" etc. (accounting for apostrophes being removed)."
   ]
  },
  {
   "cell_type": "code",
   "execution_count": 6,
   "metadata": {},
   "outputs": [],
   "source": [
    "MAX_LENGTH = 60\n",
    "\n",
    "good_prefixes = (\n",
    "    \"i am \", \"i m \",\n",
    "    \"he is\", \"he s \",\n",
    "    \"she is\", \"she s\",\n",
    "    \"you are\", \"you re \"\n",
    ")\n",
    "\n",
    "def filter_pair(p):\n",
    "#     return len(p[0].split(' ')) < MAX_LENGTH and len(p[1].split(' ')) < MAX_LENGTH and \\\n",
    "#         p[1].startswith(good_prefixes)\n",
    "    return len(p[0].split(' ')) < MAX_LENGTH and len(p[1].split(' ')) < MAX_LENGTH\n",
    "\n",
    "def filter_pairs(pairs):\n",
    "    return [pair for pair in pairs if filter_pair(pair)]"
   ]
  },
  {
   "cell_type": "markdown",
   "metadata": {},
   "source": [
    "The full process for preparing the data is:\n",
    "\n",
    "* Read text file and split into lines, split lines into pairs\n",
    "* Normalize text, filter by length and content\n",
    "* Make word lists from sentences in pairs"
   ]
  },
  {
   "cell_type": "code",
   "execution_count": 7,
   "metadata": {},
   "outputs": [
    {
     "name": "stdout",
     "output_type": "stream",
     "text": [
      "Reading lines...\n",
      "Read 651339 sentence pairs\n",
      "Trimmed to 651293 sentence pairs\n",
      "Indexing words...\n",
      "[u'SOS \\u662f\\u5426 \\u5076\\u5c14 \\u4e5f \\u66fe \\u8ffd\\u5fc6 EOS r a vn uj n NOP i NOE 5 NOR', u'SOS \\u90a3\\u4e9b \\u6d6a\\u6f2b \\u51b2\\u52a8 \\u7684 \\u4e8b EOS']\n",
      "SOS 是 代表 你 确定 变 了 还是 舍不得 EOS r d p n n n NOP e NOE 6 NOR\n",
      "SOS 我们 还 在 学 爱情 第一课 EOS\n"
     ]
    }
   ],
   "source": [
    "def prepare_data(lang1_name, lang2_name, reverse=False):\n",
    "    input_lang, output_lang, pairs = read_langs(lang1_name, lang2_name, reverse)\n",
    "    print(\"Read %s sentence pairs\" % len(pairs))\n",
    "    \n",
    "    pairs = filter_pairs(pairs)\n",
    "    print(\"Trimmed to %s sentence pairs\" % len(pairs))\n",
    "    \n",
    "    print(\"Indexing words...\")\n",
    "    for pair in pairs:\n",
    "        input_lang.index_words(pair[0])\n",
    "        output_lang.index_words(pair[1])\n",
    "\n",
    "    return input_lang, output_lang, pairs\n",
    "\n",
    "# input_lang, output_lang, pairs = prepare_data('eng', 'fra', True)\n",
    "# input_lang, output_lang, pairs = prepare_data('eng', 'cmn', True)\n",
    "input_lang, output_lang, pairs = prepare_data('r1', 'r2', True)\n",
    "# input_lang.trim_vocab(MAX_VOCAB_DIM)\n",
    "# output_lang.trim_vocab(MAX_VOCAB_DIM)\n",
    "\n",
    "# Print an example pair\n",
    "print(random.choice(pairs))\n",
    "a,b = random.choice(pairs)\n",
    "print a\n",
    "print b"
   ]
  },
  {
   "cell_type": "markdown",
   "metadata": {},
   "source": [
    "## Turning training data into Tensors/Variables\n",
    "\n",
    "To train we need to turn the sentences into something the neural network can understand, which of course means numbers. Each sentence will be split into words and turned into a Tensor, where each word is replaced with the index (from the Lang indexes made earlier). While creating these tensors we will also append the EOS token to signal that the sentence is over.\n",
    "\n",
    "![](https://i.imgur.com/LzocpGH.png)\n",
    "\n",
    "A Tensor is a multi-dimensional array of numbers, defined with some type e.g. FloatTensor or LongTensor. In this case we'll be using LongTensor to represent an array of integer indexes.\n",
    "\n",
    "Trainable PyTorch modules take Variables as input, rather than plain Tensors. A Variable is basically a Tensor that is able to keep track of the graph state, which is what makes autograd (automatic calculation of backwards gradients) possible."
   ]
  },
  {
   "cell_type": "code",
   "execution_count": 8,
   "metadata": {},
   "outputs": [],
   "source": [
    "# Return a list of indexes, one for each word in the sentence\n",
    "def indexes_from_sentence(lang, sentence):\n",
    "    ret = [lang.word2index[word] if word in lang.word2index else UNK_token for word in sentence.split(' ')]\n",
    "    print ret\n",
    "    return [lang.word2index[word] if word in lang.word2index else UNK_token for word in sentence.split(' ')]\n",
    "\n",
    "def variable_from_sentence(lang, sentence):\n",
    "    indexes = indexes_from_sentence(lang, sentence)\n",
    "    indexes.append(EOS_token)\n",
    "    var = Variable(torch.LongTensor(indexes).view(-1, 1))\n",
    "#     print('var =', var)\n",
    "    if USE_CUDA: var = var.cuda()\n",
    "    return var\n",
    "\n",
    "def variables_from_pair(pair):\n",
    "    input_variable = variable_from_sentence(input_lang, pair[0])\n",
    "    target_variable = variable_from_sentence(output_lang, pair[1])\n",
    "    return (input_variable, target_variable)"
   ]
  },
  {
   "cell_type": "markdown",
   "metadata": {},
   "source": [
    "# Building the models"
   ]
  },
  {
   "cell_type": "markdown",
   "metadata": {},
   "source": [
    "## The Encoder\n",
    "\n",
    "<img src=\"images/encoder-network.png\" style=\"float: right\" />\n",
    "\n",
    "The encoder of a seq2seq network is a RNN that outputs some value for every word from the input sentence. For every input word the encoder outputs a vector and a hidden state, and uses the hidden state for the next input word."
   ]
  },
  {
   "cell_type": "code",
   "execution_count": 9,
   "metadata": {},
   "outputs": [],
   "source": [
    "class EncoderRNN(nn.Module):\n",
    "    def __init__(self, input_size, hidden_size, n_layers=1):\n",
    "        super(EncoderRNN, self).__init__()\n",
    "        \n",
    "        self.input_size = input_size\n",
    "        self.hidden_size = hidden_size\n",
    "        self.n_layers = n_layers\n",
    "        \n",
    "        self.embedding = nn.Embedding(input_size, hidden_size)\n",
    "        self.gru = nn.GRU(hidden_size, hidden_size, n_layers)\n",
    "        \n",
    "    def forward(self, word_inputs, hidden):\n",
    "        # Note: we run this all at once (over the whole input sequence)\n",
    "        seq_len = len(word_inputs)\n",
    "        embedded = self.embedding(word_inputs).view(seq_len, 1, -1)\n",
    "        output, hidden = self.gru(embedded, hidden)\n",
    "        return output, hidden, embedded\n",
    "\n",
    "    def init_hidden(self):\n",
    "        hidden = Variable(torch.zeros(self.n_layers, 1, self.hidden_size))\n",
    "        if USE_CUDA: hidden = hidden.cuda()\n",
    "        return hidden"
   ]
  },
  {
   "cell_type": "code",
   "execution_count": 10,
   "metadata": {},
   "outputs": [
    {
     "name": "stdout",
     "output_type": "stream",
     "text": [
      "torch.Size([3, 1, 10])\n"
     ]
    }
   ],
   "source": [
    "encoder_test = EncoderRNN(10, 10, 2)\n",
    "\n",
    "encoder_hidden = encoder_test.init_hidden()\n",
    "word_input = Variable(torch.LongTensor([1, 2, 3]))\n",
    "if USE_CUDA:\n",
    "    encoder_test.cuda()\n",
    "    word_input = word_input.cuda()\n",
    "encoder_outputs, encoder_hidden, en_embs = encoder_test(word_input, encoder_hidden)\n",
    "print en_embs.shape"
   ]
  },
  {
   "cell_type": "markdown",
   "metadata": {},
   "source": [
    "## Attention Decoder"
   ]
  },
  {
   "cell_type": "markdown",
   "metadata": {},
   "source": [
    "### Interpreting the Bahdanau et al. model\n",
    "\n",
    "The attention model in [Neural Machine Translation by Jointly Learning to Align and Translate](https://arxiv.org/abs/1409.0473) is described as the following series of equations.\n",
    "\n",
    "Each decoder output is conditioned on the previous outputs and some $\\mathbf x$, where $\\mathbf x$ consists of the current hidden state (which takes into account previous outputs) and the attention \"context\", which is calculated below. The function $g$ is a fully-connected layer with a nonlinear activation, which takes as input the values $y_{i-1}$, $s_i$, and $c_i$ concatenated.\n",
    "\n",
    "$$\n",
    "p(y_i \\mid \\{y_1,...,y_{i-1}\\},\\mathbf{x}) = g(y_{i-1}, s_i, c_i)\n",
    "$$\n",
    "\n",
    "The current hidden state $s_i$ is calculated by an RNN $f$ with the last hidden state $s_{i-1}$, last decoder output value $y_{i-1}$, and context vector $c_i$.\n",
    "\n",
    "In the code, the RNN will be a `nn.GRU` layer, the hidden state $s_i$ will be called `hidden`, the output $y_i$ called `output`, and context $c_i$ called `context`.\n",
    "\n",
    "$$\n",
    "s_i = f(s_{i-1}, y_{i-1}, c_i)\n",
    "$$\n",
    "\n",
    "The context vector $c_i$ is a weighted sum of all encoder outputs, where each weight $a_{ij}$ is the amount of \"attention\" paid to the corresponding encoder output $h_j$.\n",
    "\n",
    "$$\n",
    "c_i = \\sum_{j=1}^{T_x} a_{ij} h_j\n",
    "$$\n",
    "\n",
    "... where each weight $a_{ij}$ is a normalized (over all steps) attention \"energy\" $e_{ij}$ ...\n",
    "\n",
    "$$\n",
    "a_{ij} = \\dfrac{exp(e_{ij})}{\\sum_{k=1}^{T} exp(e_{ik})}\n",
    "$$\n",
    "\n",
    "... where each attention energy is calculated with some function $a$ (such as another linear layer) using the last hidden state $s_{i-1}$ and that particular encoder output $h_j$:\n",
    "\n",
    "$$\n",
    "e_{ij} = a(s_{i-1}, h_j)\n",
    "$$"
   ]
  },
  {
   "cell_type": "markdown",
   "metadata": {},
   "source": [
    "### Implementing the Bahdanau et al. model\n",
    "\n",
    "In summary our decoder should consist of four main parts - an embedding layer turning an input word into a vector; a layer to calculate the attention energy per encoder output; a RNN layer; and an output layer.\n",
    "\n",
    "The decoder's inputs are the last RNN hidden state $s_{i-1}$, last output $y_{i-1}$, and all encoder outputs $h_*$.\n",
    "\n",
    "* embedding layer with inputs $y_{i-1}$\n",
    "    * `embedded = embedding(last_rnn_output)`\n",
    "* attention layer $a$ with inputs $(s_{i-1}, h_j)$ and outputs $e_{ij}$, normalized to create $a_{ij}$\n",
    "    * `attn_energies[j] = attn_layer(last_hidden, encoder_outputs[j])`\n",
    "    * `attn_weights = normalize(attn_energies)`\n",
    "* context vector $c_i$ as an attention-weighted average of encoder outputs\n",
    "    * `context = sum(attn_weights * encoder_outputs)`\n",
    "* RNN layer(s) $f$ with inputs $(s_{i-1}, y_{i-1}, c_i)$ and internal hidden state, outputting $s_i$\n",
    "    * `rnn_input = concat(embedded, context)`\n",
    "    * `rnn_output, rnn_hidden = rnn(rnn_input, last_hidden)`\n",
    "* an output layer $g$ with inputs $(y_{i-1}, s_i, c_i)$, outputting $y_i$\n",
    "    * `output = out(embedded, rnn_output, context)`"
   ]
  },
  {
   "cell_type": "markdown",
   "metadata": {},
   "source": [
    "### Interpreting the Luong et al. model(s)"
   ]
  },
  {
   "cell_type": "markdown",
   "metadata": {},
   "source": [
    "[Effective Approaches to Attention-based Neural Machine Translation](https://arxiv.org/abs/1508.04025) by Luong et al. describe a few more attention models that offer improvements and simplifications. They describe a few \"global attention\" models, the distinction between them being the way the attention scores are calculated.\n",
    "\n",
    "The general form of the attention calculation relies on the target (decoder) side hidden state and corresponding source (encoder) side state, normalized over all states to get values summing to 1:\n",
    "\n",
    "$$\n",
    "a_t(s) = align(h_t, \\bar h_s)  = \\dfrac{exp(score(h_t, \\bar h_s))}{\\sum_{s'} exp(score(h_t, \\bar h_{s'}))}\n",
    "$$\n",
    "\n",
    "The specific \"score\" function that compares two states is either *dot*, a simple dot product between the states; *general*, a a dot product between the decoder hidden state and a linear transform of the encoder state; or *concat*, a dot product between a new parameter $v_a$ and a linear transform of the states concatenated together.\n",
    "\n",
    "$$\n",
    "score(h_t, \\bar h_s) =\n",
    "\\begin{cases}\n",
    "h_t ^\\top \\bar h_s & dot \\\\\n",
    "h_t ^\\top \\textbf{W}_a \\bar h_s & general \\\\\n",
    "v_a ^\\top \\textbf{W}_a [ h_t ; \\bar h_s ] & concat\n",
    "\\end{cases}\n",
    "$$\n",
    "\n",
    "The modular definition of these scoring functions gives us an opportunity to build specific attention module that can switch between the different score methods. The input to this module is always the hidden state (of the decoder RNN) and set of encoder outputs."
   ]
  },
  {
   "cell_type": "code",
   "execution_count": 11,
   "metadata": {},
   "outputs": [],
   "source": [
    "class Attn(nn.Module):\n",
    "    def __init__(self, method, hidden_size, max_length=MAX_LENGTH):\n",
    "        super(Attn, self).__init__()\n",
    "        \n",
    "        self.method = method\n",
    "        self.hidden_size = hidden_size\n",
    "        \n",
    "        if self.method == 'general':\n",
    "            self.attn = nn.Linear(self.hidden_size, hidden_size)\n",
    "\n",
    "        elif self.method == 'concat':\n",
    "            self.attn = nn.Linear(self.hidden_size * 2, hidden_size)\n",
    "            self.other = nn.Parameter(torch.FloatTensor(1, hidden_size))\n",
    "\n",
    "    def forward(self, hidden, encoder_outputs):\n",
    "        seq_len = len(encoder_outputs)\n",
    "\n",
    "        # Create variable to store attention energies\n",
    "        attn_energies = Variable(torch.zeros(seq_len)) # B x 1 x S\n",
    "        if USE_CUDA: attn_energies = attn_energies.cuda()\n",
    "\n",
    "        # Calculate energies for each encoder output\n",
    "        for i in range(seq_len):\n",
    "            attn_energies[i] = self.score(hidden, encoder_outputs[i])\n",
    "\n",
    "        # Normalize energies to weights in range 0 to 1, resize to 1 x 1 x seq_len\n",
    "        return F.softmax(attn_energies, dim=-1).unsqueeze(0).unsqueeze(0)\n",
    "    \n",
    "    def score(self, hidden, encoder_output):\n",
    "        \n",
    "        if self.method == 'dot':\n",
    "            energy = hidden.dot(encoder_output)\n",
    "            return energy\n",
    "        \n",
    "        elif self.method == 'general':\n",
    "            energy = self.attn(encoder_output)\n",
    "#             print hidden.shape, energy.shape, energy.transpose(0,1).shape, 'lolo'\n",
    "            energy = torch.mm(hidden,energy.transpose(0,1))\n",
    "            return energy\n",
    "        \n",
    "        elif self.method == 'concat':\n",
    "            energy = self.attn(torch.cat((hidden, encoder_output), 1))\n",
    "            energy = self.other.dot(energy)\n",
    "            return energy"
   ]
  },
  {
   "cell_type": "markdown",
   "metadata": {},
   "source": [
    "Now we can build a decoder that plugs this Attn module in after the RNN to calculate attention weights, and apply those weights to the encoder outputs to get a context vector."
   ]
  },
  {
   "cell_type": "code",
   "execution_count": 12,
   "metadata": {},
   "outputs": [],
   "source": [
    "def positional_encoding(d_model, pos):\n",
    "    assert d_model % 2 == 0\n",
    "    pos = torch.tensor(pos, dtype=torch.float32, requires_grad=False)\n",
    "    pe = torch.zeros([1,d_model], dtype=torch.float32, requires_grad=False)\n",
    "    for i in range(d_model//2):\n",
    "        a = torch.tensor(10000, dtype=torch.float32, requires_grad=False)\n",
    "        b = torch.tensor(2.*i/float(d_model), dtype=torch.float32, requires_grad=False)\n",
    "        c = pos / torch.pow(a, b)\n",
    "        pe[0, 2*i] = torch.sin(c)\n",
    "        pe[0, 2*i+1] = torch.cos(c)\n",
    "    return pe\n",
    "class LinearAttnDecoderRNN(nn.Module):\n",
    "    def __init__(self, attn_model, hidden_size, output_size, n_layers=1, dropout_p=0.1):\n",
    "        super(LinearAttnDecoderRNN, self).__init__()\n",
    "#         \n",
    "        self.d_model = hidden_size\n",
    "        self.init_pos_mat(MAX_LENGTH*2)\n",
    "        # Keep parameters for reference\n",
    "        self.attn_model = attn_model\n",
    "        self.hidden_size = hidden_size\n",
    "        self.output_size = output_size\n",
    "        self.n_layers = n_layers\n",
    "        self.dropout_p = dropout_p\n",
    "        \n",
    "        # Define layers\n",
    "        self.embedding = nn.Embedding(output_size, hidden_size)\n",
    "        self.gru = nn.GRU(hidden_size * 2, hidden_size, n_layers, dropout=dropout_p)\n",
    "        self.out = nn.Linear(hidden_size * 2 , output_size)\n",
    "        \n",
    "        # Choose attention model\n",
    "        if attn_model != 'none':\n",
    "            self.attn = Attn(attn_model, hidden_size)\n",
    "    \n",
    "    def forward(self, word_input, last_context, last_hidden, encoder_outputs, encoder_embs):\n",
    "        # Note: we run this one step at a time\n",
    "        \n",
    "        # Get the embedding of the current input word (last output word)\n",
    "        word_embedded = self.embedding(word_input).view(1, 1, -1) # S=1 x B x N\n",
    "        \n",
    "        # Combine embedded input word and last context, run through RNN\n",
    "        rnn_input = torch.cat((word_embedded, last_context.unsqueeze(0)), 2)\n",
    "        rnn_output, hidden = self.gru(rnn_input, last_hidden)\n",
    "\n",
    "        # Calculate attention from current RNN state and all encoder outputs; apply to encoder outputs\n",
    "#         print 'en', encoder_outputs.shape\n",
    "        attn_weights = self.attn(rnn_output.squeeze(0), encoder_outputs)\n",
    "        encoder_embs = encoder_embs.transpose(0,1)\n",
    "#         encoder_embs[0,:,:] += self.get_pos_mat(encoder_embs.size()[1])\n",
    "        _,seq_len, d = encoder_embs.size()\n",
    "        context = attn_weights.bmm(encoder_embs + self.get_pos_mat(seq_len).unsqueeze(0)) # B x 1 x N\n",
    "        \n",
    "        # Final output layer (next word prediction) using the RNN hidden state and context vector\n",
    "        context = context.squeeze(1)       # B x S=1 x N -> B x N\n",
    "        output = F.log_softmax(self.out(torch.cat([context,word_embedded.squeeze(1)], dim=-1)), dim=-1)\n",
    "        \n",
    "        # Return final output, hidden state, and attention weights (for visualization)\n",
    "        return output, rnn_output, word_embedded, context, hidden, attn_weights\n",
    "    \n",
    "    #     To speed up the positional encoding by construct an cache matrix. \n",
    "    def init_pos_mat(self, cache_length):\n",
    "        print('init postional matrix with length : %d ' % cache_length)\n",
    "        self.positional_matrix = torch.cat([positional_encoding(self.d_model, i) for i in range(0,cache_length)], dim=0)\n",
    "        self.positional_matrix.requires_grad = False\n",
    "        self.positional_matrix = self.positional_matrix.cuda()\n",
    "            \n",
    "        \n",
    "    def get_pos_mat(self, length):\n",
    "        if length > self.positional_matrix.shape[0]:\n",
    "            print('input sequence length reach positional matrix maximum length. %d ' % length)\n",
    "            ret = torch.cat([positional_encoding(self.d_model, i) for i in range(length)], dim=0)\n",
    "            ret.requires_grad = False\n",
    "            print('Increase positional matrix maximum length. %d ' % length)\n",
    "            self.positional_matrix = ret\n",
    "            self.positional_matrix = self.positional_matrix.cuda()\n",
    "            return ret\n",
    "        else:\n",
    "            return self.positional_matrix[:length]\n",
    "        "
   ]
  },
  {
   "cell_type": "markdown",
   "metadata": {},
   "source": [
    "### Testing the models\n",
    "\n",
    "To make sure the Encoder and Decoder model are working (and working together) we'll do a quick test with fake word inputs:"
   ]
  },
  {
   "cell_type": "code",
   "execution_count": 13,
   "metadata": {
    "scrolled": false
   },
   "outputs": [
    {
     "name": "stdout",
     "output_type": "stream",
     "text": [
      "init postional matrix with length : 120 \n",
      "EncoderRNN(\n",
      "  (embedding): Embedding(10, 10)\n",
      "  (gru): GRU(10, 10, num_layers=2)\n",
      ")\n",
      "LinearAttnDecoderRNN(\n",
      "  (embedding): Embedding(10, 10)\n",
      "  (gru): GRU(20, 10, num_layers=2, dropout=0.1)\n",
      "  (out): Linear(in_features=20, out_features=10, bias=True)\n",
      "  (attn): Attn(\n",
      "    (attn): Linear(in_features=10, out_features=10, bias=True)\n",
      "  )\n",
      ")\n",
      "(torch.Size([1, 10]), torch.Size([2, 1, 10]), torch.Size([1, 1, 3]))\n",
      "(torch.Size([1, 10]), torch.Size([2, 1, 10]), torch.Size([1, 1, 4]))\n",
      "(torch.Size([1, 10]), torch.Size([2, 1, 10]), torch.Size([1, 1, 5]))\n"
     ]
    }
   ],
   "source": [
    "encoder_test = EncoderRNN(10, 10, 2)\n",
    "decoder_test = LinearAttnDecoderRNN('general', 10, 10, 2)\n",
    "print(encoder_test)\n",
    "print(decoder_test)\n",
    "\n",
    "encoder_hidden = encoder_test.init_hidden()\n",
    "word_input = Variable(torch.LongTensor([1, 2, 3]))\n",
    "if USE_CUDA:\n",
    "    encoder_test.cuda()\n",
    "    word_input = word_input.cuda()\n",
    "encoder_outputs, encoder_hidden, encoder_embs = encoder_test(word_input, encoder_hidden)\n",
    "word_inputs = Variable(torch.LongTensor([1, 2, 3]))\n",
    "decoder_hidden = encoder_hidden\n",
    "decoder_context = Variable(torch.zeros(1, decoder_test.hidden_size))\n",
    "\n",
    "if USE_CUDA:\n",
    "    decoder_test.cuda()\n",
    "    word_inputs = word_inputs.cuda()\n",
    "    decoder_context = decoder_context.cuda()\n",
    "\n",
    "for i in range(3):\n",
    "    decoder_output, decoder_rnn_output, decoder_emb, decoder_context, decoder_hidden, decoder_attn = decoder_test(word_inputs[i], decoder_context, decoder_hidden, encoder_outputs, encoder_embs)\n",
    "    encoder_outputs = torch.cat([encoder_outputs, decoder_rnn_output], dim=0)\n",
    "    encoder_embs = torch.cat([encoder_embs, decoder_emb], dim=0)\n",
    "    \n",
    "    print(decoder_output.size(), decoder_hidden.size(), decoder_attn.size())\n"
   ]
  },
  {
   "cell_type": "markdown",
   "metadata": {},
   "source": [
    "# Training\n",
    "\n",
    "## Defining a training iteration\n",
    "\n",
    "To train we first run the input sentence through the encoder word by word, and keep track of every output and the latest hidden state. Next the decoder is given the last hidden state of the decoder as its first hidden state, and the `<SOS>` token as its first input. From there we iterate to predict a next token from the decoder.\n",
    "\n",
    "### Teacher Forcing and Scheduled Sampling\n",
    "\n",
    "\"Teacher Forcing\", or maximum likelihood sampling, means using the real target outputs as each next input when training. The alternative is using the decoder's own guess as the next input. Using teacher forcing may cause the network to converge faster, but [when the trained network is exploited, it may exhibit instability](http://minds.jacobs-university.de/sites/default/files/uploads/papers/ESNTutorialRev.pdf).\n",
    "\n",
    "You can observe outputs of teacher-forced networks that read with coherent grammar but wander far from the correct translation - you could think of it as having learned how to listen to the teacher's instructions, without learning how to venture out on its own.\n",
    "\n",
    "The solution to the teacher-forcing \"problem\" is known as [Scheduled Sampling](https://arxiv.org/abs/1506.03099), which simply alternates between using the target values and predicted values when training. We will randomly choose to use teacher forcing with an if statement while training - sometimes we'll feed use real target as the input (ignoring the decoder's output), sometimes we'll use the decoder's output."
   ]
  },
  {
   "cell_type": "code",
   "execution_count": 14,
   "metadata": {},
   "outputs": [],
   "source": [
    "teacher_forcing_ratio = 0.5\n",
    "clip = 5.0\n",
    "\n",
    "def train(input_variable, target_variable, encoder, decoder, encoder_optimizer, decoder_optimizer, criterion, max_length=MAX_LENGTH):\n",
    "    # Zero gradients of both optimizers\n",
    "    encoder_optimizer.zero_grad()\n",
    "    decoder_optimizer.zero_grad()\n",
    "    loss = 0 # Added onto for each word\n",
    "\n",
    "    # Get size of input and target sentences\n",
    "    input_length = input_variable.size()[0]\n",
    "    target_length = target_variable.size()[0]\n",
    "\n",
    "    # Run words through encoder\n",
    "    encoder_hidden = encoder.init_hidden()\n",
    "    encoder_outputs, encoder_hidden, encoder_embs = encoder(input_variable, encoder_hidden)\n",
    "    \n",
    "    # Prepare input and output variables\n",
    "    decoder_input = Variable(torch.LongTensor([[SOS_token]]))\n",
    "    decoder_context = Variable(torch.zeros(1, decoder.hidden_size))\n",
    "    decoder_hidden = encoder_hidden # Use last hidden state from encoder to start decoder\n",
    "    if USE_CUDA:\n",
    "        decoder_input = decoder_input.cuda()\n",
    "        decoder_context = decoder_context.cuda()\n",
    "\n",
    "    # Choose whether to use teacher forcing\n",
    "    use_teacher_forcing = random.random() < teacher_forcing_ratio\n",
    "    if use_teacher_forcing:\n",
    "        \n",
    "        # Teacher forcing: Use the ground-truth target as the next input\n",
    "        for di in range(target_length):\n",
    "            decoder_output, decoder_rnn_output, decoder_emb, decoder_context, decoder_hidden, decoder_attention = decoder(decoder_input, decoder_context, decoder_hidden, encoder_outputs,encoder_embs)\n",
    "            loss += criterion(decoder_output, target_variable[di])\n",
    "            decoder_input = target_variable[di] # Next target is next input\n",
    "\n",
    "    else:\n",
    "        # Without teacher forcing: use network's own prediction as the next input\n",
    "        for di in range(target_length):\n",
    "            decoder_output, decoder_rnn_output, decoder_emb, decoder_context, decoder_hidden, decoder_attention = decoder(decoder_input, decoder_context, decoder_hidden, encoder_outputs,encoder_embs)\n",
    "            loss += criterion(decoder_output, target_variable[di])\n",
    "            \n",
    "            # Get most likely word index (highest value) from output\n",
    "            ni = top_idx = torch.topk(decoder_output,1)[1].item()\n",
    "#             print ni, type(ni)\n",
    "        \n",
    "            decoder_input = Variable(torch.LongTensor([[ni]])) # Chosen word is next input\n",
    "            if USE_CUDA: decoder_input = decoder_input.cuda()\n",
    "\n",
    "            # Stop at end of sentence (not necessary when using known targets)\n",
    "            if ni == EOS_token: break\n",
    "    encoder_outputs = torch.cat([encoder_outputs, decoder_rnn_output], dim=0)\n",
    "    encoder_embs = torch.cat([encoder_embs, decoder_emb], dim=0)\n",
    "    \n",
    "    # Backpropagation\n",
    "    loss.backward()\n",
    "    torch.nn.utils.clip_grad_norm_(encoder.parameters(), clip)\n",
    "    torch.nn.utils.clip_grad_norm_(decoder.parameters(), clip)\n",
    "    encoder_optimizer.step()\n",
    "    decoder_optimizer.step()\n",
    "    \n",
    "    return loss.data.item() / target_length"
   ]
  },
  {
   "cell_type": "markdown",
   "metadata": {},
   "source": [
    "Finally helper functions to print time elapsed and estimated time remaining, given the current time and progress."
   ]
  },
  {
   "cell_type": "code",
   "execution_count": 15,
   "metadata": {},
   "outputs": [],
   "source": [
    "def as_minutes(s):\n",
    "    m = math.floor(s / 60)\n",
    "    s -= m * 60\n",
    "    return '%dm %ds' % (m, s)\n",
    "\n",
    "def time_since(since, percent):\n",
    "    now = time.time()\n",
    "    s = now - since\n",
    "    if percent == 0:\n",
    "        es = 0.\n",
    "    else:\n",
    "        es = s / (percent)\n",
    "    rs = es - s\n",
    "    return '%s (- %s)' % (as_minutes(s), as_minutes(rs))"
   ]
  },
  {
   "cell_type": "markdown",
   "metadata": {},
   "source": [
    "## Running training\n",
    "\n",
    "With everything in place we can actually initialize a network and start training.\n",
    "\n",
    "To start, we initialize models, optimizers, and a loss function (criterion)."
   ]
  },
  {
   "cell_type": "code",
   "execution_count": 16,
   "metadata": {},
   "outputs": [
    {
     "name": "stdout",
     "output_type": "stream",
     "text": [
      "init postional matrix with length : 120 \n"
     ]
    }
   ],
   "source": [
    "attn_model = 'general'\n",
    "hidden_size = 512\n",
    "n_layers = 2\n",
    "dropout_p = 0.05\n",
    "\n",
    "# Initialize models\n",
    "encoder = EncoderRNN(input_lang.n_words, hidden_size, n_layers)\n",
    "decoder = LinearAttnDecoderRNN(attn_model, hidden_size, output_lang.n_words, n_layers, dropout_p=dropout_p)\n",
    "\n",
    "# Move models to GPU\n",
    "if USE_CUDA:\n",
    "    encoder.cuda()\n",
    "    decoder.cuda()\n",
    "\n",
    "# Initialize optimizers and criterion\n",
    "learning_rate = 0.0001\n",
    "encoder_optimizer = optim.Adam(encoder.parameters(), lr=learning_rate)\n",
    "decoder_optimizer = optim.Adam(decoder.parameters(), lr=learning_rate)\n",
    "criterion = nn.NLLLoss()"
   ]
  },
  {
   "cell_type": "markdown",
   "metadata": {},
   "source": [
    "Then set up variables for plotting and tracking progress:"
   ]
  },
  {
   "cell_type": "code",
   "execution_count": 17,
   "metadata": {},
   "outputs": [],
   "source": [
    "# Configuring training\n",
    "n_epochs = 500000\n",
    "plot_every = 20\n",
    "print_every = 1000\n",
    "\n",
    "# Keep track of time elapsed and running averages\n",
    "start = time.time()\n",
    "plot_losses = []\n",
    "print_loss_total = 0 # Reset every print_every\n",
    "plot_loss_total = 0 # Reset every plot_every"
   ]
  },
  {
   "cell_type": "markdown",
   "metadata": {},
   "source": [
    "To actually train, we call the train function many times, printing a summary as we go.\n",
    "\n",
    "*Note:* If you run this notebook you can train, interrupt the kernel, evaluate, and continue training later. You can comment out the lines above where the encoder and decoder are initialized (so they aren't reset) or simply run the notebook starting from the following cell."
   ]
  },
  {
   "cell_type": "code",
   "execution_count": 18,
   "metadata": {
    "scrolled": false
   },
   "outputs": [
    {
     "name": "stderr",
     "output_type": "stream",
     "text": [
      "  0%|          | 1/500001 [00:00<22:47:59,  6.09it/s]"
     ]
    },
    {
     "name": "stdout",
     "output_type": "stream",
     "text": [
      "[3, 624, 1248, 2258, 10, 3104, 4229, 12, 16, 16, 16, 42, 32, 19, 33, 21, 80, 23]\n",
      "[3, 929, 9171, 25795, 24, 27011, 13]\n",
      "[3, 5, 37, 54, 3088, 395, 534, 140, 12, 18, 16, 15, 18, 18, 16, 19, 467, 21, 34, 23]\n",
      "[3, 698, 2047, 4078, 240, 698, 1378, 13]\n"
     ]
    },
    {
     "name": "stderr",
     "output_type": "stream",
     "text": [
      "  0%|          | 3/500001 [00:00<24:10:29,  5.75it/s]"
     ]
    },
    {
     "name": "stdout",
     "output_type": "stream",
     "text": [
      "[3, 37, 55, 10, 24284, 12, 16, 13, 14, 18, 41, 42, 32, 19, 195, 21, 67, 23]\n",
      "[3, 3111, 6, 5, 22007, 22007, 24, 12379, 13]\n",
      "[3, 515, 53, 771, 202, 1607, 12, 16, 32, 18, 16, 15, 486, 19, 211, 21, 34, 23]\n",
      "[3, 10466, 1912, 137, 1488, 211, 6130, 13]\n"
     ]
    },
    {
     "name": "stderr",
     "output_type": "stream",
     "text": [
      "  0%|          | 5/500001 [00:00<23:49:21,  5.83it/s]"
     ]
    },
    {
     "name": "stdout",
     "output_type": "stream",
     "text": [
      "[3, 18146, 205, 2475, 9974, 36830, 12, 13, 32, 42, 32, 41, 32, 19, 20, 21, 34, 23]\n",
      "[3, 4, 43560, 24, 6092, 2800, 28799, 13]\n",
      "[3, 786, 89, 84111, 12, 32, 18, 16, 57, 32, 32, 18, 32, 19, 703, 21, 43, 23]\n",
      "[3, 15853, 38, 58, 188, 12707, 347, 240, 23397, 13]\n"
     ]
    },
    {
     "name": "stderr",
     "output_type": "stream",
     "text": [
      "  0%|          | 7/500001 [00:01<23:57:35,  5.80it/s]"
     ]
    },
    {
     "name": "stdout",
     "output_type": "stream",
     "text": [
      "[3, 37, 2655, 5, 12, 33, 16, 13, 42, 32, 19, 33, 21, 80, 23]\n",
      "[3, 3855, 8073, 6, 24, 6783, 13]\n",
      "[3, 5644, 689, 1929, 3938, 10, 32725, 12, 18, 18, 1968, 15, 32, 19, 20, 21, 80, 23]\n",
      "[3, 364, 841, 4268, 732, 6650, 13]\n"
     ]
    },
    {
     "name": "stderr",
     "output_type": "stream",
     "text": [
      "  0%|          | 9/500001 [00:01<21:09:17,  6.57it/s]"
     ]
    },
    {
     "name": "stdout",
     "output_type": "stream",
     "text": [
      "[3, 5, 681, 2339, 12, 13, 65, 16, 19, 211, 21, 84, 23]\n",
      "[3, 6, 980, 901, 13]\n",
      "[3, 2668, 97, 13460, 10, 73613, 12, 16, 16, 65, 19, 33, 21, 84, 23]\n",
      "[3, 58, 119, 2206, 13]\n"
     ]
    },
    {
     "name": "stderr",
     "output_type": "stream",
     "text": [
      "  0%|          | 11/500001 [00:01<21:44:42,  6.39it/s]"
     ]
    },
    {
     "name": "stdout",
     "output_type": "stream",
     "text": [
      "[3, 409, 275, 1028, 37, 10, 61021, 289, 22976, 2677, 22977, 12, 16, 18, 41, 32, 16, 18, 32, 19, 467, 21, 67, 23]\n",
      "[3, 6770, 193, 10722, 31892, 293, 193, 6771, 13]\n",
      "[3, 97, 11454, 10, 12, 64, 18, 16, 19, 33, 21, 84, 23]\n",
      "[3, 53002, 212, 220, 13]\n"
     ]
    },
    {
     "name": "stderr",
     "output_type": "stream",
     "text": [
      "  0%|          | 13/500001 [00:02<21:59:45,  6.31it/s]"
     ]
    },
    {
     "name": "stdout",
     "output_type": "stream",
     "text": [
      "[3, 37, 10, 12084, 10724, 5635, 49876, 12, 13, 42, 32, 32, 32, 16, 13, 19, 155, 21, 67, 23]\n",
      "[3, 16, 24, 4067, 424, 2071, 18241, 16, 13]\n",
      "[3, 181, 351, 3763, 181, 351, 19158, 12, 32, 16, 13, 16, 65, 16, 16, 19, 1236, 21, 67, 23]\n",
      "[3, 127, 279, 206, 81, 532, 291, 581, 13]\n"
     ]
    },
    {
     "name": "stderr",
     "output_type": "stream",
     "text": [
      "  0%|          | 15/500001 [00:02<22:13:33,  6.25it/s]"
     ]
    },
    {
     "name": "stdout",
     "output_type": "stream",
     "text": [
      "[3, 661, 669, 139, 250, 4169, 379, 89, 1604, 12, 16, 64, 42, 65, 19, 467, 21, 74, 23]\n",
      "[3, 7333, 76404, 24, 787, 13]\n",
      "[3, 205, 190, 2617, 4933, 6777, 140, 12, 16, 64, 65, 41, 19, 155, 21, 74, 23]\n",
      "[3, 32774, 15422, 8657, 372, 13]\n"
     ]
    },
    {
     "name": "stderr",
     "output_type": "stream",
     "text": [
      "  0%|          | 17/500001 [00:02<20:04:10,  6.92it/s]"
     ]
    },
    {
     "name": "stdout",
     "output_type": "stream",
     "text": [
      "[3, 598, 15688, 10488, 12, 18, 42, 32, 19, 445, 21, 84, 23]\n",
      "[3, 597, 24, 46621, 13]\n",
      "[3, 5, 10, 709, 5, 10, 2754, 115, 24, 5561, 12, 13, 16, 42, 32, 16, 14, 32, 19, 467, 21, 67, 23]\n",
      "[3, 135, 384, 24, 380, 11764, 5, 6786, 13]\n"
     ]
    },
    {
     "name": "stderr",
     "output_type": "stream",
     "text": [
      "  0%|          | 19/500001 [00:03<21:53:46,  6.34it/s]"
     ]
    },
    {
     "name": "stdout",
     "output_type": "stream",
     "text": [
      "[3, 1467, 37, 661, 9201, 12, 13, 18, 16, 42, 32, 19, 147, 21, 80, 23]\n",
      "[3, 631, 597, 4804, 24, 1907, 13]\n",
      "[3, 14140, 12, 40, 19, 33, 21, 123, 23]\n",
      "[3, 13835, 13]\n"
     ]
    },
    {
     "name": "stderr",
     "output_type": "stream",
     "text": [
      "\r",
      "  0%|          | 21/500001 [00:03<20:46:40,  6.68it/s]"
     ]
    },
    {
     "name": "stdout",
     "output_type": "stream",
     "text": [
      "[3, 2312, 326, 8572, 525, 702, 12, 13, 16, 16, 15, 41, 33, 19, 445, 21, 34, 23]\n",
      "[3, 16, 252, 868, 970, 753, 6520, 13]\n",
      "[3, 157, 269, 10, 614, 528, 129, 1820, 12, 18, 18, 32, 32, 19, 191, 21, 74, 23]\n",
      "[3, 38, 2009, 67, 195, 13]\n"
     ]
    },
    {
     "name": "stderr",
     "output_type": "stream",
     "text": [
      "  0%|          | 23/500001 [00:03<19:47:25,  7.02it/s]"
     ]
    },
    {
     "name": "stdout",
     "output_type": "stream",
     "text": [
      "[3, 1650, 320, 4943, 12, 16, 57, 32, 18, 15, 19, 33, 21, 80, 23]\n",
      "[3, 76, 188, 396, 364, 149, 13]\n",
      "[3, 6035, 259, 192, 83, 879, 2316, 452, 12, 16, 13, 15, 32, 16, 16, 64, 16, 39, 16, 16, 19, 1236, 21, 253, 23]\n",
      "[3, 1269, 16, 86, 388, 150, 18583, 16035, 788, 19, 291, 3384, 13]\n"
     ]
    },
    {
     "name": "stderr",
     "output_type": "stream",
     "text": [
      "  0%|          | 25/500001 [00:04<25:09:55,  5.52it/s]"
     ]
    },
    {
     "name": "stdout",
     "output_type": "stream",
     "text": [
      "[3, 25, 433, 3615, 3438, 10, 1450, 6468, 37, 3092, 362, 5, 12, 136, 16, 18, 16, 42, 65, 13, 19, 33, 21, 67, 23]\n",
      "[3, 15734, 1157, 212, 434, 24, 311, 6, 13]\n",
      "[3, 25531, 3397, 304, 7422, 12, 32, 18, 16, 32, 32, 19, 191, 21, 80, 23]\n",
      "[3, 5277, 73, 129, 12309, 1300, 13]\n"
     ]
    },
    {
     "name": "stderr",
     "output_type": "stream",
     "text": [
      "\r",
      "  0%|          | 26/500001 [00:04<23:52:09,  5.82it/s]"
     ]
    },
    {
     "name": "stdout",
     "output_type": "stream",
     "text": [
      "[3, 910, 9, 10, 1176, 12, 13, 14, 94, 520, 65, 41, 32, 19, 127, 21, 67, 23]\n",
      "[3, 1178, 21, 8269, 440, 980, 79174, 79175, 13]\n",
      "[3, 1420, 8798, 12, 18, 13, 32, 41, 19, 155, 21, 74, 23]\n",
      "[3, 2065, 16, 127, 678, 13]\n"
     ]
    },
    {
     "name": "stderr",
     "output_type": "stream",
     "text": [
      "\r",
      "  0%|          | 28/500001 [00:04<21:12:54,  6.55it/s]"
     ]
    },
    {
     "name": "stdout",
     "output_type": "stream",
     "text": [
      "[3, 37, 7186, 5, 5, 206, 12, 32, 16, 41, 32, 19, 33, 21, 74, 23]\n",
      "[3, 13058, 9674, 66545, 42450, 13]\n",
      "[3, 4403, 1758, 11121, 12, 32, 57, 32, 19, 199, 21, 84, 23]\n",
      "[3, 4240, 1647, 10846, 13]\n"
     ]
    },
    {
     "name": "stderr",
     "output_type": "stream",
     "text": [
      "  0%|          | 31/500001 [00:04<18:33:04,  7.49it/s]"
     ]
    },
    {
     "name": "stdout",
     "output_type": "stream",
     "text": [
      "[3, 1467, 2728, 16999, 3558, 12, 16, 41, 16, 19, 1236, 21, 84, 23]\n",
      "[3, 16638, 3411, 16638, 13]\n",
      "[3, 2940, 552, 344, 5, 1611, 1449, 250, 24633, 12, 14, 32, 73, 16, 16, 42, 15, 32, 486, 569, 19, 41, 21, 261, 23]\n",
      "[3, 5, 388, 2211, 6254, 384, 24, 2776, 70861, 16107, 1308, 13]\n"
     ]
    },
    {
     "name": "stderr",
     "output_type": "stream",
     "text": [
      "\r",
      "  0%|          | 32/500001 [00:04<22:47:51,  6.09it/s]"
     ]
    },
    {
     "name": "stdout",
     "output_type": "stream",
     "text": [
      "[3, 73236, 275, 85845, 25, 7991, 24890, 12, 13, 42, 32, 13, 42, 32, 13, 19, 147, 21, 67, 23]\n",
      "[3, 16, 24, 29630, 16, 24, 2609, 518, 13]\n",
      "[3, 935, 53, 2091, 340, 4355, 7530, 12, 32, 51, 33, 19, 33, 21, 84, 23]\n",
      "[3, 842, 27, 32785, 13]\n"
     ]
    },
    {
     "name": "stderr",
     "output_type": "stream",
     "text": [
      "  0%|          | 35/500001 [00:05<19:20:30,  7.18it/s]"
     ]
    },
    {
     "name": "stdout",
     "output_type": "stream",
     "text": [
      "[3, 188, 275, 71, 140, 192, 275, 896, 12, 16, 32, 33, 19, 20, 21, 84, 23]\n",
      "[3, 1224, 55978, 12578, 13]\n",
      "[3, 614, 13131, 1011, 1403, 12, 32, 41, 32, 19, 191, 21, 84, 23]\n",
      "[3, 2698, 2875, 30187, 13]\n"
     ]
    },
    {
     "name": "stderr",
     "output_type": "stream",
     "text": [
      "  0%|          | 37/500001 [00:05<21:04:11,  6.59it/s]"
     ]
    },
    {
     "name": "stdout",
     "output_type": "stream",
     "text": [
      "[3, 2325, 14984, 12, 13, 18, 15, 136, 32, 32, 16, 42, 19, 79, 21, 43, 23]\n",
      "[3, 1178, 993, 1387, 18935, 7499, 2468, 9292, 24, 13]\n",
      "[3, 19062, 112, 183, 57098, 25, 18876, 10, 1672, 12, 32, 16, 13, 57, 32, 40, 20, 32, 19, 504, 21, 43, 23]\n",
      "[3, 1477, 11315, 57, 4274, 2732, 7379, 5747, 3614, 13]\n"
     ]
    },
    {
     "name": "stderr",
     "output_type": "stream",
     "text": [
      "  0%|          | 39/500001 [00:05<22:50:42,  6.08it/s]"
     ]
    },
    {
     "name": "stdout",
     "output_type": "stream",
     "text": [
      "[3, 3225, 1457, 6403, 11148, 14259, 55916, 12, 18, 16, 32, 40, 32, 19, 20, 21, 80, 23]\n",
      "[3, 3298, 3322, 28732, 5509, 55163, 13]\n",
      "[3, 977, 19202, 12, 64, 40, 19, 211, 21, 128, 23]\n",
      "[3, 887, 18812, 13]\n"
     ]
    },
    {
     "name": "stderr",
     "output_type": "stream",
     "text": [
      "  0%|          | 41/500001 [00:06<22:10:55,  6.26it/s]"
     ]
    },
    {
     "name": "stdout",
     "output_type": "stream",
     "text": [
      "[3, 3508, 10, 119, 3978, 10452, 10, 7455, 12, 32, 42, 32, 16, 32, 42, 40, 19, 1236, 21, 67, 23]\n",
      "[3, 67039, 24, 4466, 10144, 8033, 24, 53867, 13]\n",
      "[3, 4300, 2136, 12, 16, 13, 166, 16, 520, 41, 16, 18, 19, 1236, 21, 43, 23]\n",
      "[3, 7643, 6, 14987, 1211, 440, 166, 1211, 2536, 13]\n"
     ]
    },
    {
     "name": "stderr",
     "output_type": "stream",
     "text": [
      "  0%|          | 43/500001 [00:06<21:32:12,  6.45it/s]"
     ]
    },
    {
     "name": "stdout",
     "output_type": "stream",
     "text": [
      "[3, 4185, 4185, 120, 12, 16, 16, 16, 19, 195, 21, 84, 23]\n",
      "[3, 4032, 4032, 4032, 13]\n",
      "[3, 656, 54, 323, 358, 1776, 37, 363, 664, 12, 16, 32, 16, 16, 32, 16, 19, 1236, 21, 34, 23]\n",
      "[3, 938, 882, 504, 938, 882, 2115, 13]\n"
     ]
    },
    {
     "name": "stderr",
     "output_type": "stream",
     "text": [
      "\r",
      "  0%|          | 44/500001 [00:06<22:17:41,  6.23it/s]"
     ]
    },
    {
     "name": "stdout",
     "output_type": "stream",
     "text": [
      "[3, 4167, 4027, 85, 55, 7815, 676, 5546, 205, 1171, 10, 2211, 12, 136, 32, 136, 32, 13, 65, 16, 42, 136, 32, 19, 211, 21, 261, 23]\n",
      "[3, 4014, 3877, 4014, 3877, 16, 532, 679, 24, 4014, 3877, 13]\n"
     ]
    },
    {
     "name": "stderr",
     "output_type": "stream",
     "text": [
      "  0%|          | 46/500001 [00:07<25:07:20,  5.53it/s]"
     ]
    },
    {
     "name": "stdout",
     "output_type": "stream",
     "text": [
      "[3, 407, 37, 19774, 37, 17816, 12, 93, 32, 41, 93, 32, 41, 19, 147, 21, 34, 23]\n",
      "[3, 272, 450, 10414, 272, 29911, 16281, 13]\n",
      "[3, 414, 702, 689, 15571, 31116, 4424, 17602, 37, 713, 3933, 3961, 12, 93, 635, 41, 16, 13, 18, 16, 32, 19, 445, 21, 43, 23]\n",
      "[3, 47787, 47788, 2344, 224, 6, 16590, 26383, 12812, 13]\n"
     ]
    },
    {
     "name": "stderr",
     "output_type": "stream",
     "text": [
      "\r",
      "  0%|          | 47/500001 [00:07<26:12:33,  5.30it/s]"
     ]
    },
    {
     "name": "stdout",
     "output_type": "stream",
     "text": [
      "[3, 37, 275, 752, 2596, 30, 379, 4813, 453, 12017, 12, 13, 16, 13, 16, 13, 42, 32, 64, 19, 33, 21, 43, 23]\n",
      "[3, 16, 499, 206, 29, 6, 24, 531, 20639, 13]\n"
     ]
    },
    {
     "name": "stderr",
     "output_type": "stream",
     "text": [
      "  0%|          | 49/500001 [00:07<24:22:01,  5.70it/s]"
     ]
    },
    {
     "name": "stdout",
     "output_type": "stream",
     "text": [
      "[3, 10844, 69, 4989, 12, 16, 18, 94, 64, 19, 20, 21, 74, 23]\n",
      "[3, 4840, 993, 527, 33182, 13]\n",
      "[3, 538, 37, 1080, 96, 10464, 10, 8047, 151, 3046, 12, 32, 16, 32, 19, 195, 21, 84, 23]\n",
      "[3, 7813, 105, 2911, 13]\n"
     ]
    },
    {
     "name": "stderr",
     "output_type": "stream",
     "text": [
      "  0%|          | 51/500001 [00:08<22:35:25,  6.15it/s]"
     ]
    },
    {
     "name": "stdout",
     "output_type": "stream",
     "text": [
      "[3, 878, 223, 1477, 5, 12, 13, 18, 16, 16, 14, 13, 19, 33, 21, 34, 23]\n",
      "[3, 16, 236, 145, 58, 5, 30, 13]\n",
      "[3, 323, 10693, 2890, 12, 93, 93, 19, 211, 21, 128, 23]\n",
      "[3, 2759, 2759, 13]\n"
     ]
    },
    {
     "name": "stderr",
     "output_type": "stream",
     "text": [
      "  0%|          | 53/500001 [00:08<20:23:34,  6.81it/s]"
     ]
    },
    {
     "name": "stdout",
     "output_type": "stream",
     "text": [
      "[3, 9614, 37, 95, 12, 13, 41, 42, 16, 39, 19, 79, 21, 80, 23]\n",
      "[3, 148, 941, 24, 29, 19, 13]\n",
      "[3, 25, 18222, 704, 555, 2743, 48544, 10, 3536, 12, 14, 93, 16, 17, 15, 16, 16, 42, 32, 19, 79, 21, 22, 23]\n",
      "[3, 5, 3229, 619, 473, 943, 8322, 30989, 24, 3200, 13]\n"
     ]
    },
    {
     "name": "stderr",
     "output_type": "stream",
     "text": [
      "\r",
      "  0%|          | 54/500001 [00:08<23:37:23,  5.88it/s]"
     ]
    },
    {
     "name": "stdout",
     "output_type": "stream",
     "text": [
      "[3, 557, 2387, 9017, 428, 58, 2828, 12, 16, 32, 42, 41, 19, 191, 21, 74, 23]\n",
      "[3, 8584, 64616, 24, 3601, 13]\n",
      "[3, 88, 37, 323, 1411, 225, 37, 38244, 12, 18, 32, 16, 15, 41, 32, 41, 19, 20, 21, 67, 23]\n",
      "[3, 51, 8462, 252, 3065, 1665, 7575, 79021, 13]\n"
     ]
    },
    {
     "name": "stderr",
     "output_type": "stream",
     "text": [
      "\r",
      "  0%|          | 56/500001 [00:08<22:26:07,  6.19it/s]"
     ]
    },
    {
     "name": "stdout",
     "output_type": "stream",
     "text": [
      "[3, 2377, 40547, 725, 37, 10, 780, 12, 16, 13, 94, 42, 33, 19, 467, 21, 80, 23]\n",
      "[3, 1335, 16, 979, 24, 70783, 13]\n",
      "[3, 183, 5, 791, 25, 37, 1074, 1275, 275, 1046, 10, 5046, 12, 136, 32, 39, 41, 16, 73, 42, 15, 19, 176, 21, 43, 23]\n",
      "[3, 10634, 4190, 19, 372, 901, 1147, 24, 3081, 13]\n"
     ]
    },
    {
     "name": "stderr",
     "output_type": "stream",
     "text": [
      "  0%|          | 59/500001 [00:09<21:38:31,  6.42it/s]"
     ]
    },
    {
     "name": "stdout",
     "output_type": "stream",
     "text": [
      "[3, 572, 2961, 12825, 5789, 12, 14, 32, 16, 16, 41, 19, 79, 21, 80, 23]\n",
      "[3, 491, 67, 303, 875, 3078, 13]\n",
      "[3, 1611, 57702, 37, 61394, 10, 64060, 38954, 12, 18, 16, 13, 16, 13, 19, 147, 21, 80, 23]\n",
      "[3, 63207, 35050, 6, 81, 50741, 13]\n"
     ]
    },
    {
     "name": "stderr",
     "output_type": "stream",
     "text": [
      "\r",
      "  0%|          | 61/500001 [00:09<19:17:53,  7.20it/s]"
     ]
    },
    {
     "name": "stdout",
     "output_type": "stream",
     "text": [
      "[3, 2575, 323, 1414, 12, 18, 64, 19, 1280, 21, 128, 23]\n",
      "[3, 1434, 62539, 13]\n",
      "[3, 192, 4342, 1351, 10, 460, 55, 12, 136, 42, 33, 42, 32, 19, 211, 21, 80, 23]\n",
      "[3, 2075, 24, 1245, 24, 3877, 13]\n"
     ]
    },
    {
     "name": "stderr",
     "output_type": "stream",
     "text": [
      "  0%|          | 63/500001 [00:09<18:51:33,  7.36it/s]"
     ]
    },
    {
     "name": "stdout",
     "output_type": "stream",
     "text": [
      "[3, 25, 3397, 1014, 5265, 12, 13, 16, 16, 19, 20, 21, 84, 23]\n",
      "[3, 7460, 583, 8866, 13]\n",
      "[3, 28634, 17498, 12, 16, 32, 20, 18, 64, 40, 19, 16, 21, 34, 23]\n",
      "[3, 129, 2732, 132, 4544, 28148, 34777, 13]\n"
     ]
    },
    {
     "name": "stderr",
     "output_type": "stream",
     "text": [
      "  0%|          | 65/500001 [00:09<19:43:12,  7.04it/s]"
     ]
    },
    {
     "name": "stdout",
     "output_type": "stream",
     "text": [
      "[3, 2035, 5, 1604, 340, 23146, 236, 12, 41, 42, 32, 17, 19, 33, 21, 74, 23]\n",
      "[3, 1312, 24, 6512, 923, 13]\n",
      "[3, 37, 550, 3088, 245, 1450, 12, 41, 16, 569, 19, 41, 21, 84, 23]\n",
      "[3, 678, 21727, 984, 13]\n"
     ]
    },
    {
     "name": "stderr",
     "output_type": "stream",
     "text": [
      "  0%|          | 67/500001 [00:10<19:24:07,  7.16it/s]"
     ]
    },
    {
     "name": "stdout",
     "output_type": "stream",
     "text": [
      "[3, 30, 1127, 7117, 12, 14, 32, 42, 16, 33, 19, 33, 21, 80, 23]\n",
      "[3, 77, 3050, 24, 1570, 29078, 13]\n",
      "[3, 550, 752, 522, 1493, 5140, 12409, 275, 1423, 12, 13, 41, 42, 32, 16, 41, 42, 13, 19, 33, 21, 43, 23]\n",
      "[3, 57, 3364, 24, 10073, 3410, 840, 24, 206, 13]\n"
     ]
    },
    {
     "name": "stderr",
     "output_type": "stream",
     "text": [
      "\r",
      "  0%|          | 68/500001 [00:10<22:02:59,  6.30it/s]"
     ]
    },
    {
     "name": "stdout",
     "output_type": "stream",
     "text": [
      "[3, 2266, 69, 1858, 53, 12, 32, 32, 51, 19, 79, 21, 84, 23]\n",
      "[3, 538, 23146, 27, 13]\n",
      "[3, 1065, 2731, 26256, 1786, 68941, 39509, 12, 13, 16, 17, 32, 32, 16, 13, 32, 136, 19, 195, 21, 22, 23]\n",
      "[3, 16, 2116, 473, 16426, 15139, 2430, 359, 12309, 2344, 13]\n"
     ]
    },
    {
     "name": "stderr",
     "output_type": "stream",
     "text": [
      "  0%|          | 72/500001 [00:10<19:14:45,  7.22it/s]"
     ]
    },
    {
     "name": "stdout",
     "output_type": "stream",
     "text": [
      "[3, 2608, 37, 515, 10, 899, 12, 13, 16, 13, 16, 32, 32, 19, 195, 21, 34, 23]\n",
      "[3, 6, 95, 16, 2222, 8879, 2861, 13]\n",
      "[3, 2343, 3394, 12, 32, 42, 32, 18, 18, 16, 16, 19, 66, 21, 67, 23]\n",
      "[3, 27501, 24, 6485, 159, 137, 145, 4542, 13]\n",
      "[3, 10472, 555, 10, 691, 2262, 390, 12, 13, 32, 42, 15, 14, 32, 42, 32, 19, 125, 21, 43, 23]\n",
      "[3, 6, 6665, 24, 2485, 608, 39170, 24, 1509, 13]\n"
     ]
    },
    {
     "name": "stderr",
     "output_type": "stream",
     "text": [
      "\r",
      "  0%|          | 74/500001 [00:11<17:12:01,  8.07it/s]"
     ]
    },
    {
     "name": "stdout",
     "output_type": "stream",
     "text": [
      "[3, 5651, 3877, 10, 1037, 103, 438, 879, 12, 32, 16, 39, 41, 41, 42, 32, 19, 211, 21, 67, 23]\n",
      "[3, 7962, 157, 19, 31, 2699, 24, 29, 13]\n",
      "[3, 8185, 24201, 12, 16, 13, 18, 13, 42, 166, 19, 33, 21, 34, 23]\n",
      "[3, 3597, 6, 993, 16, 24, 876, 13]\n",
      "[3, 972, 2929, 3059, 10, 2465, 12, 41, 42, 32, 41, 42, 32, 19, 445, 21, 34, 23]\n",
      "[3, 372, 24, 2732, 372, 24, 450, 13]\n"
     ]
    },
    {
     "name": "stderr",
     "output_type": "stream",
     "text": [
      "  0%|          | 77/500001 [00:11<18:01:20,  7.71it/s]"
     ]
    },
    {
     "name": "stdout",
     "output_type": "stream",
     "text": [
      "[3, 6907, 53, 433, 112, 13614, 196, 53, 12, 16, 51, 16, 39, 41, 32, 19, 79, 21, 34, 23]\n",
      "[3, 7395, 27, 12634, 19, 8718, 13319, 13]\n",
      "[3, 5, 10, 1294, 543, 121, 53, 37, 12, 41, 32, 16, 569, 16, 42, 16, 19, 211, 21, 67, 23]\n",
      "[3, 35692, 6381, 452, 603, 452, 24, 43261, 13]\n"
     ]
    },
    {
     "name": "stderr",
     "output_type": "stream",
     "text": [
      "\r",
      "  0%|          | 79/500001 [00:11<18:00:45,  7.71it/s]"
     ]
    },
    {
     "name": "stdout",
     "output_type": "stream",
     "text": [
      "[3, 19940, 19276, 12, 65, 136, 136, 42, 32, 18, 19, 199, 21, 34, 23]\n",
      "[3, 481, 8970, 14336, 24, 2124, 234, 13]\n",
      "[3, 76692, 10, 76693, 542, 12, 32, 64, 19, 1236, 21, 128, 23]\n",
      "[3, 4326, 10728, 13]\n",
      "[3, 686, 575, 460, 340, 12, 166, 32, 13, 42, 94, 16, 16, 32, 42, 19, 79, 21, 22, 23]\n",
      "[3, 121, 127, 206, 24, 979, 58, 70021, 18215, 24, 13]\n"
     ]
    },
    {
     "name": "stderr",
     "output_type": "stream",
     "text": [
      "  0%|          | 83/500001 [00:12<17:12:45,  8.07it/s]"
     ]
    },
    {
     "name": "stdout",
     "output_type": "stream",
     "text": [
      "[3, 1467, 934, 302, 1871, 6702, 12, 13, 16, 13, 13, 40, 65, 19, 33, 21, 34, 23]\n",
      "[3, 16, 224, 16, 63, 84661, 40, 13]\n",
      "[3, 610, 3033, 525, 97, 10897, 12, 41, 14, 13, 16, 32, 19, 33, 21, 80, 23]\n",
      "[3, 1203, 110, 6, 638, 4533, 13]\n",
      "[3, 250, 53, 770, 37, 302, 1178, 323, 560, 12, 18, 93, 16, 18, 16, 16, 19, 127, 21, 34, 23]\n",
      "[3, 327, 648, 244, 212, 482, 252, 13]\n"
     ]
    },
    {
     "name": "stderr",
     "output_type": "stream",
     "text": [
      "\r",
      "  0%|          | 85/500001 [00:12<16:08:10,  8.61it/s]"
     ]
    },
    {
     "name": "stdout",
     "output_type": "stream",
     "text": [
      "[3, 679, 6, 202, 16173, 112, 25, 5, 503, 12, 13, 16, 18, 32, 16, 93, 18, 41, 42, 40, 19, 504, 21, 261, 23]\n",
      "[3, 6, 265, 2009, 127, 318, 60, 31, 55, 24, 760, 13]\n",
      "[3, 294, 259, 469, 20044, 1714, 323, 11600, 379, 2617, 12, 32, 16, 16, 32, 16, 166, 16, 32, 19, 20, 21, 43, 23]\n",
      "[3, 1548, 482, 13194, 4895, 2666, 121, 252, 7855, 13]\n",
      "[3, 58, 1616, 10, 460, 55, 37, 62, 289, 238, 21185, 12, 13, 18, 16, 13, 15, 94, 19, 317, 21, 34, 23]\n",
      "[3, 6, 451, 5704, 16, 86, 177, 13]\n"
     ]
    },
    {
     "name": "stderr",
     "output_type": "stream",
     "text": [
      "\r",
      "  0%|          | 87/500001 [00:12<15:23:02,  9.03it/s]"
     ]
    },
    {
     "name": "stdout",
     "output_type": "stream",
     "text": [
      "[3, 991, 991, 438, 991, 12, 32, 18, 16, 19, 284, 21, 84, 23]\n",
      "[3, 6452, 283, 64970, 13]\n",
      "[3, 46091, 25, 7295, 1811, 5110, 1230, 12, 13, 16, 40, 32, 19, 504, 21, 74, 23]\n",
      "[3, 148, 5474, 2711, 1946, 13]\n"
     ]
    },
    {
     "name": "stderr",
     "output_type": "stream",
     "text": [
      "\r",
      "  0%|          | 89/500001 [00:12<15:31:22,  8.95it/s]"
     ]
    },
    {
     "name": "stdout",
     "output_type": "stream",
     "text": [
      "[3, 326, 702, 2642, 12, 18, 16, 16, 13, 19, 155, 21, 74, 23]\n",
      "[3, 468, 298, 1516, 16, 13]\n",
      "[3, 2354, 99, 5, 37, 6, 25, 666, 10, 802, 12, 16, 16, 13, 42, 32, 41, 19, 155, 21, 34, 23]\n",
      "[3, 208, 29, 206, 24, 388, 678, 13]\n"
     ]
    },
    {
     "name": "stderr",
     "output_type": "stream",
     "text": [
      "  0%|          | 92/500001 [00:13<17:41:21,  7.85it/s]"
     ]
    },
    {
     "name": "stdout",
     "output_type": "stream",
     "text": [
      "[3, 740, 28279, 392, 1504, 12, 18, 16, 16, 13, 16, 19, 467, 21, 80, 23]\n",
      "[3, 137, 1275, 29, 6, 22506, 13]\n",
      "[3, 37, 1089, 4813, 275, 289, 5, 10, 4857, 12, 13, 18, 18, 16, 166, 32, 19, 33, 21, 34, 23]\n",
      "[3, 16, 993, 4661, 10481, 475, 1616, 13]\n"
     ]
    },
    {
     "name": "stderr",
     "output_type": "stream",
     "text": [
      "\r",
      "  0%|          | 94/500001 [00:13<16:34:16,  8.38it/s]"
     ]
    },
    {
     "name": "stdout",
     "output_type": "stream",
     "text": [
      "[3, 572, 2549, 2985, 12, 13, 33, 19, 467, 21, 128, 23]\n",
      "[3, 6, 33682, 13]\n",
      "[3, 6454, 585, 289, 5607, 586, 470, 465, 225, 567, 12, 16, 32, 16, 42, 32, 19, 87, 21, 80, 23]\n",
      "[3, 1516, 282, 384, 24, 2002, 13]\n"
     ]
    },
    {
     "name": "stderr",
     "output_type": "stream",
     "text": [
      "\r",
      "  0%|          | 95/500001 [00:13<18:03:53,  7.69it/s]"
     ]
    },
    {
     "name": "stdout",
     "output_type": "stream",
     "text": [
      "[3, 34188, 1708, 1624, 313, 4872, 58953, 11730, 6705, 12, 32, 16, 41, 16, 40, 16, 18, 16, 32, 19, 445, 21, 22, 23]\n",
      "[3, 58142, 58143, 58144, 1346, 1105, 3370, 137, 2554, 611, 13]\n"
     ]
    },
    {
     "name": "stderr",
     "output_type": "stream",
     "text": [
      "  0%|          | 98/500001 [00:14<19:14:02,  7.22it/s]"
     ]
    },
    {
     "name": "stdout",
     "output_type": "stream",
     "text": [
      "[3, 691, 689, 6252, 26238, 10, 2754, 12, 16, 41, 42, 32, 19, 125, 21, 74, 23]\n",
      "[3, 5816, 860, 24, 3238, 13]\n",
      "[3, 438, 207, 2983, 37, 3088, 10, 1011, 12, 18, 13, 18, 14, 13, 16, 19, 467, 21, 34, 23]\n",
      "[3, 51, 16, 4494, 77, 206, 95, 13]\n",
      "[3, 116, 8272, 139, 37, 275, 71, 2968, 12, 14, 15, 32, 18, 42, 16, 19, 337, 21, 34, 23]\n",
      "[3, 5, 86, 2834, 520, 24, 1494, 13]\n"
     ]
    },
    {
     "name": "stderr",
     "output_type": "stream",
     "text": [
      "\r",
      "  0%|          | 100/500001 [00:14<18:37:25,  7.46it/s]"
     ]
    },
    {
     "name": "stdout",
     "output_type": "stream",
     "text": [
      "[3, 205, 25, 315, 689, 100, 12, 16, 18, 16, 42, 32, 19, 66, 21, 80, 23]\n",
      "[3, 1231, 31, 22017, 24, 10476, 13]\n",
      "[3, 16506, 5962, 796, 12, 136, 41, 13, 16, 458, 41, 32, 16, 15, 19, 467, 21, 22, 23]\n",
      "[3, 3510, 166, 16, 1031, 387, 1688, 67674, 23338, 286, 13]\n"
     ]
    },
    {
     "name": "stderr",
     "output_type": "stream",
     "text": [
      "  0%|          | 103/500001 [00:14<18:53:58,  7.35it/s]"
     ]
    },
    {
     "name": "stdout",
     "output_type": "stream",
     "text": [
      "[3, 39811, 16782, 68258, 12, 40, 18, 16, 32, 19, 451, 21, 74, 23]\n",
      "[3, 73063, 236, 73064, 20737, 13]\n",
      "[3, 385, 5, 4975, 53, 1860, 12, 13, 42, 13, 18, 16, 19, 125, 21, 80, 23]\n",
      "[3, 33223, 24, 16, 137, 2960, 13]\n",
      "[3, 1567, 323, 595, 697, 12, 16, 41, 18, 94, 19, 445, 21, 74, 23]\n",
      "[3, 99, 678, 2131, 9020, 13]\n"
     ]
    },
    {
     "name": "stderr",
     "output_type": "stream",
     "text": [
      "\r",
      "  0%|          | 105/500001 [00:14<18:20:20,  7.57it/s]"
     ]
    },
    {
     "name": "stdout",
     "output_type": "stream",
     "text": [
      "[3, 2323, 1426, 293, 40653, 313, 5, 553, 12, 16, 6325, 18, 33, 17, 19, 33, 21, 80, 23]\n",
      "[3, 657, 6144, 1897, 8220, 923, 13]\n",
      "[3, 2173, 512, 489, 614, 95, 12, 16, 65, 32, 94, 33, 19, 33, 21, 80, 23]\n",
      "[3, 7898, 796, 4732, 979, 64023, 13]\n"
     ]
    },
    {
     "name": "stderr",
     "output_type": "stream",
     "text": [
      "\r",
      "  0%|          | 106/500001 [00:15<19:07:24,  7.26it/s]"
     ]
    },
    {
     "name": "stdout",
     "output_type": "stream",
     "text": [
      "[3, 37, 25, 2123, 2123, 7934, 3816, 120, 5, 595, 12, 32, 18, 65, 42, 16, 18, 32, 19, 125, 21, 67, 23]\n",
      "[3, 1003, 31, 2586, 24, 320, 993, 44386, 13]\n",
      "[3, 9087, 1705, 5, 336, 16674, 37, 3096, 10, 7640, 12, 16, 51, 32, 18, 41, 14, 13, 16, 16, 16, 19, 191, 21, 261, 23]\n",
      "[3, 12199, 27, 6985, 240, 25259, 21, 6, 12764, 29, 4097, 13]\n"
     ]
    },
    {
     "name": "stderr",
     "output_type": "stream",
     "text": [
      "  0%|          | 109/500001 [00:15<21:59:55,  6.31it/s]"
     ]
    },
    {
     "name": "stdout",
     "output_type": "stream",
     "text": [
      "[3, 37, 68123, 40985, 1878, 45, 702, 2641, 12, 16, 18, 16, 16, 16, 166, 32, 19, 195, 21, 67, 23]\n",
      "[3, 3613, 212, 4762, 29, 58, 876, 765, 13]\n",
      "[3, 192, 223, 4654, 12, 13, 42, 18, 16, 32, 14, 16, 42, 32, 19, 33, 21, 22, 23]\n",
      "[3, 148, 24, 476, 436, 8940, 77, 29, 24, 1451, 13]\n"
     ]
    },
    {
     "name": "stderr",
     "output_type": "stream",
     "text": [
      "  0%|          | 111/500001 [00:15<22:36:54,  6.14it/s]"
     ]
    },
    {
     "name": "stdout",
     "output_type": "stream",
     "text": [
      "[3, 14093, 10, 661, 3859, 2600, 12, 13, 15, 18, 33, 19, 20, 21, 74, 23]\n",
      "[3, 57, 365, 212, 90245, 13]\n",
      "[3, 401, 5, 1089, 37, 799, 12, 64, 16, 16, 73, 16, 32, 19, 211, 21, 34, 23]\n",
      "[3, 10760, 1339, 3129, 197, 1422, 2819, 13]\n"
     ]
    },
    {
     "name": "stderr",
     "output_type": "stream",
     "text": [
      "  0%|          | 113/500001 [00:16<21:36:38,  6.43it/s]"
     ]
    },
    {
     "name": "stdout",
     "output_type": "stream",
     "text": [
      "[3, 55, 5, 1372, 5, 515, 12, 14, 13, 17, 15, 19, 127, 21, 74, 23]\n",
      "[3, 493, 6, 10, 6611, 13]\n",
      "[3, 892, 16193, 202, 879, 892, 515, 10, 202, 515, 12, 18, 18, 16, 64, 19, 155, 21, 74, 23]\n",
      "[3, 1475, 137, 58, 19071, 13]\n"
     ]
    },
    {
     "name": "stderr",
     "output_type": "stream",
     "text": [
      "  0%|          | 116/500001 [00:16<18:36:47,  7.46it/s]"
     ]
    },
    {
     "name": "stdout",
     "output_type": "stream",
     "text": [
      "[3, 1575, 5, 218, 538, 1592, 1379, 10, 37, 12, 14, 32, 19, 284, 21, 128, 23]\n",
      "[3, 77, 7925, 13]\n",
      "[3, 4842, 302, 679, 181, 2647, 12, 65, 16, 32, 16, 13, 18, 41, 19, 467, 21, 67, 23]\n",
      "[3, 1534, 46, 842, 5731, 6, 38, 4340, 13]\n",
      "[3, 144, 37, 4316, 562, 574, 5, 12, 16, 13, 18, 16, 41, 42, 32, 19, 33, 21, 67, 23]\n",
      "[3, 29, 6, 38, 1236, 2260, 24, 45, 13]\n"
     ]
    },
    {
     "name": "stderr",
     "output_type": "stream",
     "text": [
      "\r",
      "  0%|          | 118/500001 [00:16<16:43:06,  8.31it/s]"
     ]
    },
    {
     "name": "stdout",
     "output_type": "stream",
     "text": [
      "[3, 2126, 4586, 7554, 10878, 65142, 12, 40, 13, 18, 16, 19, 125, 21, 74, 23]\n",
      "[3, 586, 16, 11, 33159, 13]\n",
      "[3, 5191, 266, 5, 4558, 5166, 723, 433, 775, 2384, 3194, 323, 5192, 306, 5167, 12, 40, 40, 16, 14, 16, 93, 41, 16, 18, 16, 15, 13, 32, 16, 16, 19, 147, 21, 1618, 23]\n",
      "[3, 5030, 5031, 5040, 110, 1728, 711, 5019, 3736, 778, 252, 2006, 57, 1676, 145, 5020, 13]\n",
      "[3, 58, 4292, 10, 97, 37, 1182, 96, 18904, 887, 1564, 53, 40469, 10, 610, 97, 3913, 10, 610, 597, 274, 36751, 12, 32, 16, 32, 19, 20, 21, 84, 23]\n",
      "[3, 781, 58, 34733, 13]\n"
     ]
    },
    {
     "name": "stderr",
     "output_type": "stream",
     "text": [
      "  0%|          | 121/500001 [00:17<19:08:22,  7.25it/s]"
     ]
    },
    {
     "name": "stdout",
     "output_type": "stream",
     "text": [
      "[3, 37, 1058, 53, 236, 1334, 379, 587, 12, 13, 15, 18, 16, 16, 18, 16, 19, 176, 21, 67, 23]\n",
      "[3, 16, 516, 414, 504, 99, 461, 4865, 13]\n",
      "[3, 85, 24, 1811, 129, 8153, 11983, 12, 13, 16, 16, 19, 125, 21, 84, 23]\n",
      "[3, 6, 145, 579, 13]\n"
     ]
    },
    {
     "name": "stderr",
     "output_type": "stream",
     "text": [
      "\r",
      "  0%|          | 123/500001 [00:17<17:27:44,  7.95it/s]"
     ]
    },
    {
     "name": "stdout",
     "output_type": "stream",
     "text": [
      "[3, 120, 85, 5, 669, 37, 10, 2855, 55, 5, 55, 10, 358, 2293, 358, 1922, 12, 18, 18, 16, 13, 41, 42, 93, 19, 20, 21, 67, 23]\n",
      "[3, 48, 364, 591, 312, 55, 24, 3365, 13]\n",
      "[3, 97, 925, 2647, 53, 24, 615, 24, 55, 10, 296, 463, 988, 12, 32, 65, 16, 32, 16, 16, 16, 41, 19, 211, 21, 43, 23]\n",
      "[3, 6973, 222, 49, 388, 56, 901, 164, 706, 13]\n"
     ]
    },
    {
     "name": "stderr",
     "output_type": "stream",
     "text": [
      "  0%|          | 126/500001 [00:17<18:41:53,  7.43it/s]"
     ]
    },
    {
     "name": "stdout",
     "output_type": "stream",
     "text": [
      "[3, 24, 116, 5, 10, 2119, 14237, 12, 13, 16, 42, 32, 16, 13, 42, 32, 19, 127, 21, 43, 23]\n",
      "[3, 4, 875, 24, 75918, 14259, 6, 24, 13856, 13]\n",
      "[3, 37, 116, 259, 18500, 1087, 259, 257, 12, 65, 13, 14, 13, 32, 13, 18, 16, 41, 19, 141, 21, 22, 23]\n",
      "[3, 787, 198, 77, 16, 18104, 4, 468, 145, 4341, 13]\n",
      "[3, 557, 7039, 10, 702, 25, 96, 3581, 1178, 6366, 12, 486, 486, 32, 18, 18, 16, 14, 14, 32, 94, 19, 445, 21, 261, 23]\n",
      "[3, 962, 90431, 3240, 3947, 137, 58, 5, 110, 29, 14000, 13]\n"
     ]
    },
    {
     "name": "stderr",
     "output_type": "stream",
     "text": [
      "  0%|          | 128/500001 [00:18<21:06:14,  6.58it/s]"
     ]
    },
    {
     "name": "stdout",
     "output_type": "stream",
     "text": [
      "[3, 13594, 112, 82, 295, 12, 18, 16, 16, 19, 66, 21, 84, 23]\n",
      "[3, 461, 321, 890, 13]\n",
      "[3, 37, 11751, 55, 10, 460, 12, 16, 13, 18, 18, 19, 703, 21, 74, 23]\n",
      "[3, 1907, 16, 8581, 11478, 13]\n"
     ]
    },
    {
     "name": "stderr",
     "output_type": "stream",
     "text": [
      "\r",
      "  0%|          | 130/500001 [00:18<18:37:39,  7.45it/s]"
     ]
    },
    {
     "name": "stdout",
     "output_type": "stream",
     "text": [
      "[3, 1504, 3338, 7786, 12, 73, 16, 19, 1236, 21, 128, 23]\n",
      "[3, 665, 581, 13]\n",
      "[3, 97, 8371, 1700, 97, 25368, 1700, 12, 16, 16, 17, 16, 16, 16, 20, 16, 19, 127, 21, 43, 23]\n",
      "[3, 58, 858, 473, 1591, 58, 858, 4263, 1591, 13]\n"
     ]
    },
    {
     "name": "stderr",
     "output_type": "stream",
     "text": [
      "  0%|          | 132/500001 [00:18<21:17:48,  6.52it/s]"
     ]
    },
    {
     "name": "stdout",
     "output_type": "stream",
     "text": [
      "[3, 218, 1169, 45, 37, 390, 5, 12, 18, 13, 41, 42, 32, 19, 211, 21, 80, 23]\n",
      "[3, 993, 16, 6165, 24, 7232, 13]\n",
      "[3, 85, 37, 344, 1562, 675, 2617, 10, 20170, 12, 16, 16, 42, 32, 16, 51, 19, 79, 21, 34, 23]\n",
      "[3, 434, 279, 24, 817, 938, 27, 13]\n"
     ]
    },
    {
     "name": "stderr",
     "output_type": "stream",
     "text": [
      "\r",
      "  0%|          | 133/500001 [00:18<21:57:32,  6.32it/s]"
     ]
    },
    {
     "name": "stdout",
     "output_type": "stream",
     "text": [
      "[3, 9, 202, 51417, 120, 5, 10, 12542, 12, 166, 13, 18, 16, 13, 13, 18, 16, 19, 1280, 21, 43, 23]\n",
      "[3, 1522, 6, 451, 29, 831, 6, 451, 1698, 13]\n"
     ]
    },
    {
     "name": "stderr",
     "output_type": "stream",
     "text": [
      "\r",
      "  0%|          | 134/500001 [00:19<23:47:15,  5.84it/s]"
     ]
    },
    {
     "name": "stdout",
     "output_type": "stream",
     "text": [
      "[3, 716, 2345, 459, 250, 10, 181, 12, 16, 42, 13, 16, 13, 16, 14, 13, 16, 19, 20, 21, 22, 23]\n",
      "[3, 6542, 24, 6, 3664, 595, 306, 232, 28289, 150, 13]\n"
     ]
    },
    {
     "name": "stderr",
     "output_type": "stream",
     "text": [
      "\r",
      "  0%|          | 135/500001 [00:19<25:38:41,  5.41it/s]"
     ]
    },
    {
     "name": "stdout",
     "output_type": "stream",
     "text": [
      "[3, 538, 438, 52, 37, 37, 10, 190, 12, 13, 16, 40, 13, 42, 73, 65, 13, 19, 33, 21, 43, 23]\n",
      "[3, 6, 320, 586, 16, 24, 197, 311, 6, 13]\n",
      "[3, 4240, 1226, 53, 4241, 12, 16, 16, 486, 32, 19, 1236, 21, 74, 23]\n",
      "[3, 29, 1488, 4089, 4090, 13]\n"
     ]
    },
    {
     "name": "stderr",
     "output_type": "stream",
     "text": [
      "  0%|          | 138/500001 [00:19<22:50:07,  6.08it/s]"
     ]
    },
    {
     "name": "stdout",
     "output_type": "stream",
     "text": [
      "[3, 878, 8431, 10, 899, 12, 65, 16, 13, 16, 13, 41, 19, 79, 21, 34, 23]\n",
      "[3, 9280, 29, 6, 49, 6, 138, 13]\n",
      "[3, 465, 1178, 97, 205, 192, 860, 10, 24, 12, 13, 16, 16, 16, 13, 42, 32, 19, 41, 21, 67, 23]\n",
      "[3, 6, 890, 306, 13874, 6, 24, 2267, 13]\n"
     ]
    },
    {
     "name": "stderr",
     "output_type": "stream",
     "text": [
      "\r",
      "  0%|          | 140/500001 [00:19<21:26:01,  6.48it/s]"
     ]
    },
    {
     "name": "stdout",
     "output_type": "stream",
     "text": [
      "[3, 9003, 7593, 820, 71085, 12, 32, 20, 32, 32, 16, 16, 19, 125, 21, 34, 23]\n",
      "[3, 531, 443, 12792, 70184, 3037, 3037, 13]\n",
      "[3, 988, 12, 16, 18, 40, 19, 260, 21, 84, 23]\n",
      "[3, 58, 468, 75454, 13]\n"
     ]
    },
    {
     "name": "stderr",
     "output_type": "stream",
     "text": [
      "\r",
      "  0%|          | 141/500001 [00:20<19:53:21,  6.98it/s]"
     ]
    },
    {
     "name": "stdout",
     "output_type": "stream",
     "text": [
      "[3, 12995, 2334, 254, 10201, 6852, 12, 93, 42, 16, 41, 41, 19, 147, 21, 80, 23]\n",
      "[3, 1423, 24, 2678, 31886, 6720, 13]\n",
      "[3, 181, 351, 1481, 12, 16, 13, 17, 19, 127, 21, 84, 23]\n",
      "[3, 1497, 6, 1398, 13]\n"
     ]
    },
    {
     "name": "stderr",
     "output_type": "stream",
     "text": [
      "  0%|          | 144/500001 [00:20<20:19:39,  6.83it/s]"
     ]
    },
    {
     "name": "stdout",
     "output_type": "stream",
     "text": [
      "[3, 5, 9019, 29235, 12, 1234, 40, 42, 32, 16, 40, 32, 19, 33, 21, 67, 23]\n",
      "[3, 3340, 62527, 24, 41494, 62528, 5592, 31734, 13]\n",
      "[3, 1596, 5, 6777, 8624, 989, 6113, 183, 45, 13929, 12, 16, 32, 32, 13, 18, 32, 32, 18, 32, 19, 191, 21, 22, 23]\n",
      "[3, 602, 5659, 3950, 6, 12227, 531, 5106, 17435, 12830, 13]\n"
     ]
    },
    {
     "name": "stderr",
     "output_type": "stream",
     "text": [
      "\r",
      "  0%|          | 146/500001 [00:20<18:43:24,  7.42it/s]"
     ]
    },
    {
     "name": "stdout",
     "output_type": "stream",
     "text": [
      "[3, 49611, 12, 16, 16, 32, 19, 66, 21, 84, 23]\n",
      "[3, 788, 61506, 1887, 13]\n",
      "[3, 4232, 323, 1438, 12, 16, 635, 16, 14, 73, 19, 147, 21, 80, 23]\n",
      "[3, 252, 861, 576, 5, 1331, 13]\n"
     ]
    },
    {
     "name": "stderr",
     "output_type": "stream",
     "text": [
      "\r",
      "  0%|          | 148/500001 [00:20<18:33:00,  7.48it/s]"
     ]
    },
    {
     "name": "stdout",
     "output_type": "stream",
     "text": [
      "[3, 30, 69, 303, 53, 5, 879, 250, 12, 32, 16, 520, 18, 15, 41, 19, 445, 21, 34, 23]\n",
      "[3, 181, 1273, 440, 230, 286, 2327, 13]\n",
      "[3, 5122, 661, 581, 53, 17398, 12, 18, 93, 18, 18, 13, 19, 147, 21, 80, 23]\n",
      "[3, 1475, 60, 327, 451, 518, 13]\n"
     ]
    },
    {
     "name": "stderr",
     "output_type": "stream",
     "text": [
      "\r",
      "  0%|          | 150/500001 [00:21<18:25:11,  7.54it/s]"
     ]
    },
    {
     "name": "stdout",
     "output_type": "stream",
     "text": [
      "[3, 543, 181, 392, 323, 259, 12, 18, 16, 16, 13, 42, 32, 19, 380, 21, 34, 23]\n",
      "[3, 451, 46, 6741, 6, 24, 14928, 13]\n",
      "[3, 2848, 6, 81, 438, 1320, 896, 12, 65, 13, 18, 16, 16, 19, 147, 21, 80, 23]\n",
      "[3, 816, 148, 137, 164, 2519, 13]\n"
     ]
    },
    {
     "name": "stderr",
     "output_type": "stream",
     "text": [
      "\r",
      "  0%|          | 152/500001 [00:21<18:37:08,  7.46it/s]"
     ]
    },
    {
     "name": "stdout",
     "output_type": "stream",
     "text": [
      "[3, 532, 513, 1034, 5647, 12, 18, 13, 16, 18, 18, 16, 13, 19, 155, 21, 67, 23]\n",
      "[3, 152, 6, 58, 52, 461, 1497, 16, 13]\n",
      "[3, 5, 10, 3911, 1320, 91, 37, 30, 1140, 351, 12, 16, 32, 136, 65, 16, 16, 19, 1236, 21, 34, 23]\n",
      "[3, 164, 1676, 2259, 532, 145, 6221, 13]\n"
     ]
    },
    {
     "name": "stderr",
     "output_type": "stream",
     "text": [
      "  0%|          | 154/500001 [00:21<19:07:30,  7.26it/s]"
     ]
    },
    {
     "name": "stdout",
     "output_type": "stream",
     "text": [
      "[3, 702, 2235, 7846, 1490, 62214, 12, 635, 65, 41, 19, 141, 21, 84, 23]\n",
      "[3, 2675, 222, 981, 13]\n",
      "[3, 37, 355, 35, 798, 918, 12, 14, 13, 16, 51, 13, 166, 19, 127, 21, 34, 23]\n",
      "[3, 110, 6, 2469, 27, 16, 475, 13]\n"
     ]
    },
    {
     "name": "stderr",
     "output_type": "stream",
     "text": [
      "\r",
      "  0%|          | 155/500001 [00:21<20:18:33,  6.84it/s]"
     ]
    },
    {
     "name": "stdout",
     "output_type": "stream",
     "text": [
      "[3, 5, 889, 92, 12, 13, 18, 41, 19, 20, 21, 84, 23]\n",
      "[3, 6, 798, 55, 13]\n",
      "[3, 535, 18237, 27655, 12, 15, 18, 15, 19, 125, 21, 84, 23]\n",
      "[3, 934, 193, 934, 13]\n"
     ]
    },
    {
     "name": "stderr",
     "output_type": "stream",
     "text": [
      "  0%|          | 159/500001 [00:22<17:05:10,  8.13it/s]"
     ]
    },
    {
     "name": "stdout",
     "output_type": "stream",
     "text": [
      "[3, 48689, 7194, 10, 24, 9229, 79348, 10, 1820, 12, 16, 458, 32, 32, 40, 32, 32, 40, 19, 703, 21, 43, 23]\n",
      "[3, 1014, 387, 49406, 55343, 28276, 56538, 52509, 4719, 13]\n",
      "[3, 151, 1493, 2376, 1019, 1892, 205, 49679, 11171, 12, 40, 13, 166, 14, 13, 16, 42, 16, 19, 195, 21, 43, 23]\n",
      "[3, 72571, 6, 121, 491, 206, 10163, 24, 129, 13]\n",
      "[3, 37, 2178, 53, 129, 489, 30, 763, 17980, 12, 13, 42, 32, 16, 166, 32, 41, 32, 15, 41, 19, 66, 21, 261, 23]\n",
      "[3, 6, 24, 7280, 5691, 475, 140, 166, 618, 2261, 2742, 13]\n"
     ]
    },
    {
     "name": "stderr",
     "output_type": "stream",
     "text": [
      "\r",
      "  0%|          | 161/500001 [00:22<16:51:30,  8.24it/s]"
     ]
    },
    {
     "name": "stdout",
     "output_type": "stream",
     "text": [
      "[3, 37, 4189, 97, 5, 4234, 872, 12, 41, 18, 16, 41, 19, 127, 21, 74, 23]\n",
      "[3, 6045, 137, 119, 6046, 13]\n",
      "[3, 344, 205, 4278, 662, 89, 90, 304, 3334, 12, 16, 32, 13, 18, 16, 18, 16, 16, 19, 317, 21, 43, 23]\n",
      "[3, 252, 836, 198, 137, 5693, 212, 31259, 3289, 13]\n"
     ]
    },
    {
     "name": "stderr",
     "output_type": "stream",
     "text": [
      "\r",
      "  0%|          | 163/500001 [00:22<16:04:20,  8.64it/s]"
     ]
    },
    {
     "name": "stdout",
     "output_type": "stream",
     "text": [
      "[3, 358, 97, 25, 623, 71106, 340, 71107, 10, 12, 13, 42, 19, 79, 21, 128, 23]\n",
      "[3, 831, 24, 13]\n",
      "[3, 5, 336, 664, 37, 25, 55, 5, 12, 13, 14, 13, 18, 16, 19, 211, 21, 80, 23]\n",
      "[3, 135, 77, 16, 212, 13408, 13]\n"
     ]
    },
    {
     "name": "stderr",
     "output_type": "stream",
     "text": [
      "\r",
      "  0%|          | 165/500001 [00:23<17:10:52,  8.08it/s]"
     ]
    },
    {
     "name": "stdout",
     "output_type": "stream",
     "text": [
      "[3, 88, 37, 574, 5, 10, 55, 890, 5, 120, 10, 358, 12, 18, 64, 14, 13, 16, 42, 18, 19, 467, 21, 67, 23]\n",
      "[3, 51, 1132, 799, 6, 81, 24, 70288, 13]\n",
      "[3, 1989, 3982, 2730, 780, 12, 13, 33, 16, 13, 16, 42, 19, 79, 21, 34, 23]\n",
      "[3, 790, 16594, 49, 16, 1142, 24, 13]\n"
     ]
    },
    {
     "name": "stderr",
     "output_type": "stream",
     "text": [
      "  0%|          | 167/500001 [00:23<20:17:27,  6.84it/s]"
     ]
    },
    {
     "name": "stdout",
     "output_type": "stream",
     "text": [
      "[3, 7048, 97, 764, 47, 90167, 25, 5622, 12, 13, 16, 13, 93, 42, 32, 19, 284, 21, 34, 23]\n",
      "[3, 16, 58, 6, 68, 24, 2879, 13]\n",
      "[3, 37, 1089, 55, 5, 10, 988, 988, 3047, 12, 14, 13, 16, 14, 13, 16, 40, 19, 211, 21, 67, 23]\n",
      "[3, 493, 16, 29, 493, 16, 29, 38882, 13]\n"
     ]
    },
    {
     "name": "stderr",
     "output_type": "stream",
     "text": [
      "\r",
      "  0%|          | 169/500001 [00:23<18:10:31,  7.64it/s]"
     ]
    },
    {
     "name": "stdout",
     "output_type": "stream",
     "text": [
      "[3, 30, 13208, 12281, 942, 12, 32, 16, 32, 16, 42, 19, 79, 21, 80, 23]\n",
      "[3, 34213, 58, 9458, 8332, 24, 13]\n",
      "[3, 1379, 5, 379, 8615, 37, 12, 155, 16, 39, 32, 42, 40, 19, 380, 21, 34, 23]\n",
      "[3, 12120, 278, 19, 12121, 24, 12122, 13]\n",
      "[3, 428, 266, 81, 323, 5, 10, 55, 12, 13, 16, 13, 16, 19, 199, 21, 74, 23]\n",
      "[3, 16, 1277, 595, 4198, 13]\n"
     ]
    },
    {
     "name": "stderr",
     "output_type": "stream",
     "text": [
      "  0%|          | 172/500001 [00:23<18:40:04,  7.44it/s]"
     ]
    },
    {
     "name": "stdout",
     "output_type": "stream",
     "text": [
      "[3, 2114, 192, 414, 24, 2617, 53, 12, 13, 16, 42, 32, 16, 41, 19, 1236, 21, 34, 23]\n",
      "[3, 16, 14173, 24, 531, 3934, 3667, 13]\n",
      "[3, 196, 544, 5503, 112, 664, 12, 16, 13, 65, 64, 19, 1236, 21, 74, 23]\n",
      "[3, 265, 16, 481, 2920, 13]\n"
     ]
    },
    {
     "name": "stderr",
     "output_type": "stream",
     "text": [
      "  0%|          | 175/500001 [00:24<16:22:25,  8.48it/s]"
     ]
    },
    {
     "name": "stdout",
     "output_type": "stream",
     "text": [
      "[3, 25, 8602, 764, 16464, 2892, 12, 16, 93, 32, 19, 467, 21, 84, 23]\n",
      "[3, 1487, 319, 13592, 13]\n",
      "[3, 5, 69, 202, 4332, 12, 16, 18, 16, 19, 211, 21, 84, 23]\n",
      "[3, 1390, 212, 702, 13]\n",
      "[3, 259, 69, 725, 2250, 12, 65, 13, 16, 13, 65, 18, 16, 19, 79, 21, 67, 23]\n",
      "[3, 816, 6, 95, 148, 2689, 212, 7000, 13]\n"
     ]
    },
    {
     "name": "stderr",
     "output_type": "stream",
     "text": [
      "\r",
      "  0%|          | 177/500001 [00:24<16:42:31,  8.31it/s]"
     ]
    },
    {
     "name": "stdout",
     "output_type": "stream",
     "text": [
      "[3, 6491, 911, 40728, 3549, 161, 28507, 157, 340, 346, 45494, 12, 14, 13, 32, 32, 18, 16, 19, 141, 21, 34, 23]\n",
      "[3, 5, 57, 922, 7855, 240, 14101, 13]\n",
      "[3, 849, 69, 849, 4189, 1286, 12, 13, 41, 16, 15, 16, 19, 211, 21, 80, 23]\n",
      "[3, 16, 3912, 2357, 970, 1505, 13]\n"
     ]
    },
    {
     "name": "stderr",
     "output_type": "stream",
     "text": [
      "\r",
      "  0%|          | 179/500001 [00:24<15:00:37,  9.25it/s]"
     ]
    },
    {
     "name": "stdout",
     "output_type": "stream",
     "text": [
      "[3, 85, 238, 355, 1197, 2614, 3009, 12, 16, 16, 32, 14, 19, 284, 21, 74, 23]\n",
      "[3, 788, 5731, 2638, 77, 13]\n",
      "[3, 1444, 925, 2162, 69320, 12, 16, 16, 213, 41, 19, 20, 21, 74, 23]\n",
      "[3, 145, 64, 53, 968, 13]\n",
      "[3, 359, 1080, 112, 1467, 12, 13, 65, 18, 16, 13, 42, 16, 19, 211, 21, 67, 23]\n",
      "[3, 16, 481, 31, 969, 16, 24, 994, 13]\n"
     ]
    },
    {
     "name": "stderr",
     "output_type": "stream",
     "text": [
      "  0%|          | 182/500001 [00:24<16:06:35,  8.62it/s]"
     ]
    },
    {
     "name": "stdout",
     "output_type": "stream",
     "text": [
      "[3, 37, 97, 129, 17605, 12, 13, 16, 14, 19, 41, 21, 84, 23]\n",
      "[3, 16, 306, 491, 13]\n",
      "[3, 15223, 2624, 2624, 10, 37, 12, 32, 13, 16, 16, 1968, 32, 17, 19, 147, 21, 67, 23]\n",
      "[3, 3716, 16, 306, 2607, 7382, 11135, 473, 13]\n",
      "[3, 6602, 6094, 10, 11386, 97, 37, 1158, 12, 40, 32, 136, 14, 32, 19, 147, 21, 80, 23]\n",
      "[3, 6401, 44328, 1136, 5, 4882, 13]\n"
     ]
    },
    {
     "name": "stderr",
     "output_type": "stream",
     "text": [
      "\r",
      "  0%|          | 184/500001 [00:25<14:37:18,  9.50it/s]"
     ]
    },
    {
     "name": "stdout",
     "output_type": "stream",
     "text": [
      "[3, 323, 4030, 1073, 37, 6, 1341, 1397, 12, 93, 13, 18, 16, 32, 16, 19, 127, 21, 34, 23]\n",
      "[3, 1364, 16, 1997, 2146, 1797, 434, 13]\n",
      "[3, 33457, 33458, 1068, 33459, 5, 786, 1337, 1787, 112, 71, 1337, 37, 12, 40, 18, 16, 141, 42, 32, 19, 445, 21, 34, 23]\n",
      "[3, 32905, 31, 384, 639, 24, 624, 13]\n"
     ]
    },
    {
     "name": "stderr",
     "output_type": "stream",
     "text": [
      "  0%|          | 188/500001 [00:25<14:17:03,  9.72it/s]"
     ]
    },
    {
     "name": "stdout",
     "output_type": "stream",
     "text": [
      "[3, 69, 1386, 16958, 5, 1493, 460, 10, 849, 12, 569, 569, 569, 569, 569, 569, 569, 569, 569, 569, 19, 41, 21, 261, 23]\n",
      "[3, 489, 489, 489, 489, 489, 489, 489, 489, 489, 489, 13]\n",
      "[3, 287, 1615, 3508, 2815, 37, 269, 12, 65, 64, 17, 16, 51, 13, 19, 33, 21, 34, 23]\n",
      "[3, 222, 1243, 277, 602, 27, 6, 13]\n",
      "[3, 259, 139, 1013, 97, 933, 10, 12, 65, 18, 16, 32, 32, 51, 19, 79, 21, 34, 23]\n",
      "[3, 4918, 193, 58, 950, 36337, 27, 13]\n"
     ]
    },
    {
     "name": "stderr",
     "output_type": "stream",
     "text": [
      "\r",
      "  0%|          | 190/500001 [00:25<13:36:10, 10.21it/s]"
     ]
    },
    {
     "name": "stdout",
     "output_type": "stream",
     "text": [
      "[3, 62496, 485, 7529, 12, 93, 486, 18, 16, 19, 703, 21, 74, 23]\n",
      "[3, 407, 1320, 364, 7243, 13]\n",
      "[3, 1672, 10, 460, 1263, 45, 319, 2997, 56872, 12, 16, 458, 32, 42, 32, 16, 14, 32, 19, 147, 21, 43, 23]\n",
      "[3, 3164, 387, 13951, 24, 3215, 471, 5, 33529, 13]\n",
      "[3, 17032, 923, 12, 16, 32, 19, 147, 21, 128, 23]\n",
      "[3, 3181, 13500, 13]\n"
     ]
    },
    {
     "name": "stderr",
     "output_type": "stream",
     "text": [
      "\r",
      "  0%|          | 192/500001 [00:25<13:23:02, 10.37it/s]"
     ]
    },
    {
     "name": "stdout",
     "output_type": "stream",
     "text": [
      "[3, 76776, 78751, 1493, 1889, 112, 2734, 274, 1089, 983, 10, 181, 12, 15, 57, 15, 136, 15, 93, 15, 16, 13, 13, 18, 18, 16, 19, 176, 21, 897, 23]\n",
      "[3, 494, 453, 1387, 939, 23674, 14369, 2117, 125, 16, 96, 137, 212, 200, 13]\n"
     ]
    },
    {
     "name": "stderr",
     "output_type": "stream",
     "text": [
      "\r",
      "  0%|          | 194/500001 [00:26<18:54:51,  7.34it/s]"
     ]
    },
    {
     "name": "stdout",
     "output_type": "stream",
     "text": [
      "[3, 8787, 536, 29048, 5973, 12, 16, 16, 16, 42, 13, 13, 19, 155, 21, 34, 23]\n",
      "[3, 14349, 759, 2135, 24, 6, 16, 13]\n",
      "[3, 3429, 536, 12, 18, 16, 13, 32, 39, 13, 19, 155, 21, 34, 23]\n",
      "[3, 73, 129, 6, 15541, 19, 16, 13]\n"
     ]
    },
    {
     "name": "stderr",
     "output_type": "stream",
     "text": [
      "\r",
      "  0%|          | 195/500001 [00:26<20:01:16,  6.93it/s]"
     ]
    },
    {
     "name": "stdout",
     "output_type": "stream",
     "text": [
      "[3, 2173, 5053, 188, 90, 1011, 12, 18, 16, 16, 32, 13, 18, 16, 32, 19, 141, 21, 43, 23]\n",
      "[3, 364, 991, 862, 13930, 6, 414, 1157, 19277, 13]\n",
      "[3, 5, 139, 5, 1068, 103, 5482, 1876, 12, 18, 16, 13, 18, 18, 41, 16, 13, 19, 41, 21, 43, 23]\n",
      "[3, 11, 2210, 16, 48, 230, 460, 2469, 831, 13]\n"
     ]
    },
    {
     "name": "stderr",
     "output_type": "stream",
     "text": [
      "  0%|          | 198/500001 [00:26<20:25:10,  6.80it/s]"
     ]
    },
    {
     "name": "stdout",
     "output_type": "stream",
     "text": [
      "[3, 734, 38778, 37, 16257, 5, 12, 15, 32, 14, 32, 17, 19, 33, 21, 80, 23]\n",
      "[3, 1232, 531, 5, 2632, 923, 13]\n",
      "[3, 16771, 2182, 957, 384, 12, 16, 40, 16, 32, 19, 20, 21, 74, 23]\n",
      "[3, 16412, 16413, 5835, 16414, 13]\n"
     ]
    },
    {
     "name": "stderr",
     "output_type": "stream",
     "text": [
      "\r",
      "  0%|          | 200/500001 [00:27<18:17:12,  7.59it/s]"
     ]
    },
    {
     "name": "stdout",
     "output_type": "stream",
     "text": [
      "[3, 5, 350, 764, 25, 2188, 726, 10, 10740, 10, 12, 32, 16, 13, 506, 41, 16, 32, 16, 32, 136, 19, 79, 21, 261, 23]\n",
      "[3, 2969, 58, 57, 428, 2880, 49, 388, 847, 530, 23500, 13]\n",
      "[3, 205, 206, 572, 433, 3787, 198, 12, 16, 33, 19, 147, 21, 128, 23]\n",
      "[3, 837, 42028, 13]\n"
     ]
    },
    {
     "name": "stderr",
     "output_type": "stream",
     "text": [
      "  0%|          | 203/500001 [00:27<16:01:41,  8.66it/s]"
     ]
    },
    {
     "name": "stdout",
     "output_type": "stream",
     "text": [
      "[3, 10304, 10, 489, 12, 16, 13, 508, 94, 42, 16, 19, 147, 21, 34, 23]\n",
      "[3, 278, 16, 1495, 9020, 24, 44093, 13]\n",
      "[3, 1994, 10, 2502, 376, 53, 228, 12, 65, 18, 16, 16, 16, 42, 57, 65, 32, 19, 79, 21, 22, 23]\n",
      "[3, 242, 38, 991, 940, 1979, 24, 573, 316, 433, 13]\n",
      "[3, 3666, 887, 36782, 12, 65, 16, 16, 40, 19, 199, 21, 74, 23]\n",
      "[3, 1681, 150, 6678, 81185, 13]\n"
     ]
    },
    {
     "name": "stderr",
     "output_type": "stream",
     "text": [
      "\r",
      "  0%|          | 205/500001 [00:27<15:06:28,  9.19it/s]"
     ]
    },
    {
     "name": "stdout",
     "output_type": "stream",
     "text": [
      "[3, 37, 96, 293, 112, 355, 5522, 12, 13, 16, 13, 18, 41, 19, 191, 21, 80, 23]\n",
      "[3, 16, 581, 16, 212, 175, 13]\n",
      "[3, 2958, 37, 25, 350, 23931, 689, 10, 456, 12, 13, 16, 13, 16, 19, 33, 21, 74, 23]\n",
      "[3, 1178, 95, 48, 2469, 13]\n",
      "[3, 5, 10, 88811, 37, 10, 12844, 12, 18, 14, 15, 19, 33, 21, 84, 23]\n",
      "[3, 159, 5, 149, 13]\n"
     ]
    },
    {
     "name": "stderr",
     "output_type": "stream",
     "text": [
      "  0%|          | 209/500001 [00:28<14:03:42,  9.87it/s]"
     ]
    },
    {
     "name": "stdout",
     "output_type": "stream",
     "text": [
      "[3, 646, 18759, 12, 40, 40, 19, 87, 21, 128, 23]\n",
      "[3, 4244, 9102, 13]\n",
      "[3, 37, 3180, 5, 10, 641, 5264, 3893, 9346, 12, 18, 16, 18, 41, 18, 18, 41, 19, 33, 21, 67, 23]\n",
      "[3, 3298, 511, 3298, 678, 73, 3298, 3364, 13]\n",
      "[3, 838, 3104, 620, 358, 12, 65, 13, 41, 19, 79, 21, 84, 23]\n",
      "[3, 816, 16, 138, 13]\n"
     ]
    },
    {
     "name": "stderr",
     "output_type": "stream",
     "text": [
      "\r",
      "  0%|          | 211/500001 [00:28<15:24:56,  9.01it/s]"
     ]
    },
    {
     "name": "stdout",
     "output_type": "stream",
     "text": [
      "[3, 513, 6781, 7733, 12, 16, 520, 13, 32, 486, 19, 445, 21, 80, 23]\n",
      "[3, 13829, 440, 831, 36310, 36325, 13]\n",
      "[3, 120, 129, 460, 3033, 2413, 12, 64, 32, 16, 508, 16, 19, 337, 21, 80, 23]\n",
      "[3, 2665, 167, 145, 432, 6812, 13]\n"
     ]
    },
    {
     "name": "stderr",
     "output_type": "stream",
     "text": [
      "  0%|          | 214/500001 [00:28<15:51:15,  8.76it/s]"
     ]
    },
    {
     "name": "stdout",
     "output_type": "stream",
     "text": [
      "[3, 259, 2047, 15760, 12, 16, 16, 14, 32, 19, 20, 21, 74, 23]\n",
      "[3, 10293, 35351, 110, 10314, 13]\n",
      "[3, 254, 255, 572, 1580, 2117, 12, 18, 213, 40, 32, 13, 16, 16, 19, 191, 21, 67, 23]\n",
      "[3, 597, 16111, 17970, 25620, 198, 788, 4011, 13]\n",
      "[3, 1263, 37, 3596, 758, 10, 1504, 12, 16, 13, 15, 32, 16, 42, 41, 19, 155, 21, 67, 23]\n",
      "[3, 1092, 16, 86, 388, 10051, 24, 678, 13]\n"
     ]
    },
    {
     "name": "stderr",
     "output_type": "stream",
     "text": [
      "\r",
      "  0%|          | 216/500001 [00:28<15:55:32,  8.72it/s]"
     ]
    },
    {
     "name": "stdout",
     "output_type": "stream",
     "text": [
      "[3, 183, 9186, 601, 25, 29444, 3090, 12, 13, 18, 42, 33, 19, 199, 21, 74, 23]\n",
      "[3, 359, 597, 24, 23932, 13]\n",
      "[3, 3764, 10199, 25, 3346, 12, 13, 18, 16, 19, 33, 21, 84, 23]\n",
      "[3, 4, 42414, 19557, 13]\n"
     ]
    },
    {
     "name": "stderr",
     "output_type": "stream",
     "text": [
      "\r",
      "  0%|          | 217/500001 [00:28<16:07:39,  8.61it/s]"
     ]
    },
    {
     "name": "stdout",
     "output_type": "stream",
     "text": [
      "[3, 37, 97, 67776, 67777, 30375, 10665, 67778, 2691, 12, 32, 32, 73, 16, 32, 16, 16, 32, 19, 380, 21, 43, 23]\n",
      "[3, 628, 2307, 13148, 45217, 27711, 1938, 255, 604, 13]\n"
     ]
    },
    {
     "name": "stderr",
     "output_type": "stream",
     "text": [
      "  0%|          | 219/500001 [00:29<19:29:38,  7.12it/s]"
     ]
    },
    {
     "name": "stdout",
     "output_type": "stream",
     "text": [
      "[3, 1125, 85, 196, 2604, 5, 12, 16, 13, 42, 166, 19, 33, 21, 74, 23]\n",
      "[3, 1769, 16, 24, 876, 13]\n",
      "[3, 7705, 5, 112, 590, 9133, 364, 12, 16, 16, 32, 16, 16, 32, 19, 33, 21, 34, 23]\n",
      "[3, 306, 875, 812, 306, 252, 45, 13]\n"
     ]
    },
    {
     "name": "stderr",
     "output_type": "stream",
     "text": [
      "\r",
      "  0%|          | 220/500001 [00:29<20:38:16,  6.73it/s]"
     ]
    },
    {
     "name": "stdout",
     "output_type": "stream",
     "text": [
      "[3, 1355, 10, 5476, 192, 157, 5, 7775, 18911, 12, 13, 65, 13, 42, 32, 41, 16, 16, 17, 19, 125, 21, 22, 23]\n",
      "[3, 6, 316, 16, 24, 189, 49608, 1375, 4612, 3990, 13]\n",
      "[3, 36002, 2333, 21957, 5855, 10, 463, 12, 41, 42, 292, 16, 39, 18, 16, 13, 19, 41, 21, 43, 23]\n",
      "[3, 1006, 24, 6636, 1231, 19, 590, 2499, 1178, 13]\n"
     ]
    },
    {
     "name": "stderr",
     "output_type": "stream",
     "text": [
      "\r",
      "  0%|          | 222/500001 [00:29<20:39:50,  6.72it/s]"
     ]
    },
    {
     "name": "stdout",
     "output_type": "stream",
     "text": [
      "[3, 188, 6957, 6, 81, 14664, 12, 65, 18, 41, 213, 41, 19, 317, 21, 80, 23]\n",
      "[3, 596, 230, 4128, 53, 4959, 13]\n",
      "[3, 5, 5133, 7961, 1786, 37, 12, 16, 51, 32, 16, 41, 18, 16, 16, 19, 467, 21, 43, 23]\n",
      "[3, 1335, 27, 17026, 49, 678, 1801, 265, 1802, 13]\n"
     ]
    },
    {
     "name": "stderr",
     "output_type": "stream",
     "text": [
      "  0%|          | 225/500001 [00:30<19:05:42,  7.27it/s]"
     ]
    },
    {
     "name": "stdout",
     "output_type": "stream",
     "text": [
      "[3, 13815, 4189, 22278, 254, 1461, 45, 3418, 12, 16, 51, 32, 18, 16, 15, 13, 19, 33, 21, 67, 23]\n",
      "[3, 3134, 27, 24867, 11, 2677, 86, 6, 13]\n",
      "[3, 4403, 9344, 12, 16, 19, 127, 21, 123, 23]\n",
      "[3, 4245, 13]\n"
     ]
    },
    {
     "name": "stderr",
     "output_type": "stream",
     "text": [
      "\r",
      "  0%|          | 227/500001 [00:30<17:14:07,  8.05it/s]"
     ]
    },
    {
     "name": "stdout",
     "output_type": "stream",
     "text": [
      "[3, 10022, 1604, 5, 10, 28856, 12, 16, 16, 41, 18, 16, 19, 211, 21, 80, 23]\n",
      "[3, 1022, 2666, 840, 73, 1500, 13]\n",
      "[3, 116, 45, 8272, 16563, 12, 13, 42, 32, 19, 855, 21, 84, 23]\n",
      "[3, 2213, 24, 13767, 13]\n"
     ]
    },
    {
     "name": "stderr",
     "output_type": "stream",
     "text": [
      "  0%|          | 229/500001 [00:30<18:14:39,  7.61it/s]"
     ]
    },
    {
     "name": "stdout",
     "output_type": "stream",
     "text": [
      "[3, 96, 8931, 37, 90, 1011, 12, 18, 16, 18, 15, 16, 19, 127, 21, 80, 23]\n",
      "[3, 38, 164, 230, 286, 3665, 13]\n",
      "[3, 6817, 1467, 1097, 37, 879, 34545, 12, 40, 16, 13, 32, 16, 16, 40, 569, 569, 569, 569, 569, 569, 569, 19, 41, 21, 1608, 23]\n",
      "[3, 6634, 49, 6, 127, 318, 2577, 12013, 489, 489, 489, 489, 489, 489, 489, 13]\n"
     ]
    },
    {
     "name": "stderr",
     "output_type": "stream",
     "text": [
      "  0%|          | 231/500001 [00:30<16:49:24,  8.25it/s]"
     ]
    },
    {
     "name": "stdout",
     "output_type": "stream",
     "text": [
      "[3, 32064, 2006, 1758, 12, 18, 15, 16, 19, 141, 21, 84, 23]\n",
      "[3, 230, 286, 246, 13]\n",
      "[3, 323, 5, 10, 1688, 12, 18, 16, 39, 16, 19, 147, 21, 74, 23]\n",
      "[3, 3298, 4231, 19, 2775, 13]\n"
     ]
    },
    {
     "name": "stderr",
     "output_type": "stream",
     "text": [
      "  0%|          | 234/500001 [00:31<15:57:43,  8.70it/s]"
     ]
    },
    {
     "name": "stdout",
     "output_type": "stream",
     "text": [
      "[3, 9974, 12, 32, 19, 703, 21, 123, 23]\n",
      "[3, 7687, 13]\n",
      "[3, 2435, 41023, 2419, 6403, 12, 213, 64, 19, 79, 21, 128, 23]\n",
      "[3, 8230, 11577, 13]\n",
      "[3, 2199, 848, 69596, 69597, 69598, 12, 948, 1234, 569, 40, 32, 1077, 1077, 19, 79, 21, 67, 23]\n",
      "[3, 13676, 13677, 8974, 3611, 13678, 68717, 68718, 13]\n"
     ]
    },
    {
     "name": "stderr",
     "output_type": "stream",
     "text": [
      "  0%|          | 236/500001 [00:31<20:11:33,  6.87it/s]"
     ]
    },
    {
     "name": "stdout",
     "output_type": "stream",
     "text": [
      "[3, 37, 664, 47, 2845, 97, 274, 2122, 12, 65, 13, 32, 508, 16, 13, 19, 33, 21, 34, 23]\n",
      "[3, 134, 16, 1948, 1495, 20652, 206, 13]\n",
      "[3, 14146, 157, 29172, 88028, 12, 16, 41, 64, 19, 191, 21, 84, 23]\n",
      "[3, 2120, 166, 15290, 13]\n"
     ]
    },
    {
     "name": "stderr",
     "output_type": "stream",
     "text": [
      "  0%|          | 238/500001 [00:31<19:34:11,  7.09it/s]"
     ]
    },
    {
     "name": "stdout",
     "output_type": "stream",
     "text": [
      "[3, 4627, 189, 139, 12, 13, 18, 16, 16, 13, 19, 155, 21, 80, 23]\n",
      "[3, 16, 2735, 164, 290, 16, 13]\n",
      "[3, 37287, 957, 3886, 45, 20370, 37288, 479, 12, 16, 15, 16, 19, 41, 21, 84, 23]\n",
      "[3, 32941, 1387, 6449, 13]\n"
     ]
    },
    {
     "name": "stderr",
     "output_type": "stream",
     "text": [
      "\r",
      "  0%|          | 240/500001 [00:31<17:38:27,  7.87it/s]"
     ]
    },
    {
     "name": "stdout",
     "output_type": "stream",
     "text": [
      "[3, 871, 8163, 10304, 53, 12, 32, 42, 32, 18, 16, 16, 19, 211, 21, 34, 23]\n",
      "[3, 388, 24, 531, 38, 87790, 3205, 13]\n",
      "[3, 988, 3895, 205, 10, 55, 12, 40, 32, 32, 32, 19, 66, 21, 74, 23]\n",
      "[3, 10122, 5962, 388, 4322, 13]\n"
     ]
    },
    {
     "name": "stderr",
     "output_type": "stream",
     "text": [
      "  0%|          | 243/500001 [00:32<16:46:58,  8.27it/s]"
     ]
    },
    {
     "name": "stdout",
     "output_type": "stream",
     "text": [
      "[3, 6743, 4328, 1191, 989, 12, 32, 16, 16, 32, 19, 147, 21, 74, 23]\n",
      "[3, 45659, 9634, 619, 19237, 13]\n",
      "[3, 561, 5, 2820, 53, 949, 8857, 12, 537, 33, 19, 127, 21, 128, 23]\n",
      "[3, 456, 27996, 13]\n",
      "[3, 37, 661, 223, 38176, 139, 275, 55, 53, 112, 275, 55, 53, 12, 18, 16, 65, 32, 19, 380, 21, 74, 23]\n",
      "[3, 152, 29, 596, 5797, 13]\n"
     ]
    },
    {
     "name": "stderr",
     "output_type": "stream",
     "text": [
      "  0%|          | 245/500001 [00:32<20:38:48,  6.72it/s]"
     ]
    },
    {
     "name": "stdout",
     "output_type": "stream",
     "text": [
      "[3, 2173, 6, 1420, 120, 5, 12, 16, 16, 40, 13, 18, 16, 18, 16, 19, 66, 21, 43, 23]\n",
      "[3, 278, 3205, 927, 206, 137, 830, 230, 11886, 13]\n",
      "[3, 6, 81, 323, 140, 12, 16, 14, 13, 41, 42, 13, 16, 13, 73, 19, 125, 21, 22, 23]\n",
      "[3, 46, 491, 16, 3669, 24, 6, 1092, 16, 865, 13]\n"
     ]
    },
    {
     "name": "stderr",
     "output_type": "stream",
     "text": [
      "\r",
      "  0%|          | 247/500001 [00:32<20:33:34,  6.75it/s]"
     ]
    },
    {
     "name": "stdout",
     "output_type": "stream",
     "text": [
      "[3, 388, 482, 323, 485, 7939, 12, 13, 32, 16, 13, 16, 14, 41, 15, 19, 467, 21, 43, 23]\n",
      "[3, 359, 3782, 15072, 16, 1176, 799, 15539, 286, 13]\n",
      "[3, 409, 37, 657, 515, 30, 771, 4918, 12, 13, 16, 13, 18, 18, 14, 13, 42, 73, 19, 147, 21, 22, 23]\n",
      "[3, 6, 95, 6, 574, 73, 5, 16, 24, 1331, 13]\n"
     ]
    },
    {
     "name": "stderr",
     "output_type": "stream",
     "text": [
      "\r",
      "  0%|          | 249/500001 [00:33<20:13:57,  6.86it/s]"
     ]
    },
    {
     "name": "stdout",
     "output_type": "stream",
     "text": [
      "[3, 58, 1801, 58, 2948, 10, 658, 12, 15, 18, 15, 32, 16, 18, 16, 19, 141, 21, 67, 23]\n",
      "[3, 7, 193, 7, 4363, 1324, 212, 1663, 13]\n",
      "[3, 28638, 112, 3059, 10, 28639, 12, 166, 41, 18, 16, 51, 65, 32, 16, 41, 19, 79, 21, 22, 23]\n",
      "[3, 20308, 533, 73, 4507, 27, 6535, 882, 64, 19049, 13]\n"
     ]
    },
    {
     "name": "stderr",
     "output_type": "stream",
     "text": [
      "\r",
      "  0%|          | 250/500001 [00:33<23:05:20,  6.01it/s]"
     ]
    },
    {
     "name": "stdout",
     "output_type": "stream",
     "text": [
      "[3, 14584, 6743, 12, 18, 16, 13, 19, 33, 21, 84, 23]\n",
      "[3, 1997, 691, 6, 13]\n",
      "[3, 678, 10, 7187, 12, 16, 14, 32, 17, 42, 18, 16, 19, 41, 21, 67, 23]\n",
      "[3, 3788, 5, 604, 614, 24, 283, 13972, 13]\n"
     ]
    },
    {
     "name": "stderr",
     "output_type": "stream",
     "text": [
      "  0%|          | 253/500001 [00:33<19:36:03,  7.08it/s]"
     ]
    },
    {
     "name": "stdout",
     "output_type": "stream",
     "text": [
      "[3, 646, 12, 40, 136, 19, 147, 21, 128, 23]\n",
      "[3, 4244, 566, 13]\n",
      "[3, 37, 139, 12, 79, 33, 42, 32, 19, 211, 21, 74, 23]\n",
      "[3, 3500, 17914, 24, 29, 13]\n"
     ]
    },
    {
     "name": "stderr",
     "output_type": "stream",
     "text": [
      "  0%|          | 255/500001 [00:34<17:25:25,  7.97it/s]"
     ]
    },
    {
     "name": "stdout",
     "output_type": "stream",
     "text": [
      "[3, 62, 245, 872, 355, 6013, 5, 8078, 12, 41, 42, 32, 32, 14, 73, 32, 19, 451, 21, 67, 23]\n",
      "[3, 968, 24, 805, 1300, 5, 197, 1273, 13]\n",
      "[3, 5501, 97, 32245, 17161, 12, 16, 51, 32, 42, 32, 19, 33, 21, 80, 23]\n",
      "[3, 41996, 27, 1189, 24, 4555, 13]\n"
     ]
    },
    {
     "name": "stderr",
     "output_type": "stream",
     "text": [
      "\r",
      "  0%|          | 257/500001 [00:34<17:57:22,  7.73it/s]"
     ]
    },
    {
     "name": "stdout",
     "output_type": "stream",
     "text": [
      "[3, 214, 3368, 4448, 25597, 37, 1010, 12, 14, 13, 16, 42, 32, 16, 569, 19, 41, 21, 67, 23]\n",
      "[3, 10602, 16, 29, 24, 388, 1764, 984, 13]\n",
      "[3, 1337, 196, 37, 661, 3435, 12, 16, 13, 16, 13, 19, 33, 21, 74, 23]\n",
      "[3, 1516, 831, 4071, 6, 13]\n"
     ]
    },
    {
     "name": "stderr",
     "output_type": "stream",
     "text": [
      "  0%|          | 259/500001 [00:34<18:42:35,  7.42it/s]"
     ]
    },
    {
     "name": "stdout",
     "output_type": "stream",
     "text": [
      "[3, 21399, 681, 10402, 10, 5, 306, 21399, 5, 55, 250, 10, 17931, 12, 16, 13, 57, 41, 19, 147, 21, 74, 23]\n",
      "[3, 20973, 359, 676, 24297, 13]\n",
      "[3, 205, 2731, 3572, 350, 17029, 17030, 37056, 206, 7264, 13417, 51823, 12, 13, 13, 14, 32, 14, 32, 16, 136, 17, 18, 41, 19, 1236, 21, 253, 23]\n",
      "[3, 5384, 148, 5, 19980, 491, 142, 2991, 2259, 15883, 159, 9035, 13]\n"
     ]
    },
    {
     "name": "stderr",
     "output_type": "stream",
     "text": [
      "  0%|          | 261/500001 [00:35<24:56:06,  5.57it/s]"
     ]
    },
    {
     "name": "stdout",
     "output_type": "stream",
     "text": [
      "[3, 1562, 24892, 7089, 29691, 12, 65, 13, 18, 18, 16, 13, 42, 32, 19, 127, 21, 43, 23]\n",
      "[3, 134, 16, 11, 15844, 3191, 6, 24, 15747, 13]\n",
      "[3, 21920, 35626, 25, 37, 258, 12, 13, 42, 32, 13, 42, 18, 18, 19, 20, 21, 67, 23]\n",
      "[3, 6, 24, 624, 6, 24, 40731, 49184, 13]\n"
     ]
    },
    {
     "name": "stderr",
     "output_type": "stream",
     "text": [
      "  0%|          | 263/500001 [00:35<24:00:48,  5.78it/s]"
     ]
    },
    {
     "name": "stdout",
     "output_type": "stream",
     "text": [
      "[3, 37, 1026, 66295, 66296, 57244, 5, 66297, 20646, 12, 13, 32, 16, 15, 32, 19, 195, 21, 80, 23]\n",
      "[3, 6, 3642, 81, 5200, 17958, 13]\n",
      "[3, 965, 139, 790, 1087, 5073, 12, 18, 16, 136, 18, 16, 13, 32, 19, 33, 21, 67, 23]\n",
      "[3, 212, 1046, 69533, 137, 58, 16, 812, 13]\n"
     ]
    },
    {
     "name": "stderr",
     "output_type": "stream",
     "text": [
      "  0%|          | 265/500001 [00:35<23:29:26,  5.91it/s]"
     ]
    },
    {
     "name": "stdout",
     "output_type": "stream",
     "text": [
      "[3, 955, 1467, 5, 6, 363, 20475, 140, 190, 12, 13, 16, 16, 13, 16, 19, 79, 21, 80, 23]\n",
      "[3, 6, 46, 20053, 96, 136, 13]\n",
      "[3, 379, 189, 2423, 21217, 16716, 12, 16, 13, 19, 155, 21, 128, 23]\n",
      "[3, 305, 16, 13]\n"
     ]
    },
    {
     "name": "stderr",
     "output_type": "stream",
     "text": [
      "  0%|          | 267/500001 [00:35<20:16:34,  6.85it/s]"
     ]
    },
    {
     "name": "stdout",
     "output_type": "stream",
     "text": [
      "[3, 293, 479, 1417, 10, 2333, 12, 16, 16, 16, 93, 19, 211, 21, 74, 23]\n",
      "[3, 5790, 265, 759, 711, 13]\n",
      "[3, 25, 96, 2614, 37, 254, 5738, 8993, 12, 13, 42, 32, 19, 66, 21, 84, 23]\n",
      "[3, 6, 24, 634, 13]\n"
     ]
    },
    {
     "name": "stderr",
     "output_type": "stream",
     "text": [
      "\r",
      "  0%|          | 269/500001 [00:36<18:06:46,  7.66it/s]"
     ]
    },
    {
     "name": "stdout",
     "output_type": "stream",
     "text": [
      "[3, 37, 275, 9677, 37, 10, 6631, 12, 16, 16, 13, 19, 191, 21, 84, 23]\n",
      "[3, 482, 48928, 198, 13]\n",
      "[3, 685, 925, 10, 1820, 12, 13, 16, 18, 16, 458, 51, 42, 19, 79, 21, 67, 23]\n",
      "[3, 6, 58, 1078, 318, 387, 27, 24, 13]\n"
     ]
    },
    {
     "name": "stderr",
     "output_type": "stream",
     "text": [
      "\r",
      "  0%|          | 270/500001 [00:36<20:13:29,  6.86it/s]"
     ]
    },
    {
     "name": "stdout",
     "output_type": "stream",
     "text": [
      "[3, 37, 275, 463, 37, 275, 5056, 791, 501, 323, 794, 12, 13, 16, 16, 13, 42, 41, 16, 13, 16, 16, 19, 211, 21, 261, 23]\n",
      "[3, 16, 224, 1263, 4, 24, 166, 4185, 16, 150, 29, 13]\n"
     ]
    },
    {
     "name": "stderr",
     "output_type": "stream",
     "text": [
      "  0%|          | 272/500001 [00:36<25:02:17,  5.54it/s]"
     ]
    },
    {
     "name": "stdout",
     "output_type": "stream",
     "text": [
      "[3, 33965, 4989, 25162, 12, 32, 16, 32, 16, 32, 16, 39, 16, 19, 127, 21, 43, 23]\n",
      "[3, 1582, 18150, 3456, 49, 417, 5571, 19, 434, 13]\n",
      "[3, 112, 25, 37, 10, 258, 2751, 12, 65, 13, 16, 32, 19, 380, 21, 74, 23]\n",
      "[3, 481, 16, 2270, 618, 13]\n"
     ]
    },
    {
     "name": "stderr",
     "output_type": "stream",
     "text": [
      "  0%|          | 275/500001 [00:37<20:18:13,  6.84it/s]"
     ]
    },
    {
     "name": "stdout",
     "output_type": "stream",
     "text": [
      "[3, 570, 570, 570, 570, 9234, 9246, 9247, 2776, 12, 13, 136, 32, 16, 40, 42, 32, 19, 127, 21, 67, 23]\n",
      "[3, 148, 8987, 3373, 58, 9007, 24, 2053, 13]\n",
      "[3, 24, 97, 1799, 5700, 5, 10, 1799, 5700, 12, 13, 42, 33, 13, 18, 32, 19, 87, 21, 34, 23]\n",
      "[3, 4, 24, 8911, 6, 137, 2002, 13]\n",
      "[3, 8568, 1038, 52, 2813, 10, 5524, 12, 65, 73, 65, 15, 16, 13, 16, 13, 13, 19, 155, 21, 22, 23]\n",
      "[3, 203, 1009, 311, 86, 136, 16, 12670, 6, 16, 13]\n"
     ]
    },
    {
     "name": "stderr",
     "output_type": "stream",
     "text": [
      "\r",
      "  0%|          | 276/500001 [00:37<23:13:32,  5.98it/s]"
     ]
    },
    {
     "name": "stdout",
     "output_type": "stream",
     "text": [
      "[3, 55331, 2850, 1651, 35694, 85, 24, 5080, 2757, 12, 93, 15, 32, 32, 16, 40, 19, 191, 21, 34, 23]\n",
      "[3, 31599, 4377, 9082, 34447, 6678, 21668, 13]\n",
      "[3, 578, 358, 10, 2668, 12, 13, 15, 42, 32, 19, 195, 21, 74, 23]\n",
      "[3, 497, 286, 24, 2861, 13]\n"
     ]
    },
    {
     "name": "stderr",
     "output_type": "stream",
     "text": [
      "  0%|          | 279/500001 [00:37<20:24:57,  6.80it/s]"
     ]
    },
    {
     "name": "stdout",
     "output_type": "stream",
     "text": [
      "[3, 13939, 167, 8575, 6156, 10344, 12, 16, 32, 16, 16, 19, 41, 21, 74, 23]\n",
      "[3, 20684, 24855, 9664, 22392, 13]\n",
      "[3, 16957, 40650, 10, 24932, 12, 16, 13, 16, 16, 32, 42, 32, 19, 20, 21, 67, 23]\n",
      "[3, 58, 359, 252, 40028, 4498, 24, 24478, 13]\n"
     ]
    },
    {
     "name": "stderr",
     "output_type": "stream",
     "text": [
      "\r",
      "  0%|          | 281/500001 [00:37<18:19:31,  7.57it/s]"
     ]
    },
    {
     "name": "stdout",
     "output_type": "stream",
     "text": [
      "[3, 4199, 1518, 2075, 69, 1178, 1619, 12, 65, 16, 15, 13, 18, 16, 13, 73, 65, 16, 64, 19, 125, 21, 253, 23]\n",
      "[3, 787, 252, 2006, 16, 193, 2607, 6, 865, 532, 145, 6402, 13]\n",
      "[3, 401, 234, 116, 37, 4782, 97, 7517, 12, 93, 13, 16, 16, 32, 18, 16, 19, 147, 21, 67, 23]\n",
      "[3, 3365, 16, 291, 25276, 8565, 38, 8219, 13]\n"
     ]
    },
    {
     "name": "stderr",
     "output_type": "stream",
     "text": [
      "  0%|          | 284/500001 [00:38<18:19:04,  7.58it/s]"
     ]
    },
    {
     "name": "stdout",
     "output_type": "stream",
     "text": [
      "[3, 37, 112, 613, 6555, 12, 13, 18, 13, 93, 19, 20, 21, 74, 23]\n",
      "[3, 595, 73, 514, 3365, 13]\n",
      "[3, 323, 25885, 799, 394, 7002, 336, 522, 12, 18, 16, 16, 13, 16, 19, 79, 21, 80, 23]\n",
      "[3, 4175, 4685, 49, 595, 955, 13]\n",
      "[3, 323, 250, 192, 4342, 12, 15, 41, 16, 13, 16, 13, 32, 19, 79, 21, 67, 23]\n",
      "[3, 286, 6165, 252, 6, 37184, 2526, 5809, 13]\n"
     ]
    },
    {
     "name": "stderr",
     "output_type": "stream",
     "text": [
      "\r",
      "  0%|          | 285/500001 [00:38<20:25:13,  6.80it/s]"
     ]
    },
    {
     "name": "stdout",
     "output_type": "stream",
     "text": [
      "[3, 1183, 419, 1183, 419, 12, 13, 41, 16, 18, 16, 13, 41, 16, 93, 18, 16, 93, 19, 33, 21, 371, 23]\n",
      "[3, 16, 166, 81, 137, 58, 16, 166, 81, 324, 137, 58, 14745, 13]\n"
     ]
    },
    {
     "name": "stderr",
     "output_type": "stream",
     "text": [
      "  0%|          | 287/500001 [00:38<24:41:03,  5.62it/s]"
     ]
    },
    {
     "name": "stdout",
     "output_type": "stream",
     "text": [
      "[3, 6861, 5, 10, 181, 773, 10883, 12, 41, 42, 32, 32, 42, 32, 19, 125, 21, 34, 23]\n",
      "[3, 162, 24, 1107, 8527, 24, 3238, 13]\n",
      "[3, 2292, 1320, 4193, 887, 3402, 514, 1287, 53, 12, 13, 18, 16, 13, 32, 19, 211, 21, 80, 23]\n",
      "[3, 831, 43, 26, 1458, 43304, 13]\n"
     ]
    },
    {
     "name": "stderr",
     "output_type": "stream",
     "text": [
      "\r",
      "  0%|          | 288/500001 [00:39<23:42:13,  5.86it/s]"
     ]
    },
    {
     "name": "stdout",
     "output_type": "stream",
     "text": [
      "[3, 1372, 433, 9, 657, 9, 12, 41, 16, 13, 16, 569, 16, 13, 16, 569, 19, 41, 21, 22, 23]\n",
      "[3, 166, 49, 16, 504, 984, 1269, 831, 504, 984, 13]\n"
     ]
    },
    {
     "name": "stderr",
     "output_type": "stream",
     "text": [
      "  0%|          | 290/500001 [00:39<25:42:00,  5.40it/s]"
     ]
    },
    {
     "name": "stdout",
     "output_type": "stream",
     "text": [
      "[3, 1686, 14123, 85, 5, 77528, 37, 812, 514, 289, 12, 16, 40, 40, 15, 65, 93, 16, 19, 176, 21, 67, 23]\n",
      "[3, 625, 10543, 1105, 3081, 66, 6595, 200, 13]\n",
      "[3, 8872, 924, 9797, 423, 53, 12, 18, 16, 19, 33, 21, 128, 23]\n",
      "[3, 24250, 58, 13]\n"
     ]
    },
    {
     "name": "stderr",
     "output_type": "stream",
     "text": [
      "  0%|          | 292/500001 [00:39<20:11:57,  6.87it/s]"
     ]
    },
    {
     "name": "stdout",
     "output_type": "stream",
     "text": [
      "[3, 2075, 6536, 2250, 6092, 6366, 12, 136, 18, 41, 19, 155, 21, 84, 23]\n",
      "[3, 2754, 137, 678, 13]\n",
      "[3, 55, 37, 83, 515, 12, 65, 13, 16, 13, 18, 16, 13, 19, 155, 21, 67, 23]\n",
      "[3, 787, 6, 95, 6, 212, 29, 16, 13]\n"
     ]
    },
    {
     "name": "stderr",
     "output_type": "stream",
     "text": [
      "\r",
      "  0%|          | 293/500001 [00:39<18:43:55,  7.41it/s]"
     ]
    },
    {
     "name": "stdout",
     "output_type": "stream",
     "text": [
      "[3, 205, 355, 2106, 522, 3989, 296, 842, 12, 13, 18, 16, 42, 16, 19, 87, 21, 80, 23]\n",
      "[3, 631, 3425, 14898, 24, 1945, 13]\n",
      "[3, 97, 30380, 105, 92, 19588, 12, 65, 13, 93, 16, 16, 13, 19, 33, 21, 34, 23]\n",
      "[3, 787, 16, 697, 414, 1374, 6, 13]\n"
     ]
    },
    {
     "name": "stderr",
     "output_type": "stream",
     "text": [
      "\r",
      "  0%|          | 295/500001 [00:39<17:23:52,  7.98it/s]"
     ]
    },
    {
     "name": "stdout",
     "output_type": "stream",
     "text": [
      "[3, 401, 37, 896, 10, 2245, 80618, 401, 37, 892, 303, 53, 96, 679, 12, 18, 16, 16, 32, 16, 18, 32, 16, 18, 18, 19, 260, 21, 261, 23]\n",
      "[3, 327, 29, 320, 3875, 34736, 327, 618, 320, 4221, 87314, 13]\n"
     ]
    },
    {
     "name": "stderr",
     "output_type": "stream",
     "text": [
      "\r",
      "  0%|          | 296/500001 [00:40<22:23:41,  6.20it/s]"
     ]
    },
    {
     "name": "stdout",
     "output_type": "stream",
     "text": [
      "[3, 5481, 9199, 207, 181, 12, 13, 16, 40, 19, 284, 21, 84, 23]\n",
      "[3, 48, 1314, 55792, 13]\n",
      "[3, 8987, 1518, 1089, 538, 1518, 12, 16, 16, 13, 41, 18, 16, 19, 125, 21, 34, 23]\n",
      "[3, 1324, 1663, 6, 449, 159, 379, 13]\n"
     ]
    },
    {
     "name": "stderr",
     "output_type": "stream",
     "text": [
      "  0%|          | 299/500001 [00:40<21:53:26,  6.34it/s]"
     ]
    },
    {
     "name": "stdout",
     "output_type": "stream",
     "text": [
      "[3, 73714, 1100, 2330, 460, 189, 25935, 514, 429, 37, 12, 486, 32, 16, 41, 32, 136, 19, 79, 21, 34, 23]\n",
      "[3, 47968, 2798, 21738, 26335, 417, 6912, 13]\n",
      "[3, 4248, 706, 3504, 22507, 12, 13, 41, 16, 16, 19, 380, 21, 74, 23]\n",
      "[3, 4095, 138, 3361, 1080, 13]\n"
     ]
    },
    {
     "name": "stderr",
     "output_type": "stream",
     "text": [
      "\r",
      "  0%|          | 300/500001 [00:40<20:57:06,  6.62it/s]"
     ]
    },
    {
     "name": "stdout",
     "output_type": "stream",
     "text": [
      "[3, 24846, 8466, 12, 32, 16, 16, 19, 211, 21, 84, 23]\n",
      "[3, 34365, 54264, 13416, 13]\n",
      "[3, 96, 2123, 8842, 3394, 12, 18, 32, 16, 41, 42, 41, 19, 33, 21, 34, 23]\n",
      "[3, 327, 140, 58, 1878, 24, 169, 13]\n"
     ]
    },
    {
     "name": "stderr",
     "output_type": "stream",
     "text": [
      "  0%|          | 303/500001 [00:41<20:56:27,  6.63it/s]"
     ]
    },
    {
     "name": "stdout",
     "output_type": "stream",
     "text": [
      "[3, 25, 25596, 24890, 47, 2647, 12, 16, 64, 213, 41, 509, 16, 19, 855, 21, 34, 23]\n",
      "[3, 58, 15524, 898, 840, 433, 1177, 13]\n",
      "[3, 5, 10, 321, 1471, 20633, 39080, 12, 13, 42, 32, 33, 19, 20, 21, 74, 23]\n",
      "[3, 148, 24, 9151, 37670, 13]\n"
     ]
    },
    {
     "name": "stderr",
     "output_type": "stream",
     "text": [
      "  0%|          | 305/500001 [00:41<19:14:05,  7.22it/s]"
     ]
    },
    {
     "name": "stdout",
     "output_type": "stream",
     "text": [
      "[3, 446, 10, 2682, 12, 213, 65, 33, 19, 20, 21, 84, 23]\n",
      "[3, 898, 1134, 14695, 13]\n",
      "[3, 37, 2126, 1466, 972, 218, 693, 25, 925, 503, 12, 93, 13, 18, 16, 14, 64, 19, 147, 21, 34, 23]\n",
      "[3, 1276, 148, 461, 12, 5, 15161, 13]\n"
     ]
    },
    {
     "name": "stderr",
     "output_type": "stream",
     "text": [
      "  0%|          | 307/500001 [00:41<20:41:10,  6.71it/s]"
     ]
    },
    {
     "name": "stdout",
     "output_type": "stream",
     "text": [
      "[3, 5493, 42327, 34868, 42941, 12, 40, 16, 18, 16, 65, 19, 467, 21, 80, 23]\n",
      "[3, 927, 2056, 38, 53255, 10264, 13]\n",
      "[3, 188, 620, 30, 1038, 1039, 1040, 12, 14, 32, 17, 13, 16, 32, 42, 136, 19, 191, 21, 43, 23]\n",
      "[3, 5, 950, 951, 6, 952, 953, 24, 954, 13]\n"
     ]
    },
    {
     "name": "stderr",
     "output_type": "stream",
     "text": [
      "\r",
      "  0%|          | 309/500001 [00:41<18:26:09,  7.53it/s]"
     ]
    },
    {
     "name": "stdout",
     "output_type": "stream",
     "text": [
      "[3, 857, 857, 12, 15, 18, 14, 18, 42, 73, 19, 147, 21, 34, 23]\n",
      "[3, 1709, 73, 5, 9962, 24, 1331, 13]\n",
      "[3, 1372, 293, 4585, 10375, 109, 12, 15, 18, 16, 15, 32, 19, 703, 21, 80, 23]\n",
      "[3, 227, 468, 29, 86, 388, 13]\n"
     ]
    },
    {
     "name": "stderr",
     "output_type": "stream",
     "text": [
      "  0%|          | 311/500001 [00:42<20:25:44,  6.79it/s]"
     ]
    },
    {
     "name": "stdout",
     "output_type": "stream",
     "text": [
      "[3, 6747, 139, 250, 778, 55, 37, 12, 13, 18, 16, 16, 13, 16, 19, 127, 21, 34, 23]\n",
      "[3, 335, 193, 306, 5838, 16, 7843, 13]\n",
      "[3, 189, 2729, 37, 129, 460, 1278, 4523, 12, 16, 32, 18, 16, 19, 20, 21, 74, 23]\n",
      "[3, 224, 67, 841, 13300, 13]\n"
     ]
    },
    {
     "name": "stderr",
     "output_type": "stream",
     "text": [
      "\r",
      "  0%|          | 313/500001 [00:42<18:14:11,  7.61it/s]"
     ]
    },
    {
     "name": "stdout",
     "output_type": "stream",
     "text": [
      "[3, 4186, 37, 323, 55, 250, 4480, 250, 12, 18, 16, 19, 467, 21, 128, 23]\n",
      "[3, 212, 7417, 13]\n",
      "[3, 1379, 544, 2395, 30561, 2851, 3344, 9712, 275, 5797, 269, 12, 18, 508, 16, 94, 14, 93, 32, 32, 17, 42, 41, 19, 20, 21, 253, 23]\n",
      "[3, 212, 9686, 6015, 527, 5, 1276, 24436, 7925, 614, 24, 55, 13]\n"
     ]
    },
    {
     "name": "stderr",
     "output_type": "stream",
     "text": [
      "\r",
      "  0%|          | 314/500001 [00:42<23:30:48,  5.90it/s]"
     ]
    },
    {
     "name": "stdout",
     "output_type": "stream",
     "text": [
      "[3, 2596, 5, 30, 254, 1250, 5, 293, 12, 65, 16, 93, 16, 458, 93, 16, 13, 65, 13, 19, 155, 21, 261, 23]\n",
      "[3, 203, 58, 68, 1979, 387, 1364, 5892, 135, 596, 16, 13]\n"
     ]
    },
    {
     "name": "stderr",
     "output_type": "stream",
     "text": [
      "\r",
      "  0%|          | 315/500001 [00:42<26:15:07,  5.29it/s]"
     ]
    },
    {
     "name": "stdout",
     "output_type": "stream",
     "text": [
      "[3, 47, 5984, 10, 1572, 12, 13, 42, 16, 19, 33, 21, 84, 23]\n",
      "[3, 6, 24, 511, 13]\n",
      "[3, 5, 379, 37, 139, 358, 9274, 37, 3468, 363, 1031, 12, 13, 65, 13, 14, 94, 16, 16, 458, 19, 467, 21, 43, 23]\n",
      "[3, 877, 522, 16, 935, 177, 788, 1157, 387, 13]\n"
     ]
    },
    {
     "name": "stderr",
     "output_type": "stream",
     "text": [
      "\r",
      "  0%|          | 317/500001 [00:43<24:34:25,  5.65it/s]"
     ]
    },
    {
     "name": "stdout",
     "output_type": "stream",
     "text": [
      "[3, 1034, 2717, 340, 1245, 10, 11272, 12, 16, 32, 18, 16, 93, 19, 125, 21, 80, 23]\n",
      "[3, 21738, 14678, 283, 58, 68, 13]\n",
      "[3, 1065, 3470, 3588, 202, 12341, 1414, 12, 13, 32, 16, 41, 569, 19, 41, 21, 80, 23]\n",
      "[3, 459, 411, 145, 166, 1308, 13]\n"
     ]
    },
    {
     "name": "stderr",
     "output_type": "stream",
     "text": [
      "  0%|          | 321/500001 [00:43<19:32:08,  7.10it/s]"
     ]
    },
    {
     "name": "stdout",
     "output_type": "stream",
     "text": [
      "[3, 12435, 12, 73, 73, 19, 445, 21, 128, 23]\n",
      "[3, 14938, 86985, 13]\n",
      "[3, 37, 572, 37, 1430, 574, 5, 350, 12, 13, 14, 13, 16, 14, 13, 16, 19, 66, 21, 67, 23]\n",
      "[3, 16, 491, 16, 1324, 493, 6, 278, 13]\n",
      "[3, 245, 50804, 245, 50805, 12, 16, 32, 32, 32, 16, 19, 1280, 21, 80, 23]\n",
      "[3, 2270, 50092, 48172, 11450, 50093, 13]\n"
     ]
    },
    {
     "name": "stderr",
     "output_type": "stream",
     "text": [
      "\r",
      "  0%|          | 323/500001 [00:43<17:41:21,  7.85it/s]"
     ]
    },
    {
     "name": "stdout",
     "output_type": "stream",
     "text": [
      "[3, 8568, 10, 1473, 690, 10318, 925, 10, 991, 12, 13, 14, 18, 41, 16, 18, 13, 486, 16, 19, 211, 21, 22, 23]\n",
      "[3, 16, 5, 9567, 854, 2890, 236, 831, 6400, 2358, 13]\n",
      "[3, 2657, 157, 37, 1990, 12, 16, 537, 32, 19, 703, 21, 84, 23]\n",
      "[3, 1022, 456, 26, 13]\n",
      "[3, 2377, 1483, 535, 10, 68339, 12, 16, 15, 32, 19, 66, 21, 84, 23]\n",
      "[3, 12116, 35, 6881, 13]\n"
     ]
    },
    {
     "name": "stderr",
     "output_type": "stream",
     "text": [
      "\r",
      "  0%|          | 325/500001 [00:44<16:48:55,  8.25it/s]"
     ]
    },
    {
     "name": "stdout",
     "output_type": "stream",
     "text": [
      "[3, 344, 5, 25, 17567, 5, 55, 37, 6348, 37, 12, 14, 13, 18, 16, 13, 18, 16, 32, 16, 51, 19, 79, 21, 261, 23]\n",
      "[3, 272, 16, 1503, 81, 6, 993, 29, 450, 4670, 27, 13]\n",
      "[3, 183, 22523, 2709, 10, 4209, 12, 18, 16, 1234, 16, 32, 19, 125, 21, 80, 23]\n",
      "[3, 443, 12467, 12632, 207, 39787, 13]\n"
     ]
    },
    {
     "name": "stderr",
     "output_type": "stream",
     "text": [
      "  0%|          | 328/500001 [00:44<18:10:34,  7.64it/s]"
     ]
    },
    {
     "name": "stdout",
     "output_type": "stream",
     "text": [
      "[3, 97, 5, 19839, 37, 3084, 12, 16, 13, 16, 15, 32, 19, 1280, 21, 80, 23]\n",
      "[3, 333, 16, 95, 19423, 2637, 13]\n",
      "[3, 2114, 50326, 1518, 5, 1620, 12, 18, 16, 41, 19, 125, 21, 84, 23]\n",
      "[3, 11, 2894, 1116, 13]\n"
     ]
    },
    {
     "name": "stderr",
     "output_type": "stream",
     "text": [
      "\r",
      "  0%|          | 330/500001 [00:44<16:37:32,  8.35it/s]"
     ]
    },
    {
     "name": "stdout",
     "output_type": "stream",
     "text": [
      "[3, 129, 84851, 37721, 10, 872, 12, 41, 13, 16, 42, 32, 19, 127, 21, 80, 23]\n",
      "[3, 630, 866, 305, 24, 805, 13]\n",
      "[3, 574, 5, 2240, 12, 65, 13, 32, 19, 127, 21, 84, 23]\n",
      "[3, 481, 6, 4530, 13]\n"
     ]
    },
    {
     "name": "stderr",
     "output_type": "stream",
     "text": [
      "  0%|          | 333/500001 [00:45<15:32:53,  8.93it/s]"
     ]
    },
    {
     "name": "stdout",
     "output_type": "stream",
     "text": [
      "[3, 1915, 3273, 19149, 10, 1932, 12, 16, 13, 32, 14, 16, 19, 141, 21, 80, 23]\n",
      "[3, 255, 6, 1300, 5, 15521, 13]\n",
      "[3, 1099, 543, 296, 1426, 12, 13, 41, 16, 65, 32, 41, 19, 445, 21, 34, 23]\n",
      "[3, 16, 166, 1484, 222, 5916, 6186, 13]\n",
      "[3, 7637, 1020, 5, 12, 18, 16, 32, 13, 19, 33, 21, 74, 23]\n",
      "[3, 327, 163, 10399, 6, 13]\n"
     ]
    },
    {
     "name": "stderr",
     "output_type": "stream",
     "text": [
      "\r",
      "  0%|          | 335/500001 [00:45<16:58:40,  8.18it/s]"
     ]
    },
    {
     "name": "stdout",
     "output_type": "stream",
     "text": [
      "[3, 37, 27247, 205, 347, 3037, 4147, 12, 16, 13, 16, 14, 40, 18, 16, 18, 19, 199, 21, 43, 23]\n",
      "[3, 66903, 6, 921, 2309, 6401, 3298, 5838, 6651, 13]\n"
     ]
    },
    {
     "name": "stderr",
     "output_type": "stream",
     "text": [
      "\r",
      "  0%|          | 336/500001 [00:45<18:13:01,  7.62it/s]"
     ]
    },
    {
     "name": "stdout",
     "output_type": "stream",
     "text": [
      "[3, 1372, 37, 1200, 754, 702, 1014, 12, 13, 16, 16, 2276, 16, 19, 20, 21, 80, 23]\n",
      "[3, 16, 12926, 12347, 2159, 13293, 13]\n",
      "[3, 85, 269, 12, 16, 16, 42, 41, 19, 211, 21, 74, 23]\n",
      "[3, 154, 1176, 24, 706, 13]\n"
     ]
    },
    {
     "name": "stderr",
     "output_type": "stream",
     "text": [
      "  0%|          | 338/500001 [00:45<19:39:22,  7.06it/s]"
     ]
    },
    {
     "name": "stdout",
     "output_type": "stream",
     "text": [
      "[3, 38929, 10, 1745, 12, 64, 14, 16, 635, 42, 32, 19, 147, 21, 34, 23]\n",
      "[3, 35531, 21, 41723, 27213, 24, 1907, 13]\n",
      "[3, 1154, 12, 13, 14, 73, 16, 13, 15, 136, 19, 195, 21, 67, 23]\n",
      "[3, 198, 5, 2921, 1324, 359, 6645, 4030, 13]\n"
     ]
    },
    {
     "name": "stderr",
     "output_type": "stream",
     "text": [
      "\r",
      "  0%|          | 340/500001 [00:45<17:45:08,  7.82it/s]"
     ]
    },
    {
     "name": "stdout",
     "output_type": "stream",
     "text": [
      "[3, 81, 1337, 11171, 192, 97, 11172, 725, 1658, 12, 32, 18, 16, 14, 41, 13, 15, 32, 19, 147, 21, 43, 23]\n",
      "[3, 140, 159, 8016, 5, 6872, 359, 86, 1578, 13]\n",
      "[3, 1731, 1099, 3893, 352, 1493, 1097, 275, 38843, 12, 16, 13, 15, 15, 32, 19, 33, 21, 80, 23]\n",
      "[3, 1324, 155, 5673, 86, 703, 13]\n",
      "[3, 562, 91360, 12, 13, 18, 16, 14, 13, 18, 41, 19, 20, 21, 67, 23]\n",
      "[3, 6, 38, 320, 799, 198, 137, 1261, 13]\n"
     ]
    },
    {
     "name": "stderr",
     "output_type": "stream",
     "text": [
      "\r",
      "  0%|          | 342/500001 [00:46<18:08:24,  7.65it/s]"
     ]
    },
    {
     "name": "stdout",
     "output_type": "stream",
     "text": [
      "[3, 206, 206, 206, 16685, 206, 11312, 12, 13, 15, 14, 13, 15, 13, 14, 13, 569, 19, 41, 21, 22, 23]\n",
      "[3, 148, 431, 340, 148, 431, 198, 340, 198, 603, 13]\n",
      "[3, 10553, 82239, 2666, 53, 35572, 2666, 53, 259, 10, 14960, 12, 41, 16, 15, 32, 16, 42, 136, 19, 703, 21, 67, 23]\n",
      "[3, 2327, 32461, 1489, 25331, 71701, 24, 34089, 13]\n"
     ]
    },
    {
     "name": "stderr",
     "output_type": "stream",
     "text": [
      "  0%|          | 346/500001 [00:46<17:03:52,  8.13it/s]"
     ]
    },
    {
     "name": "stdout",
     "output_type": "stream",
     "text": [
      "[3, 51433, 979, 460, 5721, 514, 6335, 12, 16, 51, 94, 520, 51, 32, 42, 16, 19, 87, 21, 43, 23]\n",
      "[3, 4804, 27, 10945, 440, 27, 52609, 24, 1337, 13]\n",
      "[3, 259, 202, 664, 81, 515, 358, 665, 12, 14, 32, 16, 39, 16, 39, 32, 19, 141, 21, 67, 23]\n",
      "[3, 1241, 604, 1056, 19, 38690, 19, 8561, 13]\n",
      "[3, 5, 139, 6094, 1820, 3653, 3089, 12, 136, 13, 13, 16, 19, 125, 21, 74, 23]\n",
      "[3, 16565, 866, 16, 12639, 13]\n"
     ]
    },
    {
     "name": "stderr",
     "output_type": "stream",
     "text": [
      "  0%|          | 349/500001 [00:47<16:16:27,  8.53it/s]"
     ]
    },
    {
     "name": "stdout",
     "output_type": "stream",
     "text": [
      "[3, 226, 1539, 3961, 12, 18, 42, 13, 19, 155, 21, 84, 23]\n",
      "[3, 4175, 24, 16, 13]\n",
      "[3, 1731, 57887, 3566, 7473, 12, 16, 41, 520, 16, 16, 13, 18, 18, 41, 19, 445, 21, 22, 23]\n",
      "[3, 21956, 7399, 440, 57104, 18693, 206, 11, 193, 5334, 13]\n",
      "[3, 363, 438, 12713, 5, 5416, 10195, 7285, 12, 16, 13, 42, 32, 39, 13, 42, 32, 19, 125, 21, 43, 23]\n",
      "[3, 6596, 6, 24, 4637, 19, 6, 24, 1509, 13]\n"
     ]
    },
    {
     "name": "stderr",
     "output_type": "stream",
     "text": [
      "\r",
      "  0%|          | 351/500001 [00:47<15:22:43,  9.02it/s]"
     ]
    },
    {
     "name": "stdout",
     "output_type": "stream",
     "text": [
      "[3, 1479, 85, 460, 89991, 10, 14362, 12, 79, 166, 42, 32, 19, 33, 21, 74, 23]\n",
      "[3, 10841, 88995, 24, 14385, 13]\n",
      "[3, 8596, 10, 1443, 12, 40, 16, 40, 19, 79, 21, 84, 23]\n",
      "[3, 8352, 2333, 6994, 13]\n",
      "[3, 3335, 28377, 28378, 2179, 12, 32, 16, 16, 136, 19, 33, 21, 74, 23]\n",
      "[3, 27896, 27897, 27898, 8243, 13]\n"
     ]
    },
    {
     "name": "stderr",
     "output_type": "stream",
     "text": [
      "  0%|          | 354/500001 [00:47<15:27:23,  8.98it/s]"
     ]
    },
    {
     "name": "stdout",
     "output_type": "stream",
     "text": [
      "[3, 619, 43003, 43004, 12, 32, 13, 41, 19, 195, 21, 84, 23]\n",
      "[3, 1325, 42356, 5602, 13]\n",
      "[3, 37, 1823, 528, 351, 12, 13, 16, 13, 18, 19, 1236, 21, 74, 23]\n",
      "[3, 198, 15487, 6, 1577, 13]\n"
     ]
    },
    {
     "name": "stderr",
     "output_type": "stream",
     "text": [
      "  0%|          | 356/500001 [00:47<16:20:28,  8.49it/s]"
     ]
    },
    {
     "name": "stdout",
     "output_type": "stream",
     "text": [
      "[3, 169, 323, 1149, 1423, 6013, 12, 33, 18, 18, 33, 19, 33, 21, 74, 23]\n",
      "[3, 19990, 11, 193, 30442, 13]\n",
      "[3, 1064, 7964, 544, 275, 2845, 5, 12, 18, 18, 16, 18, 16, 13, 16, 19, 33, 21, 67, 23]\n",
      "[3, 52, 212, 478, 193, 49, 6, 485, 13]\n"
     ]
    },
    {
     "name": "stderr",
     "output_type": "stream",
     "text": [
      "  0%|          | 358/500001 [00:48<17:05:24,  8.12it/s]"
     ]
    },
    {
     "name": "stdout",
     "output_type": "stream",
     "text": [
      "[3, 3332, 37, 2689, 3508, 433, 47, 139, 323, 12, 537, 18, 537, 18, 16, 32, 19, 127, 21, 34, 23]\n",
      "[3, 456, 364, 456, 364, 4124, 2053, 13]\n",
      "[3, 37, 550, 120, 1430, 96, 6794, 1703, 6650, 12, 16, 32, 16, 13, 15, 19, 127, 21, 80, 23]\n",
      "[3, 445, 2969, 13400, 6, 356, 13]\n"
     ]
    },
    {
     "name": "stderr",
     "output_type": "stream",
     "text": [
      "\r",
      "  0%|          | 359/500001 [00:48<18:23:06,  7.55it/s]"
     ]
    },
    {
     "name": "stdout",
     "output_type": "stream",
     "text": [
      "[3, 967, 597, 2624, 12, 213, 19, 41, 21, 123, 23]\n",
      "[3, 898, 13]\n",
      "[3, 3581, 140, 221, 192, 4484, 3272, 12, 155, 155, 213, 33, 41, 16, 19, 1236, 21, 34, 23]\n",
      "[3, 42250, 63485, 59934, 56764, 238, 8680, 13]\n"
     ]
    },
    {
     "name": "stderr",
     "output_type": "stream",
     "text": [
      "  0%|          | 362/500001 [00:48<17:19:51,  8.01it/s]"
     ]
    },
    {
     "name": "stdout",
     "output_type": "stream",
     "text": [
      "[3, 19444, 10067, 129, 5789, 12, 13, 65, 19, 33, 21, 128, 23]\n",
      "[3, 16, 40, 13]\n",
      "[3, 5, 1294, 202, 319, 31088, 2198, 3083, 12, 18, 18, 13, 18, 16, 16, 19, 79, 21, 34, 23]\n",
      "[3, 1257, 8581, 16, 159, 318, 2135, 13]\n"
     ]
    },
    {
     "name": "stderr",
     "output_type": "stream",
     "text": [
      "  0%|          | 364/500001 [00:48<21:19:09,  6.51it/s]"
     ]
    },
    {
     "name": "stdout",
     "output_type": "stream",
     "text": [
      "[3, 254, 1461, 45, 3418, 12, 16, 51, 32, 18, 16, 15, 13, 19, 33, 21, 67, 23]\n",
      "[3, 3134, 27, 24867, 11, 2677, 86, 6, 13]\n",
      "[3, 1240, 2351, 55, 392, 18498, 218, 275, 2968, 12, 16, 18, 16, 1234, 18, 16, 16, 16, 19, 284, 21, 43, 23]\n",
      "[3, 29, 4171, 13414, 8444, 38, 145, 95, 1961, 13]\n"
     ]
    },
    {
     "name": "stderr",
     "output_type": "stream",
     "text": [
      "  0%|          | 366/500001 [00:49<21:32:15,  6.44it/s]"
     ]
    },
    {
     "name": "stdout",
     "output_type": "stream",
     "text": [
      "[3, 120, 1364, 350, 1364, 12, 13, 42, 16, 19, 33, 21, 84, 23]\n",
      "[3, 16, 24, 1275, 13]\n",
      "[3, 4660, 1442, 37, 10, 20174, 37, 10, 482, 358, 485, 16512, 12, 16, 16, 18, 16, 32, 18, 18, 16, 19, 127, 21, 43, 23]\n",
      "[3, 72289, 41786, 212, 4116, 817, 274, 798, 434, 13]\n"
     ]
    },
    {
     "name": "stderr",
     "output_type": "stream",
     "text": [
      "  0%|          | 368/500001 [00:49<23:15:59,  5.97it/s]"
     ]
    },
    {
     "name": "stdout",
     "output_type": "stream",
     "text": [
      "[3, 23538, 139, 37, 4862, 1320, 120, 12, 18, 13, 18, 64, 32, 19, 147, 21, 80, 23]\n",
      "[3, 51, 6, 38, 4160, 4158, 13]\n",
      "[3, 5688, 97, 15516, 25, 1672, 10, 1196, 513, 51405, 10, 51406, 12, 32, 42, 32, 19, 380, 21, 84, 23]\n",
      "[3, 8132, 24, 30930, 13]\n"
     ]
    },
    {
     "name": "stderr",
     "output_type": "stream",
     "text": [
      "  0%|          | 370/500001 [00:49<20:58:49,  6.62it/s]"
     ]
    },
    {
     "name": "stdout",
     "output_type": "stream",
     "text": [
      "[3, 55, 5, 13789, 10, 2633, 10, 7749, 12, 93, 13, 51, 32, 16, 19, 284, 21, 80, 23]\n",
      "[3, 272, 27699, 27, 19876, 21742, 13]\n",
      "[3, 37, 961, 140, 962, 963, 964, 12, 16, 15, 16, 16, 16, 13, 13, 42, 166, 19, 33, 21, 22, 23]\n",
      "[3, 114, 874, 95, 306, 875, 6, 16, 24, 876, 13]\n"
     ]
    },
    {
     "name": "stderr",
     "output_type": "stream",
     "text": [
      "  0%|          | 372/500001 [00:50<21:05:17,  6.58it/s]"
     ]
    },
    {
     "name": "stdout",
     "output_type": "stream",
     "text": [
      "[3, 85, 702, 36403, 890, 24658, 12, 16, 15, 19, 79, 21, 128, 23]\n",
      "[3, 1443, 86, 13]\n",
      "[3, 37, 69, 681, 8798, 250, 3054, 306, 764, 12, 13, 16, 16, 42, 18, 18, 16, 19, 127, 21, 67, 23]\n",
      "[3, 148, 46, 1177, 24, 51, 137, 164, 13]\n"
     ]
    },
    {
     "name": "stderr",
     "output_type": "stream",
     "text": [
      "  0%|          | 374/500001 [00:50<18:08:56,  7.65it/s]"
     ]
    },
    {
     "name": "stdout",
     "output_type": "stream",
     "text": [
      "[3, 2600, 10, 460, 379, 4005, 12, 16, 41, 19, 127, 21, 128, 23]\n",
      "[3, 3744, 920, 13]\n",
      "[3, 2343, 72514, 8087, 2435, 1131, 12, 13, 136, 16, 42, 32, 19, 147, 21, 80, 23]\n",
      "[3, 359, 2259, 1137, 24, 1578, 13]\n"
     ]
    },
    {
     "name": "stderr",
     "output_type": "stream",
     "text": [
      "  0%|          | 376/500001 [00:50<21:02:13,  6.60it/s]"
     ]
    },
    {
     "name": "stdout",
     "output_type": "stream",
     "text": [
      "[3, 11978, 11979, 5928, 550, 1060, 5, 129, 12, 16, 13, 16, 537, 93, 41, 16, 19, 317, 21, 67, 23]\n",
      "[3, 29, 6, 306, 456, 1364, 982, 11701, 13]\n",
      "[3, 878, 572, 323, 2532, 10, 1620, 4273, 555, 12, 16, 32, 1234, 1234, 19, 33, 21, 74, 23]\n",
      "[3, 108, 2417, 2151, 268, 13]\n"
     ]
    },
    {
     "name": "stderr",
     "output_type": "stream",
     "text": [
      "  0%|          | 378/500001 [00:51<19:38:45,  7.06it/s]"
     ]
    },
    {
     "name": "stdout",
     "output_type": "stream",
     "text": [
      "[3, 1349, 349, 13630, 12, 13, 18, 16, 14, 16, 51, 42, 32, 19, 1280, 21, 43, 23]\n",
      "[3, 198, 451, 2666, 21, 6742, 27, 24, 6973, 13]\n",
      "[3, 323, 62, 390, 37, 53318, 10, 4832, 25, 4225, 6378, 16910, 12, 32, 13, 16, 19, 33, 21, 84, 23]\n",
      "[3, 5419, 22779, 58, 13]\n"
     ]
    },
    {
     "name": "stderr",
     "output_type": "stream",
     "text": [
      "\r",
      "  0%|          | 380/500001 [00:51<18:33:19,  7.48it/s]"
     ]
    },
    {
     "name": "stdout",
     "output_type": "stream",
     "text": [
      "[3, 1232, 74923, 12, 16, 32, 65, 42, 635, 19, 380, 21, 80, 23]\n",
      "[3, 14921, 604, 371, 24, 29035, 13]\n",
      "[3, 37, 390, 24, 259, 192, 6050, 139, 3811, 12, 13, 17, 16, 51, 13, 19, 79, 21, 80, 23]\n",
      "[3, 148, 275, 5305, 27, 96, 13]\n"
     ]
    },
    {
     "name": "stderr",
     "output_type": "stream",
     "text": [
      "  0%|          | 382/500001 [00:51<19:09:35,  7.24it/s]"
     ]
    },
    {
     "name": "stdout",
     "output_type": "stream",
     "text": [
      "[3, 934, 24281, 53, 12, 18, 13, 15, 41, 19, 33, 21, 74, 23]\n",
      "[3, 2009, 497, 286, 3447, 13]\n",
      "[3, 90, 2488, 12, 13, 18, 13, 458, 51, 15, 19, 125, 21, 34, 23]\n",
      "[3, 148, 73, 514, 387, 27, 22516, 13]\n"
     ]
    },
    {
     "name": "stderr",
     "output_type": "stream",
     "text": [
      "  0%|          | 384/500001 [00:51<17:21:44,  7.99it/s]"
     ]
    },
    {
     "name": "stdout",
     "output_type": "stream",
     "text": [
      "[3, 542, 892, 935, 12, 16, 41, 19, 33, 21, 128, 23]\n",
      "[3, 1460, 662, 13]\n",
      "[3, 2798, 1154, 12, 569, 569, 569, 569, 19, 41, 21, 74, 23]\n",
      "[3, 489, 489, 489, 489, 13]\n"
     ]
    },
    {
     "name": "stderr",
     "output_type": "stream",
     "text": [
      "  0%|          | 386/500001 [00:52<18:43:41,  7.41it/s]"
     ]
    },
    {
     "name": "stdout",
     "output_type": "stream",
     "text": [
      "[3, 293, 379, 55, 250, 4293, 12, 18, 16, 16, 42, 32, 19, 33, 21, 80, 23]\n",
      "[3, 578, 495, 29, 24, 23387, 13]\n",
      "[3, 97, 37, 97, 37, 615, 37, 12, 839, 32, 19, 451, 21, 128, 23]\n",
      "[3, 3354, 14210, 13]\n"
     ]
    },
    {
     "name": "stderr",
     "output_type": "stream",
     "text": [
      "  0%|          | 389/500001 [00:52<16:28:04,  8.43it/s]"
     ]
    },
    {
     "name": "stdout",
     "output_type": "stream",
     "text": [
      "[3, 2978, 207, 5, 2395, 4599, 10, 911, 379, 515, 12, 18, 16, 13, 15, 16, 13, 42, 32, 19, 380, 21, 43, 23]\n",
      "[3, 48, 49, 57, 7, 5910, 6, 24, 618, 13]\n",
      "[3, 42454, 29980, 42455, 786, 139, 874, 2022, 2395, 37, 12, 40, 93, 18, 41, 18, 16, 16, 13, 16, 19, 467, 21, 22, 23]\n",
      "[3, 41807, 711, 993, 5774, 38, 145, 333, 6, 387, 13]\n",
      "[3, 2994, 1014, 10, 269, 12, 32, 18, 16, 18, 41, 19, 33, 21, 80, 23]\n",
      "[3, 12433, 38, 224, 212, 3364, 13]\n"
     ]
    },
    {
     "name": "stderr",
     "output_type": "stream",
     "text": [
      "  0%|          | 391/500001 [00:52<18:05:16,  7.67it/s]"
     ]
    },
    {
     "name": "stdout",
     "output_type": "stream",
     "text": [
      "[3, 1987, 53, 5, 37, 12, 32, 32, 42, 32, 19, 445, 21, 74, 23]\n",
      "[3, 17432, 73022, 24, 624, 13]\n",
      "[3, 1011, 514, 1412, 25, 951, 10, 2817, 12, 16, 16, 32, 213, 635, 32, 19, 147, 21, 34, 23]\n",
      "[3, 446, 279, 765, 232, 575, 416, 13]\n"
     ]
    },
    {
     "name": "stderr",
     "output_type": "stream",
     "text": [
      "  0%|          | 393/500001 [00:52<18:23:29,  7.55it/s]"
     ]
    },
    {
     "name": "stdout",
     "output_type": "stream",
     "text": [
      "[3, 1017, 365, 1017, 11668, 27324, 12, 93, 42, 32, 20, 486, 19, 79, 21, 80, 23]\n",
      "[3, 3365, 24, 7881, 132, 736, 13]\n",
      "[3, 6, 2794, 205, 743, 10, 660, 12, 14, 15, 93, 42, 93, 19, 147, 21, 80, 23]\n",
      "[3, 5, 86, 794, 24, 4698, 13]\n"
     ]
    },
    {
     "name": "stderr",
     "output_type": "stream",
     "text": [
      "  0%|          | 395/500001 [00:53<17:28:16,  7.94it/s]"
     ]
    },
    {
     "name": "stdout",
     "output_type": "stream",
     "text": [
      "[3, 5546, 925, 925, 222, 18401, 12, 14, 32, 16, 18, 18, 32, 19, 855, 21, 34, 23]\n",
      "[3, 21, 9068, 43391, 38, 1381, 766, 13]\n",
      "[3, 910, 764, 12, 65, 13, 16, 13, 19, 155, 21, 74, 23]\n",
      "[3, 787, 6, 29, 16, 13]\n"
     ]
    },
    {
     "name": "stderr",
     "output_type": "stream",
     "text": [
      "\r",
      "  0%|          | 397/500001 [00:53<16:07:00,  8.61it/s]"
     ]
    },
    {
     "name": "stdout",
     "output_type": "stream",
     "text": [
      "[3, 61108, 7002, 2486, 53, 4131, 4987, 4349, 25, 3346, 12, 16, 19, 467, 21, 123, 23]\n",
      "[3, 95, 13]\n",
      "[3, 544, 21664, 390, 13521, 12, 18, 16, 41, 41, 16, 19, 1236, 21, 80, 23]\n",
      "[3, 2229, 58, 1358, 1304, 318, 13]\n"
     ]
    },
    {
     "name": "stderr",
     "output_type": "stream",
     "text": [
      "  0%|          | 399/500001 [00:53<19:13:34,  7.22it/s]"
     ]
    },
    {
     "name": "stdout",
     "output_type": "stream",
     "text": [
      "[3, 8289, 17116, 183, 550, 7207, 12, 13, 16, 16, 13, 16, 16, 19, 317, 21, 34, 23]\n",
      "[3, 16, 306, 15108, 206, 1176, 20022, 13]\n",
      "[3, 196, 183, 15420, 53, 10, 2844, 12, 18, 65, 64, 19, 33, 21, 84, 23]\n",
      "[3, 38, 462, 15090, 13]\n"
     ]
    },
    {
     "name": "stderr",
     "output_type": "stream",
     "text": [
      "  0%|          | 401/500001 [00:53<18:20:25,  7.57it/s]"
     ]
    },
    {
     "name": "stdout",
     "output_type": "stream",
     "text": [
      "[3, 323, 129, 923, 925, 323, 575, 811, 12, 13, 16, 15, 41, 19, 504, 21, 74, 23]\n",
      "[3, 831, 2270, 494, 1636, 13]\n",
      "[3, 29338, 12, 32, 19, 1280, 21, 123, 23]\n",
      "[3, 42453, 13]\n"
     ]
    },
    {
     "name": "stderr",
     "output_type": "stream",
     "text": [
      "\r",
      "  0%|          | 403/500001 [00:54<18:09:39,  7.64it/s]"
     ]
    },
    {
     "name": "stdout",
     "output_type": "stream",
     "text": [
      "[3, 3389, 53, 3766, 10, 2942, 12, 65, 13, 65, 13, 42, 32, 19, 125, 21, 34, 23]\n",
      "[3, 311, 6, 316, 16, 24, 417, 13]\n",
      "[3, 1086, 2726, 120, 3055, 12, 32, 18, 458, 32, 41, 18, 16, 18, 32, 19, 20, 21, 22, 23]\n",
      "[3, 68878, 230, 387, 15334, 37, 73, 16638, 73, 65428, 13]\n"
     ]
    },
    {
     "name": "stderr",
     "output_type": "stream",
     "text": [
      "  0%|          | 405/500001 [00:54<20:12:17,  6.87it/s]"
     ]
    },
    {
     "name": "stdout",
     "output_type": "stream",
     "text": [
      "[3, 4933, 437, 1452, 555, 427, 12, 93, 13, 64, 19, 855, 21, 84, 23]\n",
      "[3, 2828, 16, 2928, 13]\n",
      "[3, 7951, 585, 85, 5, 21802, 12, 16, 16, 13, 73, 73, 42, 32, 19, 380, 21, 67, 23]\n",
      "[3, 59267, 7786, 6, 531, 49433, 24, 604, 13]\n"
     ]
    },
    {
     "name": "stderr",
     "output_type": "stream",
     "text": [
      "  0%|          | 407/500001 [00:54<20:54:48,  6.64it/s]"
     ]
    },
    {
     "name": "stdout",
     "output_type": "stream",
     "text": [
      "[3, 37, 2731, 4838, 555, 1926, 7621, 12, 13, 16, 41, 64, 19, 33, 21, 74, 23]\n",
      "[3, 16, 439, 464, 5677, 13]\n",
      "[3, 2836, 4470, 10, 5, 1469, 527, 1981, 12, 15, 13, 73, 42, 32, 14, 33, 19, 20, 21, 67, 23]\n",
      "[3, 86, 6, 13148, 24, 823, 5, 8271, 13]\n"
     ]
    },
    {
     "name": "stderr",
     "output_type": "stream",
     "text": [
      "\r",
      "  0%|          | 409/500001 [00:55<18:55:58,  7.33it/s]"
     ]
    },
    {
     "name": "stdout",
     "output_type": "stream",
     "text": [
      "[3, 129, 460, 183, 250, 53, 19064, 12, 16, 13, 18, 18, 16, 19, 87, 21, 80, 23]\n",
      "[3, 579, 6, 19448, 11995, 863, 13]\n",
      "[3, 3104, 1145, 752, 574, 5, 664, 12, 16, 32, 292, 16, 16, 32, 19, 20, 21, 34, 23]\n",
      "[3, 17023, 17024, 5746, 17025, 1054, 17026, 13]\n"
     ]
    },
    {
     "name": "stderr",
     "output_type": "stream",
     "text": [
      "  0%|          | 411/500001 [00:55<21:53:56,  6.34it/s]"
     ]
    },
    {
     "name": "stdout",
     "output_type": "stream",
     "text": [
      "[3, 223, 3951, 37, 69, 81, 269, 515, 12, 13, 16, 16, 13, 16, 213, 41, 19, 141, 21, 67, 23]\n",
      "[3, 6, 306, 1497, 16, 581, 53, 1229, 13]\n",
      "[3, 6727, 6133, 15002, 258, 6659, 3192, 12, 40, 94, 16, 18, 18, 16, 16, 19, 703, 21, 67, 23]\n",
      "[3, 62269, 23291, 1279, 38, 212, 150, 26, 13]\n"
     ]
    },
    {
     "name": "stderr",
     "output_type": "stream",
     "text": [
      "\r",
      "  0%|          | 413/500001 [00:55<19:18:37,  7.19it/s]"
     ]
    },
    {
     "name": "stdout",
     "output_type": "stream",
     "text": [
      "[3, 7712, 323, 358, 307, 307, 12, 65, 13, 16, 16, 13, 16, 19, 504, 21, 34, 23]\n",
      "[3, 311, 206, 46, 49, 206, 3771, 13]\n",
      "[3, 228, 30988, 658, 186, 2193, 437, 12, 14, 13, 18, 16, 14, 32, 17, 19, 445, 21, 67, 23]\n",
      "[3, 272, 16, 373, 1494, 5, 455, 614, 13]\n",
      "[3, 2398, 3981, 96, 97, 55, 1080, 12, 16, 13, 42, 32, 19, 41, 21, 74, 23]\n",
      "[3, 2121, 831, 24, 8461, 13]\n"
     ]
    },
    {
     "name": "stderr",
     "output_type": "stream",
     "text": [
      "  0%|          | 416/500001 [00:55<18:29:34,  7.50it/s]"
     ]
    },
    {
     "name": "stdout",
     "output_type": "stream",
     "text": [
      "[3, 37, 2000, 1946, 25, 12, 13, 65, 14, 14, 19, 211, 21, 74, 23]\n",
      "[3, 16, 1884, 1833, 5, 13]\n",
      "[3, 1467, 112, 1097, 1080, 12, 16, 93, 18, 14, 18, 19, 199, 21, 80, 23]\n",
      "[3, 938, 711, 1605, 5, 9962, 13]\n"
     ]
    },
    {
     "name": "stderr",
     "output_type": "stream",
     "text": [
      "  0%|          | 418/500001 [00:56<19:39:18,  7.06it/s]"
     ]
    },
    {
     "name": "stdout",
     "output_type": "stream",
     "text": [
      "[3, 55, 5, 10, 3060, 12, 13, 18, 18, 16, 32, 19, 127, 21, 80, 23]\n",
      "[3, 595, 137, 212, 1236, 3801, 13]\n",
      "[3, 71, 10858, 71, 2023, 71, 4801, 12, 18, 16, 18, 16, 16, 18, 32, 16, 19, 451, 21, 43, 23]\n",
      "[3, 73, 99, 5402, 504, 248, 4213, 8102, 2786, 13]\n"
     ]
    },
    {
     "name": "stderr",
     "output_type": "stream",
     "text": [
      "\r",
      "  0%|          | 420/500001 [00:56<17:43:28,  7.83it/s]"
     ]
    },
    {
     "name": "stdout",
     "output_type": "stream",
     "text": [
      "[3, 452, 31317, 1341, 78, 12, 13, 42, 32, 65, 32, 19, 66, 21, 80, 23]\n",
      "[3, 148, 24, 29, 462, 503, 13]\n",
      "[3, 37, 121, 925, 37, 10, 2733, 12, 13, 42, 32, 16, 16, 19, 141, 21, 80, 23]\n",
      "[3, 16, 24, 2609, 3361, 2654, 13]\n"
     ]
    },
    {
     "name": "stderr",
     "output_type": "stream",
     "text": [
      "  0%|          | 422/500001 [00:56<19:59:06,  6.94it/s]"
     ]
    },
    {
     "name": "stdout",
     "output_type": "stream",
     "text": [
      "[3, 1766, 5, 89893, 784, 12, 32, 32, 16, 13, 16, 40, 19, 211, 21, 34, 23]\n",
      "[3, 1039, 8102, 29, 6, 265, 586, 13]\n",
      "[3, 2954, 53, 62, 1593, 10, 110, 12728, 295, 19862, 12, 15, 57, 16, 32, 42, 32, 16, 39, 32, 73, 635, 19, 195, 21, 253, 23]\n",
      "[3, 35, 3419, 1928, 618, 24, 14934, 490, 19, 81865, 25094, 1306, 13]\n"
     ]
    },
    {
     "name": "stderr",
     "output_type": "stream",
     "text": [
      "  0%|          | 424/500001 [00:57<24:48:13,  5.59it/s]"
     ]
    },
    {
     "name": "stdout",
     "output_type": "stream",
     "text": [
      "[3, 23459, 7385, 2070, 496, 12, 32, 16, 65, 13, 18, 16, 13, 19, 41, 21, 67, 23]\n",
      "[3, 28399, 788, 20803, 6, 43, 376, 4, 13]\n",
      "[3, 140, 367, 218, 5, 37664, 275, 18975, 12, 93, 13, 65, 32, 16, 19, 191, 21, 80, 23]\n",
      "[3, 1364, 16, 311, 893, 37088, 13]\n"
     ]
    },
    {
     "name": "stderr",
     "output_type": "stream",
     "text": [
      "  0%|          | 426/500001 [00:57<21:14:07,  6.53it/s]"
     ]
    },
    {
     "name": "stdout",
     "output_type": "stream",
     "text": [
      "[3, 223, 1820, 1067, 323, 5, 12, 16, 13, 13, 16, 13, 19, 155, 21, 80, 23]\n",
      "[3, 164, 6, 3009, 252, 16, 13]\n",
      "[3, 37, 910, 1366, 55, 12, 65, 16, 65, 32, 19, 195, 21, 74, 23]\n",
      "[3, 816, 29, 316, 142, 13]\n"
     ]
    },
    {
     "name": "stderr",
     "output_type": "stream",
     "text": [
      "  0%|          | 428/500001 [00:57<18:14:47,  7.61it/s]"
     ]
    },
    {
     "name": "stdout",
     "output_type": "stream",
     "text": [
      "[3, 37, 527, 2355, 1442, 2855, 10, 2063, 12, 16, 16, 486, 17, 41, 16, 19, 147, 21, 34, 23]\n",
      "[3, 150, 4976, 1943, 614, 7316, 1471, 13]\n",
      "[3, 275, 1588, 10781, 572, 31536, 12, 16, 18, 16, 41, 13, 42, 16, 19, 125, 21, 67, 23]\n",
      "[3, 29, 234, 3028, 20562, 16, 24, 1655, 13]\n"
     ]
    },
    {
     "name": "stderr",
     "output_type": "stream",
     "text": [
      "  0%|          | 430/500001 [00:57<19:08:33,  7.25it/s]"
     ]
    },
    {
     "name": "stdout",
     "output_type": "stream",
     "text": [
      "[3, 266, 1105, 1539, 323, 218, 92, 9943, 1103, 12, 13, 14, 32, 17, 13, 15, 41, 32, 18, 13, 16, 42, 16, 19, 66, 21, 897, 23]\n",
      "[3, 335, 5, 8060, 614, 1212, 286, 2744, 11398, 137, 1678, 9286, 24, 1022, 13]\n",
      "[3, 1372, 37, 6656, 2915, 81893, 12, 32, 17, 32, 17, 19, 33, 21, 74, 23]\n",
      "[3, 80951, 4290, 80951, 4290, 13]\n"
     ]
    },
    {
     "name": "stderr",
     "output_type": "stream",
     "text": [
      "  0%|          | 432/500001 [00:58<18:39:43,  7.44it/s]"
     ]
    },
    {
     "name": "stdout",
     "output_type": "stream",
     "text": [
      "[3, 19007, 12, 13, 16, 15, 15, 16, 19, 87, 21, 80, 23]\n",
      "[3, 16, 306, 1254, 1254, 863, 13]\n",
      "[3, 169, 379, 1385, 4026, 1088, 313, 13943, 12, 73, 42, 40, 486, 16, 13, 520, 18, 19, 703, 21, 43, 23]\n",
      "[3, 13018, 24, 74852, 2904, 81, 16, 440, 53, 13]\n"
     ]
    },
    {
     "name": "stderr",
     "output_type": "stream",
     "text": [
      "  0%|          | 434/500001 [00:58<22:42:32,  6.11it/s]"
     ]
    },
    {
     "name": "stdout",
     "output_type": "stream",
     "text": [
      "[3, 76420, 76421, 21315, 76422, 76423, 3529, 1937, 12, 136, 15, 32, 15, 32, 15, 32, 19, 33, 21, 67, 23]\n",
      "[3, 75519, 54596, 1822, 75520, 1822, 51030, 1822, 13]\n",
      "[3, 68631, 12, 16, 32, 73, 19, 20, 21, 84, 23]\n",
      "[3, 22190, 67763, 18522, 13]\n"
     ]
    },
    {
     "name": "stderr",
     "output_type": "stream",
     "text": [
      "  0%|          | 436/500001 [00:58<19:29:35,  7.12it/s]"
     ]
    },
    {
     "name": "stdout",
     "output_type": "stream",
     "text": [
      "[3, 37, 139, 538, 968, 12, 13, 18, 16, 16, 16, 13, 506, 41, 19, 141, 21, 43, 23]\n",
      "[3, 16, 212, 969, 5331, 1473, 16, 26352, 26353, 13]\n",
      "[3, 1385, 24, 771, 1809, 12, 33, 42, 16, 13, 19, 41, 21, 74, 23]\n",
      "[3, 25254, 24, 29, 4, 13]\n"
     ]
    },
    {
     "name": "stderr",
     "output_type": "stream",
     "text": [
      "  0%|          | 438/500001 [00:59<18:34:31,  7.47it/s]"
     ]
    },
    {
     "name": "stdout",
     "output_type": "stream",
     "text": [
      "[3, 676, 5, 390, 37, 10, 10781, 12, 16, 51, 13, 16, 13, 32, 19, 445, 21, 34, 23]\n",
      "[3, 305, 27, 16, 49, 16, 221, 13]\n",
      "[3, 318, 207, 63281, 154, 2250, 1685, 12, 13, 42, 32, 18, 18, 41, 19, 504, 21, 34, 23]\n",
      "[3, 16, 24, 62212, 364, 212, 3631, 13]\n"
     ]
    },
    {
     "name": "stderr",
     "output_type": "stream",
     "text": [
      "  0%|          | 440/500001 [00:59<17:41:37,  7.84it/s]"
     ]
    },
    {
     "name": "stdout",
     "output_type": "stream",
     "text": [
      "[3, 798, 37, 10, 5521, 12, 16, 13, 42, 32, 19, 155, 21, 74, 23]\n",
      "[3, 3150, 6, 24, 6560, 13]\n",
      "[3, 96, 679, 223, 10660, 522, 578, 24862, 12, 16, 16, 15, 136, 32, 19, 66, 21, 80, 23]\n",
      "[3, 81, 12748, 1102, 2075, 7965, 13]\n"
     ]
    },
    {
     "name": "stderr",
     "output_type": "stream",
     "text": [
      "  0%|          | 442/500001 [00:59<17:16:52,  8.03it/s]"
     ]
    },
    {
     "name": "stdout",
     "output_type": "stream",
     "text": [
      "[3, 19184, 30, 57051, 47, 3420, 12, 16, 32, 19, 33, 21, 128, 23]\n",
      "[3, 1769, 2216, 13]\n",
      "[3, 2035, 25, 42689, 269, 409, 275, 2411, 12, 508, 16, 51, 13, 19, 33, 21, 74, 23]\n",
      "[3, 432, 439, 27, 6, 13]\n"
     ]
    },
    {
     "name": "stderr",
     "output_type": "stream",
     "text": [
      "  0%|          | 444/500001 [00:59<18:19:31,  7.57it/s]"
     ]
    },
    {
     "name": "stdout",
     "output_type": "stream",
     "text": [
      "[3, 2794, 5, 10, 9499, 12, 13, 41, 65, 13, 16, 18, 19, 451, 21, 34, 23]\n",
      "[3, 2355, 4276, 9372, 16, 999, 661, 13]\n",
      "[3, 574, 37, 129, 223, 573, 10, 452, 12, 16, 15, 16, 16, 15, 41, 141, 14, 136, 42, 16, 19, 1236, 21, 253, 23]\n",
      "[3, 1037, 1387, 1037, 252, 286, 166, 639, 5, 81854, 24, 3607, 13]\n"
     ]
    },
    {
     "name": "stderr",
     "output_type": "stream",
     "text": [
      "\r",
      "  0%|          | 445/500001 [01:00<18:56:14,  7.33it/s]"
     ]
    },
    {
     "name": "stdout",
     "output_type": "stream",
     "text": [
      "[3, 945, 3023, 26088, 96, 4958, 196, 26089, 12, 18, 16, 16, 93, 18, 14, 13, 16, 19, 125, 21, 43, 23]\n",
      "[3, 2938, 5637, 1483, 156, 73, 21, 6, 25618, 13]\n"
     ]
    },
    {
     "name": "stderr",
     "output_type": "stream",
     "text": [
      "\r",
      "  0%|          | 446/500001 [01:00<21:40:13,  6.40it/s]"
     ]
    },
    {
     "name": "stdout",
     "output_type": "stream",
     "text": [
      "[3, 269, 120, 3924, 45, 852, 5923, 515, 3348, 10774, 1723, 12, 32, 32, 57, 32, 32, 32, 57, 32, 19, 141, 21, 43, 23]\n",
      "[3, 1896, 687, 188, 11570, 7097, 687, 188, 30858, 13]\n"
     ]
    },
    {
     "name": "stderr",
     "output_type": "stream",
     "text": [
      "\r",
      "  0%|          | 447/500001 [01:00<23:45:01,  5.84it/s]"
     ]
    },
    {
     "name": "stdout",
     "output_type": "stream",
     "text": [
      "[3, 5, 103, 103, 438, 1592, 1562, 37, 23045, 10, 2270, 12, 13, 65, 32, 18, 16, 13, 40, 14, 13, 42, 19, 79, 21, 261, 23]\n",
      "[3, 6, 462, 46237, 364, 5692, 16, 46236, 493, 6, 24, 13]\n"
     ]
    },
    {
     "name": "stderr",
     "output_type": "stream",
     "text": [
      "  0%|          | 449/500001 [01:00<23:39:51,  5.86it/s]"
     ]
    },
    {
     "name": "stdout",
     "output_type": "stream",
     "text": [
      "[3, 544, 1414, 12, 15, 65, 569, 19, 41, 21, 84, 23]\n",
      "[3, 6239, 462, 1308, 13]\n",
      "[3, 14829, 43265, 4322, 112, 4322, 41886, 1539, 12, 65, 13, 136, 16, 16, 93, 32, 19, 87, 21, 67, 23]\n",
      "[3, 479, 359, 2259, 6501, 788, 21736, 966, 13]\n"
     ]
    },
    {
     "name": "stderr",
     "output_type": "stream",
     "text": [
      "  0%|          | 451/500001 [01:01<22:00:36,  6.30it/s]"
     ]
    },
    {
     "name": "stdout",
     "output_type": "stream",
     "text": [
      "[3, 9206, 12, 18, 18, 16, 19, 211, 21, 84, 23]\n",
      "[3, 48, 364, 2288, 13]\n",
      "[3, 55, 2245, 55, 5, 10, 8085, 8867, 12, 14, 93, 41, 16, 41, 19, 127, 21, 80, 23]\n",
      "[3, 935, 3365, 1312, 677, 920, 13]\n"
     ]
    },
    {
     "name": "stderr",
     "output_type": "stream",
     "text": [
      "  0%|          | 453/500001 [01:01<20:44:36,  6.69it/s]"
     ]
    },
    {
     "name": "stdout",
     "output_type": "stream",
     "text": [
      "[3, 394, 379, 189, 896, 103, 296, 1301, 12, 16, 13, 42, 32, 14, 13, 16, 16, 19, 211, 21, 43, 23]\n",
      "[3, 1513, 6, 24, 388, 5, 17, 164, 1497, 13]\n",
      "[3, 8473, 192, 910, 55, 37, 1883, 12, 32, 32, 16, 16, 18, 18, 41, 19, 703, 21, 67, 23]\n",
      "[3, 140, 10452, 252, 29, 73, 53, 1433, 13]\n"
     ]
    },
    {
     "name": "stderr",
     "output_type": "stream",
     "text": [
      "  0%|          | 455/500001 [01:01<20:49:57,  6.66it/s]"
     ]
    },
    {
     "name": "stdout",
     "output_type": "stream",
     "text": [
      "[3, 37, 379, 693, 25, 5138, 10, 4215, 12, 16, 13, 16, 19, 20, 21, 84, 23]\n",
      "[3, 4586, 831, 11501, 13]\n",
      "[3, 12404, 433, 522, 59128, 13030, 12, 32, 32, 16, 486, 19, 504, 21, 74, 23]\n",
      "[3, 31913, 50799, 303, 16122, 13]\n"
     ]
    },
    {
     "name": "stderr",
     "output_type": "stream",
     "text": [
      "  0%|          | 457/500001 [01:01<18:22:03,  7.55it/s]"
     ]
    },
    {
     "name": "stdout",
     "output_type": "stream",
     "text": [
      "[3, 255, 438, 686, 12, 213, 32, 32, 19, 1280, 21, 84, 23]\n",
      "[3, 898, 3485, 72935, 13]\n",
      "[3, 3178, 25951, 8990, 1992, 10, 799, 12, 18, 16, 41, 42, 32, 16, 19, 211, 21, 34, 23]\n",
      "[3, 4349, 3212, 3861, 24, 7612, 13416, 13]\n"
     ]
    },
    {
     "name": "stderr",
     "output_type": "stream",
     "text": [
      "  0%|          | 459/500001 [01:02<20:49:21,  6.66it/s]"
     ]
    },
    {
     "name": "stdout",
     "output_type": "stream",
     "text": [
      "[3, 2997, 4270, 225, 1414, 12, 15, 51, 13, 32, 32, 94, 19, 1280, 21, 34, 23]\n",
      "[3, 2814, 27, 359, 1578, 394, 3464, 13]\n",
      "[3, 2136, 10139, 918, 12, 18, 93, 166, 42, 16, 16, 19, 1236, 21, 34, 23]\n",
      "[3, 236, 2816, 475, 24, 36966, 509, 13]\n"
     ]
    },
    {
     "name": "stderr",
     "output_type": "stream",
     "text": [
      "\r",
      "  0%|          | 461/500001 [01:02<18:53:58,  7.34it/s]"
     ]
    },
    {
     "name": "stdout",
     "output_type": "stream",
     "text": [
      "[3, 11091, 10, 1984, 7373, 97, 5, 10, 231, 12, 64, 42, 93, 17, 16, 13, 42, 41, 19, 127, 21, 43, 23]\n",
      "[3, 10818, 24, 3828, 923, 58, 16, 24, 5237, 13]\n",
      "[3, 5, 25, 3042, 45, 11636, 59130, 12, 13, 14, 32, 39, 635, 19, 141, 21, 80, 23]\n",
      "[3, 6, 5, 2907, 19, 8536, 13]\n"
     ]
    },
    {
     "name": "stderr",
     "output_type": "stream",
     "text": [
      "  0%|          | 463/500001 [01:02<17:03:06,  8.14it/s]"
     ]
    },
    {
     "name": "stdout",
     "output_type": "stream",
     "text": [
      "[3, 24602, 10, 96, 444, 25593, 45, 494, 10, 1371, 47953, 12, 65, 16, 19, 147, 21, 128, 23]\n",
      "[3, 40, 7065, 13]\n",
      "[3, 8175, 10915, 538, 438, 3566, 767, 379, 2596, 12, 13, 13, 18, 16, 16, 19, 467, 21, 80, 23]\n",
      "[3, 57, 595, 236, 145, 419, 13]\n"
     ]
    },
    {
     "name": "stderr",
     "output_type": "stream",
     "text": [
      "  0%|          | 465/500001 [01:02<16:21:14,  8.48it/s]"
     ]
    },
    {
     "name": "stdout",
     "output_type": "stream",
     "text": [
      "[3, 3470, 47746, 390, 9124, 8876, 39137, 10, 21741, 1004, 910, 97, 25, 14224, 12049, 57824, 10, 12, 65, 33, 19, 87, 21, 128, 23]\n",
      "[3, 2206, 57040, 13]\n",
      "[3, 484, 206, 441, 12, 16, 569, 40, 19, 20, 21, 84, 23]\n",
      "[3, 95, 984, 381, 13]\n"
     ]
    },
    {
     "name": "stderr",
     "output_type": "stream",
     "text": [
      "  0%|          | 467/500001 [01:03<19:51:15,  6.99it/s]"
     ]
    },
    {
     "name": "stdout",
     "output_type": "stream",
     "text": [
      "[3, 37, 10, 4076, 77500, 53, 12, 18, 16, 16, 16, 13, 42, 32, 569, 19, 79, 21, 43, 23]\n",
      "[3, 451, 46, 7554, 1263, 6, 24, 1509, 7074, 13]\n",
      "[3, 1622, 169, 391, 1401, 12, 13, 18, 16, 19, 855, 21, 84, 23]\n"
     ]
    },
    {
     "name": "stderr",
     "output_type": "stream",
     "text": [
      "\r",
      "  0%|          | 468/500001 [01:03<18:54:18,  7.34it/s]"
     ]
    },
    {
     "name": "stdout",
     "output_type": "stream",
     "text": [
      "[3, 148, 3023, 24021, 13]\n",
      "[3, 2325, 5, 379, 193, 45, 12, 13, 16, 13, 16, 16, 13, 19, 155, 21, 34, 23]\n",
      "[3, 16, 581, 6, 64, 2666, 16, 13]\n"
     ]
    },
    {
     "name": "stderr",
     "output_type": "stream",
     "text": [
      "\r",
      "  0%|          | 469/500001 [01:03<20:10:23,  6.88it/s]"
     ]
    },
    {
     "name": "stdout",
     "output_type": "stream",
     "text": [
      "[3, 538, 2907, 4015, 689, 7014, 45, 1034, 3353, 12, 32, 42, 32, 18, 16, 32, 18, 16, 19, 211, 21, 43, 23]\n",
      "[3, 836, 24, 6819, 73, 5833, 417, 841, 6820, 13]\n",
      "[3, 2870, 5, 1493, 515, 25, 37, 956, 12, 33, 16, 32, 19, 20, 21, 84, 23]\n",
      "[3, 1959, 1225, 81656, 13]\n"
     ]
    },
    {
     "name": "stderr",
     "output_type": "stream",
     "text": [
      "  0%|          | 472/500001 [01:03<18:08:25,  7.65it/s]"
     ]
    },
    {
     "name": "stdout",
     "output_type": "stream",
     "text": [
      "[3, 2428, 12, 18, 16, 16, 13, 16, 19, 467, 21, 80, 23]\n",
      "[3, 9157, 6901, 12299, 16, 95, 13]\n",
      "[3, 69, 103, 3828, 37, 10, 231, 12, 41, 15, 64, 19, 79, 21, 84, 23]\n",
      "[3, 7291, 288, 4160, 13]\n"
     ]
    },
    {
     "name": "stderr",
     "output_type": "stream",
     "text": [
      "  0%|          | 475/500001 [01:04<16:21:06,  8.49it/s]"
     ]
    },
    {
     "name": "stdout",
     "output_type": "stream",
     "text": [
      "[3, 37, 385, 595, 5589, 10, 78, 12, 32, 16, 15, 19, 125, 21, 84, 23]\n",
      "[3, 720, 5423, 2006, 13]\n",
      "[3, 1210, 4622, 10, 66955, 12, 18, 16, 32, 42, 41, 19, 127, 21, 80, 23]\n",
      "[3, 240, 1109, 4469, 24, 16478, 13]\n",
      "[3, 37, 167, 97, 892, 11430, 615, 27452, 988, 12, 15, 41, 42, 41, 213, 19, 41, 21, 80, 23]\n",
      "[3, 7, 262, 24, 372, 898, 13]\n"
     ]
    },
    {
     "name": "stderr",
     "output_type": "stream",
     "text": [
      "\r",
      "  0%|          | 477/500001 [01:04<16:36:09,  8.36it/s]"
     ]
    },
    {
     "name": "stdout",
     "output_type": "stream",
     "text": [
      "[3, 37, 96, 112, 879, 570, 12, 16, 13, 16, 13, 15, 19, 41, 21, 80, 23]\n",
      "[3, 49, 16, 235, 6, 3199, 13]\n",
      "[3, 5, 10, 709, 390, 37, 702, 689, 601, 12, 41, 42, 13, 16, 19, 66, 21, 74, 23]\n",
      "[3, 811, 24, 6, 890, 13]\n"
     ]
    },
    {
     "name": "stderr",
     "output_type": "stream",
     "text": [
      "\r",
      "  0%|          | 479/500001 [01:04<16:23:14,  8.47it/s]"
     ]
    },
    {
     "name": "stdout",
     "output_type": "stream",
     "text": [
      "[3, 92, 37447, 2250, 12, 73, 65, 32, 41, 19, 1236, 21, 74, 23]\n",
      "[3, 1009, 311, 2965, 166, 13]\n",
      "[3, 414, 5, 12, 13, 13, 16, 16, 51, 32, 19, 127, 21, 34, 23]\n",
      "[3, 16, 57, 29, 27469, 27, 2053, 13]\n",
      "[3, 17155, 3763, 2751, 1268, 12, 16, 13, 16, 16, 18, 13, 18, 16, 569, 19, 41, 21, 22, 23]\n",
      "[3, 82, 831, 858, 2945, 51, 6, 451, 2666, 1308, 13]\n"
     ]
    },
    {
     "name": "stderr",
     "output_type": "stream",
     "text": [
      "  0%|          | 483/500001 [01:05<16:25:17,  8.45it/s]"
     ]
    },
    {
     "name": "stdout",
     "output_type": "stream",
     "text": [
      "[3, 17167, 69, 1263, 5, 289, 586, 12, 16, 42, 32, 18, 16, 16, 19, 33, 21, 34, 23]\n",
      "[3, 16226, 24, 1370, 212, 5838, 19070, 13]\n",
      "[3, 1579, 679, 3027, 12, 18, 16, 51, 13, 19, 33, 21, 74, 23]\n",
      "[3, 1475, 164, 27, 206, 13]\n",
      "[3, 60834, 313, 60835, 438, 6221, 12, 32, 41, 15, 41, 15, 19, 41, 21, 80, 23]\n",
      "[3, 12256, 3411, 14659, 4052, 14659, 13]\n"
     ]
    },
    {
     "name": "stderr",
     "output_type": "stream",
     "text": [
      "  0%|          | 485/500001 [01:05<18:05:10,  7.67it/s]"
     ]
    },
    {
     "name": "stdout",
     "output_type": "stream",
     "text": [
      "[3, 680, 470, 10, 37537, 12, 16, 42, 65, 13, 19, 155, 21, 74, 23]\n",
      "[3, 2501, 24, 462, 16, 13]\n",
      "[3, 112, 3401, 379, 1604, 12, 40, 16, 16, 18, 33, 19, 20, 21, 80, 23]\n",
      "[3, 5681, 81, 434, 73, 5682, 13]\n"
     ]
    },
    {
     "name": "stderr",
     "output_type": "stream",
     "text": [
      "\r",
      "  0%|          | 487/500001 [01:05<16:32:55,  8.38it/s]"
     ]
    },
    {
     "name": "stdout",
     "output_type": "stream",
     "text": [
      "[3, 183, 3358, 12, 13, 16, 13, 42, 136, 19, 211, 21, 80, 23]\n",
      "[3, 16, 13424, 6, 24, 8538, 13]\n",
      "[3, 92, 10, 215, 12, 16, 32, 16, 16, 19, 125, 21, 74, 23]\n",
      "[3, 252, 417, 252, 2490, 13]\n"
     ]
    },
    {
     "name": "stderr",
     "output_type": "stream",
     "text": [
      "\r",
      "  0%|          | 488/500001 [01:05<17:09:38,  8.09it/s]"
     ]
    },
    {
     "name": "stdout",
     "output_type": "stream",
     "text": [
      "[3, 1024, 2061, 10, 659, 12, 40, 40, 42, 16, 19, 125, 21, 74, 23]\n",
      "[3, 933, 1944, 24, 576, 13]\n",
      "[3, 15176, 53, 23407, 10, 23408, 12, 32, 51, 73, 42, 40, 19, 141, 21, 80, 23]\n",
      "[3, 22965, 27, 10224, 24, 10225, 13]\n"
     ]
    },
    {
     "name": "stderr",
     "output_type": "stream",
     "text": [
      "\r",
      "  0%|          | 490/500001 [01:06<17:05:44,  8.12it/s]"
     ]
    },
    {
     "name": "stdout",
     "output_type": "stream",
     "text": [
      "[3, 1504, 1178, 1809, 37, 1876, 1876, 12, 41, 13, 41, 13, 13, 65, 13, 18, 13, 65, 13, 65, 19, 41, 21, 371, 23]\n",
      "[3, 1762, 16, 1762, 16, 16, 1134, 16, 52, 16, 1134, 16, 1134, 13]\n"
     ]
    },
    {
     "name": "stderr",
     "output_type": "stream",
     "text": [
      "  0%|          | 492/500001 [01:06<21:11:06,  6.55it/s]"
     ]
    },
    {
     "name": "stdout",
     "output_type": "stream",
     "text": [
      "[3, 37, 25, 671, 37, 25, 2339, 37, 25, 991, 37, 25, 12098, 12, 13, 18, 16, 16, 13, 16, 32, 13, 41, 41, 16, 32, 19, 195, 21, 371, 23]\n",
      "[3, 16, 53, 5704, 4534, 16, 58, 823, 16, 166, 1291, 691, 765, 13]\n",
      "[3, 6587, 741, 438, 879, 12, 16, 51, 13, 57, 19, 191, 21, 74, 23]\n",
      "[3, 9908, 27, 57, 8020, 13]\n"
     ]
    },
    {
     "name": "stderr",
     "output_type": "stream",
     "text": [
      "  0%|          | 494/500001 [01:06<19:02:12,  7.29it/s]"
     ]
    },
    {
     "name": "stdout",
     "output_type": "stream",
     "text": [
      "[3, 5271, 1469, 13916, 42533, 988, 12, 458, 51, 13, 15, 18, 16, 32, 16, 19, 41, 21, 43, 23]\n",
      "[3, 387, 27, 1212, 2814, 685, 414, 388, 5827, 13]\n",
      "[3, 344, 37, 5153, 1010, 8423, 298, 69335, 4998, 12, 32, 18, 64, 16, 15, 42, 32, 19, 195, 21, 67, 23]\n",
      "[3, 417, 11, 1243, 1925, 1709, 24, 765, 13]\n"
     ]
    },
    {
     "name": "stderr",
     "output_type": "stream",
     "text": [
      "  0%|          | 496/500001 [01:06<19:38:09,  7.07it/s]"
     ]
    },
    {
     "name": "stdout",
     "output_type": "stream",
     "text": [
      "[3, 97, 5, 1479, 1959, 10, 3764, 12, 16, 13, 41, 16, 39, 32, 19, 20, 21, 34, 23]\n",
      "[3, 2210, 16, 28537, 1576, 19, 7485, 13]\n",
      "[3, 1268, 53623, 4742, 848, 19854, 383, 14203, 12, 16, 16, 166, 32, 18, 41, 16, 19, 1236, 21, 67, 23]\n",
      "[3, 255, 414, 42421, 142, 137, 1304, 6118, 13]\n"
     ]
    },
    {
     "name": "stderr",
     "output_type": "stream",
     "text": [
      "  0%|          | 498/500001 [01:07<22:46:02,  6.09it/s]"
     ]
    },
    {
     "name": "stdout",
     "output_type": "stream",
     "text": [
      "[3, 13248, 872, 571, 53, 37, 207, 31282, 12, 13, 16, 13, 15, 41, 42, 32, 19, 79, 21, 67, 23]\n",
      "[3, 4, 26, 16, 9367, 3341, 24, 2029, 13]\n",
      "[3, 7, 67751, 3060, 12, 64, 19, 191, 21, 123, 23]\n",
      "[3, 3118, 13]\n"
     ]
    },
    {
     "name": "stderr",
     "output_type": "stream",
     "text": [
      "\r",
      "  0%|          | 500/500001 [01:07<21:14:17,  6.53it/s]"
     ]
    },
    {
     "name": "stdout",
     "output_type": "stream",
     "text": [
      "[3, 5643, 14286, 6661, 12, 18, 16, 13, 41, 42, 635, 19, 41, 21, 34, 23]\n",
      "[3, 73, 129, 6, 4578, 24, 1789, 13]\n",
      "[3, 33205, 3991, 7964, 1604, 5, 97, 3234, 483, 12, 40, 64, 65, 18, 16, 13, 19, 33, 21, 34, 23]\n",
      "[3, 5730, 7731, 462, 212, 2716, 6, 13]\n"
     ]
    },
    {
     "name": "stderr",
     "output_type": "stream",
     "text": [
      "  0%|          | 502/500001 [01:07<20:09:48,  6.88it/s]"
     ]
    },
    {
     "name": "stdout",
     "output_type": "stream",
     "text": [
      "[3, 1334, 37, 287, 82, 6918, 1011, 10, 464, 12, 13, 32, 18, 16, 18, 16, 14, 13, 19, 33, 21, 43, 23]\n",
      "[3, 57, 127, 73, 129, 5724, 47660, 5, 17, 13]\n",
      "[3, 7483, 365, 12, 16, 51, 40, 635, 19, 147, 21, 74, 23]\n",
      "[3, 49251, 27, 2475, 1715, 13]\n"
     ]
    },
    {
     "name": "stderr",
     "output_type": "stream",
     "text": [
      "  0%|          | 504/500001 [01:08<18:27:38,  7.52it/s]"
     ]
    },
    {
     "name": "stdout",
     "output_type": "stream",
     "text": [
      "[3, 25, 1491, 223, 37543, 10, 2873, 3432, 12, 16, 14, 73, 166, 32, 32, 16, 19, 467, 21, 67, 23]\n",
      "[3, 81, 491, 5727, 475, 6469, 1268, 9090, 13]\n",
      "[3, 37, 193, 5, 2098, 12, 40, 13, 16, 51, 13, 42, 16, 19, 20, 21, 67, 23]\n",
      "[3, 2198, 16, 10256, 27, 6, 24, 16352, 13]\n"
     ]
    },
    {
     "name": "stderr",
     "output_type": "stream",
     "text": [
      "\r",
      "  0%|          | 505/500001 [01:08<17:30:33,  7.92it/s]"
     ]
    },
    {
     "name": "stdout",
     "output_type": "stream",
     "text": [
      "[3, 22091, 1518, 53, 9191, 46770, 275, 19157, 12, 13, 16, 16, 18, 16, 40, 13, 14, 458, 42, 32, 19, 211, 21, 253, 23]\n",
      "[3, 16, 306, 9366, 2604, 1497, 4539, 6, 493, 387, 24, 29, 13]\n"
     ]
    },
    {
     "name": "stderr",
     "output_type": "stream",
     "text": [
      "  0%|          | 507/500001 [01:08<20:37:12,  6.73it/s]"
     ]
    },
    {
     "name": "stdout",
     "output_type": "stream",
     "text": [
      "[3, 37, 183, 8581, 53, 1183, 2135, 3273, 53, 16464, 12, 33, 94, 13, 42, 32, 19, 127, 21, 80, 23]\n",
      "[3, 23839, 10449, 16, 24, 4886, 13]\n",
      "[3, 1310, 9071, 2885, 37, 275, 1564, 6724, 12, 32, 14, 51, 13, 94, 14, 32, 16, 19, 147, 21, 43, 23]\n",
      "[3, 4663, 493, 27, 16, 979, 5, 2684, 4685, 13]\n"
     ]
    },
    {
     "name": "stderr",
     "output_type": "stream",
     "text": [
      "  0%|          | 509/500001 [01:08<19:48:12,  7.01it/s]"
     ]
    },
    {
     "name": "stdout",
     "output_type": "stream",
     "text": [
      "[3, 1117, 259, 879, 319, 37, 296, 18068, 12, 32, 18, 16, 18, 16, 19, 1280, 21, 80, 23]\n",
      "[3, 455, 574, 35476, 574, 11460, 13]\n",
      "[3, 2875, 139, 53, 5712, 12, 32, 16, 14, 19, 445, 21, 84, 23]\n",
      "[3, 1189, 164, 935, 13]\n"
     ]
    },
    {
     "name": "stderr",
     "output_type": "stream",
     "text": [
      "  0%|          | 511/500001 [01:09<20:10:46,  6.88it/s]"
     ]
    },
    {
     "name": "stdout",
     "output_type": "stream",
     "text": [
      "[3, 259, 2558, 7211, 4377, 87538, 12, 41, 40, 32, 18, 18, 14, 19, 211, 21, 34, 23]\n",
      "[3, 761, 3984, 5317, 443, 7481, 5, 13]\n",
      "[3, 207, 1385, 1504, 307, 10, 911, 12, 32, 141, 41, 16, 19, 20, 21, 74, 23]\n",
      "[3, 355, 1900, 678, 1987, 13]\n"
     ]
    },
    {
     "name": "stderr",
     "output_type": "stream",
     "text": [
      "  0%|          | 513/500001 [01:09<20:52:58,  6.64it/s]"
     ]
    },
    {
     "name": "stdout",
     "output_type": "stream",
     "text": [
      "[3, 18727, 1087, 8045, 1881, 2119, 4627, 20367, 269, 12, 16, 32, 93, 16, 41, 32, 32, 19, 191, 21, 67, 23]\n",
      "[3, 1282, 15237, 122, 150, 941, 55850, 139, 13]\n",
      "[3, 5466, 45, 205, 10, 791, 12, 16, 14, 13, 73, 19, 445, 21, 74, 23]\n",
      "[3, 867, 5, 16, 3815, 13]\n"
     ]
    },
    {
     "name": "stderr",
     "output_type": "stream",
     "text": [
      "  0%|          | 515/500001 [01:09<19:33:16,  7.10it/s]"
     ]
    },
    {
     "name": "stdout",
     "output_type": "stream",
     "text": [
      "[3, 1334, 12, 13, 32, 16, 13, 41, 19, 504, 21, 80, 23]\n",
      "[3, 57, 411, 49, 6, 1636, 13]\n",
      "[3, 344, 196, 392, 53, 29, 438, 120, 69, 4305, 12, 65, 13, 15, 13, 18, 16, 13, 19, 155, 21, 67, 23]\n",
      "[3, 816, 359, 8691, 6, 53, 29, 16, 13]\n"
     ]
    },
    {
     "name": "stderr",
     "output_type": "stream",
     "text": [
      "  0%|          | 517/500001 [01:09<20:08:29,  6.89it/s]"
     ]
    },
    {
     "name": "stdout",
     "output_type": "stream",
     "text": [
      "[3, 222, 5, 5866, 25, 37, 5031, 12, 33, 537, 16, 19, 147, 21, 84, 23]\n",
      "[3, 4087, 456, 439, 13]\n",
      "[3, 90, 97, 37232, 12, 16, 32, 65, 16, 19, 1236, 21, 74, 23]\n",
      "[3, 2217, 3287, 40, 75691, 13]\n"
     ]
    },
    {
     "name": "stderr",
     "output_type": "stream",
     "text": [
      "  0%|          | 519/500001 [01:10<18:25:09,  7.53it/s]"
     ]
    },
    {
     "name": "stdout",
     "output_type": "stream",
     "text": [
      "[3, 5, 25, 37, 258, 151, 53, 5980, 12, 16, 41, 14, 13, 42, 32, 19, 260, 21, 34, 23]\n",
      "[3, 5910, 840, 5, 16, 24, 411, 13]\n",
      "[3, 20653, 6791, 12, 32, 57, 19, 127, 21, 128, 23]\n",
      "[3, 3272, 5671, 13]\n"
     ]
    },
    {
     "name": "stderr",
     "output_type": "stream",
     "text": [
      "\r",
      "  0%|          | 520/500001 [01:10<17:13:39,  8.05it/s]"
     ]
    },
    {
     "name": "stdout",
     "output_type": "stream",
     "text": [
      "[3, 726, 25179, 691, 689, 5113, 110, 12, 32, 17, 42, 32, 16, 16, 39, 32, 16, 19, 66, 21, 22, 23]\n",
      "[3, 604, 614, 24, 1817, 4670, 937, 19, 604, 9, 13]\n"
     ]
    },
    {
     "name": "stderr",
     "output_type": "stream",
     "text": [
      "  0%|          | 522/500001 [01:10<19:06:09,  7.26it/s]"
     ]
    },
    {
     "name": "stdout",
     "output_type": "stream",
     "text": [
      "[3, 181, 55, 3092, 777, 12, 18, 16, 19, 260, 21, 128, 23]\n",
      "[3, 5875, 3929, 13]\n",
      "[3, 83, 85, 37, 928, 12, 16, 13, 16, 15, 141, 19, 141, 21, 80, 23]\n",
      "[3, 6596, 6, 252, 286, 6157, 13]\n"
     ]
    },
    {
     "name": "stderr",
     "output_type": "stream",
     "text": [
      "  0%|          | 524/500001 [01:10<20:11:13,  6.87it/s]"
     ]
    },
    {
     "name": "stdout",
     "output_type": "stream",
     "text": [
      "[3, 10022, 5385, 4424, 10034, 51712, 3311, 12, 32, 41, 18, 16, 93, 32, 41, 19, 20, 21, 67, 23]\n",
      "[3, 30607, 761, 644, 2893, 2926, 17700, 1921, 13]\n",
      "[3, 2475, 10, 46234, 11237, 667, 69, 2126, 20340, 392, 21882, 313, 54566, 12, 65, 13, 16, 32, 32, 16, 32, 19, 147, 21, 67, 23]\n",
      "[3, 1353, 6, 830, 7097, 2532, 1236, 4966, 13]\n"
     ]
    },
    {
     "name": "stderr",
     "output_type": "stream",
     "text": [
      "  0%|          | 526/500001 [01:11<21:53:27,  6.34it/s]"
     ]
    },
    {
     "name": "stdout",
     "output_type": "stream",
     "text": [
      "[3, 5, 10, 55, 574, 37, 10, 36187, 12, 16, 13, 18, 16, 14, 19, 211, 21, 80, 23]\n",
      "[3, 15511, 16, 10741, 23486, 5, 13]\n",
      "[3, 6, 275, 1060, 16569, 12, 18, 16, 32, 19, 855, 21, 84, 23]\n",
      "[3, 38, 991, 41379, 13]\n"
     ]
    },
    {
     "name": "stderr",
     "output_type": "stream",
     "text": [
      "  0%|          | 528/500001 [01:11<18:56:19,  7.33it/s]"
     ]
    },
    {
     "name": "stdout",
     "output_type": "stream",
     "text": [
      "[3, 501, 1477, 2902, 204, 45, 3882, 12, 93, 42, 13, 32, 277, 213, 32, 32, 19, 20, 21, 43, 23]\n",
      "[3, 4230, 24, 16, 1003, 443, 35102, 2053, 817, 13]\n",
      "[3, 1941, 6586, 1941, 6586, 2472, 2472, 2472, 2472, 12, 79, 33, 32, 16, 19, 211, 21, 74, 23]\n",
      "[3, 1826, 63681, 4295, 1700, 13]\n"
     ]
    },
    {
     "name": "stderr",
     "output_type": "stream",
     "text": [
      "  0%|          | 530/500001 [01:11<17:57:45,  7.72it/s]"
     ]
    },
    {
     "name": "stdout",
     "output_type": "stream",
     "text": [
      "[3, 848, 4729, 10, 12826, 4857, 12, 13, 16, 32, 18, 13, 41, 16, 19, 87, 21, 67, 23]\n",
      "[3, 6, 129, 2148, 236, 16, 2173, 4708, 13]\n",
      "[3, 37, 390, 5, 991, 206, 842, 1488, 7222, 12, 18, 16, 16, 13, 15, 569, 19, 41, 21, 34, 23]\n",
      "[3, 451, 145, 252, 359, 2006, 1308, 13]\n"
     ]
    },
    {
     "name": "stderr",
     "output_type": "stream",
     "text": [
      "  0%|          | 532/500001 [01:12<16:38:43,  8.34it/s]"
     ]
    },
    {
     "name": "stdout",
     "output_type": "stream",
     "text": [
      "[3, 214, 821, 1388, 710, 214, 129, 198, 12, 33, 41, 16, 19, 127, 21, 84, 23]\n",
      "[3, 8548, 1203, 10812, 13]\n",
      "[3, 323, 259, 5367, 7, 3778, 53, 73251, 12, 16, 13, 16, 18, 16, 39, 40, 19, 380, 21, 67, 23]\n",
      "[3, 252, 198, 1407, 73, 3733, 19, 5443, 13]\n"
     ]
    },
    {
     "name": "stderr",
     "output_type": "stream",
     "text": [
      "\r",
      "  0%|          | 533/500001 [01:12<19:20:47,  7.17it/s]"
     ]
    },
    {
     "name": "stdout",
     "output_type": "stream",
     "text": [
      "[3, 2126, 45731, 318, 336, 45732, 12, 41, 16, 13, 16, 19, 211, 21, 74, 23]\n",
      "[3, 4341, 27567, 1465, 2060, 13]\n",
      "[3, 3374, 1899, 129, 367, 24839, 1012, 393, 129, 367, 14855, 1080, 12, 16, 32, 73, 42, 41, 16, 32, 16, 32, 19, 199, 21, 22, 23]\n",
      "[3, 41540, 19955, 1331, 24, 582, 1284, 8672, 15915, 2966, 13]\n"
     ]
    },
    {
     "name": "stderr",
     "output_type": "stream",
     "text": [
      "  0%|          | 536/500001 [01:12<18:47:07,  7.39it/s]"
     ]
    },
    {
     "name": "stdout",
     "output_type": "stream",
     "text": [
      "[3, 383, 31190, 54169, 54170, 12, 32, 18, 18, 16, 15, 19, 33, 21, 80, 23]\n",
      "[3, 621, 2735, 137, 18446, 6163, 13]\n",
      "[3, 129, 2682, 204, 53, 40245, 12, 16, 15, 32, 13, 42, 32, 16, 136, 19, 147, 21, 43, 23]\n",
      "[3, 252, 86, 1578, 4, 24, 2609, 295, 2429, 13]\n"
     ]
    },
    {
     "name": "stderr",
     "output_type": "stream",
     "text": [
      "  0%|          | 538/500001 [01:12<20:03:53,  6.91it/s]"
     ]
    },
    {
     "name": "stdout",
     "output_type": "stream",
     "text": [
      "[3, 1091, 5, 112, 323, 45140, 12, 41, 65, 32, 16, 18, 16, 14, 19, 284, 21, 67, 23]\n",
      "[3, 162, 1134, 2000, 29, 212, 44491, 77, 13]\n",
      "[3, 4484, 1063, 6743, 1662, 12, 16, 14, 41, 19, 141, 21, 84, 23]\n",
      "[3, 4329, 972, 74915, 13]\n"
     ]
    },
    {
     "name": "stderr",
     "output_type": "stream",
     "text": [
      "\r",
      "  0%|          | 540/500001 [01:13<19:41:25,  7.05it/s]"
     ]
    },
    {
     "name": "stdout",
     "output_type": "stream",
     "text": [
      "[3, 5, 49161, 12, 18, 18, 18, 32, 16, 13, 16, 19, 1280, 21, 67, 23]\n",
      "[3, 1475, 38, 414, 388, 278, 16, 2056, 13]\n",
      "[3, 48800, 2292, 1075, 21243, 12, 18, 14, 40, 19, 141, 21, 84, 23]\n",
      "[3, 1666, 5, 3422, 13]\n"
     ]
    },
    {
     "name": "stderr",
     "output_type": "stream",
     "text": [
      "\r",
      "  0%|          | 541/500001 [01:13<18:45:57,  7.39it/s]"
     ]
    },
    {
     "name": "stdout",
     "output_type": "stream",
     "text": [
      "[3, 37, 4300, 10, 1012, 988, 15854, 25, 2079, 12, 18, 16, 13, 14, 32, 16, 41, 42, 32, 19, 1280, 21, 22, 23]\n",
      "[3, 212, 3444, 57, 972, 9609, 23495, 7818, 24, 3416, 13]\n",
      "[3, 887, 37, 306, 222, 7951, 2743, 1892, 12, 16, 32, 508, 42, 32, 19, 41, 21, 80, 23]\n",
      "[3, 59976, 87213, 14008, 24, 12647, 13]\n"
     ]
    },
    {
     "name": "stderr",
     "output_type": "stream",
     "text": [
      "  0%|          | 544/500001 [01:13<19:57:06,  6.95it/s]"
     ]
    },
    {
     "name": "stdout",
     "output_type": "stream",
     "text": [
      "[3, 409, 7, 2291, 207, 20216, 96, 595, 4119, 12, 136, 32, 16, 13, 16, 16, 19, 127, 21, 34, 23]\n",
      "[3, 17017, 24363, 252, 96, 265, 1231, 13]\n",
      "[3, 466, 53, 1414, 12, 213, 32, 19, 41, 21, 128, 23]\n",
      "[3, 12465, 1964, 13]\n"
     ]
    },
    {
     "name": "stderr",
     "output_type": "stream",
     "text": [
      "\r",
      "  0%|          | 546/500001 [01:13<19:21:18,  7.17it/s]"
     ]
    },
    {
     "name": "stdout",
     "output_type": "stream",
     "text": [
      "[3, 120, 10401, 5, 16268, 10, 8038, 12, 18, 16, 51, 13, 15, 32, 19, 66, 21, 34, 23]\n",
      "[3, 11, 2180, 27, 210, 86, 9519, 13]\n",
      "[3, 959, 22905, 4326, 55, 5491, 326, 2709, 12, 65, 13, 16, 13, 13, 18, 277, 32, 19, 211, 21, 43, 23]\n",
      "[3, 1182, 6, 1142, 16, 335, 8034, 1052, 16251, 13]\n"
     ]
    },
    {
     "name": "stderr",
     "output_type": "stream",
     "text": [
      "  0%|          | 548/500001 [01:14<23:01:54,  6.02it/s]"
     ]
    },
    {
     "name": "stdout",
     "output_type": "stream",
     "text": [
      "[3, 702, 10, 3977, 1214, 17887, 14427, 12, 16, 15, 93, 41, 39, 16, 73, 19, 504, 21, 67, 23]\n",
      "[3, 252, 86, 1340, 372, 19, 1464, 1146, 13]\n",
      "[3, 62, 1189, 10, 24336, 2139, 12, 16, 13, 32, 16, 569, 19, 41, 21, 80, 23]\n",
      "[3, 49, 4, 466, 150, 984, 13]\n"
     ]
    },
    {
     "name": "stderr",
     "output_type": "stream",
     "text": [
      "  0%|          | 550/500001 [01:14<23:22:17,  5.94it/s]"
     ]
    },
    {
     "name": "stdout",
     "output_type": "stream",
     "text": [
      "[3, 5951, 2677, 17980, 55, 355, 6057, 12, 13, 16, 14, 13, 16, 13, 32, 19, 1262, 21, 67, 23]\n",
      "[3, 198, 482, 110, 16, 4495, 57, 1950, 13]\n",
      "[3, 37, 438, 223, 193, 3348, 10, 3951, 12, 13, 16, 13, 65, 16, 41, 19, 147, 21, 34, 23]\n",
      "[3, 16, 81, 16, 40, 793, 1312, 13]\n"
     ]
    },
    {
     "name": "stderr",
     "output_type": "stream",
     "text": [
      "\r",
      "  0%|          | 551/500001 [01:14<23:25:00,  5.92it/s]"
     ]
    },
    {
     "name": "stdout",
     "output_type": "stream",
     "text": [
      "[3, 1786, 45, 670, 106, 10, 536, 12, 13, 16, 15, 213, 16, 42, 13, 19, 155, 21, 67, 23]\n",
      "[3, 57, 58, 86, 53, 2047, 24, 16, 13]\n",
      "[3, 4005, 8316, 5, 10, 6981, 12, 32, 13, 16, 16, 32, 19, 33, 21, 80, 23]\n",
      "[3, 1003, 9897, 482, 1263, 6275, 13]\n"
     ]
    },
    {
     "name": "stderr",
     "output_type": "stream",
     "text": [
      "  0%|          | 554/500001 [01:15<22:02:27,  6.29it/s]"
     ]
    },
    {
     "name": "stdout",
     "output_type": "stream",
     "text": [
      "[3, 878, 323, 2123, 37, 1604, 5, 12, 13, 18, 16, 13, 16, 51, 19, 79, 21, 34, 23]\n",
      "[3, 359, 2229, 58, 16, 4329, 27, 13]\n",
      "[3, 2806, 28293, 214, 19196, 12, 13, 213, 16, 32, 18, 16, 19, 284, 21, 34, 23]\n",
      "[3, 335, 274, 18807, 1273, 377, 3916, 13]\n"
     ]
    },
    {
     "name": "stderr",
     "output_type": "stream",
     "text": [
      "\r",
      "  0%|          | 556/500001 [01:15<20:50:44,  6.66it/s]"
     ]
    },
    {
     "name": "stdout",
     "output_type": "stream",
     "text": [
      "[3, 433, 97, 205, 10, 8840, 12, 41, 42, 13, 65, 32, 486, 19, 317, 21, 34, 23]\n",
      "[3, 2593, 24, 148, 1134, 1035, 13484, 13]\n",
      "[3, 223, 6809, 10, 218, 12, 32, 18, 32, 19, 199, 21, 84, 23]\n",
      "[3, 411, 993, 3739, 13]\n"
     ]
    },
    {
     "name": "stderr",
     "output_type": "stream",
     "text": [
      "\r",
      "  0%|          | 558/500001 [01:15<18:27:35,  7.52it/s]"
     ]
    },
    {
     "name": "stdout",
     "output_type": "stream",
     "text": [
      "[3, 3088, 11000, 10, 489, 12, 18, 18, 16, 16, 19, 125, 21, 74, 23]\n",
      "[3, 778, 137, 164, 759, 13]\n",
      "[3, 193, 275, 193, 3755, 10183, 275, 10183, 12, 13, 42, 32, 18, 32, 16, 13, 16, 32, 32, 19, 79, 21, 261, 23]\n",
      "[3, 6, 24, 9159, 212, 9159, 5025, 16, 7043, 411, 2335, 13]\n",
      "[3, 25343, 97, 25325, 12, 64, 14, 14, 32, 19, 467, 21, 74, 23]\n",
      "[3, 16991, 77, 608, 2638, 13]\n"
     ]
    },
    {
     "name": "stderr",
     "output_type": "stream",
     "text": [
      "  0%|          | 561/500001 [01:16<19:34:03,  7.09it/s]"
     ]
    },
    {
     "name": "stdout",
     "output_type": "stream",
     "text": [
      "[3, 3096, 1191, 10, 885, 30709, 10, 2885, 12, 13, 16, 13, 16, 13, 14, 16, 19, 33, 21, 67, 23]\n",
      "[3, 16, 542, 866, 6344, 866, 5, 485, 13]\n",
      "[3, 29474, 4170, 381, 12, 155, 155, 486, 19, 33, 21, 84, 23]\n",
      "[3, 17755, 27586, 31036, 13]\n"
     ]
    },
    {
     "name": "stderr",
     "output_type": "stream",
     "text": [
      "\r",
      "  0%|          | 563/500001 [01:16<17:38:15,  7.87it/s]"
     ]
    },
    {
     "name": "stdout",
     "output_type": "stream",
     "text": [
      "[3, 656, 1813, 10, 4564, 15555, 25, 8884, 12, 16, 39, 32, 32, 42, 32, 18, 16, 19, 284, 21, 43, 23]\n",
      "[3, 3414, 19, 181, 10074, 24, 388, 283, 2856, 13]\n",
      "[3, 37, 97, 5, 12, 33, 16, 16, 42, 32, 19, 20, 21, 80, 23]\n",
      "[3, 8918, 11185, 6646, 24, 3369, 13]\n"
     ]
    },
    {
     "name": "stderr",
     "output_type": "stream",
     "text": [
      "  0%|          | 566/500001 [01:16<16:53:30,  8.21it/s]"
     ]
    },
    {
     "name": "stdout",
     "output_type": "stream",
     "text": [
      "[3, 1444, 12, 13, 42, 32, 18, 18, 19, 1346, 21, 80, 23]\n",
      "[3, 16, 24, 29, 159, 81682, 13]\n",
      "[3, 83, 52, 37, 392, 56, 207, 12, 13, 16, 16, 41, 42, 32, 19, 4052, 21, 34, 23]\n",
      "[3, 16, 306, 7871, 1242, 24, 5226, 13]\n",
      "[3, 67760, 157, 71710, 71711, 12, 18, 32, 32, 19, 20, 21, 84, 23]\n",
      "[3, 283, 1948, 70810, 13]\n"
     ]
    },
    {
     "name": "stderr",
     "output_type": "stream",
     "text": [
      "\r",
      "  0%|          | 568/500001 [01:16<17:56:17,  7.73it/s]"
     ]
    },
    {
     "name": "stdout",
     "output_type": "stream",
     "text": [
      "[3, 205, 259, 69, 2065, 302, 259, 7769, 12, 65, 13, 18, 16, 41, 16, 16, 41, 19, 20, 21, 43, 23]\n",
      "[3, 6567, 16, 283, 81, 1261, 890, 136, 968, 13]\n"
     ]
    },
    {
     "name": "stderr",
     "output_type": "stream",
     "text": [
      "\r",
      "  0%|          | 569/500001 [01:17<20:15:51,  6.85it/s]"
     ]
    },
    {
     "name": "stdout",
     "output_type": "stream",
     "text": [
      "[3, 5, 183, 691, 37, 54, 97, 259, 12, 16, 16, 16, 16, 520, 18, 41, 19, 199, 21, 67, 23]\n",
      "[3, 81, 3454, 99, 434, 440, 230, 582, 13]\n",
      "[3, 6616, 4480, 689, 18435, 12, 13, 16, 18, 18, 16, 16, 19, 337, 21, 34, 23]\n",
      "[3, 418, 2015, 38, 212, 3820, 2893, 13]\n"
     ]
    },
    {
     "name": "stderr",
     "output_type": "stream",
     "text": [
      "\r",
      "  0%|          | 570/500001 [01:17<21:04:50,  6.58it/s]"
     ]
    },
    {
     "name": "stdout",
     "output_type": "stream",
     "text": [
      "[3, 5, 69, 6366, 37, 69, 6366, 12, 79, 79, 19, 155, 21, 128, 23]\n",
      "[3, 7083, 7083, 13]\n",
      "[3, 37, 3092, 55, 250, 5, 318, 507, 202, 1622, 5, 12, 32, 506, 32, 94, 64, 19, 66, 21, 80, 23]\n",
      "[3, 90128, 428, 11888, 10769, 16991, 13]\n"
     ]
    },
    {
     "name": "stderr",
     "output_type": "stream",
     "text": [
      "\r",
      "  0%|          | 572/500001 [01:17<19:02:03,  7.29it/s]"
     ]
    },
    {
     "name": "stdout",
     "output_type": "stream",
     "text": [
      "[3, 1250, 2126, 1477, 10, 5, 12, 13, 18, 16, 32, 19, 33, 21, 74, 23]\n",
      "[3, 148, 137, 58, 62829, 13]\n",
      "[3, 358, 183, 5, 2484, 10, 24508, 12, 41, 20, 32, 42, 16, 19, 211, 21, 80, 23]\n",
      "[3, 611, 147, 652, 24, 6815, 13]\n"
     ]
    },
    {
     "name": "stderr",
     "output_type": "stream",
     "text": [
      "\r",
      "  0%|          | 574/500001 [01:17<18:25:40,  7.53it/s]"
     ]
    },
    {
     "name": "stdout",
     "output_type": "stream",
     "text": [
      "[3, 37, 10, 55, 12, 14, 13, 14, 19, 211, 21, 84, 23]\n",
      "[3, 110, 6, 5, 13]\n",
      "[3, 5, 2268, 2268, 514, 515, 665, 12, 16, 16, 94, 16, 19, 125, 21, 74, 23]\n",
      "[3, 244, 788, 1164, 1510, 13]\n"
     ]
    },
    {
     "name": "stderr",
     "output_type": "stream",
     "text": [
      "  0%|          | 577/500001 [01:18<16:58:50,  8.17it/s]"
     ]
    },
    {
     "name": "stdout",
     "output_type": "stream",
     "text": [
      "[3, 10442, 689, 10, 5, 23712, 37, 808, 12, 18, 16, 166, 32, 16, 19, 33, 21, 80, 23]\n",
      "[3, 73, 129, 10364, 4838, 1083, 13]\n",
      "[3, 37, 610, 97, 919, 1222, 1477, 12, 32, 15, 32, 14, 13, 16, 19, 855, 21, 34, 23]\n",
      "[3, 882, 1387, 4637, 491, 6, 1177, 13]\n"
     ]
    },
    {
     "name": "stderr",
     "output_type": "stream",
     "text": [
      "  0%|          | 580/500001 [01:18<17:23:04,  7.98it/s]"
     ]
    },
    {
     "name": "stdout",
     "output_type": "stream",
     "text": [
      "[3, 2262, 37, 16092, 12, 32, 64, 32, 19, 467, 21, 84, 23]\n",
      "[3, 1186, 33634, 6786, 13]\n",
      "[3, 4245, 37, 10, 57819, 12, 16, 569, 16, 32, 73, 19, 147, 21, 80, 23]\n",
      "[3, 452, 603, 6480, 2795, 4292, 13]\n"
     ]
    },
    {
     "name": "stderr",
     "output_type": "stream",
     "text": [
      "\r",
      "  0%|          | 581/500001 [01:18<19:20:45,  7.17it/s]"
     ]
    },
    {
     "name": "stdout",
     "output_type": "stream",
     "text": [
      "[3, 43098, 10, 460, 4611, 483, 269, 43114, 13236, 8316, 24, 12, 13, 16, 42, 16, 32, 569, 19, 41, 21, 34, 23]\n",
      "[3, 4, 6447, 24, 58, 8852, 1308, 13]\n",
      "[3, 259, 85, 37, 1248, 2186, 22436, 988, 12, 16, 13, 32, 16, 569, 19, 41, 21, 80, 23]\n",
      "[3, 434, 14524, 766, 8645, 489, 13]\n"
     ]
    },
    {
     "name": "stderr",
     "output_type": "stream",
     "text": [
      "\r",
      "  0%|          | 582/500001 [01:18<18:10:51,  7.63it/s]"
     ]
    },
    {
     "name": "stdout",
     "output_type": "stream",
     "text": [
      "[3, 450, 689, 7069, 10, 2841, 5416, 364, 365, 12, 18, 14, 13, 292, 32, 14, 32, 42, 32, 19, 66, 21, 22, 23]\n",
      "[3, 2009, 608, 16, 5746, 671, 5, 5883, 24, 3760, 13]\n"
     ]
    },
    {
     "name": "stderr",
     "output_type": "stream",
     "text": [
      "  0%|          | 585/500001 [01:19<19:06:10,  7.26it/s]"
     ]
    },
    {
     "name": "stdout",
     "output_type": "stream",
     "text": [
      "[3, 189, 157, 37, 256, 12, 213, 19, 41, 21, 123, 23]\n",
      "[3, 898, 13]\n",
      "[3, 6639, 103, 296, 234, 12, 16, 64, 19, 284, 21, 128, 23]\n",
      "[3, 80, 31636, 13]\n",
      "[3, 37, 10, 656, 12, 16, 42, 136, 19, 147, 21, 84, 23]\n",
      "[3, 525, 24, 2259, 13]\n"
     ]
    },
    {
     "name": "stderr",
     "output_type": "stream",
     "text": [
      "  0%|          | 587/500001 [01:19<20:35:24,  6.74it/s]"
     ]
    },
    {
     "name": "stdout",
     "output_type": "stream",
     "text": [
      "[3, 266, 275, 25, 346, 323, 55, 340, 3413, 12, 18, 16, 16, 14, 16, 17, 32, 19, 20, 21, 67, 23]\n",
      "[3, 73, 244, 145, 5, 4325, 923, 1563, 13]\n",
      "[3, 112, 56285, 12, 65, 16, 51, 19, 79, 21, 84, 23]\n",
      "[3, 6567, 29, 27, 13]\n"
     ]
    },
    {
     "name": "stderr",
     "output_type": "stream",
     "text": [
      "  0%|          | 589/500001 [01:19<21:21:53,  6.49it/s]"
     ]
    },
    {
     "name": "stdout",
     "output_type": "stream",
     "text": [
      "[3, 1450, 14423, 20178, 47086, 21583, 3529, 11709, 4484, 13867, 12, 32, 16, 40, 32, 40, 18, 16, 19, 211, 21, 67, 23]\n",
      "[3, 44638, 25138, 24929, 46421, 46422, 3952, 46423, 13]\n",
      "[3, 4696, 323, 3049, 12, 14, 13, 16, 40, 19, 195, 21, 74, 23]\n",
      "[3, 110, 6, 5392, 14248, 13]\n"
     ]
    },
    {
     "name": "stderr",
     "output_type": "stream",
     "text": [
      "\r",
      "  0%|          | 591/500001 [01:19<20:23:37,  6.80it/s]"
     ]
    },
    {
     "name": "stdout",
     "output_type": "stream",
     "text": [
      "[3, 47, 7677, 2943, 47, 7677, 10, 28650, 12, 18, 16, 13, 16, 51, 32, 19, 125, 21, 34, 23]\n",
      "[3, 137, 2893, 1178, 7767, 27, 64801, 13]\n",
      "[3, 4935, 1075, 12, 13, 18, 16, 19, 1236, 21, 84, 23]\n",
      "[3, 148, 1585, 581, 13]\n"
     ]
    },
    {
     "name": "stderr",
     "output_type": "stream",
     "text": [
      "\r",
      "  0%|          | 593/500001 [01:20<18:38:42,  7.44it/s]"
     ]
    },
    {
     "name": "stdout",
     "output_type": "stream",
     "text": [
      "[3, 1370, 10, 62, 12, 13, 18, 16, 19, 317, 21, 84, 23]\n",
      "[3, 16, 2078, 8595, 13]\n",
      "[3, 878, 660, 5, 275, 664, 37, 1889, 53, 62, 8262, 12, 13, 18, 16, 40, 13, 18, 16, 15, 19, 191, 21, 43, 23]\n",
      "[3, 6, 73, 64, 586, 6, 3102, 252, 6162, 13]\n"
     ]
    },
    {
     "name": "stderr",
     "output_type": "stream",
     "text": [
      "  0%|          | 595/500001 [01:20<18:09:18,  7.64it/s]"
     ]
    },
    {
     "name": "stdout",
     "output_type": "stream",
     "text": [
      "[3, 836, 680, 4627, 5875, 37, 12, 13, 17, 42, 32, 19, 33, 21, 74, 23]\n",
      "[3, 359, 10, 24, 515, 13]\n",
      "[3, 37, 120, 34699, 10, 7601, 32266, 10, 13021, 12, 16, 13, 16, 13, 16, 14, 93, 16, 17, 32, 19, 504, 21, 261, 23]\n",
      "[3, 1341, 16, 81, 16, 81, 5, 3622, 2269, 473, 34130, 13]\n"
     ]
    },
    {
     "name": "stderr",
     "output_type": "stream",
     "text": [
      "  0%|          | 597/500001 [01:20<20:34:34,  6.74it/s]"
     ]
    },
    {
     "name": "stdout",
     "output_type": "stream",
     "text": [
      "[3, 379, 189, 908, 85, 5, 664, 1240, 578, 2293, 12, 18, 16, 13, 16, 13, 16, 39, 13, 19, 155, 21, 43, 23]\n",
      "[3, 1712, 379, 6, 95, 6, 29, 19, 16, 13]\n",
      "[3, 50939, 37, 2218, 10, 12505, 12, 16, 15, 42, 32, 16, 19, 1236, 21, 80, 23]\n",
      "[3, 1001, 365, 24, 15853, 27159, 13]\n"
     ]
    },
    {
     "name": "stderr",
     "output_type": "stream",
     "text": [
      "  0%|          | 599/500001 [01:21<21:34:34,  6.43it/s]"
     ]
    },
    {
     "name": "stdout",
     "output_type": "stream",
     "text": [
      "[3, 24, 4938, 1865, 25, 269, 10, 2994, 1014, 12, 32, 16, 14, 73, 42, 32, 19, 33, 21, 34, 23]\n",
      "[3, 19081, 1211, 5, 15098, 24, 2571, 13]\n",
      "[3, 1420, 85, 77177, 10, 610, 2927, 5669, 1080, 12, 32, 16, 13, 15, 32, 32, 17, 13, 42, 32, 19, 33, 21, 261, 23]\n",
      "[3, 424, 252, 497, 3192, 11570, 76274, 473, 6, 24, 2609, 13]\n"
     ]
    },
    {
     "name": "stderr",
     "output_type": "stream",
     "text": [
      "  0%|          | 601/500001 [01:21<18:55:05,  7.33it/s]"
     ]
    },
    {
     "name": "stdout",
     "output_type": "stream",
     "text": [
      "[3, 1453, 5547, 53, 8801, 12, 32, 16, 16, 19, 141, 21, 84, 23]\n",
      "[3, 4378, 299, 41635, 13]\n",
      "[3, 878, 37, 587, 53, 401, 97, 37, 1703, 53, 12, 65, 13, 16, 213, 41, 213, 41, 16, 16, 13, 16, 19, 467, 21, 253, 23]\n",
      "[3, 816, 16, 837, 53, 772, 53, 772, 1484, 278, 6, 95, 13]\n"
     ]
    },
    {
     "name": "stderr",
     "output_type": "stream",
     "text": [
      "  0%|          | 603/500001 [01:21<19:33:26,  7.09it/s]"
     ]
    },
    {
     "name": "stdout",
     "output_type": "stream",
     "text": [
      "[3, 2395, 925, 10, 231, 12, 14, 13, 141, 32, 13, 15, 19, 127, 21, 34, 23]\n",
      "[3, 493, 16, 639, 355, 16, 356, 13]\n",
      "[3, 6783, 4961, 423, 10, 20852, 12, 13, 42, 32, 16, 19, 125, 21, 74, 23]\n",
      "[3, 6, 24, 3282, 146, 13]\n"
     ]
    },
    {
     "name": "stderr",
     "output_type": "stream",
     "text": [
      "\r",
      "  0%|          | 605/500001 [01:21<18:46:13,  7.39it/s]"
     ]
    },
    {
     "name": "stdout",
     "output_type": "stream",
     "text": [
      "[3, 129, 460, 69, 103, 764, 12, 65, 93, 32, 508, 32, 19, 451, 21, 80, 23]\n",
      "[3, 4509, 272, 181, 432, 37033, 13]\n",
      "[3, 8547, 385, 716, 669, 12, 32, 19, 4052, 21, 123, 23]\n",
      "[3, 60383, 13]\n",
      "[3, 33942, 2729, 30122, 4924, 4924, 238, 12727, 12, 13, 16, 13, 16, 13, 16, 13, 16, 19, 147, 21, 43, 23]\n",
      "[3, 16, 95, 16, 3258, 16, 95, 16, 3258, 13]\n"
     ]
    },
    {
     "name": "stderr",
     "output_type": "stream",
     "text": [
      "  0%|          | 608/500001 [01:22<17:59:04,  7.71it/s]"
     ]
    },
    {
     "name": "stdout",
     "output_type": "stream",
     "text": [
      "[3, 878, 55, 97, 2743, 41880, 10, 12957, 12, 13, 16, 19, 467, 21, 128, 23]\n",
      "[3, 16, 67161, 13]\n",
      "[3, 30, 4280, 5, 10, 2878, 12, 13, 16, 14, 32, 19, 195, 21, 74, 23]\n",
      "[3, 6, 320, 5, 1492, 13]\n"
     ]
    },
    {
     "name": "stderr",
     "output_type": "stream",
     "text": [
      "  0%|          | 610/500001 [01:22<19:39:23,  7.06it/s]"
     ]
    },
    {
     "name": "stdout",
     "output_type": "stream",
     "text": [
      "[3, 37, 97, 6367, 10, 12, 13, 16, 18, 16, 13, 42, 19, 79, 21, 34, 23]\n",
      "[3, 6, 58, 212, 7000, 16, 24, 13]\n",
      "[3, 878, 5, 275, 3088, 120, 3245, 379, 18521, 12, 13, 16, 6325, 16, 15, 16, 41, 19, 1236, 21, 67, 23]\n",
      "[3, 16, 164, 6144, 306, 149, 318, 1594, 13]\n"
     ]
    },
    {
     "name": "stderr",
     "output_type": "stream",
     "text": [
      "  0%|          | 612/500001 [01:22<17:28:00,  7.94it/s]"
     ]
    },
    {
     "name": "stdout",
     "output_type": "stream",
     "text": [
      "[3, 438, 559, 5, 97, 259, 12, 32, 18, 18, 41, 19, 141, 21, 74, 23]\n",
      "[3, 1003, 137, 230, 981, 13]\n",
      "[3, 4480, 275, 1060, 5, 202, 2453, 12, 16, 16, 16, 41, 19, 445, 21, 74, 23]\n",
      "[3, 12639, 47, 2954, 8698, 13]\n"
     ]
    },
    {
     "name": "stderr",
     "output_type": "stream",
     "text": [
      "  0%|          | 614/500001 [01:23<17:29:04,  7.93it/s]"
     ]
    },
    {
     "name": "stdout",
     "output_type": "stream",
     "text": [
      "[3, 472, 8311, 5, 9528, 5, 18050, 5, 12, 13, 18, 18, 508, 19, 141, 21, 74, 23]\n",
      "[3, 16, 38, 4611, 1281, 13]\n",
      "[3, 58, 905, 905, 10, 2177, 12, 13, 16, 14, 13, 16, 15, 19, 79, 21, 34, 23]\n",
      "[3, 16, 306, 110, 6, 1324, 5673, 13]\n"
     ]
    },
    {
     "name": "stderr",
     "output_type": "stream",
     "text": [
      "  0%|          | 616/500001 [01:23<21:47:14,  6.37it/s]"
     ]
    },
    {
     "name": "stdout",
     "output_type": "stream",
     "text": [
      "[3, 557, 2668, 2076, 2387, 313, 4837, 12, 166, 213, 14, 93, 42, 32, 14, 40, 19, 147, 21, 43, 23]\n",
      "[3, 475, 7430, 2309, 711, 24, 1217, 608, 3859, 13]\n"
     ]
    },
    {
     "name": "stderr",
     "output_type": "stream",
     "text": [
      "\r",
      "  0%|          | 617/500001 [01:23<19:52:39,  6.98it/s]"
     ]
    },
    {
     "name": "stdout",
     "output_type": "stream",
     "text": [
      "[3, 1117, 5, 757, 25, 489, 10, 609, 12, 16, 16, 16, 42, 32, 19, 127, 21, 80, 23]\n",
      "[3, 446, 279, 4765, 24, 3801, 13]\n",
      "[3, 991, 19240, 16283, 879, 4806, 23841, 12, 18, 509, 16, 13, 41, 569, 19, 41, 21, 34, 23]\n",
      "[3, 8614, 433, 34960, 16, 166, 1308, 13]\n"
     ]
    },
    {
     "name": "stderr",
     "output_type": "stream",
     "text": [
      "  0%|          | 619/500001 [01:23<17:41:31,  7.84it/s]"
     ]
    },
    {
     "name": "stdout",
     "output_type": "stream",
     "text": [
      "[3, 5482, 903, 5241, 1278, 37, 10, 2878, 12, 13, 15, 13, 42, 32, 18, 41, 19, 195, 21, 67, 23]\n",
      "[3, 57, 365, 16, 24, 1817, 1997, 5008, 13]\n",
      "[3, 4763, 2873, 514, 5797, 392, 12, 93, 18, 16, 13, 33, 509, 16, 13, 42, 32, 19, 195, 21, 261, 23]\n",
      "[3, 697, 2065, 1374, 4, 34512, 433, 2004, 4, 24, 6384, 13]\n"
     ]
    },
    {
     "name": "stderr",
     "output_type": "stream",
     "text": [
      "  0%|          | 621/500001 [01:24<21:05:32,  6.58it/s]"
     ]
    },
    {
     "name": "stdout",
     "output_type": "stream",
     "text": [
      "[3, 69, 957, 2345, 1074, 10, 796, 12, 41, 41, 32, 13, 19, 33, 21, 74, 23]\n",
      "[3, 2234, 2285, 5335, 6, 13]\n",
      "[3, 4618, 85, 24, 2121, 274, 807, 6912, 10, 9523, 10, 181, 12, 13, 18, 16, 13, 18, 65, 509, 16, 458, 15, 19, 141, 21, 261, 23]\n",
      "[3, 4, 2598, 2004, 831, 38, 8748, 433, 41967, 387, 4623, 13]\n"
     ]
    },
    {
     "name": "stderr",
     "output_type": "stream",
     "text": [
      "  0%|          | 623/500001 [01:24<18:20:20,  7.56it/s]"
     ]
    },
    {
     "name": "stdout",
     "output_type": "stream",
     "text": [
      "[3, 205, 192, 5236, 205, 192, 12047, 12, 13, 18, 32, 16, 32, 19, 147, 21, 80, 23]\n",
      "[3, 148, 137, 1948, 1478, 416, 13]\n",
      "[3, 1459, 37, 76, 92, 53, 905, 10, 12, 13, 16, 14, 13, 40, 19, 79, 21, 80, 23]\n",
      "[3, 6, 320, 110, 16, 13882, 13]\n"
     ]
    },
    {
     "name": "stderr",
     "output_type": "stream",
     "text": [
      "  0%|          | 625/500001 [01:24<16:56:24,  8.19it/s]"
     ]
    },
    {
     "name": "stdout",
     "output_type": "stream",
     "text": [
      "[3, 25, 1609, 10, 8491, 24845, 1488, 5, 269, 10, 2878, 12, 32, 16, 17, 42, 32, 19, 504, 21, 80, 23]\n",
      "[3, 10722, 20118, 470, 24, 4975, 13]\n",
      "[3, 25, 5, 355, 1962, 10, 1930, 1014, 399, 12, 65, 13, 65, 16, 19, 211, 21, 74, 23]\n",
      "[3, 787, 16, 40, 3673, 13]\n"
     ]
    },
    {
     "name": "stderr",
     "output_type": "stream",
     "text": [
      "  0%|          | 627/500001 [01:24<18:00:49,  7.70it/s]"
     ]
    },
    {
     "name": "stdout",
     "output_type": "stream",
     "text": [
      "[3, 2946, 1738, 10, 680, 12037, 12, 14, 93, 16, 39, 19, 79, 21, 74, 23]\n",
      "[3, 5, 3828, 434, 19, 13]\n",
      "[3, 1335, 10, 224, 12, 32, 16, 51, 32, 19, 211, 21, 74, 23]\n",
      "[3, 1902, 2554, 27, 3210, 13]\n"
     ]
    },
    {
     "name": "stderr",
     "output_type": "stream",
     "text": [
      "  0%|          | 629/500001 [01:25<16:35:34,  8.36it/s]"
     ]
    },
    {
     "name": "stdout",
     "output_type": "stream",
     "text": [
      "[3, 82, 296, 1036, 296, 323, 3159, 12, 16, 18, 16, 13, 13, 16, 19, 41, 21, 34, 23]\n",
      "[3, 213, 5904, 2519, 206, 587, 1484, 13]\n",
      "[3, 188, 4078, 69, 8515, 53, 9698, 8888, 10, 18203, 12, 14, 32, 17, 13, 16, 51, 15, 33, 42, 32, 19, 41, 21, 261, 23]\n",
      "[3, 5, 1325, 473, 148, 44674, 27, 211, 44675, 24, 44676, 13]\n"
     ]
    },
    {
     "name": "stderr",
     "output_type": "stream",
     "text": [
      "  0%|          | 631/500001 [01:25<16:13:46,  8.55it/s]"
     ]
    },
    {
     "name": "stdout",
     "output_type": "stream",
     "text": [
      "[3, 25, 15911, 3432, 81, 236, 10, 306, 5721, 12, 13, 16, 41, 42, 41, 41, 41, 19, 703, 21, 67, 23]\n",
      "[3, 16, 58, 55, 24, 53, 7714, 9443, 13]\n",
      "[3, 433, 97, 259, 433, 97, 259, 12, 13, 16, 16, 16, 15, 13, 19, 41, 21, 34, 23]\n",
      "[3, 16, 581, 145, 252, 86, 4, 13]\n"
     ]
    },
    {
     "name": "stderr",
     "output_type": "stream",
     "text": [
      "  0%|          | 633/500001 [01:25<15:47:42,  8.78it/s]"
     ]
    },
    {
     "name": "stdout",
     "output_type": "stream",
     "text": [
      "[3, 716, 14276, 716, 69, 73207, 12, 18, 16, 16, 18, 18, 32, 19, 445, 21, 34, 23]\n",
      "[3, 468, 114, 56, 476, 212, 1076, 13]\n",
      "[3, 222, 289, 5, 5478, 20947, 367, 37, 45450, 12, 13, 42, 32, 18, 16, 65, 32, 14, 136, 19, 284, 21, 22, 23]\n",
      "[3, 16, 24, 167, 73, 129, 316, 1630, 5, 15542, 13]\n"
     ]
    },
    {
     "name": "stderr",
     "output_type": "stream",
     "text": [
      "  0%|          | 635/500001 [01:25<17:16:42,  8.03it/s]"
     ]
    },
    {
     "name": "stdout",
     "output_type": "stream",
     "text": [
      "[3, 5, 10, 791, 12, 13, 18, 15, 16, 32, 19, 16, 21, 80, 23]\n",
      "[3, 198, 414, 3604, 5368, 8430, 13]\n",
      "[3, 192, 8353, 12, 65, 13, 40, 65, 14, 32, 16, 16, 2256, 19, 79, 21, 22, 23]\n",
      "[3, 4035, 16, 586, 40, 491, 22766, 21561, 5468, 7091, 13]\n"
     ]
    },
    {
     "name": "stderr",
     "output_type": "stream",
     "text": [
      "  0%|          | 637/500001 [01:26<19:07:11,  7.25it/s]"
     ]
    },
    {
     "name": "stdout",
     "output_type": "stream",
     "text": [
      "[3, 5, 10, 489, 37, 10, 489, 12, 15, 18, 18, 19, 260, 21, 84, 23]\n",
      "[3, 149, 578, 2069, 13]\n",
      "[3, 196, 4189, 97, 2380, 433, 2171, 5, 726, 10, 4270, 12, 13, 16, 13, 51, 19, 79, 21, 74, 23]\n",
      "[3, 16, 602, 6, 27, 13]\n"
     ]
    },
    {
     "name": "stderr",
     "output_type": "stream",
     "text": [
      "  0%|          | 639/500001 [01:26<17:09:01,  8.09it/s]"
     ]
    },
    {
     "name": "stdout",
     "output_type": "stream",
     "text": [
      "[3, 53747, 323, 53748, 53749, 6437, 12, 65, 16, 16, 19, 147, 21, 84, 23]\n",
      "[3, 134, 2233, 1913, 13]\n",
      "[3, 5151, 25, 5, 10, 258, 10723, 12, 18, 14, 635, 15, 14, 13, 16, 19, 211, 21, 67, 23]\n",
      "[3, 468, 825, 76, 2117, 608, 6, 1979, 13]\n"
     ]
    },
    {
     "name": "stderr",
     "output_type": "stream",
     "text": [
      "  0%|          | 641/500001 [01:26<21:31:38,  6.44it/s]"
     ]
    },
    {
     "name": "stdout",
     "output_type": "stream",
     "text": [
      "[3, 925, 71, 1263, 5, 7113, 8022, 10, 23111, 12, 136, 42, 32, 17, 16, 15, 32, 19, 127, 21, 67, 23]\n",
      "[3, 22666, 24, 5222, 923, 252, 211, 17496, 13]\n",
      "[3, 777, 204, 7048, 28881, 29769, 12, 18, 16, 13, 13, 16, 16, 18, 19, 20, 21, 67, 23]\n",
      "[3, 1075, 252, 6, 247, 4178, 1263, 6584, 13]\n"
     ]
    },
    {
     "name": "stderr",
     "output_type": "stream",
     "text": [
      "\r",
      "  0%|          | 642/500001 [01:26<19:42:26,  7.04it/s]"
     ]
    },
    {
     "name": "stdout",
     "output_type": "stream",
     "text": [
      "[3, 4692, 5, 4025, 5984, 37, 10, 198, 12, 16, 15, 13, 18, 16, 18, 16, 13, 19, 33, 21, 43, 23]\n",
      "[3, 252, 2006, 16, 2229, 145, 4930, 1513, 6, 13]\n"
     ]
    },
    {
     "name": "stderr",
     "output_type": "stream",
     "text": [
      "\r",
      "  0%|          | 643/500001 [01:26<22:10:37,  6.25it/s]"
     ]
    },
    {
     "name": "stdout",
     "output_type": "stream",
     "text": [
      "[3, 3567, 5, 81, 5527, 37, 10, 7078, 7180, 12, 32, 16, 16, 13, 16, 16, 16, 16, 13, 16, 19, 125, 21, 261, 23]\n",
      "[3, 531, 306, 49, 6, 542, 29, 306, 49, 6, 929, 13]\n"
     ]
    },
    {
     "name": "stderr",
     "output_type": "stream",
     "text": [
      "  0%|          | 645/500001 [01:27<26:02:58,  5.32it/s]"
     ]
    },
    {
     "name": "stdout",
     "output_type": "stream",
     "text": [
      "[3, 14805, 14706, 293, 10, 14806, 12, 2802, 16, 15, 948, 40, 16, 15, 41, 19, 147, 21, 43, 23]\n",
      "[3, 14495, 196, 286, 14496, 14497, 938, 286, 14498, 13]\n",
      "[3, 1099, 379, 2149, 269, 300, 2222, 12, 32, 42, 16, 18, 16, 19, 20, 21, 80, 23]\n",
      "[3, 411, 24, 759, 698, 22108, 13]\n"
     ]
    },
    {
     "name": "stderr",
     "output_type": "stream",
     "text": [
      "  0%|          | 647/500001 [01:27<20:29:47,  6.77it/s]"
     ]
    },
    {
     "name": "stdout",
     "output_type": "stream",
     "text": [
      "[3, 30, 3076, 3175, 10, 9109, 12, 14, 13, 33, 19, 127, 21, 84, 23]\n",
      "[3, 272, 16, 3409, 13]\n",
      "[3, 1466, 269, 1089, 19106, 10, 49838, 12, 13, 16, 18, 18, 32, 65, 32, 15, 19, 141, 21, 43, 23]\n",
      "[3, 6, 95, 48, 230, 36463, 1884, 43180, 4844, 13]\n"
     ]
    },
    {
     "name": "stderr",
     "output_type": "stream",
     "text": [
      "\r",
      "  0%|          | 648/500001 [01:27<19:01:53,  7.29it/s]"
     ]
    },
    {
     "name": "stdout",
     "output_type": "stream",
     "text": [
      "[3, 37, 390, 5, 1097, 6348, 1473, 12, 32, 569, 32, 569, 14, 32, 569, 32, 32, 19, 451, 21, 22, 23]\n",
      "[3, 3225, 603, 3225, 603, 10602, 3244, 603, 78816, 1273, 13]\n"
     ]
    },
    {
     "name": "stderr",
     "output_type": "stream",
     "text": [
      "  0%|          | 650/500001 [01:28<20:20:48,  6.82it/s]"
     ]
    },
    {
     "name": "stdout",
     "output_type": "stream",
     "text": [
      "[3, 887, 933, 10, 194, 259, 192, 379, 1385, 12, 18, 65, 13, 32, 32, 16, 41, 19, 191, 21, 67, 23]\n",
      "[3, 212, 596, 6, 882, 127, 318, 2874, 13]\n",
      "[3, 457, 5, 2345, 234, 10, 196, 12, 13, 18, 16, 13, 19, 155, 21, 74, 23]\n",
      "[3, 6, 3023, 4507, 16, 13]\n"
     ]
    },
    {
     "name": "stderr",
     "output_type": "stream",
     "text": [
      "  0%|          | 652/500001 [01:28<20:10:01,  6.88it/s]"
     ]
    },
    {
     "name": "stdout",
     "output_type": "stream",
     "text": [
      "[3, 5, 112, 183, 54740, 10, 8197, 12, 13, 14, 13, 2276, 42, 41, 19, 260, 21, 34, 23]\n",
      "[3, 6, 493, 16, 54007, 24, 4500, 13]\n",
      "[3, 680, 7, 53, 5, 10, 1404, 12, 13, 16, 16, 13, 19, 125, 21, 74, 23]\n",
      "[3, 148, 1994, 279, 577, 13]\n"
     ]
    },
    {
     "name": "stderr",
     "output_type": "stream",
     "text": [
      "  0%|          | 654/500001 [01:28<18:25:44,  7.53it/s]"
     ]
    },
    {
     "name": "stdout",
     "output_type": "stream",
     "text": [
      "[3, 188, 37, 222, 5, 10, 319, 12, 16, 51, 13, 42, 32, 19, 125, 21, 80, 23]\n",
      "[3, 11740, 27, 6, 24, 21008, 13]\n",
      "[3, 37, 223, 47, 9037, 12, 13, 18, 458, 41, 19, 703, 21, 74, 23]\n",
      "[3, 317, 230, 387, 8798, 13]\n"
     ]
    },
    {
     "name": "stderr",
     "output_type": "stream",
     "text": [
      "  0%|          | 656/500001 [01:28<20:43:44,  6.69it/s]"
     ]
    },
    {
     "name": "stdout",
     "output_type": "stream",
     "text": [
      "[3, 716, 30560, 96, 273, 9841, 762, 10, 269, 12, 13, 65, 13, 41, 16, 42, 32, 19, 33, 21, 67, 23]\n",
      "[3, 4795, 1363, 57, 800, 3211, 24, 1451, 13]\n",
      "[3, 37, 58, 1745, 10, 5546, 543, 3158, 665, 12, 41, 42, 40, 18, 16, 32, 65, 16, 19, 125, 21, 43, 23]\n",
      "[3, 3279, 24, 1815, 137, 5475, 1107, 796, 1472, 13]\n"
     ]
    },
    {
     "name": "stderr",
     "output_type": "stream",
     "text": [
      "  0%|          | 658/500001 [01:29<22:16:52,  6.23it/s]"
     ]
    },
    {
     "name": "stdout",
     "output_type": "stream",
     "text": [
      "[3, 1504, 202, 669, 12, 14, 15, 16, 42, 32, 19, 703, 21, 80, 23]\n",
      "[3, 870, 86, 76197, 24, 688, 13]\n",
      "[3, 1029, 392, 53, 29, 55, 355, 3177, 12, 16, 13, 16, 13, 14, 13, 32, 19, 125, 21, 67, 23]\n",
      "[3, 12670, 6, 1443, 16, 5, 6, 1303, 13]\n"
     ]
    },
    {
     "name": "stderr",
     "output_type": "stream",
     "text": [
      "  0%|          | 660/500001 [01:29<18:48:52,  7.37it/s]"
     ]
    },
    {
     "name": "stdout",
     "output_type": "stream",
     "text": [
      "[3, 223, 494, 5927, 1059, 12, 569, 569, 569, 569, 569, 569, 569, 569, 19, 41, 21, 43, 23]\n",
      "[3, 489, 489, 489, 489, 489, 489, 489, 489, 13]\n",
      "[3, 1125, 5, 157, 37, 6067, 464, 12, 13, 16, 14, 13, 32, 15, 19, 20, 21, 34, 23]\n",
      "[3, 16, 445, 110, 6, 37648, 6002, 13]\n"
     ]
    },
    {
     "name": "stderr",
     "output_type": "stream",
     "text": [
      "  0%|          | 662/500001 [01:29<19:48:39,  7.00it/s]"
     ]
    },
    {
     "name": "stdout",
     "output_type": "stream",
     "text": [
      "[3, 13626, 10, 12010, 385, 512, 460, 12, 18, 42, 18, 42, 19, 79, 21, 74, 23]\n",
      "[3, 1702, 24, 1702, 24, 13]\n",
      "[3, 96, 725, 3039, 320, 1229, 12, 13, 14, 41, 19, 79, 21, 84, 23]\n",
      "[3, 148, 4270, 3078, 13]\n"
     ]
    },
    {
     "name": "stderr",
     "output_type": "stream",
     "text": [
      "\r",
      "  0%|          | 663/500001 [01:29<18:22:05,  7.55it/s]"
     ]
    },
    {
     "name": "stdout",
     "output_type": "stream",
     "text": [
      "[3, 578, 15225, 4441, 543, 3508, 12, 13, 42, 32, 18, 16, 14, 13, 42, 32, 17, 19, 33, 21, 261, 23]\n",
      "[3, 16, 24, 531, 451, 1802, 5, 6, 24, 2934, 923, 13]\n"
     ]
    },
    {
     "name": "stderr",
     "output_type": "stream",
     "text": [
      "  0%|          | 665/500001 [01:30<20:13:05,  6.86it/s]"
     ]
    },
    {
     "name": "stdout",
     "output_type": "stream",
     "text": [
      "[3, 7, 3060, 438, 2333, 12, 93, 64, 569, 19, 41, 21, 84, 23]\n",
      "[3, 2919, 2920, 1308, 13]\n",
      "[3, 5, 572, 2653, 4606, 39886, 394, 12, 13, 65, 14, 13, 537, 93, 19, 211, 21, 34, 23]\n",
      "[3, 16, 40, 110, 6, 456, 711, 13]\n"
     ]
    },
    {
     "name": "stderr",
     "output_type": "stream",
     "text": [
      "\r",
      "  0%|          | 666/500001 [01:30<21:08:33,  6.56it/s]"
     ]
    },
    {
     "name": "stdout",
     "output_type": "stream",
     "text": [
      "[3, 4025, 16212, 53, 4260, 96, 3489, 5, 30, 4310, 12, 16, 32, 15, 13, 16, 51, 18, 65, 41, 42, 16, 19, 127, 21, 253, 23]\n",
      "[3, 863, 7617, 3955, 6, 224, 27, 38, 596, 5101, 24, 1468, 13]\n"
     ]
    },
    {
     "name": "stderr",
     "output_type": "stream",
     "text": [
      "  0%|          | 668/500001 [01:30<22:24:31,  6.19it/s]"
     ]
    },
    {
     "name": "stdout",
     "output_type": "stream",
     "text": [
      "[3, 299, 45, 489, 1348, 10, 23841, 12, 41, 15, 15, 33, 32, 19, 199, 21, 80, 23]\n",
      "[3, 45751, 22405, 45752, 45753, 45754, 13]\n",
      "[3, 934, 10, 19124, 662, 12, 16, 15, 19, 141, 21, 128, 23]\n",
      "[3, 50458, 4844, 13]\n"
     ]
    },
    {
     "name": "stderr",
     "output_type": "stream",
     "text": [
      "  0%|          | 670/500001 [01:30<18:36:33,  7.45it/s]"
     ]
    },
    {
     "name": "stdout",
     "output_type": "stream",
     "text": [
      "[3, 910, 544, 4519, 192, 1060, 12, 13, 14, 13, 13, 33, 19, 41, 21, 80, 23]\n",
      "[3, 16, 77, 6, 514, 15365, 13]\n",
      "[3, 37, 120, 574, 5, 10, 12, 16, 33, 42, 93, 19, 125, 21, 74, 23]\n",
      "[3, 58, 14600, 24, 2092, 13]\n"
     ]
    },
    {
     "name": "stderr",
     "output_type": "stream",
     "text": [
      "  0%|          | 672/500001 [01:31<17:03:01,  8.13it/s]"
     ]
    },
    {
     "name": "stdout",
     "output_type": "stream",
     "text": [
      "[3, 5329, 12434, 323, 1032, 10, 1531, 16393, 911, 16394, 483, 16395, 16396, 12, 13, 13, 33, 42, 94, 19, 66, 21, 80, 23]\n",
      "[3, 5170, 12144, 16058, 24, 979, 13]\n",
      "[3, 957, 139, 656, 1178, 1271, 12, 32, 16, 18, 16, 16, 40, 19, 141, 21, 34, 23]\n",
      "[3, 6220, 2855, 4213, 46, 7718, 1165, 13]\n"
     ]
    },
    {
     "name": "stderr",
     "output_type": "stream",
     "text": [
      "  0%|          | 674/500001 [01:31<17:42:52,  7.83it/s]"
     ]
    },
    {
     "name": "stdout",
     "output_type": "stream",
     "text": [
      "[3, 37, 10, 1297, 1518, 12, 65, 65, 13, 16, 19, 33, 21, 74, 23]\n",
      "[3, 242, 316, 6, 1317, 13]\n",
      "[3, 4662, 12, 13, 18, 14, 32, 14, 13, 17, 213, 16, 51, 19, 79, 21, 261, 23]\n",
      "[3, 16, 73, 491, 11570, 232, 16, 5431, 4449, 38751, 27, 13]\n"
     ]
    },
    {
     "name": "stderr",
     "output_type": "stream",
     "text": [
      "  0%|          | 676/500001 [01:31<19:32:48,  7.10it/s]"
     ]
    },
    {
     "name": "stdout",
     "output_type": "stream",
     "text": [
      "[3, 1604, 8277, 30, 47, 3771, 4004, 12, 16, 39, 13, 16, 14, 40, 17, 19, 147, 21, 67, 23]\n",
      "[3, 333, 19, 6, 1751, 5, 4057, 473, 13]\n",
      "[3, 2262, 44950, 207, 2641, 12, 18, 16, 13, 64, 15, 41, 19, 504, 21, 34, 23]\n",
      "[3, 1838, 95, 16, 23479, 286, 6637, 13]\n"
     ]
    },
    {
     "name": "stderr",
     "output_type": "stream",
     "text": [
      "  0%|          | 678/500001 [01:32<19:22:15,  7.16it/s]"
     ]
    },
    {
     "name": "stdout",
     "output_type": "stream",
     "text": [
      "[3, 1372, 37, 3007, 12, 16, 13, 16, 19, 284, 21, 84, 23]\n",
      "[3, 1269, 16, 8626, 13]\n",
      "[3, 439, 439, 972, 896, 466, 379, 5, 2317, 37, 12, 16, 16, 15, 32, 18, 13, 15, 19, 127, 21, 67, 23]\n",
      "[3, 64, 24359, 14286, 2858, 236, 16, 356, 13]\n"
     ]
    },
    {
     "name": "stderr",
     "output_type": "stream",
     "text": [
      "  0%|          | 680/500001 [01:32<19:26:20,  7.14it/s]"
     ]
    },
    {
     "name": "stdout",
     "output_type": "stream",
     "text": [
      "[3, 8194, 2235, 43841, 12, 16, 17, 42, 136, 19, 66, 21, 74, 23]\n",
      "[3, 11082, 470, 24, 7887, 13]\n",
      "[3, 37, 81, 181, 392, 925, 10, 7829, 12, 16, 94, 14, 13, 18, 42, 41, 16, 19, 155, 21, 43, 23]\n",
      "[3, 938, 527, 493, 16, 6478, 24, 2744, 895, 13]\n"
     ]
    },
    {
     "name": "stderr",
     "output_type": "stream",
     "text": [
      "\n"
     ]
    },
    {
     "ename": "KeyboardInterrupt",
     "evalue": "",
     "output_type": "error",
     "traceback": [
      "\u001b[0;31m\u001b[0m",
      "\u001b[0;31mKeyboardInterrupt\u001b[0mTraceback (most recent call last)",
      "\u001b[0;32m<ipython-input-18-cb97b6198d80>\u001b[0m in \u001b[0;36m<module>\u001b[0;34m()\u001b[0m\n\u001b[1;32m     10\u001b[0m \u001b[0;34m\u001b[0m\u001b[0m\n\u001b[1;32m     11\u001b[0m         \u001b[0;31m# Run the train function\u001b[0m\u001b[0;34m\u001b[0m\u001b[0;34m\u001b[0m\u001b[0m\n\u001b[0;32m---> 12\u001b[0;31m         \u001b[0mloss\u001b[0m \u001b[0;34m=\u001b[0m \u001b[0mtrain\u001b[0m\u001b[0;34m(\u001b[0m\u001b[0minput_variable\u001b[0m\u001b[0;34m,\u001b[0m \u001b[0mtarget_variable\u001b[0m\u001b[0;34m,\u001b[0m \u001b[0mencoder\u001b[0m\u001b[0;34m,\u001b[0m \u001b[0mdecoder\u001b[0m\u001b[0;34m,\u001b[0m \u001b[0mencoder_optimizer\u001b[0m\u001b[0;34m,\u001b[0m \u001b[0mdecoder_optimizer\u001b[0m\u001b[0;34m,\u001b[0m \u001b[0mcriterion\u001b[0m\u001b[0;34m)\u001b[0m\u001b[0;34m\u001b[0m\u001b[0m\n\u001b[0m\u001b[1;32m     13\u001b[0m \u001b[0;34m\u001b[0m\u001b[0m\n\u001b[1;32m     14\u001b[0m         \u001b[0;31m# Keep track of loss\u001b[0m\u001b[0;34m\u001b[0m\u001b[0;34m\u001b[0m\u001b[0m\n",
      "\u001b[0;32m<ipython-input-14-1bc7488d8316>\u001b[0m in \u001b[0;36mtrain\u001b[0;34m(input_variable, target_variable, encoder, decoder, encoder_optimizer, decoder_optimizer, criterion, max_length)\u001b[0m\n\u001b[1;32m     54\u001b[0m     \u001b[0;31m# Backpropagation\u001b[0m\u001b[0;34m\u001b[0m\u001b[0;34m\u001b[0m\u001b[0m\n\u001b[1;32m     55\u001b[0m     \u001b[0mloss\u001b[0m\u001b[0;34m.\u001b[0m\u001b[0mbackward\u001b[0m\u001b[0;34m(\u001b[0m\u001b[0;34m)\u001b[0m\u001b[0;34m\u001b[0m\u001b[0m\n\u001b[0;32m---> 56\u001b[0;31m     \u001b[0mtorch\u001b[0m\u001b[0;34m.\u001b[0m\u001b[0mnn\u001b[0m\u001b[0;34m.\u001b[0m\u001b[0mutils\u001b[0m\u001b[0;34m.\u001b[0m\u001b[0mclip_grad_norm_\u001b[0m\u001b[0;34m(\u001b[0m\u001b[0mencoder\u001b[0m\u001b[0;34m.\u001b[0m\u001b[0mparameters\u001b[0m\u001b[0;34m(\u001b[0m\u001b[0;34m)\u001b[0m\u001b[0;34m,\u001b[0m \u001b[0mclip\u001b[0m\u001b[0;34m)\u001b[0m\u001b[0;34m\u001b[0m\u001b[0m\n\u001b[0m\u001b[1;32m     57\u001b[0m     \u001b[0mtorch\u001b[0m\u001b[0;34m.\u001b[0m\u001b[0mnn\u001b[0m\u001b[0;34m.\u001b[0m\u001b[0mutils\u001b[0m\u001b[0;34m.\u001b[0m\u001b[0mclip_grad_norm_\u001b[0m\u001b[0;34m(\u001b[0m\u001b[0mdecoder\u001b[0m\u001b[0;34m.\u001b[0m\u001b[0mparameters\u001b[0m\u001b[0;34m(\u001b[0m\u001b[0;34m)\u001b[0m\u001b[0;34m,\u001b[0m \u001b[0mclip\u001b[0m\u001b[0;34m)\u001b[0m\u001b[0;34m\u001b[0m\u001b[0m\n\u001b[1;32m     58\u001b[0m     \u001b[0mencoder_optimizer\u001b[0m\u001b[0;34m.\u001b[0m\u001b[0mstep\u001b[0m\u001b[0;34m(\u001b[0m\u001b[0;34m)\u001b[0m\u001b[0;34m\u001b[0m\u001b[0m\n",
      "\u001b[0;32m/home/k123/miniconda2/envs/python-conda/lib/python2.7/site-packages/torch/nn/utils/clip_grad.pyc\u001b[0m in \u001b[0;36mclip_grad_norm_\u001b[0;34m(parameters, max_norm, norm_type)\u001b[0m\n\u001b[1;32m     30\u001b[0m         \u001b[0mtotal_norm\u001b[0m \u001b[0;34m=\u001b[0m \u001b[0;36m0\u001b[0m\u001b[0;34m\u001b[0m\u001b[0m\n\u001b[1;32m     31\u001b[0m         \u001b[0;32mfor\u001b[0m \u001b[0mp\u001b[0m \u001b[0;32min\u001b[0m \u001b[0mparameters\u001b[0m\u001b[0;34m:\u001b[0m\u001b[0;34m\u001b[0m\u001b[0m\n\u001b[0;32m---> 32\u001b[0;31m             \u001b[0mparam_norm\u001b[0m \u001b[0;34m=\u001b[0m \u001b[0mp\u001b[0m\u001b[0;34m.\u001b[0m\u001b[0mgrad\u001b[0m\u001b[0;34m.\u001b[0m\u001b[0mdata\u001b[0m\u001b[0;34m.\u001b[0m\u001b[0mnorm\u001b[0m\u001b[0;34m(\u001b[0m\u001b[0mnorm_type\u001b[0m\u001b[0;34m)\u001b[0m\u001b[0;34m\u001b[0m\u001b[0m\n\u001b[0m\u001b[1;32m     33\u001b[0m             \u001b[0mtotal_norm\u001b[0m \u001b[0;34m+=\u001b[0m \u001b[0mparam_norm\u001b[0m\u001b[0;34m.\u001b[0m\u001b[0mitem\u001b[0m\u001b[0;34m(\u001b[0m\u001b[0;34m)\u001b[0m \u001b[0;34m**\u001b[0m \u001b[0mnorm_type\u001b[0m\u001b[0;34m\u001b[0m\u001b[0m\n\u001b[1;32m     34\u001b[0m         \u001b[0mtotal_norm\u001b[0m \u001b[0;34m=\u001b[0m \u001b[0mtotal_norm\u001b[0m \u001b[0;34m**\u001b[0m \u001b[0;34m(\u001b[0m\u001b[0;36m1.\u001b[0m \u001b[0;34m/\u001b[0m \u001b[0mnorm_type\u001b[0m\u001b[0;34m)\u001b[0m\u001b[0;34m\u001b[0m\u001b[0m\n",
      "\u001b[0;32m/home/k123/miniconda2/envs/python-conda/lib/python2.7/site-packages/torch/tensor.pyc\u001b[0m in \u001b[0;36mnorm\u001b[0;34m(self, p, dim, keepdim)\u001b[0m\n\u001b[1;32m    250\u001b[0m     \u001b[0;32mdef\u001b[0m \u001b[0mnorm\u001b[0m\u001b[0;34m(\u001b[0m\u001b[0mself\u001b[0m\u001b[0;34m,\u001b[0m \u001b[0mp\u001b[0m\u001b[0;34m=\u001b[0m\u001b[0;34m\"fro\"\u001b[0m\u001b[0;34m,\u001b[0m \u001b[0mdim\u001b[0m\u001b[0;34m=\u001b[0m\u001b[0mNone\u001b[0m\u001b[0;34m,\u001b[0m \u001b[0mkeepdim\u001b[0m\u001b[0;34m=\u001b[0m\u001b[0mFalse\u001b[0m\u001b[0;34m)\u001b[0m\u001b[0;34m:\u001b[0m\u001b[0;34m\u001b[0m\u001b[0m\n\u001b[1;32m    251\u001b[0m         \u001b[0;34mr\"\"\"See :func: `torch.norm`\"\"\"\u001b[0m\u001b[0;34m\u001b[0m\u001b[0m\n\u001b[0;32m--> 252\u001b[0;31m         \u001b[0;32mreturn\u001b[0m \u001b[0mtorch\u001b[0m\u001b[0;34m.\u001b[0m\u001b[0mnorm\u001b[0m\u001b[0;34m(\u001b[0m\u001b[0mself\u001b[0m\u001b[0;34m,\u001b[0m \u001b[0mp\u001b[0m\u001b[0;34m,\u001b[0m \u001b[0mdim\u001b[0m\u001b[0;34m,\u001b[0m \u001b[0mkeepdim\u001b[0m\u001b[0;34m)\u001b[0m\u001b[0;34m\u001b[0m\u001b[0m\n\u001b[0m\u001b[1;32m    253\u001b[0m \u001b[0;34m\u001b[0m\u001b[0m\n\u001b[1;32m    254\u001b[0m     \u001b[0;32mdef\u001b[0m \u001b[0mbtrifact\u001b[0m\u001b[0;34m(\u001b[0m\u001b[0mself\u001b[0m\u001b[0;34m,\u001b[0m \u001b[0minfo\u001b[0m\u001b[0;34m=\u001b[0m\u001b[0mNone\u001b[0m\u001b[0;34m,\u001b[0m \u001b[0mpivot\u001b[0m\u001b[0;34m=\u001b[0m\u001b[0mTrue\u001b[0m\u001b[0;34m)\u001b[0m\u001b[0;34m:\u001b[0m\u001b[0;34m\u001b[0m\u001b[0m\n",
      "\u001b[0;32m/home/k123/miniconda2/envs/python-conda/lib/python2.7/site-packages/torch/functional.pyc\u001b[0m in \u001b[0;36mnorm\u001b[0;34m(input, p, dim, keepdim, out)\u001b[0m\n\u001b[1;32m    716\u001b[0m             \u001b[0;32mreturn\u001b[0m \u001b[0mtorch\u001b[0m\u001b[0;34m.\u001b[0m\u001b[0m_C\u001b[0m\u001b[0;34m.\u001b[0m\u001b[0m_VariableFunctions\u001b[0m\u001b[0;34m.\u001b[0m\u001b[0mfrobenius_norm\u001b[0m\u001b[0;34m(\u001b[0m\u001b[0minput\u001b[0m\u001b[0;34m)\u001b[0m\u001b[0;34m\u001b[0m\u001b[0m\n\u001b[1;32m    717\u001b[0m         \u001b[0;32melif\u001b[0m \u001b[0mp\u001b[0m \u001b[0;34m!=\u001b[0m \u001b[0;34m\"nuc\"\u001b[0m\u001b[0;34m:\u001b[0m\u001b[0;34m\u001b[0m\u001b[0m\n\u001b[0;32m--> 718\u001b[0;31m             \u001b[0;32mreturn\u001b[0m \u001b[0mtorch\u001b[0m\u001b[0;34m.\u001b[0m\u001b[0m_C\u001b[0m\u001b[0;34m.\u001b[0m\u001b[0m_VariableFunctions\u001b[0m\u001b[0;34m.\u001b[0m\u001b[0mnorm\u001b[0m\u001b[0;34m(\u001b[0m\u001b[0minput\u001b[0m\u001b[0;34m,\u001b[0m \u001b[0mp\u001b[0m\u001b[0;34m)\u001b[0m\u001b[0;34m\u001b[0m\u001b[0m\n\u001b[0m\u001b[1;32m    719\u001b[0m \u001b[0;34m\u001b[0m\u001b[0m\n\u001b[1;32m    720\u001b[0m     \u001b[0;32mif\u001b[0m \u001b[0mp\u001b[0m \u001b[0;34m==\u001b[0m \u001b[0;34m\"fro\"\u001b[0m\u001b[0;34m:\u001b[0m\u001b[0;34m\u001b[0m\u001b[0m\n",
      "\u001b[0;31mKeyboardInterrupt\u001b[0m: "
     ]
    }
   ],
   "source": [
    "from tqdm import tqdm\n",
    "# Begin!\n",
    "with tqdm(total=n_epochs + 1) as pbar:\n",
    "    for epoch in range(1, n_epochs + 1):\n",
    "\n",
    "        # Get training data for this cycle\n",
    "        training_pair = variables_from_pair(random.choice(pairs))\n",
    "        input_variable = training_pair[0]\n",
    "        target_variable = training_pair[1]\n",
    "\n",
    "        # Run the train function\n",
    "        loss = train(input_variable, target_variable, encoder, decoder, encoder_optimizer, decoder_optimizer, criterion)\n",
    "\n",
    "        # Keep track of loss\n",
    "        print_loss_total += loss\n",
    "        plot_loss_total += loss\n",
    "\n",
    "        if epoch == 0: continue\n",
    "\n",
    "        if epoch % print_every == 0:\n",
    "            print_loss_avg = print_loss_total / print_every\n",
    "            print_loss_total = 0\n",
    "            print_summary = '%s (%d %d%%) %.4f' % (time_since(start, float(epoch) / n_epochs), epoch, float(epoch) / n_epochs * 100, print_loss_avg)\n",
    "            print(print_summary)\n",
    "            evaluate_randomly()\n",
    "\n",
    "        if epoch % plot_every == 0:\n",
    "            plot_loss_avg = plot_loss_total / plot_every\n",
    "            plot_losses.append(plot_loss_avg)\n",
    "            plot_loss_total = 0\n",
    "        pbar.update(1)"
   ]
  },
  {
   "cell_type": "code",
   "execution_count": null,
   "metadata": {},
   "outputs": [],
   "source": [
    "decoder_output"
   ]
  },
  {
   "cell_type": "code",
   "execution_count": null,
   "metadata": {},
   "outputs": [],
   "source": []
  },
  {
   "cell_type": "markdown",
   "metadata": {},
   "source": [
    "## Plotting training loss\n",
    "\n",
    "Plotting is done with matplotlib, using the array `plot_losses` that was created while training."
   ]
  },
  {
   "cell_type": "code",
   "execution_count": null,
   "metadata": {},
   "outputs": [],
   "source": [
    "import matplotlib.pyplot as plt\n",
    "import matplotlib.ticker as ticker\n",
    "import numpy as np\n",
    "%matplotlib inline\n",
    "\n",
    "def show_plot(points):\n",
    "    plt.figure()\n",
    "    fig, ax = plt.subplots()\n",
    "    loc = ticker.MultipleLocator(base=0.2) # put ticks at regular intervals\n",
    "    ax.yaxis.set_major_locator(loc)\n",
    "    plt.plot(points)\n",
    "\n",
    "show_plot(plot_losses)"
   ]
  },
  {
   "cell_type": "markdown",
   "metadata": {},
   "source": [
    "# Evaluating the network\n",
    "\n",
    "Evaluation is mostly the same as training, but there are no targets. Instead we always feed the decoder's predictions back to itself. Every time it predicts a word, we add it to the output string. If it predicts the EOS token we stop there. We also store the decoder's attention outputs for each step to display later."
   ]
  },
  {
   "cell_type": "code",
   "execution_count": null,
   "metadata": {},
   "outputs": [],
   "source": [
    "def evaluate(sentence, max_length=MAX_LENGTH):\n",
    "    input_variable = variable_from_sentence(input_lang, sentence)\n",
    "    input_length = input_variable.size()[0]\n",
    "    \n",
    "    # Run through encoder\n",
    "    encoder_hidden = encoder.init_hidden()\n",
    "    encoder_outputs, encoder_hidden, encoder_embs = encoder(input_variable.cuda(), encoder_hidden.cuda())\n",
    "\n",
    "    # Create starting vectors for decoder\n",
    "    decoder_input = Variable(torch.LongTensor([[SOS_token]])) # SOS\n",
    "    decoder_context = Variable(torch.zeros(1, decoder.hidden_size))\n",
    "    if USE_CUDA:\n",
    "        decoder_input = decoder_input.cuda()\n",
    "        decoder_context = decoder_context.cuda()\n",
    "\n",
    "    decoder_hidden = encoder_hidden\n",
    "    \n",
    "    decoded_words = []\n",
    "    decoder_attentions = torch.zeros(max_length, 2*max_length)\n",
    "    \n",
    "    # Run through decoder\n",
    "    for di in range(max_length):\n",
    "        decoder_output, decoder_rnn_output, decoder_emb, decoder_context, decoder_hidden, decoder_attention = decoder(decoder_input, decoder_context, decoder_hidden, encoder_outputs, encoder_embs)\n",
    "        decoder_attentions[di,:decoder_attention.size(2)] += decoder_attention.squeeze(0).squeeze(0).cpu().data\n",
    "\n",
    "        # Choose top word from output\n",
    "        topv, topi = decoder_output.data.topk(1)\n",
    "        ni = topi[0][0]\n",
    "        if ni == EOS_token:\n",
    "            decoded_words.append('<EOS>')\n",
    "            break\n",
    "        else:\n",
    "            decoded_words.append(output_lang.index2word[ni.item()])\n",
    "            \n",
    "        # Next input is chosen word\n",
    "        decoder_input = Variable(torch.LongTensor([[ni]]))\n",
    "        if USE_CUDA: decoder_input = decoder_input.cuda()\n",
    "        encoder_outputs = torch.cat([encoder_outputs, decoder_rnn_output], dim=0)\n",
    "        encoder_embs = torch.cat([encoder_embs, decoder_emb], dim=0)\n",
    "    return decoded_words, decoder_attentions[:di+1, :len(encoder_outputs)]"
   ]
  },
  {
   "cell_type": "markdown",
   "metadata": {},
   "source": [
    "We can evaluate random sentences from the training set and print out the input, target, and output to make some subjective quality judgements:"
   ]
  },
  {
   "cell_type": "code",
   "execution_count": null,
   "metadata": {},
   "outputs": [],
   "source": [
    "def evaluate_randomly():\n",
    "    pair = random.choice(pairs)\n",
    "    \n",
    "    output_words, decoder_attn = evaluate(pair[0])\n",
    "    output_sentence = ' '.join(output_words)\n",
    "    \n",
    "    \n",
    "#     print('>', pair[0])\n",
    "#     print('=', pair[1])\n",
    "#     print('<', output_sentence)\n",
    "#     print('')\n",
    "    print '>', pair[0]\n",
    "    print '=', pair[1]\n",
    "    print '<', output_sentence\n",
    "    print ''"
   ]
  },
  {
   "cell_type": "code",
   "execution_count": null,
   "metadata": {
    "scrolled": false
   },
   "outputs": [],
   "source": [
    "evaluate_randomly()"
   ]
  },
  {
   "cell_type": "markdown",
   "metadata": {},
   "source": [
    "# Visualizing attention\n",
    "\n",
    "A useful property of the attention mechanism is its highly interpretable outputs. Because it is used to weight specific encoder outputs of the input sequence, we can imagine looking where the network is focused most at each time step.\n",
    "\n",
    "You could simply run `plt.matshow(attentions)` to see attention output displayed as a matrix, with the columns being input steps and rows being output steps:"
   ]
  },
  {
   "cell_type": "code",
   "execution_count": null,
   "metadata": {},
   "outputs": [],
   "source": [
    "output_words, attentions = evaluate(u\"SOS 所以 我 好 愿意 EOS v r l NOP i NOE 3 NOR\")\n",
    "print len(output_words), attentions.shape\n",
    "plt.matshow(attentions.numpy())"
   ]
  },
  {
   "cell_type": "markdown",
   "metadata": {},
   "source": [
    "For a better viewing experience we will do the extra work of adding axes and labels:"
   ]
  },
  {
   "cell_type": "code",
   "execution_count": null,
   "metadata": {},
   "outputs": [],
   "source": [
    "def show_attention(input_sentence, output_words, attentions):\n",
    "    # Set up figure with colorbar\n",
    "    fig = plt.figure()\n",
    "    ax = fig.add_subplot(111)\n",
    "    cax = ax.matshow(attentions.numpy(), cmap='bone')\n",
    "    fig.colorbar(cax)\n",
    "\n",
    "    # Set up axes\n",
    "    ax.set_xticklabels([''] + input_sentence.split(' ') + ['<EOS>'], rotation=90)\n",
    "    ax.set_yticklabels([''] + output_words)\n",
    "\n",
    "    # Show label at every tick\n",
    "    ax.xaxis.set_major_locator(ticker.MultipleLocator(1))\n",
    "    ax.yaxis.set_major_locator(ticker.MultipleLocator(1))\n",
    "\n",
    "    plt.show()\n",
    "    plt.close()\n",
    "\n",
    "def evaluate_and_show_attention(input_sentence):\n",
    "    output_words, attentions = evaluate(input_sentence)\n",
    "    print('input =', input_sentence)\n",
    "    print('output =', ' '.join(output_words))\n",
    "    show_attention(input_sentence, output_words, attentions)"
   ]
  },
  {
   "cell_type": "code",
   "execution_count": null,
   "metadata": {},
   "outputs": [],
   "source": [
    "evaluate_and_show_attention(\"elle a cinq ans de moins que moi .\")"
   ]
  },
  {
   "cell_type": "code",
   "execution_count": null,
   "metadata": {},
   "outputs": [],
   "source": [
    "evaluate_and_show_attention(\"elle est trop petit .\")"
   ]
  },
  {
   "cell_type": "code",
   "execution_count": null,
   "metadata": {},
   "outputs": [],
   "source": [
    "evaluate_and_show_attention(\"je ne crains pas de mourir .\")"
   ]
  },
  {
   "cell_type": "code",
   "execution_count": null,
   "metadata": {},
   "outputs": [],
   "source": [
    "evaluate_and_show_attention(\"c est un jeune directeur plein de talent .\")"
   ]
  },
  {
   "cell_type": "markdown",
   "metadata": {
    "collapsed": true
   },
   "source": [
    "# Exercises\n",
    "\n",
    "* Try with a different dataset\n",
    "    * Another language pair\n",
    "    * Human &rarr; Machine (e.g. IOT commands)\n",
    "    * Chat &rarr; Response\n",
    "    * Question &rarr; Answer\n",
    "* Replace the embedding pre-trained word embeddings such as word2vec or GloVe\n",
    "* Try with more layers, more hidden units, and more sentences. Compare the training time and results.\n",
    "* If you use a translation file where pairs have two of the same phrase (`I am test \\t I am test`), you can use this as an autoencoder. Try this:\n",
    "    * Train as an autoencoder\n",
    "    * Save only the Encoder network\n",
    "    * Train a new Decoder for translation from there"
   ]
  },
  {
   "cell_type": "code",
   "execution_count": null,
   "metadata": {},
   "outputs": [],
   "source": []
  }
 ],
 "metadata": {
  "anaconda-cloud": {},
  "kernelspec": {
   "display_name": "Python 2.7.14 (conda)",
   "language": "python",
   "name": "python-conda"
  },
  "language_info": {
   "codemirror_mode": {
    "name": "ipython",
    "version": 2
   },
   "file_extension": ".py",
   "mimetype": "text/x-python",
   "name": "python",
   "nbconvert_exporter": "python",
   "pygments_lexer": "ipython2",
   "version": "2.7.14"
  }
 },
 "nbformat": 4,
 "nbformat_minor": 1
}
