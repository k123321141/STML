{
 "cells": [
  {
   "cell_type": "code",
   "execution_count": 8,
   "metadata": {},
   "outputs": [],
   "source": [
    "import numpy as np\n",
    "def test_accuracy(pred, label):\n",
    "\n",
    "    with open(pred,'r') as f:\n",
    "        pred_ls = f.readlines()\n",
    "    with open(label,'r') as f:\n",
    "        label_ls = f.readlines()\n",
    "\n",
    "    def extract_label(l):\n",
    "        l = l.decode('utf8')\n",
    "        pos = l.split(u'EOS')[1].split(u'NOP')[0].strip().split(' ')\n",
    "        length = int(l.split(u'NOE')[1].split(u'NOR')[0].strip())\n",
    "        rhyme = l.split(u'NOP')[1].split(u'NOE')[0].strip()\n",
    "        return pos, length, rhyme\n",
    "    def extract_pred(l):\n",
    "        l = l.decode('utf8')\n",
    "        pos = l.split(',')[0].strip().split(' ')\n",
    "        length = int(l.split(',')[1])\n",
    "        rhyme = l.split(',')[2].strip()\n",
    "        return pos, length, rhyme\n",
    "    def list_acc(l1, l2):\n",
    "        buf = []\n",
    "        if len(l1) > len(l2):\n",
    "            tmp = l2\n",
    "            l2 = l1\n",
    "            l1 = tmp\n",
    "        for i in range(len(l1)):\n",
    "            e1 = l1[i]\n",
    "            e2 = l2[i]\n",
    "            buf.append(1 if e1 == e2 else 0)\n",
    "        return float(sum(buf)) / len(l2)\n",
    "\n",
    "    pos_acc = []\n",
    "    len_acc = []\n",
    "    rhyme_acc = [] \n",
    "    for pred_l,label_l in zip(pred_ls, label_ls):\n",
    "        p_pos, p_len, p_rhyme = extract_pred(pred_l)\n",
    "        l_pos, l_len, l_rhyme = extract_label(label_l)\n",
    "\n",
    "        pos_acc.append(list_acc(p_pos, l_pos))\n",
    "        len_acc.append(1 if p_len == l_len else 0)\n",
    "        rhyme_acc.append(1 if p_rhyme == l_rhyme else 0)\n",
    "    print 'POS : %.4f, len : %.4f, rhyme : %.4f' % (np.mean(pos_acc), np.mean(len_acc), np.mean(rhyme_acc))\n",
    "    \n",
    "    "
   ]
  },
  {
   "cell_type": "code",
   "execution_count": 9,
   "metadata": {},
   "outputs": [
    {
     "name": "stdout",
     "output_type": "stream",
     "text": [
      "POS : 0.8489, len : 0.9800, rhyme : 0.9396\n",
      "POS : 0.7822, len : 0.9940, rhyme : 0.9036\n"
     ]
    }
   ],
   "source": [
    "pred = '../with.csv'\n",
    "label = '../hw3_1/all/test.csv'\n",
    "test_accuracy(pred, label)\n",
    "\n",
    "pred = '../without.csv'\n",
    "label = '../hw3_1/all/test.csv'\n",
    "test_accuracy(pred, label)\n"
   ]
  }
 ],
 "metadata": {
  "kernelspec": {
   "display_name": "Python 2.7.14 (conda)",
   "language": "python",
   "name": "python-conda"
  },
  "language_info": {
   "codemirror_mode": {
    "name": "ipython",
    "version": 2
   },
   "file_extension": ".py",
   "mimetype": "text/x-python",
   "name": "python",
   "nbconvert_exporter": "python",
   "pygments_lexer": "ipython2",
   "version": "2.7.14"
  }
 },
 "nbformat": 4,
 "nbformat_minor": 2
}
