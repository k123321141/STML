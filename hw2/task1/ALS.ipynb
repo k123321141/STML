{
 "cells": [
  {
   "cell_type": "markdown",
   "metadata": {},
   "source": [
    "## Rating csv\n"
   ]
  },
  {
   "cell_type": "code",
   "execution_count": 1,
   "metadata": {},
   "outputs": [
    {
     "name": "stderr",
     "output_type": "stream",
     "text": [
      "100%|██████████| 2681494/2681494 [00:20<00:00, 131672.95it/s]\n"
     ]
    }
   ],
   "source": [
    "import pandas as pd\n",
    "import datetime\n",
    "import numpy as  np\n",
    "from tqdm import tqdm\n",
    "np.random.seed(1337)\n",
    "with open('./kaggle/rating_train.csv', 'r') as f:\n",
    "    ls = f.readlines()[1:]\n",
    "u_map = {}\n",
    "\n",
    "dates = []\n",
    "foods = []\n",
    "users = []\n",
    "    \n",
    "\n",
    "with tqdm(total=len(ls)) as pbar:\n",
    "    for l in ls:\n",
    "        date_str, user, food = l.strip().split(',')\n",
    "        date = datetime.datetime.strptime(date_str, '%Y-%m-%d')\n",
    "        user, food = int(user), int(food)\n",
    "        if user not in u_map:\n",
    "            u_map[user] = []\n",
    "        u_map[user].append( (date, food) )\n",
    "        \n",
    "        dates.append(date)\n",
    "        foods.append(food)\n",
    "        users.append(user)\n",
    "        pbar.update(1)\n",
    "        \n",
    "\n",
    "        \n",
    "food_map = {f:i for i, f in enumerate(set(foods))}\n",
    "user_map = {u:i for i, u in enumerate(set(users))}\n",
    "\n"
   ]
  },
  {
   "cell_type": "markdown",
   "metadata": {},
   "source": [
    "### Generate training data and label"
   ]
  },
  {
   "cell_type": "code",
   "execution_count": 57,
   "metadata": {},
   "outputs": [
    {
     "name": "stderr",
     "output_type": "stream",
     "text": [
      "100%|██████████| 2608/2608 [00:02<00:00, 1216.36it/s]"
     ]
    },
    {
     "name": "stdout",
     "output_type": "stream",
     "text": [
      "(2608, 5532)\n",
      "Done\n"
     ]
    },
    {
     "name": "stderr",
     "output_type": "stream",
     "text": [
      "\n"
     ]
    }
   ],
   "source": [
    "### ALS embeddingimport numpy as  np\n",
    "from scipy.sparse import csr_matrix\n",
    "from scipy.spatial.distance import cosine\n",
    "with tqdm(total=len(u_map)) as pbar:\n",
    "    \n",
    "#     split 1/10 for future\n",
    "    eaten_map = {}\n",
    "    pairs = []\n",
    "    for user,v in u_map.items():\n",
    "        history = v\n",
    "        y = np.zeros([1, len(food_map)])\n",
    "#         calculate the Y\n",
    "        for d,f in history:\n",
    "            y[0, food_map[f]] = 1\n",
    "            pair = (user_map[user], food_map[f])\n",
    "            pairs.append(pair)\n",
    "        eaten_map[user] = y\n",
    "        pbar.update(1)\n",
    "    rows = []\n",
    "    cols = []\n",
    "    for pair in pairs:\n",
    "        u, f = pair\n",
    "        rows.append(u)\n",
    "        cols.append(f)\n",
    "    data = np.ones([len(rows),])\n",
    "    RR = csr_matrix((data, (rows,cols)), shape=(len(user_map),len(food_map)))\n",
    "    rows = []\n",
    "    cols = []\n",
    "    pairs = set(pairs)\n",
    "    for pair in pairs:\n",
    "        u, f = pair\n",
    "        rows.append(u)\n",
    "        cols.append(f)\n",
    "    data = np.ones([len(rows),])\n",
    "    R = csr_matrix((data, (rows,cols)), shape=(len(user_map),len(food_map)))\n",
    "print R.shape\n",
    "print 'Done'\n"
   ]
  },
  {
   "cell_type": "markdown",
   "metadata": {},
   "source": [
    "### SVD"
   ]
  },
  {
   "cell_type": "code",
   "execution_count": 75,
   "metadata": {},
   "outputs": [
    {
     "name": "stdout",
     "output_type": "stream",
     "text": [
      " (2608, 2608) (2608,) (5532, 5532)\n"
     ]
    }
   ],
   "source": [
    "import numpy as np\n",
    "from numpy import linalg as la\n",
    "a,b,c = la.svd(R.todense())\n",
    "print a.shape, b.shape,c.shape"
   ]
  },
  {
   "cell_type": "code",
   "execution_count": 85,
   "metadata": {},
   "outputs": [
    {
     "name": "stdout",
     "output_type": "stream",
     "text": [
      "(2608, 2608) (2608,)"
     ]
    },
    {
     "ename": "AttributeError",
     "evalue": "'int' object has no attribute 'shape'",
     "output_type": "error",
     "traceback": [
      "\u001b[0;31m\u001b[0m",
      "\u001b[0;31mAttributeError\u001b[0mTraceback (most recent call last)",
      "\u001b[0;32m<ipython-input-85-62b132a9ef63>\u001b[0m in \u001b[0;36m<module>\u001b[0;34m()\u001b[0m\n\u001b[1;32m      2\u001b[0m \u001b[0;34m\u001b[0m\u001b[0m\n\u001b[1;32m      3\u001b[0m \u001b[0;34m\u001b[0m\u001b[0m\n\u001b[0;32m----> 4\u001b[0;31m \u001b[0;32mprint\u001b[0m \u001b[0ma\u001b[0m\u001b[0;34m.\u001b[0m\u001b[0mshape\u001b[0m\u001b[0;34m,\u001b[0m \u001b[0mb\u001b[0m\u001b[0;34m.\u001b[0m\u001b[0mshape\u001b[0m\u001b[0;34m,\u001b[0m\u001b[0mc\u001b[0m\u001b[0;34m.\u001b[0m\u001b[0mshape\u001b[0m\u001b[0;34m\u001b[0m\u001b[0m\n\u001b[0m\u001b[1;32m      5\u001b[0m \u001b[0mu\u001b[0m \u001b[0;34m=\u001b[0m \u001b[0mcsr_matrix\u001b[0m\u001b[0;34m(\u001b[0m\u001b[0;34m(\u001b[0m\u001b[0mb\u001b[0m\u001b[0;34m,\u001b[0m \u001b[0;34m(\u001b[0m\u001b[0mnp\u001b[0m\u001b[0;34m.\u001b[0m\u001b[0marange\u001b[0m\u001b[0;34m(\u001b[0m\u001b[0mb\u001b[0m\u001b[0;34m.\u001b[0m\u001b[0mshape\u001b[0m\u001b[0;34m[\u001b[0m\u001b[0;36m0\u001b[0m\u001b[0;34m]\u001b[0m\u001b[0;34m)\u001b[0m\u001b[0;34m,\u001b[0m \u001b[0mnp\u001b[0m\u001b[0;34m.\u001b[0m\u001b[0marange\u001b[0m\u001b[0;34m(\u001b[0m\u001b[0mb\u001b[0m\u001b[0;34m.\u001b[0m\u001b[0mshape\u001b[0m\u001b[0;34m[\u001b[0m\u001b[0;36m0\u001b[0m\u001b[0;34m]\u001b[0m\u001b[0;34m)\u001b[0m\u001b[0;34m)\u001b[0m\u001b[0;34m)\u001b[0m\u001b[0;34m,\u001b[0m \u001b[0mshape\u001b[0m\u001b[0;34m=\u001b[0m\u001b[0;34m(\u001b[0m\u001b[0ma\u001b[0m\u001b[0;34m.\u001b[0m\u001b[0mshape\u001b[0m\u001b[0;34m[\u001b[0m\u001b[0;36m0\u001b[0m\u001b[0;34m]\u001b[0m\u001b[0;34m,\u001b[0m\u001b[0mc\u001b[0m\u001b[0;34m.\u001b[0m\u001b[0mshape\u001b[0m\u001b[0;34m[\u001b[0m\u001b[0;36m0\u001b[0m\u001b[0;34m]\u001b[0m\u001b[0;34m)\u001b[0m\u001b[0;34m)\u001b[0m\u001b[0;34m.\u001b[0m\u001b[0mtodense\u001b[0m\u001b[0;34m(\u001b[0m\u001b[0;34m)\u001b[0m\u001b[0;34m\u001b[0m\u001b[0m\n\u001b[1;32m      6\u001b[0m \u001b[0;31m#\u001b[0m\u001b[0;34m\u001b[0m\u001b[0;34m\u001b[0m\u001b[0m\n",
      "\u001b[0;31mAttributeError\u001b[0m: 'int' object has no attribute 'shape'"
     ]
    }
   ],
   "source": [
    "#           \n",
    "\n",
    "\n",
    "print a.shape, b.shape,c.shape\n",
    "u = csr_matrix((b, (np.arange(b.shape[0]), np.arange(b.shape[0]))), shape=(a.shape[0],c.shape[0])).todense()\n",
    "# \n",
    "emb = np.matmul(u,c).swapaxes(0,1)\n",
    "emb = np.asarray(emb)\n",
    "print emb.shape\n",
    "\n",
    "\n",
    "rev_food_map = {v:k for k,v in food_map.items()}\n",
    "with tqdm(total=len(u_map)) as pbar:\n",
    "    with open('./SVD_predict.csv', 'w') as f:\n",
    "        f.write('userid,foodid\\n')\n",
    "        for user in user_map.keys():\n",
    "            most_eat = np.argmax(RR[user_map[user],:])\n",
    "            most_food_emb = emb[most_eat,:].flatten()\n",
    "#             distance = [cosine(most_food_emb, model.item_factors[i,:]) for i in range(len(food_map))]\n",
    "            distance = np.matmul(emb, np.expand_dims(most_food_emb, axis=-1)).flatten()\n",
    "            norms = np.linalg.norm(emb, axis=-1)\n",
    "            distance = -distance/ norms\n",
    "            \n",
    "            recommendations = [i for i in np.argsort(distance)]\n",
    "#             recommendations = [i for i,_ in model.recommend(user_map[user], user_items, N=len(food_map))]\n",
    "            s = ''\n",
    "            count = 0\n",
    "            for food_idx in recommendations:\n",
    "                if count == 20:\n",
    "                    break\n",
    "                if R[user_map[user], food_idx] != 1:\n",
    "#                 if eaten_map[user][0, idx] != 1:\n",
    "                    s += ' %d' % rev_food_map[food_idx]\n",
    "                    count+=1\n",
    "            f.write('%d,%s\\n' % (user,s) )\n",
    "            pbar.update(1)\n",
    "print 'Done'"
   ]
  },
  {
   "cell_type": "code",
   "execution_count": 81,
   "metadata": {},
   "outputs": [
    {
     "name": "stdout",
     "output_type": "stream",
     "text": [
      "(1, 5532)\n"
     ]
    }
   ],
   "source": [
    "print distance.shape"
   ]
  },
  {
   "cell_type": "code",
   "execution_count": 50,
   "metadata": {},
   "outputs": [
    {
     "name": "stdout",
     "output_type": "stream",
     "text": [
      "(2608, 2608) (2608,) (5532, 5532)\n",
      "(2608, 5532)\n",
      "Done\n"
     ]
    }
   ],
   "source": [
    "d_s = 2608\n",
    "\n",
    "b = src_b\n",
    "print a.shape, b.shape,c.shape\n",
    "u = csr_matrix((b, (np.arange(b.shape[0]), np.arange(b.shape[0]))), shape=(a.shape[0],c.shape[0])).todense()\n",
    "p1 = np.matmul(a,u)\n",
    "p2 = np.matmul(p1,c)\n",
    "print p2.shape\n",
    "k = 20\n",
    "rev_food_map = {v:k for k,v in food_map.items()}\n",
    "rev = {v:k for k,v in user_map.items()}\n",
    "with open('./SVD_predict.csv', 'w') as f:\n",
    "    f.write('userid,foodid\\n')\n",
    "    for u in range(a.shape[0]):\n",
    "        arr = np.asarray(p2[u,:]).flatten()\n",
    "        rank_idx = [i for i in reversed(np.argsort(arr)[-k:])]\n",
    "        s = ''\n",
    "        for food_idx in rank_idx:\n",
    "            s += ' %d' % rev_food_map[food_idx]\n",
    "        user = rev[u]\n",
    "        f.write('%d,%s\\n' % (user,s) )\n",
    "print 'Done'\n",
    "# for u in range()\n"
   ]
  },
  {
   "cell_type": "markdown",
   "metadata": {},
   "source": [
    "### ALS embedding Training"
   ]
  },
  {
   "cell_type": "code",
   "execution_count": 34,
   "metadata": {},
   "outputs": [
    {
     "name": "stdout",
     "output_type": "stream",
     "text": [
      "['als', 32, 110, 0.3795]\n",
      "+------------+--------+------+----------------------+\n",
      "| model name | factor | iter |       hit rate       |\n",
      "+------------+--------+------+----------------------+\n",
      "|    bpr     |   32   |  10  |        0.355         |\n",
      "|    bpr     |   32   | 110  |        0.3217        |\n",
      "|    bpr     |   32   | 210  |        0.2676        |\n",
      "|    bpr     |   64   |  10  | 0.35229999999999995  |\n",
      "|    bpr     |   64   | 110  | 0.32130000000000003  |\n",
      "|    bpr     |   64   | 210  | 0.28790000000000004  |\n",
      "|    bpr     |  128   |  10  | 0.36060000000000003  |\n",
      "|    bpr     |  128   | 110  | 0.32130000000000003  |\n",
      "|    bpr     |  128   | 210  | 0.30569999999999997  |\n",
      "|    bpr     |  256   |  10  | 0.34890000000000004  |\n",
      "|    bpr     |  256   | 110  |        0.3164        |\n",
      "|    bpr     |  256   | 210  | 0.30410000000000004  |\n",
      "|    bpr     |  512   |  10  |        0.3415        |\n",
      "|    bpr     |  512   | 110  | 0.32820000000000005  |\n",
      "|    bpr     |  512   | 210  | 0.30619999999999997  |\n",
      "|    bpr     |  1024  |  10  |        0.0057        |\n",
      "|    bpr     |  1024  | 110  |        0.0063        |\n",
      "|    bpr     |  1024  | 210  |        0.003         |\n",
      "|    als     |   32   |  10  | 0.37939999999999996  |\n",
      "|    als     |   32   | 110  |        0.3795        |\n",
      "|    als     |   32   | 210  | 0.36940000000000006  |\n",
      "|    als     |   64   |  10  |        0.3523        |\n",
      "|    als     |   64   | 110  |        0.3535        |\n",
      "|    als     |   64   | 210  |        0.3546        |\n",
      "|    als     |  128   |  10  |        0.3085        |\n",
      "|    als     |  128   | 110  | 0.31579999999999997  |\n",
      "|    als     |  128   | 210  |        0.3118        |\n",
      "|    als     |  256   |  10  |        0.2753        |\n",
      "|    als     |  256   | 110  |        0.2652        |\n",
      "|    als     |  256   | 210  |        0.2813        |\n",
      "|    als     |  512   |  10  | 0.25110000000000005  |\n",
      "|    als     |  512   | 110  |        0.2446        |\n",
      "|    als     |  512   | 210  |        0.2485        |\n",
      "|    als     |  1024  |  10  |        0.0058        |\n",
      "|    als     |  1024  | 110  | 0.009100000000000002 |\n",
      "|    als     |  1024  | 210  | 0.006200000000000001 |\n",
      "| annoy_als  |   32   |  10  |        0.3742        |\n",
      "| annoy_als  |   32   | 110  |        0.3725        |\n",
      "| annoy_als  |   32   | 210  | 0.37220000000000003  |\n",
      "| annoy_als  |   64   |  10  | 0.36660000000000004  |\n",
      "| annoy_als  |   64   | 110  |        0.2308        |\n",
      "| annoy_als  |   64   | 210  |        0.2276        |\n",
      "| annoy_als  |  128   |  10  | 0.21589999999999998  |\n",
      "| annoy_als  |  128   | 110  |        0.2104        |\n",
      "| annoy_als  |  128   | 210  | 0.22130000000000002  |\n",
      "| annoy_als  |  256   |  10  | 0.21180000000000002  |\n",
      "| annoy_als  |  256   | 110  |        0.208         |\n",
      "| annoy_als  |  256   | 210  |        0.1905        |\n",
      "| annoy_als  |  512   |  10  | 0.19829999999999998  |\n",
      "| annoy_als  |  512   | 110  |        0.2282        |\n",
      "| annoy_als  |  512   | 210  |        0.1972        |\n",
      "| annoy_als  |  1024  |  10  |        0.0036        |\n",
      "| annoy_als  |  1024  | 110  |         0.01         |\n",
      "| annoy_als  |  1024  | 210  | 0.005600000000000002 |\n",
      "+------------+--------+------+----------------------+\n"
     ]
    }
   ],
   "source": [
    "import implicit\n",
    "from implicit.als import AlternatingLeastSquares\n",
    "from implicit.approximate_als import (AnnoyAlternatingLeastSquares, FaissAlternatingLeastSquares,\n",
    "                                      NMSLibAlternatingLeastSquares)\n",
    "from implicit.bpr import BayesianPersonalizedRanking\n",
    "from implicit.nearest_neighbours import (BM25Recommender, CosineRecommender,\n",
    "                                         TFIDFRecommender, bm25_weight)\n",
    "import os\n",
    "os.environ['OPENBLAS_NUM_THREADS'] = '1'\n",
    "# initialize a model\n",
    "MODELS = {\"als\":  AlternatingLeastSquares,\n",
    "#           \"nmslib_als\": NMSLibAlternatingLeastSquares,\n",
    "          \"annoy_als\": AnnoyAlternatingLeastSquares,\n",
    "#           \"faiss_als\": FaissAlternatingLeastSquares,\n",
    "#           \"tfidf\": TFIDFRecommender,\n",
    "#           \"cosine\": CosineRecommender,\n",
    "          \"bpr\": BayesianPersonalizedRanking,\n",
    "#           \"bm25\": BM25Recommender\n",
    "         }\n",
    "user_items = R.transpose()\n",
    "    \n",
    "rev = {v:k for k,v in user_map.items()}\n",
    "F = [32*2**(i)for i in range(6)]\n",
    "iters = [10+100*(i) for i in range(3)]\n",
    "\n",
    "params = {'use_gpu':True}\n",
    "T = prettytable.PrettyTable()\n",
    "T.field_names = [\"model name\", \"factor\", \"iter\", \"hit rate\"]\n",
    "best = 0.\n",
    "for s in MODELS:\n",
    "    for factor in F:\n",
    "        for it in iters:\n",
    "            model_class = MODELS.get(s)\n",
    "            if s == \"bpr\":\n",
    "                params = {'use_gpu':True, 'verify_negative_samples':True}\n",
    "            else:\n",
    "                params = {'use_gpu':True}\n",
    "\n",
    "            params['factors'] = factor\n",
    "            params['iterations'] = it\n",
    "            \n",
    "            model = model_class(**params)\n",
    "            model.fit(user_items, show_progress=False)\n",
    "            hits = []\n",
    "            kkk=20\n",
    "            idxs = np.random.permutation(len(user_map))\n",
    "            for idx in idxs[:500]:\n",
    "                recommendations = model.recommend(idx, user_items, N=kkk)\n",
    "                hit = [Y_map[rev[idx]][0,i] != 0 for i,_ in recommendations]\n",
    "                hits.append(np.mean(hit))\n",
    "                # hit = [arr[i]==1 and Y_map[rev[i]][0,i] == 1for i,_ in recommendations]\n",
    "            T.add_row([s, factor, it, np.mean(hits)])\n",
    "            if np.mean(hits) >  best:\n",
    "                best = np.mean(hits)\n",
    "                attr = [s, factor, it, np.mean(hits)]\n",
    "                best_model = model\n",
    "print attr\n",
    "print T"
   ]
  },
  {
   "cell_type": "markdown",
   "metadata": {},
   "source": [
    "### ALT testing with best validation model\n"
   ]
  },
  {
   "cell_type": "code",
   "execution_count": 84,
   "metadata": {},
   "outputs": [
    {
     "name": "stderr",
     "output_type": "stream",
     "text": [
      "100%|██████████| 2608/2608 [00:02<00:00, 1236.52it/s]\n",
      " 13%|█▎        | 14.5/110 [00:00<00:00, 144.49it/s]"
     ]
    },
    {
     "name": "stdout",
     "output_type": "stream",
     "text": [
      "(2608, 5532)\n",
      "Done\n"
     ]
    },
    {
     "name": "stderr",
     "output_type": "stream",
     "text": [
      "100%|██████████| 110.0/110 [00:00<00:00, 196.67it/s]\n",
      "100%|██████████| 2608/2608 [00:27<00:00, 94.32it/s]"
     ]
    },
    {
     "name": "stdout",
     "output_type": "stream",
     "text": [
      "Done\n"
     ]
    },
    {
     "name": "stderr",
     "output_type": "stream",
     "text": [
      "\n"
     ]
    }
   ],
   "source": [
    "### ALS embeddingimport numpy as  np\n",
    "from scipy.sparse import csr_matrix\n",
    "from scipy.spatial.distance import cosine\n",
    "with tqdm(total=len(u_map)) as pbar:\n",
    "    \n",
    "#     split 1/10 for future\n",
    "    eaten_map = {}\n",
    "    pairs = []\n",
    "    for user,v in u_map.items():\n",
    "        history = v\n",
    "        y = np.zeros([1, len(food_map)])\n",
    "#         calculate the Y\n",
    "        for d,f in history:\n",
    "            y[0, food_map[f]] = 1\n",
    "            pair = (user_map[user], food_map[f])\n",
    "            pairs.append(pair)\n",
    "        eaten_map[user] = y\n",
    "        pbar.update(1)\n",
    "    rows = []\n",
    "    cols = []\n",
    "    for pair in pairs:\n",
    "        u, f = pair\n",
    "        rows.append(u)\n",
    "        cols.append(f)\n",
    "    data = np.ones([len(rows),])\n",
    "    RR = csr_matrix((data, (rows,cols)), shape=(len(user_map),len(food_map)))\n",
    "    rows = []\n",
    "    cols = []\n",
    "    pairs = set(pairs)\n",
    "    for pair in pairs:\n",
    "        u, f = pair\n",
    "        rows.append(u)\n",
    "        cols.append(f)\n",
    "    data = np.ones([len(rows),])\n",
    "    R = csr_matrix((data, (rows,cols)), shape=(len(user_map),len(food_map)))\n",
    "print R.shape\n",
    "print 'Done'\n",
    "user_items = R.transpose()\n",
    "model = best_model\n",
    "model.fit(user_items, show_progress=True)\n",
    "            \n",
    "rev_food_map = {v:k for k,v in food_map.items()}\n",
    "with tqdm(total=len(u_map)) as pbar:\n",
    "    with open('./ALS_predict.csv', 'w') as f:\n",
    "        f.write('userid,foodid\\n')\n",
    "        for user in user_map.keys():\n",
    "#             most_eat = np.argmax(RR[user_map[user],:])\n",
    "#             most_food_emb = model.item_factors[most_eat,:]\n",
    "#             distance = [cosine(most_food_emb, model.item_factors[i,:]) for i in range(len(food_map))]\n",
    "#             distance = np.matmul(model.item_factors, np.expand_dims(most_food_emb,axis=-1)).flatten()\n",
    "#             norms = np.linalg.norm(model.item_factors, axis=-1)\n",
    "#             distance = -distance/ norms\n",
    "            \n",
    "#             recommendations = [i for i in np.argsort(distance)]\n",
    "            recommendations = [i for i,_ in model.recommend(user_map[user], user_items, N=len(food_map))]\n",
    "            s = ''\n",
    "            c = 0\n",
    "            for food_idx in recommendations:\n",
    "                if c == 20:\n",
    "                    break\n",
    "                y = eaten_map[user]\n",
    "                if R[user_map[user], food_idx] == 0:\n",
    "                    s += ' %d' % rev_food_map[food_idx]\n",
    "                    c+=1\n",
    "            f.write('%d,%s\\n' % (user,s) )\n",
    "            pbar.update(1)\n",
    "print 'Done'\n",
    "# for u in range()\n"
   ]
  },
  {
   "cell_type": "code",
   "execution_count": 50,
   "metadata": {},
   "outputs": [
    {
     "name": "stderr",
     "output_type": "stream",
     "text": [
      "100%|██████████| 2608/2608 [00:03<00:00, 718.41it/s]"
     ]
    },
    {
     "name": "stdout",
     "output_type": "stream",
     "text": [
      "Done\n"
     ]
    },
    {
     "name": "stderr",
     "output_type": "stream",
     "text": [
      "\n"
     ]
    }
   ],
   "source": [
    "with tqdm(total=len(u_map)) as pbar:\n",
    "    with open('./ALS_predict.csv', 'w') as f:\n",
    "        f.write('userid,foodid\\n')\n",
    "        for user in user_map.keys():\n",
    "            most_eat = np.argmax(RR[user_map[user],:])\n",
    "            most_food_emb = model.item_factors[most_eat,:]\n",
    "            distance = np.matmul(model.item_factors, np.expand_dims(most_food_emb,axis=-1)).flatten()\n",
    "            recommendations = [i for i in np.argsort(distance)]\n",
    "#             recommendations = [i for i,_ in model.recommend(user_map[user], user_items, N=len(food_map))]\n",
    "            s = ''\n",
    "            c = 0\n",
    "            for food_idx in recommendations:\n",
    "                if c == 20:\n",
    "                    break\n",
    "                y = eaten_map[user]\n",
    "                if y[0, idx] != 1:\n",
    "#                 if eaten_map[user][0, idx] != 1:\n",
    "                    s += ' %d' % rev_food_map[food_idx]\n",
    "                    c+=1\n",
    "            f.write('%d,%s\\n' % (user,s) )\n",
    "            pbar.update(1)\n",
    "print 'Done'\n",
    "# for u in range()"
   ]
  },
  {
   "cell_type": "code",
   "execution_count": 52,
   "metadata": {},
   "outputs": [
    {
     "name": "stdout",
     "output_type": "stream",
     "text": [
      "8191\n",
      "42.0\n"
     ]
    }
   ],
   "source": [
    "# model.item_factors.shape\n",
    "print user\n",
    "most_eat = np.argmax(RR[user_map[user],:])\n",
    "print RR[user_map[user],most_eat]\n",
    "# most_food_emb = model.item_factors[most_eat,:]\n",
    "# distance = np.matmul(model.item_factors, np.expand_dims(most_food_emb,axis=-1))\n"
   ]
  },
  {
   "cell_type": "markdown",
   "metadata": {},
   "source": [
    "### ALS backup"
   ]
  },
  {
   "cell_type": "code",
   "execution_count": null,
   "metadata": {},
   "outputs": [],
   "source": [
    "import implicit\n",
    "from implicit.als import AlternatingLeastSquares\n",
    "from implicit.approximate_als import (AnnoyAlternatingLeastSquares, FaissAlternatingLeastSquares,\n",
    "                                      NMSLibAlternatingLeastSquares)\n",
    "from implicit.bpr import BayesianPersonalizedRanking\n",
    "from implicit.nearest_neighbours import (BM25Recommender, CosineRecommender,\n",
    "                                         TFIDFRecommender, bm25_weight)\n",
    "import os\n",
    "os.environ['OPENBLAS_NUM_THREADS'] = '1'\n",
    "# initialize a model\n",
    "MODELS = {\"als\":  AlternatingLeastSquares,\n",
    "#           \"nmslib_als\": NMSLibAlternatingLeastSquares,\n",
    "          \"annoy_als\": AnnoyAlternatingLeastSquares,\n",
    "#           \"faiss_als\": FaissAlternatingLeastSquares,\n",
    "#           \"tfidf\": TFIDFRecommender,\n",
    "#           \"cosine\": CosineRecommender,\n",
    "          \"bpr\": BayesianPersonalizedRanking,\n",
    "#           \"bm25\": BM25Recommender\n",
    "         }\n",
    "\n",
    "\n",
    "def get_model(model_name):\n",
    "    print(\"getting model %s\" % model_name)\n",
    "    model_class = MODELS.get(model_name)\n",
    "    if not model_class:\n",
    "        raise ValueError(\"Unknown Model '%s'\" % model_name)\n",
    "\n",
    "    # some default params\n",
    "    if issubclass(model_class, AlternatingLeastSquares):\n",
    "        params = {'factors': 64, 'dtype': np.float32, 'iterations':100}\n",
    "    elif model_name == \"bpr\":\n",
    "        params = {'factors': 512, 'dtype': np.float32, 'iterations':300, 'verify_negative_samples':True}\n",
    "    elif model_name == \"bm25\":\n",
    "        params = {'K1': 100, 'B': 0.5}\n",
    "    if model_name == 'faiss_als':\n",
    "        params['use_gpu'] = False\n",
    "    return model_class(**params)\n",
    "# model = implicit.als.AlternatingLeastSquares(factors=256, use_gpu=True, iterations=1000)\n",
    "rev = {v:k for k,v in user_map.items()}\n",
    "\n",
    "for s in MODELS:\n",
    "    model = get_model(s)\n",
    "    user_items = R.transpose()\n",
    "    model.fit(user_items, show_progress=True)\n",
    "    hits = []\n",
    "    kkk=20\n",
    "    for idx in range(12,64):\n",
    "        recommendations = model.recommend(idx, user_items, N=kkk)\n",
    "        hit = [Y_map[rev[idx]][0,i] != 0 for i,_ in recommendations]\n",
    "        hits.append(np.mean(hit))\n",
    "        # hit = [arr[i]==1 and Y_map[rev[i]][0,i] == 1for i,_ in recommendations]\n",
    "    print s, np.mean(hits)### ALS embedding Training"
   ]
  }
 ],
 "metadata": {
  "kernelspec": {
   "display_name": "Python 2.7.15 (virtualenv)",
   "language": "python",
   "name": "python2.7.15"
  },
  "language_info": {
   "codemirror_mode": {
    "name": "ipython",
    "version": 2
   },
   "file_extension": ".py",
   "mimetype": "text/x-python",
   "name": "python",
   "nbconvert_exporter": "python",
   "pygments_lexer": "ipython2",
   "version": "2.7.15"
  }
 },
 "nbformat": 4,
 "nbformat_minor": 2
}
