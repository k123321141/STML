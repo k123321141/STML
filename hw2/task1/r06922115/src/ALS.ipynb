{
 "cells": [
  {
   "cell_type": "markdown",
   "metadata": {},
   "source": [
    "## Rating csv\n"
   ]
  },
  {
   "cell_type": "code",
   "execution_count": 1,
   "metadata": {},
   "outputs": [
    {
     "name": "stderr",
     "output_type": "stream",
     "text": [
      "100%|██████████| 2681494/2681494 [00:19<00:00, 134962.82it/s]\n"
     ]
    }
   ],
   "source": [
    "import pandas as pd\n",
    "import datetime\n",
    "import numpy as  np\n",
    "from tqdm import tqdm\n",
    "np.random.seed(1337)\n",
    "with open('./kaggle/rating_train.csv', 'r') as f:\n",
    "    ls = f.readlines()[1:]\n",
    "u_map = {}\n",
    "\n",
    "dates = []\n",
    "foods = []\n",
    "users = []\n",
    "    \n",
    "\n",
    "with tqdm(total=len(ls)) as pbar:\n",
    "    for l in ls:\n",
    "        date_str, user, food = l.strip().split(',')\n",
    "        date = datetime.datetime.strptime(date_str, '%Y-%m-%d')\n",
    "        user, food = int(user), int(food)\n",
    "        if user not in u_map:\n",
    "            u_map[user] = []\n",
    "        u_map[user].append( (date, food) )\n",
    "        \n",
    "        dates.append(date)\n",
    "        foods.append(food)\n",
    "        users.append(user)\n",
    "        pbar.update(1)\n",
    "        \n",
    "\n",
    "        \n",
    "food_map = {f:i for i, f in enumerate(set(foods))}\n",
    "user_map = {u:i for i, u in enumerate(set(users))}\n",
    "\n"
   ]
  },
  {
   "cell_type": "markdown",
   "metadata": {},
   "source": [
    "### Generate training data and label"
   ]
  },
  {
   "cell_type": "code",
   "execution_count": 2,
   "metadata": {},
   "outputs": [
    {
     "name": "stderr",
     "output_type": "stream",
     "text": [
      "100%|██████████| 2608/2608 [00:04<00:00, 594.04it/s]"
     ]
    },
    {
     "name": "stdout",
     "output_type": "stream",
     "text": [
      "(2608, 5532)\n",
      "Done\n"
     ]
    },
    {
     "name": "stderr",
     "output_type": "stream",
     "text": [
      "\n"
     ]
    }
   ],
   "source": [
    "### ALS embeddingimport numpy as  np\n",
    "from scipy.sparse import csr_matrix\n",
    "from scipy.spatial.distance import cosine\n",
    "with tqdm(total=len(u_map)) as pbar:\n",
    "    \n",
    "#     split 7 days for future\n",
    "    eaten = np.zeros([len(user_map), len(food_map)])\n",
    "    pairs = []\n",
    "    for user,v in u_map.items():\n",
    "        history = v\n",
    "        ds = np.array([d for d,f in history])\n",
    "        fs = np.array([f for d,f in history])\n",
    "        date_list = sorted(set(ds))\n",
    "        rest_date_set = date_list[-7:]\n",
    "\n",
    "        for food, date in zip(fs,ds):\n",
    "            eaten[user_map[user], food_map[food]] = 1\n",
    "            if date not in rest_date_set:\n",
    "                pair = (user_map[user], food_map[f])\n",
    "                pairs.append(pair)\n",
    "        pbar.update(1)\n",
    "    rows = []\n",
    "    cols = []\n",
    "    pairs = set(pairs)\n",
    "    for pair in pairs:\n",
    "        u, f = pair\n",
    "        rows.append(u)\n",
    "        cols.append(f)\n",
    "    data = np.ones([len(rows),])\n",
    "    R = csr_matrix((data, (rows,cols)), shape=(len(user_map),len(food_map)))\n",
    "print R.shape\n",
    "print 'Done'\n"
   ]
  },
  {
   "cell_type": "markdown",
   "metadata": {},
   "source": [
    "### ALS embedding Training"
   ]
  },
  {
   "cell_type": "code",
   "execution_count": 8,
   "metadata": {},
   "outputs": [
    {
     "name": "stdout",
     "output_type": "stream",
     "text": [
      "['als', 256, 110, 1.0]\n",
      "+------------+--------+------+--------------------+\n",
      "| model name | factor | iter |      hit rate      |\n",
      "+------------+--------+------+--------------------+\n",
      "|    bpr     |   32   |  10  | 0.8009000000000001 |\n",
      "|    bpr     |   32   | 110  | 0.8225999999999999 |\n",
      "|    bpr     |   32   | 210  |       0.7048       |\n",
      "|    bpr     |   64   |  10  |       0.8038       |\n",
      "|    bpr     |   64   | 110  |       0.8404       |\n",
      "|    bpr     |   64   | 210  |       0.7952       |\n",
      "|    bpr     |  128   |  10  |       0.8025       |\n",
      "|    bpr     |  128   | 110  |       0.8627       |\n",
      "|    bpr     |  128   | 210  |       0.8957       |\n",
      "|    bpr     |  256   |  10  |       0.7955       |\n",
      "|    bpr     |  256   | 110  | 0.8627999999999999 |\n",
      "|    bpr     |  256   | 210  |       0.9322       |\n",
      "|    bpr     |  512   |  10  |       0.8035       |\n",
      "|    bpr     |  512   | 110  |       0.8665       |\n",
      "|    bpr     |  512   | 210  |       0.9439       |\n",
      "|    als     |   32   |  10  | 0.9238999999999998 |\n",
      "|    als     |   32   | 110  |       0.9278       |\n",
      "|    als     |   32   | 210  |       0.9284       |\n",
      "|    als     |   64   |  10  | 0.9722999999999999 |\n",
      "|    als     |   64   | 110  | 0.9763999999999999 |\n",
      "|    als     |   64   | 210  |       0.9777       |\n",
      "|    als     |  128   |  10  |       0.998        |\n",
      "|    als     |  128   | 110  | 0.9975999999999999 |\n",
      "|    als     |  128   | 210  | 0.9967999999999999 |\n",
      "|    als     |  256   |  10  |       0.9999       |\n",
      "|    als     |  256   | 110  |        1.0         |\n",
      "|    als     |  256   | 210  |       0.9999       |\n",
      "|    als     |  512   |  10  |        1.0         |\n",
      "|    als     |  512   | 110  |        1.0         |\n",
      "|    als     |  512   | 210  |        1.0         |\n",
      "| annoy_als  |   32   |  10  | 0.9106000000000001 |\n",
      "| annoy_als  |   32   | 110  |       0.9258       |\n",
      "| annoy_als  |   32   | 210  |        0.92        |\n",
      "| annoy_als  |   64   |  10  | 0.9663999999999999 |\n",
      "| annoy_als  |   64   | 110  |       0.8919       |\n",
      "| annoy_als  |   64   | 210  |       0.8622       |\n",
      "| annoy_als  |  128   |  10  | 0.9431999999999999 |\n",
      "| annoy_als  |  128   | 110  |       0.9449       |\n",
      "| annoy_als  |  128   | 210  | 0.8900999999999999 |\n",
      "| annoy_als  |  256   |  10  |       0.9939       |\n",
      "| annoy_als  |  256   | 110  |       0.9818       |\n",
      "| annoy_als  |  256   | 210  | 0.9632000000000001 |\n",
      "| annoy_als  |  512   |  10  | 0.9862000000000001 |\n",
      "| annoy_als  |  512   | 110  |       0.9837       |\n",
      "| annoy_als  |  512   | 210  |       0.9698       |\n",
      "+------------+--------+------+--------------------+\n"
     ]
    }
   ],
   "source": [
    "import implicit\n",
    "import prettytable\n",
    "from implicit.als import AlternatingLeastSquares\n",
    "from implicit.approximate_als import (AnnoyAlternatingLeastSquares, FaissAlternatingLeastSquares,\n",
    "                                      NMSLibAlternatingLeastSquares)\n",
    "from implicit.bpr import BayesianPersonalizedRanking\n",
    "from implicit.nearest_neighbours import (BM25Recommender, CosineRecommender,\n",
    "                                         TFIDFRecommender, bm25_weight)\n",
    "import os\n",
    "os.environ['OPENBLAS_NUM_THREADS'] = '1'\n",
    "# initialize a model\n",
    "MODELS = {\"als\":  AlternatingLeastSquares,\n",
    "#           \"nmslib_als\": NMSLibAlternatingLeastSquares,\n",
    "          \"annoy_als\": AnnoyAlternatingLeastSquares,\n",
    "#           \"faiss_als\": FaissAlternatingLeastSquares,\n",
    "#           \"tfidf\": TFIDFRecommender,\n",
    "#           \"cosine\": CosineRecommender,\n",
    "          \"bpr\": BayesianPersonalizedRanking,\n",
    "#           \"bm25\": BM25Recommender\n",
    "         }\n",
    "user_items = R.transpose()\n",
    "    \n",
    "rev = {v:k for k,v in user_map.items()}\n",
    "F = [32*2**(i)for i in range(5)]\n",
    "iters = [10+100*(i) for i in range(3)]\n",
    "\n",
    "params = {'use_gpu':True}\n",
    "T = prettytable.PrettyTable()\n",
    "T.field_names = [\"model name\", \"factor\", \"iter\", \"hit rate\"]\n",
    "best = 0.\n",
    "for s in MODELS:\n",
    "    for factor in F:\n",
    "        for it in iters:\n",
    "            model_class = MODELS.get(s)\n",
    "            if s == \"bpr\":\n",
    "                params = {'use_gpu':True, 'verify_negative_samples':True}\n",
    "            else:\n",
    "                params = {'use_gpu':True}\n",
    "\n",
    "            params['factors'] = factor\n",
    "            params['iterations'] = it\n",
    "            \n",
    "            model = model_class(**params)\n",
    "            model.fit(user_items, show_progress=False)\n",
    "            hits = []\n",
    "            kkk=20\n",
    "            idxs = np.random.permutation(len(user_map))\n",
    "            for idx in idxs[:500]:\n",
    "                recommendations = model.recommend(idx, user_items, N=kkk)\n",
    "                hit = [eaten[idx,i] != 0 for i,_ in recommendations]\n",
    "                hits.append(np.mean(hit))\n",
    "                # hit = [arr[i]==1 and Y_map[rev[i]][0,i] == 1for i,_ in recommendations]\n",
    "            T.add_row([s, factor, it, np.mean(hits)])\n",
    "            if np.mean(hits) >  best:\n",
    "                best = np.mean(hits)\n",
    "                attr = [s, factor, it, np.mean(hits)]\n",
    "                best_model = model\n",
    "print attr\n",
    "print T"
   ]
  },
  {
   "cell_type": "markdown",
   "metadata": {},
   "source": [
    "### ALT testing with best validation model\n"
   ]
  },
  {
   "cell_type": "code",
   "execution_count": 9,
   "metadata": {},
   "outputs": [
    {
     "name": "stderr",
     "output_type": "stream",
     "text": [
      "100%|██████████| 2608/2608 [00:01<00:00, 1561.79it/s]\n",
      "  3%|▎         | 3.5/110 [00:00<00:03, 34.67it/s]"
     ]
    },
    {
     "name": "stdout",
     "output_type": "stream",
     "text": [
      "(2608, 5532)\n",
      "Done\n"
     ]
    },
    {
     "name": "stderr",
     "output_type": "stream",
     "text": [
      "100%|██████████| 110.0/110 [00:01<00:00, 58.48it/s]\n",
      "100%|██████████| 2608/2608 [00:34<00:00, 76.62it/s]"
     ]
    },
    {
     "name": "stdout",
     "output_type": "stream",
     "text": [
      "Done\n"
     ]
    },
    {
     "name": "stderr",
     "output_type": "stream",
     "text": [
      "\n"
     ]
    }
   ],
   "source": [
    "### ALS embeddingimport numpy as  np\n",
    "from scipy.sparse import csr_matrix\n",
    "from scipy.spatial.distance import cosine\n",
    "with tqdm(total=len(u_map)) as pbar:\n",
    "    \n",
    "#     split 1/10 for future\n",
    "    pairs = []\n",
    "    for user,v in u_map.items():\n",
    "        history = v\n",
    "#         calculate the Y\n",
    "        for d,f in history:\n",
    "            pair = (user_map[user], food_map[f])\n",
    "            pairs.append(pair)\n",
    "        pbar.update(1)\n",
    "    rows = []\n",
    "    cols = []\n",
    "    for pair in pairs:\n",
    "        u, f = pair\n",
    "        rows.append(u)\n",
    "        cols.append(f)\n",
    "    data = np.ones([len(rows),])\n",
    "    RR = csr_matrix((data, (rows,cols)), shape=(len(user_map),len(food_map)))\n",
    "    rows = []\n",
    "    cols = []\n",
    "    pairs = set(pairs)\n",
    "    for pair in pairs:\n",
    "        u, f = pair\n",
    "        rows.append(u)\n",
    "        cols.append(f)\n",
    "    data = np.ones([len(rows),])\n",
    "    R = csr_matrix((data, (rows,cols)), shape=(len(user_map),len(food_map)))\n",
    "print R.shape\n",
    "print 'Done'\n",
    "user_items = R.transpose()\n",
    "model = best_model\n",
    "model.fit(user_items, show_progress=True)\n",
    "            \n",
    "rev_food_map = {v:k for k,v in food_map.items()}\n",
    "with tqdm(total=len(u_map)) as pbar:\n",
    "    with open('./ALS_predict.csv', 'w') as f:\n",
    "        f.write('userid,foodid\\n')\n",
    "        for user in user_map.keys():\n",
    "#             most_eat = np.argmax(RR[user_map[user],:])\n",
    "#             most_food_emb = model.item_factors[most_eat,:]\n",
    "#             distance = np.matmul(model.item_factors, np.expand_dims(most_food_emb,axis=-1)).flatten()\n",
    "#             norms = np.linalg.norm(model.item_factors, axis=-1)\n",
    "#             distance = -distance/ norms\n",
    "            \n",
    "#             recommendations = [i for i in np.argsort(distance)]\n",
    "            recommendations = [i for i,_ in model.recommend(user_map[user], user_items, N=len(food_map))]\n",
    "            s = ''\n",
    "            c = 0\n",
    "            for food_idx in recommendations:\n",
    "                if c == 20:\n",
    "                    break\n",
    "                if R[user_map[user], food_idx] == 0:\n",
    "                    s += ' %d' % rev_food_map[food_idx]\n",
    "                    c+=1\n",
    "            f.write('%d,%s\\n' % (user,s) )\n",
    "            pbar.update(1)\n",
    "print 'Done'\n",
    "# for u in range()\n"
   ]
  },
  {
   "cell_type": "code",
   "execution_count": null,
   "metadata": {},
   "outputs": [],
   "source": []
  }
 ],
 "metadata": {
  "kernelspec": {
   "display_name": "Python 2.7.15 (virtualenv)",
   "language": "python",
   "name": "python2.7.15"
  },
  "language_info": {
   "codemirror_mode": {
    "name": "ipython",
    "version": 2
   },
   "file_extension": ".py",
   "mimetype": "text/x-python",
   "name": "python",
   "nbconvert_exporter": "python",
   "pygments_lexer": "ipython2",
   "version": "2.7.15"
  }
 },
 "nbformat": 4,
 "nbformat_minor": 2
}
