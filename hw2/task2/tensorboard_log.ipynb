{
 "cells": [
  {
   "cell_type": "code",
   "execution_count": 1,
   "metadata": {},
   "outputs": [
    {
     "name": "stderr",
     "output_type": "stream",
     "text": [
      "100%|██████████| 294100/294100 [05:48<00:00, 843.44it/s]\n"
     ]
    },
    {
     "name": "stdout",
     "output_type": "stream",
     "text": [
      "it :  4705120\n",
      "tensorboard done\n"
     ]
    }
   ],
   "source": [
    "# demo.py\n",
    "from tqdm import tqdm\n",
    "import torch\n",
    "from tensorboardX import SummaryWriter\n",
    "from os.path import join\n",
    "import os\n",
    "import shutil\n",
    "\n",
    "def conver_log_to_tensorbloadX(log_path, summay_path):\n",
    "    with open(log_path,'r') as f:\n",
    "        ls = f.readlines()\n",
    "    writer = SummaryWriter(summay_path)\n",
    "    with tqdm(total=len(ls)) as pbar:\n",
    "        for l in ls:\n",
    "            it, loss, acc, val_loss, val_acc = l.strip().split('<split>')\n",
    "            dump_tensorboard(writer, int(it), float(loss)/2., float(acc), float(val_loss), float(val_acc))\n",
    "            pbar.update(1)\n",
    "    print 'it : ',it\n",
    "    writer.close()\n",
    "        \n",
    "def dump_tensorboard(writer, n_iter, loss, acc, val_loss, val_acc):\n",
    "\n",
    "    writer.add_scalar('data/loss', loss, n_iter)\n",
    "    writer.add_scalar('data/acc', acc, n_iter)\n",
    "    writer.add_scalar('data/val_loss', val_loss, n_iter)\n",
    "    writer.add_scalar('data/val)acc', val_acc, n_iter)\n",
    "    writer.add_scalars('loss_group', {\"train_loss\": loss,\n",
    "                                             \"val_loss\": val_loss}, n_iter)\n",
    "    writer.add_scalars('acc_group', {\"train_acc\": acc,\n",
    "                                             \"val_acc\": val_acc}, n_iter)\n",
    "    \n",
    "\n",
    "log_path = './log-light.txt'\n",
    "summay_path = './runs/log'\n",
    "if os.path.isdir(summay_path):\n",
    "    shutil.rmtree(summay_path)\n",
    "conver_log_to_tensorbloadX(log_path, summay_path)\n",
    "print 'tensorboard done'\n",
    "\n"
   ]
  },
  {
   "cell_type": "code",
   "execution_count": 1,
   "metadata": {},
   "outputs": [],
   "source": []
  },
  {
   "cell_type": "code",
   "execution_count": 9,
   "metadata": {},
   "outputs": [],
   "source": [
    "with open('./log.txt','r') as f:\n",
    "    ls = f.readlines()\n",
    "pre_it , loss, acc, val_loss, val_acc = ls[0].strip().split('<split>')\n",
    "\n",
    "for i,l in enumerate(ls[1:]):\n",
    "    it, loss, acc, val_loss, val_acc = l.strip().split('<split>')\n",
    "#     print pre_it, it\n",
    "    if int(it) != int(pre_it) + 1:\n",
    "        print i, pre_it, it\n",
    "#         break\n",
    "    pre_it = it"
   ]
  },
  {
   "cell_type": "code",
   "execution_count": 7,
   "metadata": {},
   "outputs": [
    {
     "name": "stdout",
     "output_type": "stream",
     "text": [
      "done\n"
     ]
    }
   ],
   "source": [
    "with open('./log2.txt','w') as f:\n",
    "    for i,l in enumerate(ls):\n",
    "        if i <= 2285:\n",
    "            continue\n",
    "        f.write(l)\n",
    "print 'done'"
   ]
  }
 ],
 "metadata": {
  "kernelspec": {
   "display_name": "Python 2.7.15 (virtualenv)",
   "language": "python",
   "name": "python2.7.15"
  },
  "language_info": {
   "codemirror_mode": {
    "name": "ipython",
    "version": 2
   },
   "file_extension": ".py",
   "mimetype": "text/x-python",
   "name": "python",
   "nbconvert_exporter": "python",
   "pygments_lexer": "ipython2",
   "version": "2.7.15"
  }
 },
 "nbformat": 4,
 "nbformat_minor": 2
}
