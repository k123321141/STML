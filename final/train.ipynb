{
 "cells": [
  {
   "cell_type": "markdown",
   "metadata": {},
   "source": [
    "## loading data"
   ]
  },
  {
   "cell_type": "code",
   "execution_count": 1,
   "metadata": {},
   "outputs": [],
   "source": [
    "import pickle\n",
    "import numpy as np\n",
    "from os.path import join\n",
    "dir_path = './sdml_final_1'\n",
    "input_list  = ['prep_final_test_win_feature.pickle',\n",
    "               'prep_final_train_bid_data.pickle',\n",
    "               'prep_final_train_win_data.pickle']\n",
    "with open(join(dir_path, 'prep_final_train_win_data.pickle'), 'rb') as f:\n",
    "    win_dic = pickle.load(f)\n",
    "with open(join(dir_path, 'prep_final_train_bid_data.pickle'), 'rb') as f:\n",
    "    bid_dic = pickle.load(f)\n",
    "    \n",
    "\n",
    "    \n"
   ]
  },
  {
   "cell_type": "markdown",
   "metadata": {},
   "source": [
    "## data preprocessing"
   ]
  },
  {
   "cell_type": "code",
   "execution_count": 2,
   "metadata": {},
   "outputs": [
    {
     "name": "stdout",
     "output_type": "stream",
     "text": [
      "trimming done\n"
     ]
    }
   ],
   "source": [
    "def trim_max(dic):\n",
    "    price = dic['price']\n",
    "#     threshold = np.percentile(price, 80)\n",
    "    threshold = 800\n",
    "#     print threshold\n",
    "    valid_idx = np.array([i for i in range(price.shape[0]) if price[i, 0] < threshold])\n",
    "    ret = {k: v[valid_idx, :] for k, v in dic.items()}\n",
    "    return ret\n",
    "\n",
    "win_dic = trim_max(win_dic)\n",
    "bid_dic = trim_max(bid_dic)\n",
    "print 'trimming done'"
   ]
  },
  {
   "cell_type": "markdown",
   "metadata": {},
   "source": [
    "## model"
   ]
  },
  {
   "cell_type": "code",
   "execution_count": 3,
   "metadata": {},
   "outputs": [],
   "source": [
    "import torch\n",
    "import torch.nn as nn\n",
    "import torch.nn.functional as F\n",
    "\n",
    "class Regression_model(nn.Module):\n",
    "    def __init__(self, app_dim, device_dim, imp_dim, imp_posi_dim, dm1, dm2, drop, depth):\n",
    "        super(Regression_model, self).__init__()\n",
    "        self.app = nn.Embedding(app_dim, dm1)\n",
    "        self.device = nn.Embedding(device_dim, dm1)\n",
    "        self.imp = nn.Embedding(imp_dim, dm1)\n",
    "        self.imp_posi = nn.Embedding(imp_posi_dim, dm1)\n",
    "        self.weekdays = nn.Embedding(7, dm1)\n",
    "        self.hours = nn.Embedding(24, dm1)\n",
    "        self.linear = nn.Linear(6*dm1 + 2, dm2)\n",
    "        self.emb_linears = Linear_model(dm2, drop, depth, False)\n",
    "        self.price_linears = Linear_model(dm2, drop, depth, True)\n",
    "        self.sigma_linears = Linear_model(dm2, drop, depth, True)\n",
    "        self.drop = nn.Dropout(drop)\n",
    "        \n",
    "\n",
    "    def forward(self, width, height, app, device, imp, imp_posi, weekdays, hours):\n",
    "        app = self.app(app).squeeze(1)\n",
    "        device = self.device(device).squeeze(1)\n",
    "        imp = self.imp(imp).squeeze(1)\n",
    "        imp_posi = self.imp_posi(imp_posi).squeeze(1)\n",
    "        weekdays = self.weekdays(weekdays).squeeze(1)\n",
    "        hours = self.hours(hours).squeeze(1)\n",
    "        emb = torch.cat([width, height, app, device, imp, imp_posi, weekdays, hours], dim=-1)\n",
    "        x = self.drop(emb)\n",
    "        x = self.linear(x)\n",
    "        x = self.emb_linears(x)\n",
    "        price = self.price_linears(x)\n",
    "        sigma = self.sigma_linears(x)\n",
    "        sigma = F.relu(sigma)\n",
    "        sigma = torch.clamp(sigma, 0.1, 50)\n",
    "        return price, sigma, emb\n",
    "    \n",
    "class Linear_model(nn.Module):\n",
    "    def __init__(self, dm, drop, depth, with_out):\n",
    "        super(Linear_model, self).__init__()\n",
    "        self.linears = nn.ModuleList()\n",
    "        self.norms = nn.ModuleList()\n",
    "        self.drop = nn.Dropout(drop)\n",
    "        self.with_out = with_out\n",
    "        for i in range(depth):\n",
    "            linear = nn.Linear(dm, dm)\n",
    "            self.linears.append(linear)\n",
    "            self.norms.append(nn.BatchNorm1d(dm))\n",
    "        if with_out:\n",
    "            self.out = nn.Linear(dm, 1)\n",
    "        \n",
    "\n",
    "    def forward(self, x):\n",
    "        for norm, linear in zip(self.norms, self.linears):\n",
    "            x = F.relu(linear(x)) + x\n",
    "            x = norm(x)\n",
    "            x = self.drop(x)\n",
    "        if self.with_out:\n",
    "            x = self.out(x)\n",
    "        return x\n",
    "        \n",
    "        \n"
   ]
  },
  {
   "cell_type": "markdown",
   "metadata": {},
   "source": [
    "## Data Generator"
   ]
  },
  {
   "cell_type": "code",
   "execution_count": 4,
   "metadata": {},
   "outputs": [],
   "source": [
    "def split_dic(rate, dic):\n",
    "    N = len(dic['price'])\n",
    "    \n",
    "    for k in dic.keys():\n",
    "        assert dic[k].shape[0] == N\n",
    "#         print 'categorical %s, dim size : %d' % (k, np.max(dic[k]+1))\n",
    "    idx = np.random.permutation(N)\n",
    "    c = int(N*rate)\n",
    "    print 'split to %d : %d' % (c, N-c)\n",
    "    train_idx, val_idx = idx[c:], idx[:c]\n",
    "    train_dic = {k: dic[k][train_idx, :] for k in dic.keys()}\n",
    "    val_dic = {k: dic[k][val_idx, :] for k in dic.keys()}\n",
    "    return train_dic, val_dic\n",
    "\n",
    "def permutation_generator(N):\n",
    "    while True:\n",
    "        rand_idx = np.random.permutation(N)\n",
    "        for i in rand_idx:\n",
    "            yield i\n",
    "            \n",
    "def batch_boostrap_generator(dic, batch):\n",
    "    N = len(dic['price'])\n",
    "    G = permutation_generator(N)\n",
    "    while True:\n",
    "        idx = np.array([next(G) for i in range(batch)])\n",
    "        app = dic['app_type'][idx, :]\n",
    "        device = dic['device_type'][idx, :]\n",
    "        imp = dic['imp_type'][idx, :]\n",
    "        imp_posi = dic['imp_position'][idx, :]\n",
    "        weekdays = dic['weekdays'][idx, :]\n",
    "        hours = dic['hours'][idx, :]\n",
    "        width = dic['width'][idx, :]\n",
    "        height = dic['height'][idx, :]\n",
    "        price = dic['price'][idx, :]\n",
    "        yield (width, height, app, device, imp, imp_posi, weekdays, hours, price)\n"
   ]
  },
  {
   "cell_type": "markdown",
   "metadata": {},
   "source": [
    "## Training"
   ]
  },
  {
   "cell_type": "code",
   "execution_count": 7,
   "metadata": {},
   "outputs": [
    {
     "name": "stdout",
     "output_type": "stream",
     "text": [
      "split to 1507740 : 13569660\n",
      "split to 1240883 : 11167948\n"
     ]
    }
   ],
   "source": [
    "import numpy as np\n",
    "from itertools import count\n",
    "from tqdm import tqdm\n",
    "from collections import deque\n",
    "\n",
    "def win_loss(x, y, sigma, distribution):\n",
    "    if distribution is torch.distributions.gumbel.Gumbel:\n",
    "        z = (y-x) / sigma\n",
    "        loss = z+torch.clamp(torch.exp(-z), 10**-8, 10**8) + torch.log(sigma)\n",
    "#         print 'los', loss[0,0], z[0, 0], torch.clamp(torch.exp(-z), 10**-8, 10**8)[0, 0], torch.log(sigma)[0,0], x[0, 0]\n",
    "        return loss\n",
    "    else:\n",
    "        d = distribution(0, sigma)\n",
    "        loss = -d.log_prob(y-x)    \n",
    "        return loss\n",
    "def bid_loss(x, y, sigma, distribution):\n",
    "    \n",
    "    d = distribution(0, sigma)\n",
    "    z = 1-d.cdf(y-x)\n",
    "    z = torch.clamp(z, 10**-8, 1.)\n",
    "    loss = -torch.log(z)\n",
    "#     print 'bid', loss[0,0]\n",
    "    return loss\n",
    "#     return 0\n",
    "def cuda_data(data):\n",
    "    data = list(data)\n",
    "    for i, v in enumerate(data):\n",
    "        if v.dtype == np.int32:\n",
    "            data[i] = torch.LongTensor(v)\n",
    "        elif v.dtype == np.float32:\n",
    "            data[i] = torch.FloatTensor(v)\n",
    "        if use_cuda:\n",
    "            data[i] = data[i].cuda()\n",
    "    return data\n",
    "\n",
    "def calc_train_loss(model, data, is_win, distribution, use_cuda, emb_loss_criterion):\n",
    "    if use_cuda:\n",
    "        data = cuda_data(data)\n",
    "    \n",
    "    width, height, app, device, imp, imp_posi, weekdays, hours, price = data\n",
    "    model.train()\n",
    "    out, sigma, emb = model(width, height, app, device, imp, imp_posi, weekdays, hours)\n",
    "    if is_win:\n",
    "        loss = win_loss(out, price, sigma, distribution)\n",
    "        l1_loss = torch.pow(out - price, 2)\n",
    "    else:\n",
    "        loss = bid_loss(out, price, sigma, distribution)\n",
    "        l1_loss = 0\n",
    "    emb_loss = emb_loss_criterion(emb, torch.zeros_like(emb))\n",
    "#     loss = loss + 0.001*emb_loss\n",
    "    return loss, l1_loss\n",
    "\n",
    "def calc_val_loss(model, data, is_win, distribution, use_cuda):\n",
    "    if use_cuda:\n",
    "        data = cuda_data(data)\n",
    "    width, height, app, device, imp, imp_posi, weekdays, hours, price = data\n",
    "    model.eval()\n",
    "    with torch.no_grad():\n",
    "        out, sigma, emb = model(width, height, app, device, imp, imp_posi, weekdays, hours)\n",
    "        if is_win:\n",
    "            loss = win_loss(out, price, sigma, distribution)\n",
    "            l1_loss = torch.pow(out - price, 2)\n",
    "        else:\n",
    "            loss = bid_loss(out, price, sigma, distribution)\n",
    "            l1_loss = 0\n",
    "    return loss, l1_loss\n",
    "\n",
    "def train(model, opt, train_g, val_g, distribution, train_price, use_cuda, emb_loss_criterion, alpha):\n",
    "    price_opt, sigma_opt = opt\n",
    "    train_opt = price_opt if train_price else sigma_opt\n",
    "    win_g, bid_g = train_g\n",
    "    win_data, bid_data = next(win_g), next(bid_g)\n",
    "    win_loss, l1_loss = calc_train_loss(model, win_data, True, distribution, use_cuda, emb_loss_criterion)\n",
    "    bid_loss, _ = calc_train_loss(model, bid_data, False, distribution, use_cuda, emb_loss_criterion)\n",
    "    loss = torch.mean(win_loss + alpha*bid_loss)\n",
    "    l1 = torch.sqrt(torch.mean(l1_loss))\n",
    "    train_opt.zero_grad()\n",
    "    loss.backward()\n",
    "    train_opt.step()\n",
    "#     validation\n",
    "    with torch.no_grad():\n",
    "        model.eval()\n",
    "        win_g, bid_g = val_g\n",
    "        win_loss, l1_loss = calc_val_loss(model, next(win_g), True, distribution, use_cuda)\n",
    "        bid_loss, _ = calc_val_loss(model, next(bid_g), False, distribution, use_cuda)\n",
    "        val_loss = torch.mean(win_loss + alpha*bid_loss)\n",
    "        val_l1 = torch.sqrt(torch.mean(l1_loss))\n",
    "    return loss, val_loss, l1, val_l1\n",
    "    \n",
    "batch_size = 4096\n",
    "train_win_dic, val_win_dic = split_dic(0.1, win_dic)\n",
    "train_bid_dic, val_bid_dic = split_dic(0.1, bid_dic)\n",
    "\n",
    "win_g = batch_boostrap_generator(train_win_dic, batch_size)\n",
    "bid_g = batch_boostrap_generator(train_bid_dic, batch_size)\n",
    "train_g = (win_g, bid_g)\n",
    "\n",
    "win_g = batch_boostrap_generator(val_win_dic, batch_size)\n",
    "bid_g = batch_boostrap_generator(val_bid_dic, batch_size)\n",
    "val_g = (win_g, bid_g)\n",
    "\n",
    "\n",
    "dm1 = 64\n",
    "dm2 = 512\n",
    "drop = 0.15\n",
    "model = Regression_model(3, 5, 3, 10, dm1, dm2, drop, depth=5)\n",
    "alpha = 0.7\n",
    "price_params = []\n",
    "sigma_params = []\n",
    "for c in model.children():\n",
    "    if c != model.price_linears:\n",
    "        for p in c.parameters():\n",
    "            sigma_params.append(p)\n",
    "    if c != model.sigma_linears:\n",
    "        for p in c.parameters():\n",
    "            price_params.append(p)\n",
    "# price_opt = torch.optim.Adadelta(price_params)\n",
    "# sigma_opt = torch.optim.Adadelta(sigma_params)\n",
    "price_opt = torch.optim.Adam(price_params)\n",
    "sigma_opt = torch.optim.Adam(sigma_params)\n",
    "opt = price_opt, sigma_opt\n",
    "\n",
    "distribution = torch.distributions.normal.Normal\n",
    "# distribution = torch.distributions.gumbel.Gumbel\n",
    "emb_loss_criterion = nn.MSELoss(reduction='none')\n",
    "train_q = deque(maxlen=100)\n",
    "val_q = deque(maxlen=100)\n",
    "l1_q = deque(maxlen=100)\n",
    "val_l1_q = deque(maxlen=100)\n",
    "# train_q = deque(maxlen=10)\n",
    "# val_q = deque(maxlen=10)\n",
    "c = 0\n",
    "\n",
    "use_cuda = torch.cuda.is_available()\n",
    "if use_cuda:\n",
    "    model = model.cuda()\n",
    "    \n",
    "# \n"
   ]
  },
  {
   "cell_type": "markdown",
   "metadata": {},
   "source": [
    "## Cencored  regression"
   ]
  },
  {
   "cell_type": "code",
   "execution_count": null,
   "metadata": {},
   "outputs": [
    {
     "name": "stderr",
     "output_type": "stream",
     "text": [
      "\r",
      "  0%|          | 0/1657 [00:00<?, ?it/s]"
     ]
    },
    {
     "name": "stdout",
     "output_type": "stream",
     "text": [
      "epoch start : 0\n"
     ]
    },
    {
     "name": "stderr",
     "output_type": "stream",
     "text": [
      "100%|██████████| 1657/1657 [04:56<00:00,  3.24it/s, loss : 21166.41471, val loss : 23678.63989, l1 : 278.860, val_l1 : 295.776]  \n",
      "  0%|          | 1/1657 [00:00<04:46,  5.78it/s, loss : 21159.30096, val loss : 23663.48043, l1 : 278.888, val_l1 : 295.805]"
     ]
    },
    {
     "name": "stdout",
     "output_type": "stream",
     "text": [
      "epoch start : 1\n"
     ]
    },
    {
     "name": "stderr",
     "output_type": "stream",
     "text": [
      "100%|██████████| 1657/1657 [04:56<00:00,  3.70it/s, loss : 365.23864, val loss : 368.16964, l1 : 269.966, val_l1 : 285.322]   \n",
      "  0%|          | 1/1657 [00:00<04:48,  5.74it/s, loss : 365.02170, val loss : 368.07203, l1 : 269.945, val_l1 : 285.367]"
     ]
    },
    {
     "name": "stdout",
     "output_type": "stream",
     "text": [
      "epoch start : 2\n"
     ]
    },
    {
     "name": "stderr",
     "output_type": "stream",
     "text": [
      "100%|██████████| 1657/1657 [04:56<00:00,  3.65it/s, loss : 198.38904, val loss : 210.75456, l1 : 264.078, val_l1 : 279.118]\n",
      "  0%|          | 1/1657 [00:00<04:49,  5.72it/s, loss : 198.44447, val loss : 210.68101, l1 : 264.131, val_l1 : 279.082]"
     ]
    },
    {
     "name": "stdout",
     "output_type": "stream",
     "text": [
      "epoch start : 3\n"
     ]
    },
    {
     "name": "stderr",
     "output_type": "stream",
     "text": [
      "100%|██████████| 1657/1657 [04:56<00:00,  4.14it/s, loss : 116.73694, val loss : 120.25410, l1 : 259.240, val_l1 : 270.162]\n",
      "  0%|          | 1/1657 [00:00<04:49,  5.71it/s, loss : 116.68350, val loss : 120.25390, l1 : 259.200, val_l1 : 270.166]"
     ]
    },
    {
     "name": "stdout",
     "output_type": "stream",
     "text": [
      "epoch start : 4\n"
     ]
    },
    {
     "name": "stderr",
     "output_type": "stream",
     "text": [
      "100%|██████████| 1657/1657 [04:56<00:00,  4.13it/s, loss : 70.23177, val loss : 72.81069, l1 : 251.684, val_l1 : 261.515] \n",
      "  0%|          | 1/1657 [00:00<04:48,  5.73it/s, loss : 70.21502, val loss : 72.77745, l1 : 251.673, val_l1 : 261.421]"
     ]
    },
    {
     "name": "stdout",
     "output_type": "stream",
     "text": [
      "epoch start : 5\n"
     ]
    },
    {
     "name": "stderr",
     "output_type": "stream",
     "text": [
      "100%|██████████| 1657/1657 [04:56<00:00,  4.42it/s, loss : 42.67036, val loss : 43.93526, l1 : 241.188, val_l1 : 250.007]\n",
      "  0%|          | 1/1657 [00:00<04:50,  5.71it/s, loss : 42.65421, val loss : 43.92161, l1 : 241.149, val_l1 : 249.972]"
     ]
    },
    {
     "name": "stdout",
     "output_type": "stream",
     "text": [
      "epoch start : 6\n"
     ]
    },
    {
     "name": "stderr",
     "output_type": "stream",
     "text": [
      "100%|██████████| 1657/1657 [04:56<00:00,  4.51it/s, loss : 29.08992, val loss : 28.52421, l1 : 225.631, val_l1 : 233.463]\n",
      "  0%|          | 1/1657 [00:00<04:49,  5.71it/s, loss : 29.08867, val loss : 28.52521, l1 : 225.670, val_l1 : 233.565]"
     ]
    },
    {
     "name": "stdout",
     "output_type": "stream",
     "text": [
      "epoch start : 7\n"
     ]
    },
    {
     "name": "stderr",
     "output_type": "stream",
     "text": [
      "100%|██████████| 1657/1657 [04:57<00:00,  4.78it/s, loss : 19.90421, val loss : 19.92388, l1 : 191.576, val_l1 : 199.241]\n",
      "  0%|          | 1/1657 [00:00<04:48,  5.73it/s, loss : 19.90294, val loss : 19.92016, l1 : 191.607, val_l1 : 199.164]"
     ]
    },
    {
     "name": "stdout",
     "output_type": "stream",
     "text": [
      "epoch start : 8\n"
     ]
    },
    {
     "name": "stderr",
     "output_type": "stream",
     "text": [
      "100%|██████████| 1657/1657 [04:57<00:00,  4.74it/s, loss : 14.83131, val loss : 15.13818, l1 : 155.208, val_l1 : 160.083]\n",
      "  0%|          | 1/1657 [00:00<04:49,  5.73it/s, loss : 14.82745, val loss : 15.13190, l1 : 155.216, val_l1 : 160.038]"
     ]
    },
    {
     "name": "stdout",
     "output_type": "stream",
     "text": [
      "epoch start : 9\n"
     ]
    },
    {
     "name": "stderr",
     "output_type": "stream",
     "text": [
      "100%|██████████| 1657/1657 [04:56<00:00,  5.06it/s, loss : 12.76650, val loss : 12.57868, l1 : 153.166, val_l1 : 150.949]\n",
      "  0%|          | 1/1657 [00:00<04:51,  5.69it/s, loss : 12.76509, val loss : 12.58160, l1 : 153.149, val_l1 : 150.950]"
     ]
    },
    {
     "name": "stdout",
     "output_type": "stream",
     "text": [
      "epoch start : 10\n"
     ]
    },
    {
     "name": "stderr",
     "output_type": "stream",
     "text": [
      "100%|██████████| 1657/1657 [04:55<00:00,  5.17it/s, loss : 12.65594, val loss : 12.56150, l1 : 152.988, val_l1 : 149.972]\n",
      "  0%|          | 1/1657 [00:00<04:49,  5.72it/s, loss : 12.65614, val loss : 12.56229, l1 : 153.027, val_l1 : 149.965]"
     ]
    },
    {
     "name": "stdout",
     "output_type": "stream",
     "text": [
      "epoch start : 11\n"
     ]
    },
    {
     "name": "stderr",
     "output_type": "stream",
     "text": [
      "100%|██████████| 1657/1657 [04:56<00:00,  5.15it/s, loss : 12.33277, val loss : 12.64894, l1 : 152.459, val_l1 : 153.491]\n",
      "  0%|          | 1/1657 [00:00<04:49,  5.72it/s, loss : 12.33363, val loss : 12.64812, l1 : 152.474, val_l1 : 153.473]"
     ]
    },
    {
     "name": "stdout",
     "output_type": "stream",
     "text": [
      "epoch start : 12\n"
     ]
    },
    {
     "name": "stderr",
     "output_type": "stream",
     "text": [
      " 56%|█████▌    | 930/1657 [02:46<02:09,  5.61it/s, loss : 12.23636, val loss : 12.64845, l1 : 151.670, val_l1 : 153.892]"
     ]
    }
   ],
   "source": [
    "def dump_log(model, n_iter, loss, val_loss, log_file_stream, tmp_model_path):\n",
    "    log_text = '%.7d<split>%.5f<split>%.5f\\n' % (n_iter, loss, val_loss)\n",
    "    log_file_stream.write(log_text)\n",
    "    if n_iter % 10 == 0 :\n",
    "        log_file_stream.flush()\n",
    "        torch.save(model, tmp_model_path)\n",
    "\n",
    "\n",
    "\n",
    "N = len(train_win_dic['price'])\n",
    "train_num = 1\n",
    "a = 2*train_num*batch_size\n",
    "ran = N // a + 1 if N % a != 0 else N // a\n",
    "pre_loss = 0\n",
    "pre_train = 0 \n",
    "model.train()\n",
    "it = 0\n",
    "with open('log-20.txt', 'w') as log_stream:\n",
    "    for epoch in count():\n",
    "        print 'epoch start : %d' % epoch\n",
    "        with tqdm(total=ran) as pbar:\n",
    "            for i in range(ran):\n",
    "                loss_list = []\n",
    "                val_loss_list = [] \n",
    "                l1_list = []\n",
    "                val_l1_list = []\n",
    "    #             price phase\n",
    "                for i in range(train_num):\n",
    "                    loss, val_loss, l1, val_l1 = train(model, opt, train_g, val_g, distribution,\n",
    "                                           train_price=True, use_cuda=use_cuda, \n",
    "                                           emb_loss_criterion=emb_loss_criterion, alpha=alpha)\n",
    "                    loss_list.append(loss.item())\n",
    "                    val_loss_list.append(val_loss.item())\n",
    "                    l1_list.append(l1.item())\n",
    "                    val_l1_list.append(val_l1.item())\n",
    "\n",
    "    #             sigma phase\n",
    "                for i in range(train_num):\n",
    "                    loss, val_loss, l1, val_l1 = train(model, opt, train_g, val_g, distribution,\n",
    "                                           train_price=False, use_cuda=use_cuda,\n",
    "                                           emb_loss_criterion=emb_loss_criterion, alpha=alpha)\n",
    "                    loss_list.append(loss.item())\n",
    "                    val_loss_list.append(val_loss.item())\n",
    "                loss = np.mean(loss_list)\n",
    "                val_loss = np.mean(val_loss_list)\n",
    "                l1 = np.mean(l1_list)\n",
    "                val_l1 = np.mean(val_l1_list)\n",
    "\n",
    "                train_q.append(loss)\n",
    "                val_q.append(val_loss)\n",
    "                l1_q.append(l1)\n",
    "                val_l1_q.append(val_l1)\n",
    "                loss = np.mean(train_q)\n",
    "                val_loss = np.mean(val_q)\n",
    "                l1 = np.mean(l1_q)\n",
    "                val_l1 = np.mean(val_l1_q)\n",
    "                pbar.set_postfix_str('loss : %.5f, val loss : %.5f, l1 : %.3f, val_l1 : %.3f' % (loss, val_loss, l1, val_l1))\n",
    "\n",
    "                pbar.update(1)\n",
    "                if i % 10 == 0:\n",
    "                    if val_loss > pre_loss and loss < pre_train:\n",
    "                        c += 1\n",
    "                    else:\n",
    "                        c = 0\n",
    "                    pre_loss = val_loss\n",
    "                    pre_train = loss\n",
    "#                     if c > 5 and val_loss < 50:\n",
    "#                         c = 0\n",
    "#                         print 'end of training'\n",
    "#                         torch.save(model, './best.tar')\n",
    "#                         weffwe\n",
    "    #             log\n",
    "                it += 1\n",
    "                dump_log(model, it, loss, val_loss, log_stream, 'tmp.tar')\n",
    "            \n",
    "        torch.save(model, './models/%d.tar' % epoch)"
   ]
  },
  {
   "cell_type": "code",
   "execution_count": 10,
   "metadata": {},
   "outputs": [],
   "source": [
    "# torch.save(model, './gumbel_100_trim.tar')\n",
    "# torch.save(model, './best_bak.tar')\n"
   ]
  },
  {
   "cell_type": "code",
   "execution_count": 6,
   "metadata": {},
   "outputs": [],
   "source": [
    "model = torch.load('./tmp.tar')"
   ]
  },
  {
   "cell_type": "markdown",
   "metadata": {},
   "source": [
    "## Testing"
   ]
  },
  {
   "cell_type": "code",
   "execution_count": 7,
   "metadata": {},
   "outputs": [
    {
     "name": "stderr",
     "output_type": "stream",
     "text": [
      "100%|██████████| 1233/1233 [04:54<00:00,  4.19it/s]"
     ]
    },
    {
     "name": "stdout",
     "output_type": "stream",
     "text": [
      "done\n"
     ]
    },
    {
     "name": "stderr",
     "output_type": "stream",
     "text": [
      "\n"
     ]
    }
   ],
   "source": [
    "import numpy as np\n",
    "from itertools import count\n",
    "from tqdm import tqdm\n",
    "from collections import deque\n",
    "\n",
    "def test_generator(dic, batch):\n",
    "    rand_idx = np.arange(len(dic['price']))\n",
    "    N = len(dic['price'])\n",
    "    ran = N // batch_size + 1 if N % batch_size != 0 else N // batch_size\n",
    "    for i in range(ran):\n",
    "        idx = rand_idx[i*batch: (i+1)*batch] if (i+1)*batch < len(rand_idx) \\\n",
    "        else rand_idx[i*batch:]\n",
    "        id = dic['id'][idx, :]\n",
    "        app = dic['app_type'][idx, :]\n",
    "        device = dic['device_type'][idx, :]\n",
    "        imp = dic['imp_type'][idx, :]\n",
    "        imp_posi = dic['imp_position'][idx, :]\n",
    "        weekdays = dic['weekdays'][idx, :]\n",
    "        hours = dic['hours'][idx, :]\n",
    "        width = dic['width'][idx, :]\n",
    "        height = dic['height'][idx, :]\n",
    "        price = dic['price'][idx, :]\n",
    "        yield (id, width, height, app, device, imp, imp_posi, weekdays, hours, price)\n",
    "        \n",
    "def test(model, data, use_cuda):\n",
    "    data = list(data)\n",
    "    for i, v in enumerate(data):\n",
    "        if v.dtype == np.int32:\n",
    "            data[i] = torch.LongTensor(v)\n",
    "        elif v.dtype == np.float32:\n",
    "            data[i] = torch.FloatTensor(v)\n",
    "        if use_cuda:\n",
    "            data[i] = data[i].cuda()\n",
    "        \n",
    "    id, width, height, app, device, imp, imp_posi, weekdays, hours, price = data\n",
    "    out, sigma, emb = model(width, height, app, device, imp, imp_posi, weekdays, hours)\n",
    "    return id, out\n",
    "\n",
    "\n",
    "\n",
    "dir_path = './sdml_final_1'\n",
    "with open(join(dir_path, 'prep_final_test_win_feature.pickle'), 'rb') as f:\n",
    "    test_dic = pickle.load(f)\n",
    "batch_size = 8192\n",
    "N = len(test_dic['price'])\n",
    "ran = N // batch_size + 1 if N % batch_size != 0 else N // batch_size\n",
    "    \n",
    "test_g = test_generator(test_dic, batch_size)\n",
    "use_cuda = True\n",
    "model.eval()\n",
    "with open('./submission.csv', 'w') as f_out:\n",
    "    f_out.write('id,win_price\\n')\n",
    "    with tqdm(total=ran) as pbar:\n",
    "        with torch.no_grad():\n",
    "            for i in range(ran):\n",
    "                data = next(test_g)\n",
    "                id, out = test(model, data, use_cuda)\n",
    "                for j in range(out.shape[0]):\n",
    "                    v = out[j,0].item()\n",
    "                    f_out.write('%d,%f\\n' % (id[j, 0].item(), v))\n",
    "                pbar.update(1)\n",
    "print 'done'"
   ]
  },
  {
   "cell_type": "markdown",
   "metadata": {},
   "source": [
    "## Comined Testing"
   ]
  },
  {
   "cell_type": "code",
   "execution_count": null,
   "metadata": {},
   "outputs": [],
   "source": [
    "import numpy as np\n",
    "from itertools import count\n",
    "from tqdm import tqdm\n",
    "from collections import deque\n",
    "\n",
    "def test_generator(dic, batch):\n",
    "    rand_idx = np.arange(len(dic['price']))\n",
    "    N = len(dic['price'])\n",
    "    ran = N // batch_size + 1 if N % batch_size != 0 else N // batch_size\n",
    "    for i in range(ran):\n",
    "        idx = rand_idx[i*batch: (i+1)*batch] if (i+1)*batch < len(rand_idx) \\\n",
    "        else rand_idx[i*batch:]\n",
    "        id = dic['id'][idx, :]\n",
    "        app = dic['app_type'][idx, :]\n",
    "        device = dic['device_type'][idx, :]\n",
    "        imp = dic['imp_type'][idx, :]\n",
    "        imp_posi = dic['imp_position'][idx, :]\n",
    "        weekdays = dic['weekdays'][idx, :]\n",
    "        hours = dic['hours'][idx, :]\n",
    "        width = dic['width'][idx, :]\n",
    "        height = dic['height'][idx, :]\n",
    "        price = dic['price'][idx, :]\n",
    "        yield (id, width, height, app, device, imp, imp_posi, weekdays, hours, price)\n",
    "        \n",
    "def combined_test(m1, m2, data, use_cuda):\n",
    "    data = list(data)\n",
    "    for i, v in enumerate(data):\n",
    "        if v.dtype == np.int32:\n",
    "            data[i] = torch.LongTensor(v)\n",
    "        elif v.dtype == np.float32:\n",
    "            data[i] = torch.FloatTensor(v)\n",
    "        if use_cuda:\n",
    "            data[i] = data[i].cuda()\n",
    "        \n",
    "    id, width, height, app, device, imp, imp_posi, weekdays, hours, price = data\n",
    "    out1, sigma = m1(width, height, app, device, imp, imp_posi, weekdays, hours)\n",
    "    out2, sigma = m2(width, height, app, device, imp, imp_posi, weekdays, hours)\n",
    "    out = out1*0.5 + out2*0.5\n",
    "    return id, out\n",
    "\n",
    "\n",
    "\n",
    "dir_path = './sdml_final_1'\n",
    "with open(join(dir_path, 'prep_final_test_win_feature.pickle'), 'rb') as f:\n",
    "    test_dic = pickle.load(f)\n",
    "batch_size = 8192\n",
    "N = len(test_dic['price'])\n",
    "ran = N // batch_size + 1 if N % batch_size != 0 else N // batch_size\n",
    "    \n",
    "test_g = test_generator(test_dic, batch_size)\n",
    "use_cuda = True\n",
    "m1 = torch.load('./best.tar')\n",
    "m2 = torch.load('./best_win.tar')\n",
    "m1.eval()\n",
    "m2.eval()\n",
    "with open('./submission.csv', 'w') as f_out:\n",
    "    f_out.write('id,win_price\\n')\n",
    "    with tqdm(total=ran) as pbar:\n",
    "        with torch.no_grad():\n",
    "            for i in range(ran):\n",
    "                data = next(test_g)\n",
    "                id, out = combined_test(m1, m2, data, use_cuda)\n",
    "                for j in range(out.shape[0]):\n",
    "                    v = out[j,0].item()\n",
    "                    f_out.write('%d,%f\\n' % (id[j, 0].item(), v))\n",
    "                pbar.update(1)\n",
    "print 'done'"
   ]
  },
  {
   "cell_type": "code",
   "execution_count": null,
   "metadata": {},
   "outputs": [],
   "source": [
    "print len(test_dic['price'])\n",
    "N = len(test_dic['price']) // batch_size\n",
    "print N\n",
    "print (N+1)*batch_size\n"
   ]
  }
 ],
 "metadata": {
  "kernelspec": {
   "display_name": "Python 2.7.14 (conda)",
   "language": "python",
   "name": "python-conda"
  },
  "language_info": {
   "codemirror_mode": {
    "name": "ipython",
    "version": 2
   },
   "file_extension": ".py",
   "mimetype": "text/x-python",
   "name": "python",
   "nbconvert_exporter": "python",
   "pygments_lexer": "ipython2",
   "version": "2.7.14"
  }
 },
 "nbformat": 4,
 "nbformat_minor": 2
}
