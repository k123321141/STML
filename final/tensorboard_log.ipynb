{
 "cells": [
  {
   "cell_type": "code",
   "execution_count": 2,
   "metadata": {
    "scrolled": true
   },
   "outputs": [
    {
     "name": "stderr",
     "output_type": "stream",
     "text": [
      "100%|██████████| 34246/34246 [00:09<00:00, 3617.02it/s]"
     ]
    },
    {
     "name": "stdout",
     "output_type": "stream",
     "text": [
      "it :  0034246\n",
      "tensorboard done\n"
     ]
    },
    {
     "name": "stderr",
     "output_type": "stream",
     "text": [
      "\n"
     ]
    }
   ],
   "source": [
    "# demo.py\n",
    "from tqdm import tqdm\n",
    "import torch\n",
    "from tensorboardX import SummaryWriter\n",
    "from os.path import join\n",
    "import os\n",
    "import shutil\n",
    "\n",
    "def conver_log_to_tensorbloadX(log_path, summay_path):\n",
    "    with open(log_path,'r') as f:\n",
    "        ls = f.readlines()\n",
    "    writer = SummaryWriter(summay_path)\n",
    "    with tqdm(total=len(ls)) as pbar:\n",
    "        for l in ls:\n",
    "            it, loss, val_loss = l.strip().split('<split>')\n",
    "            dump_tensorboard(writer, int(it), float(loss), float(val_loss))\n",
    "            pbar.update(1)\n",
    "    print 'it : ',it\n",
    "    writer.close()\n",
    "        \n",
    "def dump_tensorboard(writer, n_iter, loss, val_loss):\n",
    "\n",
    "    writer.add_scalar('data/loss', loss, n_iter)\n",
    "    writer.add_scalar('data/val_loss', val_loss, n_iter)\n",
    "    writer.add_scalars('loss_group', {\"train_loss\": loss,\n",
    "                                             \"val_loss\": val_loss}, n_iter)\n",
    "    \n",
    "\n",
    "log_path = './log.txt'\n",
    "summay_path = './runs/log'\n",
    "if os.path.isdir(summay_path):\n",
    "    shutil.rmtree(summay_path)\n",
    "conver_log_to_tensorbloadX(log_path, summay_path)\n",
    "print 'tensorboard done'\n",
    "\n"
   ]
  }
 ],
 "metadata": {
  "kernelspec": {
   "display_name": "Python 2.7.14 (conda)",
   "language": "python",
   "name": "python-conda"
  },
  "language_info": {
   "codemirror_mode": {
    "name": "ipython",
    "version": 2
   },
   "file_extension": ".py",
   "mimetype": "text/x-python",
   "name": "python",
   "nbconvert_exporter": "python",
   "pygments_lexer": "ipython2",
   "version": "2.7.14"
  }
 },
 "nbformat": 4,
 "nbformat_minor": 2
}
