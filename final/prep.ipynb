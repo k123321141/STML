{
 "cells": [
  {
   "cell_type": "markdown",
   "metadata": {},
   "source": [
    "### preprocess feature, padding -1 if missing"
   ]
  },
  {
   "cell_type": "code",
   "execution_count": 4,
   "metadata": {},
   "outputs": [
    {
     "name": "stderr",
     "output_type": "stream",
     "text": [
      "100%|█████████▉| 16453801/16453802 [03:53<00:00, 70515.10it/s]\n",
      "100%|█████████▉| 18736411/18736412 [04:07<00:00, 75729.84it/s]\n",
      "100%|█████████▉| 10093506/10093507 [02:12<00:00, 76073.49it/s]\n"
     ]
    }
   ],
   "source": [
    "import pandas as pd\n",
    "import numpy as np\n",
    "from tqdm import tqdm\n",
    "from os.path import join\n",
    "col_idx = [4, 5, 6, 8, 9, 10, 11, -2, -1]\n",
    "feature_dict = {0: 'id', 5: 'width', 6: 'height', 7: 'imp_position', 9: 'os', 10: 'device_type',\n",
    "                11: 'app_type', 12: 'imp_type', -2: 'impreq_time', -1: 'price'}\n",
    "os_type = set(['ios', -1])\n",
    "imp_type = set(range(5) + [-1])\n",
    "app_type = set(range(4) + [-1])\n",
    "device_type = set(range(8) + [-1])\n",
    "imp_position = set(range(8) + [-1])\n",
    "def feature_prep(feature):\n",
    "    feature['price'] = float(feature['price'])\n",
    "    if len(feature['os']) == 0:\n",
    "        feature['os'] = -1\n",
    "    \n",
    "    if feature['imp_type'] == '4':\n",
    "        feature['width'] = feature['height'] = -1\n",
    "    for k in ['id', 'width', 'height', 'imp_position', 'device_type', 'app_type', 'imp_type']:\n",
    "        try:\n",
    "            feature[k] = int(feature[k])\n",
    "        except ValueError, e:\n",
    "            feature[k] = -1\n",
    "#     if feature['os'] not in os_type:\n",
    "#         raise Exception('os %s not in known type set.' % feature['os'])\n",
    "#     if feature['imp_type'] not in imp_type:\n",
    "#         raise Exception('imp_type %s not in known type set.' % feature['imp_type'])\n",
    "#     if feature['app_type'] not in app_type:\n",
    "#         raise Exception('app_type %s not in known type set.' % feature['app_type'])\n",
    "#     if feature['device_type'] not in device_type:\n",
    "#         raise Exception('device_type %s not in known type set.' % feature['device_type'])\n",
    "#     if feature['imp_position'] not in imp_position:\n",
    "#         raise Exception('imp_position %s not in known type set.' % feature['imp_position'])\n",
    "        \n",
    "# 18736412, train win\n",
    "# 16453802, train bid\n",
    "# 10093507, test win\n",
    "# cols = [idfa,exchange,app_id,web_host,width,height,imp_position,deal_id,os,device_type,app_type,imp_type,imp_is_instl,carrier,country,categories,impreq_time,win_price]\n",
    "dir_path = './sdml_final_1'\n",
    "input_list  = ['final_train_bid_data.csv', 'final_train_win_data.csv', 'final_test_win_feature.csv']\n",
    "lines_count = [16453802, 18736412, 10093507]\n",
    "# head line\n",
    "head = ''\n",
    "for k, v in feature_dict.items():\n",
    "    head += v\n",
    "    head += ','\n",
    "head = head[:-1] + '\\n'\n",
    "\n",
    "for file_path, total_count in zip(input_list, lines_count):\n",
    "    with tqdm(total=total_count) as pbar:\n",
    "        with open(join(dir_path, file_path), 'r') as f:\n",
    "            with open(join(dir_path, 'prep_'+file_path), 'w') as g:\n",
    "                g.write(head)\n",
    "                f.readline()\n",
    "                while True:\n",
    "                    l = f.readline().strip()\n",
    "                    if len(l) == 0:\n",
    "                        break\n",
    "                    if 'test' in file_path:\n",
    "                        l += ',-1'\n",
    "                        buf = l.split(',')\n",
    "                    else:\n",
    "                        l = '-1,' + l\n",
    "                        buf = l.split(',')\n",
    "                    \n",
    "                    feature = {v: buf[k] for k, v in feature_dict.items()} \n",
    "                    if len(feature['price']) == 0:\n",
    "                        pbar.update(1)\n",
    "                        continue\n",
    "                    try:\n",
    "                        feature_prep(feature)\n",
    "                        s = ''\n",
    "                        for k, v in feature_dict.items():\n",
    "                            s += str(feature[v])\n",
    "                            s += ','\n",
    "                        g.write(s[:-1] + '\\n')\n",
    "                    except :\n",
    "                        print i, buf\n",
    "                        print feature\n",
    "                        raise\n",
    "                    pbar.update(1)\n",
    "\n"
   ]
  },
  {
   "cell_type": "markdown",
   "metadata": {},
   "source": [
    "### Just a little statistics"
   ]
  },
  {
   "cell_type": "code",
   "execution_count": 5,
   "metadata": {},
   "outputs": [
    {
     "name": "stdout",
     "output_type": "stream",
     "text": [
      "key : id\n",
      "+-------+---------------------------------+-------------------------------+-------------------------------+\n",
      "| value | prep_final_test_win_feature.csv | prep_final_train_bid_data.csv | prep_final_train_win_data.csv |\n",
      "+-------+---------------------------------+-------------------------------+-------------------------------+\n",
      "|   -1  |            0 (0.000)            |        16453801 (1.000)       |        18585975 (1.000)       |\n",
      "+-------+---------------------------------+-------------------------------+-------------------------------+\n",
      "key : width\n",
      "+-------+---------------------------------+-------------------------------+-------------------------------+\n",
      "| value | prep_final_test_win_feature.csv | prep_final_train_bid_data.csv | prep_final_train_win_data.csv |\n",
      "+-------+---------------------------------+-------------------------------+-------------------------------+\n",
      "|   -1  |         6282553 (0.622)         |        9022551 (0.548)        |        11125518 (0.599)       |\n",
      "+-------+---------------------------------+-------------------------------+-------------------------------+\n",
      "key : height\n",
      "+-------+---------------------------------+-------------------------------+-------------------------------+\n",
      "| value | prep_final_test_win_feature.csv | prep_final_train_bid_data.csv | prep_final_train_win_data.csv |\n",
      "+-------+---------------------------------+-------------------------------+-------------------------------+\n",
      "|   -1  |         6283458 (0.623)         |        9020770 (0.548)        |        11125026 (0.599)       |\n",
      "+-------+---------------------------------+-------------------------------+-------------------------------+\n",
      "key : imp_position\n",
      "+-------+---------------------------------+-------------------------------+-------------------------------+\n",
      "| value | prep_final_test_win_feature.csv | prep_final_train_bid_data.csv | prep_final_train_win_data.csv |\n",
      "+-------+---------------------------------+-------------------------------+-------------------------------+\n",
      "|   0   |          910168 (0.090)         |        2843237 (0.173)        |        1601574 (0.086)        |\n",
      "|   1   |         6316374 (0.626)         |        10893829 (0.662)       |        11097669 (0.597)       |\n",
      "|   2   |          258718 (0.026)         |         452913 (0.028)        |         593684 (0.032)        |\n",
      "|   3   |         1515486 (0.150)         |         533454 (0.032)        |        3313864 (0.178)        |\n",
      "|   4   |          76683 (0.008)          |         16855 (0.001)         |         100357 (0.005)        |\n",
      "|   5   |           2504 (0.000)          |          882 (0.000)          |         10692 (0.001)         |\n",
      "|   6   |            18 (0.000)           |           0 (0.000)           |           28 (0.000)          |\n",
      "|   7   |           2303 (0.000)          |         64156 (0.004)         |          5668 (0.000)         |\n",
      "|   9   |           1401 (0.000)          |          4621 (0.000)         |          3470 (0.000)         |\n",
      "|   -1  |         1009851 (0.100)         |        1643854 (0.100)        |        1858969 (0.100)        |\n",
      "+-------+---------------------------------+-------------------------------+-------------------------------+\n",
      "key : os\n",
      "+-------+---------------------------------+-------------------------------+-------------------------------+\n",
      "| value | prep_final_test_win_feature.csv | prep_final_train_bid_data.csv | prep_final_train_win_data.csv |\n",
      "+-------+---------------------------------+-------------------------------+-------------------------------+\n",
      "|   -1  |         1008579 (0.100)         |        1646893 (0.100)        |        1856029 (0.100)        |\n",
      "|  win  |            0 (0.000)            |           1 (0.000)           |           8 (0.000)           |\n",
      "|  ios  |         9084927 (0.900)         |        14806907 (0.900)       |        16729938 (0.900)       |\n",
      "+-------+---------------------------------+-------------------------------+-------------------------------+\n",
      "key : device_type\n",
      "+-------+---------------------------------+-------------------------------+-------------------------------+\n",
      "| value | prep_final_test_win_feature.csv | prep_final_train_bid_data.csv | prep_final_train_win_data.csv |\n",
      "+-------+---------------------------------+-------------------------------+-------------------------------+\n",
      "|   1   |          668787 (0.066)         |         660852 (0.040)        |         736568 (0.040)        |\n",
      "|   2   |            1 (0.000)            |           1 (0.000)           |           7 (0.000)           |\n",
      "|   4   |         7546234 (0.748)         |        12759289 (0.775)       |        14170179 (0.762)       |\n",
      "|   5   |          870272 (0.086)         |        1388325 (0.084)        |        1819943 (0.098)        |\n",
      "|   -1  |         1008212 (0.100)         |        1645334 (0.100)        |        1859278 (0.100)        |\n",
      "+-------+---------------------------------+-------------------------------+-------------------------------+\n",
      "key : app_type\n",
      "+-------+---------------------------------+-------------------------------+-------------------------------+\n",
      "| value | prep_final_test_win_feature.csv | prep_final_train_bid_data.csv | prep_final_train_win_data.csv |\n",
      "+-------+---------------------------------+-------------------------------+-------------------------------+\n",
      "|   1   |         6001193 (0.595)         |        11953061 (0.726)       |        11136852 (0.599)       |\n",
      "|   2   |         3082179 (0.305)         |        2854261 (0.173)        |        5589106 (0.301)        |\n",
      "|   -1  |         1010134 (0.100)         |        1646479 (0.100)        |        1860017 (0.100)        |\n",
      "+-------+---------------------------------+-------------------------------+-------------------------------+\n",
      "key : imp_type\n",
      "+-------+---------------------------------+-------------------------------+-------------------------------+\n",
      "| value | prep_final_test_win_feature.csv | prep_final_train_bid_data.csv | prep_final_train_win_data.csv |\n",
      "+-------+---------------------------------+-------------------------------+-------------------------------+\n",
      "|   1   |         4052571 (0.402)         |        7829413 (0.476)        |        7900559 (0.425)        |\n",
      "|   4   |         5030861 (0.498)         |        6976565 (0.424)        |        8825643 (0.475)        |\n",
      "|   -1  |         1010074 (0.100)         |        1647823 (0.100)        |        1859773 (0.100)        |\n",
      "+-------+---------------------------------+-------------------------------+-------------------------------+\n",
      "key : price\n",
      "+-------+---------------------------------+-------------------------------+-------------------------------+\n",
      "| value | prep_final_test_win_feature.csv | prep_final_train_bid_data.csv | prep_final_train_win_data.csv |\n",
      "+-------+---------------------------------+-------------------------------+-------------------------------+\n",
      "|   -1  |         10093506 (1.000)        |           0 (0.000)           |           0 (0.000)           |\n",
      "+-------+---------------------------------+-------------------------------+-------------------------------+\n",
      "key : impreq_time\n",
      "+-------+---------------------------------+-------------------------------+-------------------------------+\n",
      "| value | prep_final_test_win_feature.csv | prep_final_train_bid_data.csv | prep_final_train_win_data.csv |\n",
      "+-------+---------------------------------+-------------------------------+-------------------------------+\n",
      "|   -1  |            0 (0.000)            |           0 (0.000)           |           0 (0.000)           |\n",
      "+-------+---------------------------------+-------------------------------+-------------------------------+\n"
     ]
    }
   ],
   "source": [
    "import pandas as pd\n",
    "from prettytable import PrettyTable\n",
    "\n",
    "dir_path = './sdml_final_1'\n",
    "input_list  = ['prep_final_test_win_feature.csv', 'prep_final_train_bid_data.csv', 'prep_final_train_win_data.csv']\n",
    "csvs = [pd.read_csv(join(dir_path, input_file)) for input_file in input_list]\n",
    "    \n",
    "for key in csvs[0].keys():\n",
    "    print 'key : %s' % str(key)\n",
    "    x = PrettyTable()\n",
    "    x.field_names = [\"value\"] + input_list\n",
    "    if key not in ['id', 'width', 'height', 'impreq_time', 'price']:\n",
    "        value_set = set.union(*[set(csv[key]) for csv in csvs])\n",
    "    else:\n",
    "        value_set = set([-1,])\n",
    "    for v in value_set:\n",
    "        cs = ['%d (%.3f)' % (sum(csv[key].isin([v])),sum(csv[key].isin([v])) / float(len(csv))) for csv in csvs]\n",
    "        row = [str(v),]\n",
    "        row.extend(cs)\n",
    "        x.add_row(row)\n",
    "    print x\n",
    "        \n",
    "\n",
    "# s = set(csv['os'])\n",
    "# for v in s:\n",
    "#     print sum(csv['os'].isin([v]))"
   ]
  },
  {
   "cell_type": "markdown",
   "metadata": {},
   "source": [
    "### Enconding to one-hot, saving as numpy array."
   ]
  },
  {
   "cell_type": "code",
   "execution_count": null,
   "metadata": {},
   "outputs": [
    {
     "name": "stdout",
     "output_type": "stream",
     "text": [
      "start process csv prep_final_test_win_feature.csv\n",
      "save to ./sdml_final_1/prep_final_test_win_feature.pickle done.\n",
      "start process csv prep_final_train_bid_data.csv\n",
      "save to ./sdml_final_1/prep_final_train_bid_data.pickle done.\n"
     ]
    }
   ],
   "source": [
    "import pandas as pd\n",
    "import time\n",
    "import numpy as np\n",
    "from prettytable import PrettyTable\n",
    "import pickle\n",
    "\n",
    "\n",
    "def time_prep(t):\n",
    "    t = time.gmtime(t)\n",
    "#     [0, 6], [0, 23], [0,59]\n",
    "    return t.tm_wday, t.tm_hour, t.tm_min\n",
    "\n",
    "def one_hot_encoding(column, value_set):\n",
    "    value2idx = {v:i for i, v in enumerate(value_set)}\n",
    "    N = len(column)\n",
    "    ret = np.zeros([N, 1], dtype=np.int32)\n",
    "    for i,v in enumerate(column):\n",
    "        ret[i, 0] = value2idx[v]\n",
    "    return ret\n",
    "        \n",
    "    \n",
    "\n",
    "keys = ['id', 'width', 'height', 'imp_position', 'device_type', 'app_type', 'imp_type', 'impreq_time', 'price']\n",
    "key_categorical_set = {\n",
    "    'imp_position': [0, 1, 2, 3, 4, 5, 6, 7, 9, -1],\n",
    "    'device_type': [1, 2, 4, 5, -1],\n",
    "    'app_type': [1, 2, -1],\n",
    "    'imp_type': [1, 4, -1],\n",
    "            }\n",
    "\n",
    "dir_path = './sdml_final_1'\n",
    "input_list  = ['prep_final_test_win_feature.csv', 'prep_final_train_bid_data.csv', 'prep_final_train_win_data.csv']\n",
    "\n",
    "for input_file in input_list:\n",
    "    buf = {}\n",
    "    csv = pd.read_csv(join(dir_path, input_file))\n",
    "    print 'start process csv %s' % input_file\n",
    "    for key in keys:\n",
    "        col = csv[key]\n",
    "        if key in ['id', 'price','width', 'height']:\n",
    "            buf['price'] = buf[key] = np.array(col, np.float32).reshape([-1, 1])\n",
    "        elif key in ['impreq_time',]:\n",
    "            arr = np.asarray([time_prep(t) for t in col], np.int8)\n",
    "            buf['weekdays'] = one_hot_encoding(arr[:,0], range(0,7))\n",
    "            buf['hours'] = one_hot_encoding(arr[:,1], range(0,24))\n",
    "            buf['mins'] = one_hot_encoding(arr[:,2], range(0,60))\n",
    "        else:\n",
    "            buf[key] = one_hot_encoding(col, key_categorical_set[key])\n",
    "    output_name = join(dir_path, input_file.replace('csv', 'pickle'))\n",
    "    with open(output_name, 'wb') as out_file:\n",
    "        pickle.dump(buf, out_file)\n",
    "    print 'save to %s done.' % output_name\n",
    "            \n",
    "            \n",
    "    \n",
    "    "
   ]
  },
  {
   "cell_type": "markdown",
   "metadata": {},
   "source": [
    "## show data"
   ]
  },
  {
   "cell_type": "code",
   "execution_count": 1,
   "metadata": {},
   "outputs": [],
   "source": [
    "import pickle\n",
    "import numpy as np\n",
    "from os.path import join\n",
    "dir_path = './sdml_final_1'\n",
    "input_list  = ['prep_final_test_win_feature.pickle',\n",
    "               'prep_final_train_bid_data.pickle',\n",
    "               'prep_final_train_win_data.pickle']\n",
    "with open(join(dir_path, 'prep_final_train_win_data.pickle'), 'rb') as f:\n",
    "    win_dic = pickle.load(f)\n",
    "with open(join(dir_path, 'prep_final_train_bid_data.pickle'), 'rb') as f:\n",
    "    bid_dic = pickle.load(f)\n",
    "    \n",
    "\n",
    "    \n"
   ]
  },
  {
   "cell_type": "code",
   "execution_count": 16,
   "metadata": {},
   "outputs": [],
   "source": [
    "\n"
   ]
  },
  {
   "cell_type": "code",
   "execution_count": 45,
   "metadata": {},
   "outputs": [
    {
     "name": "stdout",
     "output_type": "stream",
     "text": [
      "0.8227766904883924\n"
     ]
    },
    {
     "data": {
      "image/png": "[encoded data removed]",
      "text/plain": [
       "<Figure size 432x288 with 1 Axes>"
      ]
     },
     "metadata": {
      "needs_background": "light"
     },
     "output_type": "display_data"
    }
   ],
   "source": [
    "%matplotlib inline  \n",
    "from tqdm import tqdm\n",
    "\n",
    "import matplotlib.pyplot as plt\n",
    "import scipy.stats\n",
    "def round_5(x):\n",
    "    return (x//5) * 5\n",
    "def th(arr, h):\n",
    "    x = arr < h\n",
    "    return np.sum(x) / float(len(x))\n",
    "p = win_dic['price']\n",
    "arr = (p//5) * 5\n",
    "print(th(arr, 1000))\n",
    "plt.hist(arr, range=(0, 1000))\n",
    "# plt.plot(a)\n",
    "plt.show()\n"
   ]
  },
  {
   "cell_type": "code",
   "execution_count": 46,
   "metadata": {},
   "outputs": [
    {
     "name": "stdout",
     "output_type": "stream",
     "text": [
      "0.7671006231326123\n"
     ]
    },
    {
     "data": {
      "image/png": "[encoded data removed]",
      "text/plain": [
       "<Figure size 432x288 with 1 Axes>"
      ]
     },
     "metadata": {
      "needs_background": "light"
     },
     "output_type": "display_data"
    }
   ],
   "source": [
    "%matplotlib inline  \n",
    "from tqdm import tqdm\n",
    "\n",
    "import matplotlib.pyplot as plt\n",
    "p = bid_dic['price']\n",
    "arr = (p//5) * 5\n",
    "print(th(arr, 1000))\n",
    "plt.hist(arr, range=(0, 2000))\n",
    "# plt.plot(a)\n",
    "plt.show()\n",
    "\n"
   ]
  },
  {
   "cell_type": "code",
   "execution_count": 56,
   "metadata": {},
   "outputs": [
    {
     "name": "stdout",
     "output_type": "stream",
     "text": [
      "trimming done 0.655977477641\n",
      "trimming done 0.656044460487\n"
     ]
    }
   ],
   "source": [
    "def trim_max(dic):\n",
    "    price = dic['price']\n",
    "    valid_idx = []\n",
    "    for idx in range(price.shape[0]):\n",
    "        app = dic['app_type'][idx, 0]\n",
    "        device = dic['device_type'][idx, 0]\n",
    "        imp = dic['imp_type'][idx, 0]\n",
    "        imp_posi = dic['imp_position'][idx, 0]\n",
    "        weekdays = dic['weekdays'][idx, 0]\n",
    "        hours = dic['hours'][idx, 0]\n",
    "        width = dic['width'][idx, 0]\n",
    "        height = dic['height'][idx, 0]\n",
    "        if app != 2 and device != 4 and imp != 2 and imp_posi != 9:\n",
    "            valid_idx.append(idx)\n",
    "            \n",
    "    ret = {k: v[valid_idx, :] for k, v in dic.items()}\n",
    "    return ret\n",
    "\n",
    "trim_win_dic = trim_max(win_dic)\n",
    "# bid_dic = trim_max(bid_dic)\n",
    "print 'trimming done', len(trim_win_dic['price'])/ float(len(win_dic['price']))\n",
    "trim_bid_dic = trim_max(bid_dic)\n",
    "# bid_dic = trim_max(bid_dic)\n",
    "print 'trimming done', len(trim_bid_dic['price'])/ float(len(bid_dic['price']))"
   ]
  }
 ],
 "metadata": {
  "kernelspec": {
   "display_name": "Python 2.7.14 (conda)",
   "language": "python",
   "name": "python-conda"
  },
  "language_info": {
   "codemirror_mode": {
    "name": "ipython",
    "version": 2
   },
   "file_extension": ".py",
   "mimetype": "text/x-python",
   "name": "python",
   "nbconvert_exporter": "python",
   "pygments_lexer": "ipython2",
   "version": "2.7.14"
  }
 },
 "nbformat": 4,
 "nbformat_minor": 2
}
