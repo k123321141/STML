{
 "cells": [
  {
   "cell_type": "code",
   "execution_count": 9,
   "metadata": {},
   "outputs": [
    {
     "name": "stdout",
     "output_type": "stream",
     "text": [
      "tensor([[2.9189],\n",
      "        [9.3049]])\n",
      "tensor([[0.0230],\n",
      "        [5.0394]])\n",
      "tensor([[8.7342e-01],\n",
      "        [6.1373e-06]])\n",
      "tensor([[8.7342e-01],\n",
      "        [6.1393e-06]])\n"
     ]
    }
   ],
   "source": [
    "import torch\n",
    "import numpy as np\n",
    "x = torch.FloatTensor([9,3]).view([-1, 1])\n",
    "y = torch.FloatTensor([7,500]).view([-1, 1])\n",
    "sigma = torch.FloatTensor([1,200]).view([-1, 1])\n",
    "d = torch.distributions.normal.Normal(0, sigma)\n",
    "print -d.log_prob(y-x)\n",
    "print -torch.log(1 - d.cdf(y-x))\n",
    "\n",
    "d = torch.distributions.gumbel.Gumbel(0, sigma)\n",
    "z = (x-y)/sigma\n",
    "cdf = torch.exp(-torch.exp(-z))\n",
    "print cdf\n",
    "print d.cdf(x-y)"
   ]
  },
  {
   "cell_type": "code",
   "execution_count": null,
   "metadata": {},
   "outputs": [],
   "source": [
    "\n",
    "# # x = torch.FloatTensor([0.5084]).view([-1, 1])\n",
    "# # sigma = torch.FloatTensor([5]).view([-1, 1])\n",
    "# # y = torch.FloatTensor([1607]).view([-1, 1])\n",
    "# x = torch.FloatTensor([0]).view([-1, 1])\n",
    "# sigma = torch.FloatTensor([5]).view([-1, 1])\n",
    "# y = torch.FloatTensor([200]).view([-1, 1])\n",
    "# u = \n",
    "\n",
    "\n",
    "# d = torch.distributions.normal.Normal(0, 3)\n",
    "# loss = -d.log_prob(x)    \n",
    "# z = (x-y) / sigma\n",
    "# print loss, -torch.log(1 - d.cdf(x))\n",
    "# pdf = z+torch.exp(-z) + torch.log(sigma)\n",
    "# cdf = torch.exp()\n",
    "# print pdf\n",
    "# print torch.exp(-z)\n",
    "# print \n",
    "\n",
    "# d = torch.distributions.normal.Normal(y, sigma)\n",
    "# loss = -d.log_prob(x)    \n",
    "# print loss\n",
    "# z = torch.pow(x-y, 2) / (2*torch.pow(sigma, 2))\n",
    "# pdf = torch.exp(-z) / (sigma*np.sqrt(2*np.pi))\n",
    "# print torch.exp(-z)\n",
    "# print -torch.log(pdf)\n",
    "# print z + torch.log(sigma*np.sqrt(2*np.pi))"
   ]
  }
 ],
 "metadata": {
  "kernelspec": {
   "display_name": "Python 2.7.14 (conda)",
   "language": "python",
   "name": "python-conda"
  },
  "language_info": {
   "codemirror_mode": {
    "name": "ipython",
    "version": 2
   },
   "file_extension": ".py",
   "mimetype": "text/x-python",
   "name": "python",
   "nbconvert_exporter": "python",
   "pygments_lexer": "ipython2",
   "version": "2.7.14"
  }
 },
 "nbformat": 4,
 "nbformat_minor": 2
}
