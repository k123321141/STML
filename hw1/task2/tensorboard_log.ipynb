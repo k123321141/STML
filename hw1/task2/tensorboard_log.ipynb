{
 "cells": [
  {
   "cell_type": "code",
   "execution_count": 4,
   "metadata": {},
   "outputs": [
    {
     "name": "stderr",
     "output_type": "stream",
     "text": [
      "100%|██████████| 62277/62277 [00:48<00:00, 1291.50it/s]"
     ]
    },
    {
     "name": "stdout",
     "output_type": "stream",
     "text": [
      "it :  0062278\n",
      "tensorboard done\n"
     ]
    },
    {
     "name": "stderr",
     "output_type": "stream",
     "text": [
      "\n"
     ]
    }
   ],
   "source": [
    "# demo.py\n",
    "from tqdm import tqdm\n",
    "import torch\n",
    "from tensorboardX import SummaryWriter\n",
    "from os.path import join\n",
    "import os\n",
    "import shutil\n",
    "\n",
    "def conver_log_to_tensorbloadX(log_path, summay_path):\n",
    "    with open(log_path,'r') as f:\n",
    "        ls = f.readlines()\n",
    "    writer = SummaryWriter(summay_path)\n",
    "    with tqdm(total=len(ls)) as pbar:\n",
    "        for l in ls:\n",
    "            it, loss, acc, val_loss, val_acc = l.strip().split('<split>')\n",
    "            dump_tensorboard(writer, int(it), float(loss)/2., float(acc), float(val_loss), float(val_acc))\n",
    "            pbar.update(1)\n",
    "    print 'it : ',it\n",
    "    writer.close()\n",
    "        \n",
    "def dump_tensorboard(writer, n_iter, loss, acc, val_loss, val_acc):\n",
    "\n",
    "    writer.add_scalar('data/loss', loss, n_iter)\n",
    "    writer.add_scalar('data/acc', acc, n_iter)\n",
    "    writer.add_scalar('data/val_loss', val_loss, n_iter)\n",
    "    writer.add_scalar('data/val)acc', val_acc, n_iter)\n",
    "    writer.add_scalars('loss_group', {\"train_loss\": loss,\n",
    "                                             \"val_loss\": val_loss}, n_iter)\n",
    "    writer.add_scalars('acc_group', {\"train_acc\": acc,\n",
    "                                             \"val_acc\": val_acc}, n_iter)\n",
    "    \n",
    "\n",
    "log_path = './log.txt'\n",
    "summay_path = './runs/log'\n",
    "if os.path.isdir(summay_path):\n",
    "    shutil.rmtree(summay_path)\n",
    "conver_log_to_tensorbloadX(log_path, summay_path)\n",
    "print 'tensorboard done'\n",
    "\n"
   ]
  }
 ],
 "metadata": {
  "kernelspec": {
   "display_name": "Python 2.7.12(virtualenv)",
   "language": "python",
   "name": "python2.7.12"
  },
  "language_info": {
   "codemirror_mode": {
    "name": "ipython",
    "version": 2
   },
   "file_extension": ".py",
   "mimetype": "text/x-python",
   "name": "python",
   "nbconvert_exporter": "python",
   "pygments_lexer": "ipython2",
   "version": "2.7.12"
  }
 },
 "nbformat": 4,
 "nbformat_minor": 2
}
