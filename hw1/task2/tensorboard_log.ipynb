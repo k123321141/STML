{
 "cells": [
  {
   "cell_type": "code",
   "execution_count": 1,
   "metadata": {},
   "outputs": [
    {
     "ename": "ImportError",
     "evalue": "No module named tensorboardX",
     "output_type": "error",
     "traceback": [
      "\u001b[0;31m\u001b[0m",
      "\u001b[0;31mImportError\u001b[0mTraceback (most recent call last)",
      "\u001b[0;32m<ipython-input-1-8c62b14a29c2>\u001b[0m in \u001b[0;36m<module>\u001b[0;34m()\u001b[0m\n\u001b[1;32m      2\u001b[0m \u001b[0;32mfrom\u001b[0m \u001b[0mtqdm\u001b[0m \u001b[0;32mimport\u001b[0m \u001b[0mtqdm\u001b[0m\u001b[0;34m\u001b[0m\u001b[0m\n\u001b[1;32m      3\u001b[0m \u001b[0;32mimport\u001b[0m \u001b[0mtorch\u001b[0m\u001b[0;34m\u001b[0m\u001b[0m\n\u001b[0;32m----> 4\u001b[0;31m \u001b[0;32mfrom\u001b[0m \u001b[0mtensorboardX\u001b[0m \u001b[0;32mimport\u001b[0m \u001b[0mSummaryWriter\u001b[0m\u001b[0;34m\u001b[0m\u001b[0m\n\u001b[0m\u001b[1;32m      5\u001b[0m \u001b[0;32mfrom\u001b[0m \u001b[0mos\u001b[0m\u001b[0;34m.\u001b[0m\u001b[0mpath\u001b[0m \u001b[0;32mimport\u001b[0m \u001b[0mjoin\u001b[0m\u001b[0;34m\u001b[0m\u001b[0m\n\u001b[1;32m      6\u001b[0m \u001b[0;32mimport\u001b[0m \u001b[0mos\u001b[0m\u001b[0;34m\u001b[0m\u001b[0m\n",
      "\u001b[0;31mImportError\u001b[0m: No module named tensorboardX"
     ]
    }
   ],
   "source": [
    "# demo.py\n",
    "from tqdm import tqdm\n",
    "import torch\n",
    "from tensorboardX import SummaryWriter\n",
    "from os.path import join\n",
    "import os\n",
    "import shutil\n",
    "\n",
    "def conver_log_to_tensorbloadX(log_path, summay_path):\n",
    "    with open(log_path,'r') as f:\n",
    "        ls = f.readlines()\n",
    "    writer = SummaryWriter(summay_path)\n",
    "    with tqdm(total=len(ls)) as pbar:\n",
    "        for l in ls:\n",
    "            it, loss, acc, val_loss, val_acc = l.strip().split('<split>')\n",
    "            dump_tensorboard(writer, int(it), float(loss)/2., float(acc), float(val_loss), float(val_acc))\n",
    "            pbar.update(1)\n",
    "    print 'it : ',it\n",
    "    writer.close()\n",
    "        \n",
    "def dump_tensorboard(writer, n_iter, loss, acc, val_loss, val_acc):\n",
    "\n",
    "    writer.add_scalar('data/loss', loss, n_iter)\n",
    "    writer.add_scalar('data/acc', acc, n_iter)\n",
    "    writer.add_scalar('data/val_loss', val_loss, n_iter)\n",
    "    writer.add_scalar('data/val)acc', val_acc, n_iter)\n",
    "    writer.add_scalars('loss_group', {\"train_loss\": loss,\n",
    "                                             \"val_loss\": val_loss}, n_iter)\n",
    "    writer.add_scalars('acc_group', {\"train_acc\": acc,\n",
    "                                             \"val_acc\": val_acc}, n_iter)\n",
    "    \n",
    "\n",
    "log_path = './log.txt'\n",
    "summay_path = './runs/log'\n",
    "if os.path.isdir(summay_path):\n",
    "    shutil.rmtree(summay_path)\n",
    "conver_log_to_tensorbloadX(log_path, summay_path)\n",
    "print 'tensorboard done'\n",
    "\n"
   ]
  }
 ],
 "metadata": {
  "kernelspec": {
   "display_name": "Python 2.7.15 (virtualenv)",
   "language": "python",
   "name": "python2.7.15"
  }
 },
 "nbformat": 4,
 "nbformat_minor": 2
}
