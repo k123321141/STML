{
 "cells": [
  {
   "cell_type": "code",
   "execution_count": 2,
   "metadata": {},
   "outputs": [
    {
     "name": "stderr",
     "output_type": "stream",
     "text": [
      "100%|██████████| 17500/17500 [00:07<00:00, 2344.58it/s]"
     ]
    },
    {
     "name": "stdout",
     "output_type": "stream",
     "text": [
      "read all 17500 xml files.\n",
      "error count 0\n",
      "68.0\n"
     ]
    },
    {
     "name": "stderr",
     "output_type": "stream",
     "text": [
      "\n"
     ]
    }
   ],
   "source": [
    "import keras\n",
    "from os.path import join\n",
    "import os\n",
    "from bs4 import BeautifulSoup as BS\n",
    "from constants import MAX_SEQUENCE_LENGTH, MAX_NUM_WORDS, EMBEDDING_DIM\n",
    "from keras.preprocessing.sequence import pad_sequences\n",
    "import numpy as np\n",
    "from datetime import datetime\n",
    "from tqdm import tqdm\n",
    "import re\n",
    "\n",
    "np.random.seed(1337)\n",
    "def replace_timezone_fn(s):\n",
    "    return re.sub('(\\d){2}:(\\d){2}:(\\d){2} [A-Z]{3}', _sub_tz, s)\n",
    "def _sub_tz(matched):\n",
    "    return re.sub('[A-Za-z]{3}', 'GMT', matched.group(0))\n",
    "     \n",
    "def retrive_date(pat_obj_1, pat_obj_2, pat_obj_3, s):\n",
    "    s = s.lower()\n",
    "    \n",
    "    match_1 = pat_obj_1.search(s)\n",
    "    match_2 = None\n",
    "    match_3 = None\n",
    "    \n",
    "    if match_1 is None:\n",
    "        match_2 = pat_obj_2.search(s)\n",
    "    if match_2 is None:\n",
    "        match_3 = pat_obj_3.search(s)\n",
    "    assert (match_1 is not None) | (match_2 is not None) | (match_3 is not None)\n",
    "    \n",
    "        \n",
    "    if match_1 is not None:\n",
    "        days, months, years = match_1.groups()\n",
    "        date_str = '%s %s %s' % (days, months, years)\n",
    "    if match_2 is not None:\n",
    "        days, months, years = match_2.groups()\n",
    "        date_str = '%s %s 19%s' % (days, months, years)\n",
    "    if match_3 is not None:\n",
    "        months, days, years = match_3.groups()\n",
    "        date_str = '%s %s %s' % (days, months, years)\n",
    "    \n",
    "    if len(months) > 3:\n",
    "        return datetime.strptime(date_str, '%d %B %Y')\n",
    "    else:\n",
    "        return datetime.strptime(date_str, '%d %b %Y')\n",
    "    \n",
    "\n",
    "def prep_date(date):\n",
    "#     min date in training set 1991-12-31\n",
    "    secs = (date - datetime.strptime('1990-9-9', '%Y-%m-%d')).total_seconds()\n",
    "    weeks = secs // (60*60*24*7)\n",
    "    return weeks\n",
    "\n",
    "def quote_title_date_abstract(xml_path):\n",
    "    with open(xml_path, 'r') as f:\n",
    "        data = f.read()\n",
    "    soup = BS(data)\n",
    "    title, abstract, date = soup.find('title').text, soup.find('abstract').text, soup.find('date').text\n",
    "    \n",
    "    return title.strip(), abstract.strip(), date.strip()\n",
    "\n",
    "# text preprocessing\n",
    "data_path = join('./','kaggle/')\n",
    "xml_dir = join(data_path, 't3-doc')\n",
    "xml_list = [f for f in os.listdir(xml_dir) if f.endswith('.xml')]\n",
    "# print(len(xml_list))\n",
    "\n",
    "\n",
    "texts = []\n",
    "weeks = []\n",
    "c = 0\n",
    "# \n",
    "month_pattern = '(jan|feb|mar|apr|may|jun|jul|aug|sep|oct|nov|dec|january|february|march|april|may|june|july|august|september|october|november|december)'\n",
    "pat_obj_1 = re.compile('([0-9]+) %s ([0-9]{4}|20[0-9]{3})' % month_pattern)\n",
    "pat_obj_2 = re.compile('([0-9]+) %s (9[0-9])' % month_pattern)\n",
    "pat_obj_3 = re.compile('%s ([0-9]+) .* ([0-9]{4}|20[0-9]{3})' % month_pattern)\n",
    "# \n",
    "\n",
    "with tqdm(total=len(xml_list)) as pbar:\n",
    "    for xml in xml_list:\n",
    "        \n",
    "        \n",
    "        path = join(xml_dir,xml)\n",
    "        title, abstract, date_str = quote_title_date_abstract(path)\n",
    "        text = title + '' + abstract\n",
    "#         date special case\n",
    "#         01/01/93 13:35:33 GMT+0100 12330.xml\n",
    "        if xml == '12330.xml':\n",
    "            date_str = '1 Jan 93'\n",
    "\n",
    "        try :\n",
    "            date = retrive_date(pat_obj_1, pat_obj_2, pat_obj_3, date_str)\n",
    "        except AssertionError:\n",
    "            print date_str, xml\n",
    "            c+=1 \n",
    "            continue\n",
    "#             break\n",
    "    #     Mon, 8 Dec 1997 16:22:29 GMT\n",
    "    #     datetime_object = datetime.strptime('Jun 1 2005  1:33PM', '%b %d %Y %I:%M%p')\n",
    "        texts.append(text)\n",
    "        weeks.append(prep_date(date))\n",
    "    #     texts.append(title)\n",
    "    #     texts.append(abstract)\n",
    "        pbar.update(1)\n",
    "print('read all %d xml files.' % len(xml_list))\n",
    "print 'error count %d' % c\n",
    "print min(weeks)"
   ]
  },
  {
   "cell_type": "code",
   "execution_count": 5,
   "metadata": {},
   "outputs": [
    {
     "name": "stdout",
     "output_type": "stream",
     "text": [
      "68.0 659.0 395.61314285714286 163.49099703952996\n"
     ]
    }
   ],
   "source": [
    "print min(dates), max(dates), np.mean(dates), np.std(dates)"
   ]
  },
  {
   "cell_type": "code",
   "execution_count": 8,
   "metadata": {},
   "outputs": [
    {
     "name": "stdout",
     "output_type": "stream",
     "text": [
      "00:00:00\n",
      "00:00:00\n",
      "00:00:00\n",
      "00:00:00\n",
      "00:00:00\n",
      "00:00:00\n",
      "00:00:00\n",
      "00:00:00\n",
      "00:00:00\n",
      "00:00:00\n",
      "00:00:00\n",
      "00:00:00\n",
      "00:00:00\n"
     ]
    }
   ],
   "source": [
    "import datetime\n",
    "from pytz import timezone\n",
    "import re\n",
    "# month_pattern = \n",
    "s = 'thu, 26 sep 1996 15:31:53 +0200'\n",
    "month_pattern = '(jan|feb|mar|apr|may|jun|jul|aug|sep|oct|nov|dec)'\n",
    "pat_obj_1 = re.compile('([0-9]+) %s ([0-9]{4}|20[0-9]{3})' % month_pattern)\n",
    "pat_obj_2 = re.compile('([0-9]+) %s (9[0-9])' % month_pattern)\n",
    "pat_obj_3 = re.compile('%s ([0-9]+) .* ([0-9]{4}|20[0-9]{3})' % month_pattern)\n",
    "\n",
    "\n",
    "a = datetime.datetime.strptime('1 1 1994', '%d %m %Y')\n",
    "x = ''\n",
    "for i in range(13):\n",
    "    b = a + datetime.timedelta(days=i*29)\n",
    "    print b.time()\n",
    "#     print b.ctime()[3:7]\n",
    "#     x += '' +  b.ctime()[3:7]\n",
    "# print x[4:]\n",
    "# print months_set\n",
    "# s = '('\n",
    "\n",
    "# for m in months_set:\n",
    "#     s += '%s|' %m\n",
    "# s += ')'\n",
    "# print s\n",
    "# print pat_obj_1.search(s.lower())\n",
    "# print pat_obj_1.findall(s.lower())\n",
    "# print pat_obj_2.search(s.lower())\n",
    "# print pat_obj_3.search(s.lower())\n",
    "# print pat_obj_3.findall(s.lower())\n"
   ]
  },
  {
   "cell_type": "code",
   "execution_count": 43,
   "metadata": {},
   "outputs": [
    {
     "name": "stdout",
     "output_type": "stream",
     "text": [
      "january|february|march|april|may|june|july|august|september|october|november|december|\n"
     ]
    }
   ],
   "source": [
    "import calendar\n",
    "x = ''\n",
    "for i in range(12):\n",
    "    cal = calendar.month(2016, i+1)\n",
    "# print \"以下输出2016年1月份的日历:\"\n",
    "    a = cal[:12].replace('20','').replace('2','').strip()\n",
    "    x += '%s|' % a\n",
    "print x.lower()"
   ]
  },
  {
   "cell_type": "code",
   "execution_count": 49,
   "metadata": {},
   "outputs": [
    {
     "name": "stdout",
     "output_type": "stream",
     "text": [
      "18144000.0\n",
      "1996-11-14 00:00:00\n"
     ]
    }
   ],
   "source": [
    "a = '1997-06-12 00:00:00'\n",
    "b = '1996-11-14 00:00:00'\n",
    "a = datetime.strptime(a, '%Y-%m-%d 00:00:00')\n",
    "b = datetime.strptime(b, '%Y-%m-%d 00:00:00')\n",
    "print (a-b).total_seconds()\n",
    "print min(a,b)\n",
    "# print a.total_seconds()"
   ]
  }
 ],
 "metadata": {
  "kernelspec": {
   "display_name": "Python 2.7.12(virtualenv)",
   "language": "python",
   "name": "python2.7.12"
  },
  "language_info": {
   "codemirror_mode": {
    "name": "ipython",
    "version": 2
   },
   "file_extension": ".py",
   "mimetype": "text/x-python",
   "name": "python",
   "nbconvert_exporter": "python",
   "pygments_lexer": "ipython2",
   "version": "2.7.12"
  }
 },
 "nbformat": 4,
 "nbformat_minor": 2
}
